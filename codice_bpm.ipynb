{
  "nbformat": 4,
  "nbformat_minor": 0,
  "metadata": {
    "colab": {
      "name": "Untitled6.ipynb",
      "provenance": [],
      "authorship_tag": "ABX9TyO5QwkVYIm7mA+vrMepN2Rt",
      "include_colab_link": true
    },
    "kernelspec": {
      "name": "python3",
      "display_name": "Python 3"
    },
    "accelerator": "GPU"
  },
  "cells": [
    {
      "cell_type": "markdown",
      "metadata": {
        "id": "view-in-github",
        "colab_type": "text"
      },
      "source": [
        "<a href=\"https://colab.research.google.com/github/raeubaen/ml/blob/master/codice_bpm.ipynb\" target=\"_parent\"><img src=\"https://colab.research.google.com/assets/colab-badge.svg\" alt=\"Open In Colab\"/></a>"
      ]
    },
    {
      "cell_type": "code",
      "metadata": {
        "id": "AnNSnZsxy5el",
        "colab_type": "code",
        "colab": {}
      },
      "source": [
        "import numpy as np # allows vectorized operations\n",
        "import cupy as cp # fork of numpy\n",
        "# allows vectorized operations on GPU\n",
        "import time\n",
        "import matplotlib.pyplot as plt\n",
        "import matplotlib.animation as animation\n",
        "# plot style parameters\n",
        "plt.style.use('ggplot')\n",
        "plt.rcParams['axes.facecolor'] = '#f7f9fc'"
      ],
      "execution_count": 0,
      "outputs": []
    },
    {
      "cell_type": "markdown",
      "metadata": {
        "id": "AhpTBu8b0_S2",
        "colab_type": "text"
      },
      "source": [
        "Prima di tutto definiamo delle funzioni di plot."
      ]
    },
    {
      "cell_type": "code",
      "metadata": {
        "id": "fk8hb74ly8ZB",
        "colab_type": "code",
        "outputId": "cc0d9bc6-2d40-4070-db42-c6c3d89a3848",
        "colab": {
          "base_uri": "https://localhost:8080/",
          "height": 299
        }
      },
      "source": [
        "from matplotlib.colors import LinearSegmentedColormap\n",
        "'''\n",
        "To make more realistic plots we define a function\n",
        "returning approzimated colormap from wavelength.\n",
        "There is not a simple form for it, because of the\n",
        "complex mechanisms of human vision and trichromy.\n",
        "The physical model of colors mixing is achieved \n",
        "by summing values in RGB and clipping the results at 1.\n",
        "'''\n",
        "def wavelength_to_rgb(wavelength): # input in meters\n",
        "    wavelength = wavelength*1e9 # nm\n",
        "    '''\n",
        "    Based on code by Dan Bruton\n",
        "    http://www.physics.sfasu.edu/astro/color/spectra.html\n",
        "    Additionally alpha value set to 0.5 outside range\n",
        "    '''\n",
        "    wl = float(wavelength)\n",
        "    if wl < 380: wl = 380\n",
        "    if wl > 750: wl = 750\n",
        "    if wl >= 380 and wl <= 440:\n",
        "        att = 0.3 + 0.7 * (wl - 380) / (440 - 380) # attenuation\n",
        "        R, G, B = ((-(wl - 440) / (440 - 380)) * att), 0, (1.0 * att)\n",
        "    elif wl >= 440 and wl <= 490:\n",
        "        R, G, B = 0.0, ((wl - 440) / (490 - 440)), 1\n",
        "    elif wl >= 490 and wl <= 510:\n",
        "        R, G, B = 0.0, 1, (-(wl - 510) / (510 - 490))\n",
        "    elif wl >= 510 and wl <= 580:\n",
        "        R, G, B = ((wl - 510) / (580 - 510)), 1, 0\n",
        "    elif wl >= 580 and wl <= 645:\n",
        "        R, G, B = 1.0, (-(wl - 645) / (645 - 580)), 0\n",
        "    elif wl >= 645 and wl <= 750:\n",
        "        att = 0.3 + 0.7 * (750 - wl) / (750 - 645)\n",
        "        R, G, B = (1.0 * att), 0, 0\n",
        "    else:\n",
        "        R, G, B = 0, 0, 0\n",
        "    return cp.asarray([R, G, B])\n",
        "\n",
        "wavelengths = np.linspace(380, 750, 100)*1e-9 # in meters\n",
        "rgbs = np.stack([cp.asnumpy(wavelength_to_rgb(wl)) for wl in wavelengths])\n",
        "plt.plot(1e9*wavelengths, rgbs[:, 0], \"r-\")\n",
        "plt.plot(1e9*wavelengths, rgbs[:, 1], \"g-\")\n",
        "plt.plot(1e9*wavelengths, rgbs[:, 2], \"b-\")\n",
        "plt.xlabel(\"wavelength (nm)\")\n",
        "plt.ylabel(\"RGB values\")\n",
        "plt.title(\"Wavelength vs. RGB values\")\n",
        "plt.savefig(\"wl-rgb.pdf\")\n",
        "plt.show()\n"
      ],
      "execution_count": 28,
      "outputs": [
        {
          "output_type": "display_data",
          "data": {
            "image/png": "[encoded data removed]",
            "text/plain": [
              "<Figure size 432x288 with 1 Axes>"
            ]
          },
          "metadata": {
            "tags": []
          }
        }
      ]
    },
    {
      "cell_type": "code",
      "metadata": {
        "id": "cwQ4MeDS0RSS",
        "colab_type": "code",
        "colab": {}
      },
      "source": [
        "def wavelength_to_cmap(wavelength):\n",
        "  R, G, B = wavelength_to_rgb(wavelength)\n",
        "  cdict = {\n",
        "        'red':  [[0.0,  0.0, 0.0],\n",
        "                  [1.0,  R, R]],\n",
        "        'green': [[0.0,  0.0, 0.0],\n",
        "                  [1.0,  G, G]],\n",
        "        'blue':  [[0.0,  0.0, 0.0],\n",
        "                  [1.0,  B, B]]\n",
        "            }\n",
        "  return LinearSegmentedColormap('Cmap', segmentdata=cdict, N=256)\n",
        "# default colormap is black screen with red light - similar to lab situation\n",
        "default_wavelength = 651*1e-9 # meters\n",
        "default_cmap = wavelength_to_cmap(default_wavelength)"
      ],
      "execution_count": 0,
      "outputs": []
    },
    {
      "cell_type": "code",
      "metadata": {
        "id": "rcX6DZML0q-6",
        "colab_type": "code",
        "colab": {}
      },
      "source": [
        "# we define a function to plot \n",
        "def plot(Power, \n",
        "         figsize=(15, 15), width=15, unit=\"mm\", cmap=default_cmap, \n",
        "         fig=None, ax=None\n",
        "):\n",
        "  if type(Power)==cp.core.core.ndarray:\n",
        "    Power = cp.asnumpy(Power)\n",
        "  if fig is None:\n",
        "    fig, ax = plt.subplots(figsize=figsize)\n",
        "  ax.grid(False)\n",
        "  ax.set(xlabel=f\"x ({unit})\", ylabel=f\"y ({unit})\")\n",
        "  im = ax.imshow(Power, \n",
        "      cmap=cmap, extent=[-width,width,-width,width], vmin=0, animated=True)\n",
        "  return fig, ax, im"
      ],
      "execution_count": 0,
      "outputs": []
    },
    {
      "cell_type": "code",
      "metadata": {
        "id": "CwyEzhzcCqWW",
        "colab_type": "code",
        "colab": {}
      },
      "source": [
        "def save_animation(arrays, filename):\n",
        "  ims = []\n",
        "  fig, ax = plt.subplots(figsize=(15, 15))\n",
        "  for n in range(arrays.shape[0]):\n",
        "      fig, ax, im = plot(arrays[n], fig=fig, ax=ax)\n",
        "      ims.append([im])\n",
        "\n",
        "  ani = animation.ArtistAnimation(fig, ims, interval=50, blit=True,\n",
        "                                  repeat_delay=1000)\n",
        "\n",
        "  Writer = animation.writers['ffmpeg']\n",
        "  writer = Writer(fps=15, metadata=dict(artist='Me'), bitrate=1800)\n",
        "  ani.save(filename, writer=writer)\n",
        "  del ims\n",
        "  plt.close()"
      ],
      "execution_count": 0,
      "outputs": []
    },
    {
      "cell_type": "markdown",
      "metadata": {
        "id": "T_dfX5MA1hMn",
        "colab_type": "text"
      },
      "source": [
        "Definiamo a questo punto le funzioni per propagare."
      ]
    },
    {
      "cell_type": "code",
      "metadata": {
        "id": "S6LUN3kx17dT",
        "colab_type": "code",
        "colab": {}
      },
      "source": [
        "fft1, ifft1 = cp.fft.fft, cp.fft.ifft # cpu fft when in 1D\n",
        "fft2, ifft2 = cp.fft.fft2, cp.fft.ifft2 # gpu fft when in 2D"
      ],
      "execution_count": 0,
      "outputs": []
    },
    {
      "cell_type": "code",
      "metadata": {
        "id": "tT6HQbdu1mY5",
        "colab_type": "code",
        "colab": {}
      },
      "source": [
        "def propagate(Field, k, \n",
        "  grid_setup=None, keep_memory=False, threshold=1e-14, check_energy=False):\n",
        "  # k_square_grid is KX**2 + KY**2 in 2D and kx**2 in 1D\n",
        "  nstepx, nstepz, deltaz, k_square_grid = grid_setup\n",
        "  # establish which numerical lib to use\n",
        "  if Field.ndim == 1:\n",
        "    fft, ifft = fft1, ifft1\n",
        "    fmm_shape = (nstepx, nstepz+1)\n",
        "  elif Field.ndim == 2:\n",
        "    fft, ifft = fft2, ifft2\n",
        "    fmm_shape = (nstepx, nstepx, nstepz+1)\n",
        "  if keep_memory:\n",
        "    # keeps a record of field module at every step\n",
        "    FieldModuleMemory = cp.zeros(shape=fmm_shape)\n",
        "    FieldModuleMemory[..., 0] = cp.abs(InputField)\n",
        "\n",
        "  ArgumentOfPropagator  = ((k*n0)**(-1)*k_square_grid)*(deltaz/2);             \n",
        "  Propagator = cp.exp(1j*ArgumentOfPropagator)\n",
        "  if check_energy:\n",
        "    InputPower = cp.abs(Field)**2\n",
        "\n",
        "  tstart = time.time()\n",
        "  for step in range(nstepz):\n",
        "      Field = ifft(fft(Field)*Propagator)\n",
        "      if keep_memory:\n",
        "        FieldModuleMemory[..., 1+step] = cp.abs(Field)\n",
        "  print(f\"Lasted {time.time()-tstart} seconds\")\n",
        "\n",
        "  if check_energy:\n",
        "    OutputPower = cp.abs(Field)**2\n",
        "    OutputTotalPower = cp.sum(OutputPower) # total power on output plane\n",
        "    InputTotalPower = cp.sum(InputPower) # total power on input plane\n",
        "    gap = (OutputTotalPower-InputTotalPower)/(OutputTotalPower+InputTotalPower)\n",
        "    if gap > threshold:\n",
        "      raise ValueError(\"Energy not conserved\")\n",
        "\n",
        "  if keep_memory:\n",
        "      return Field, FieldModuleMemory\n",
        "  else:\n",
        "      return Field"
      ],
      "execution_count": 0,
      "outputs": []
    },
    {
      "cell_type": "code",
      "metadata": {
        "id": "yCDdQ-nu4fG2",
        "colab_type": "code",
        "colab": {}
      },
      "source": [
        "def propagate_and_get_rgb(InputField, wavelength, grid=None):\n",
        "  k = 2*np.pi/(wavelength)\n",
        "  OutputField = propagate(InputField, k, grid)\n",
        "  P = cp.abs(OutputField)**2\n",
        "  rgb = cp.stack((P,)*3, axis=-1)/cp.max(P)\n",
        "  return rgb*wavelength_to_rgb(wavelength)"
      ],
      "execution_count": 0,
      "outputs": []
    },
    {
      "cell_type": "markdown",
      "metadata": {
        "id": "Ot5-7u_Q1PXF",
        "colab_type": "text"
      },
      "source": [
        "# Fascio Gaussiano 2D"
      ]
    },
    {
      "cell_type": "code",
      "metadata": {
        "id": "RhX8uhNo0RXG",
        "colab_type": "code",
        "colab": {}
      },
      "source": [
        "################### Physical Parameters  ########################\n",
        "Ip = 4**2; # peak intensity               \n",
        "Ib = 1.0; # background illumination                       \n",
        "Lambda = 0.651e-6; # wavelength of red light\n",
        "k0 = 2*np.pi/Lambda; # vacuum wavevector                 \n",
        "n0 = 1; # background index of refraction      \n",
        "Lz = 5; # computational length of sample    \n",
        "Lx = 3e-2; # computational width of sample          \n",
        "Chirp = -0.0*6*230000.0; # input linear chirp parameter         \n",
        "h = 0*0.67e-3;\n",
        "xshift = +h/2; # input position on x axis               \n",
        "w0 = 0.02*Lx # beam width of gaussian beam parameter\n",
        "\n",
        "\n",
        "################## Computational Parameters #############\n",
        "nstepx = 1024; # number of transverse grid points\n",
        "nstepz = 20; # number of longitudinal propagation steps\n",
        "\n",
        "deltax = Lx/nstepx;\n",
        "deltaz = Lz/nstepz; # resolution in the z direction, IMPORTANT\n",
        "deltaf = 1/Lx; # spatial frequency step"
      ],
      "execution_count": 0,
      "outputs": []
    },
    {
      "cell_type": "code",
      "metadata": {
        "id": "K90F8ACb1dFV",
        "colab_type": "code",
        "colab": {}
      },
      "source": [
        "##########################  GENERAL GRID SET-UP  ##########################\n",
        "\n",
        "z = cp.arange(0, Lz+deltaz, deltaz) # z array            \n",
        "x = -Lx/2 +(cp.arange(0, nstepx, 1))*deltax; # x array               \n",
        "\n",
        "X, Y = cp.meshgrid(x,x); # x and y grid\n",
        "\n",
        "##########################  Dispersive Step Setup #########################\n",
        "# this is to get rid of fftshifts and the sort\n",
        "\n",
        "ntx = 0;             \n",
        "kx = cp.zeros(nstepx)                                          \n",
        "for nn in range(nstepx):\n",
        "    ikx = nn - ntx;\n",
        "    kx[nn] = 2*np.pi*deltaf*ikx;\n",
        "    if nn + 1 - nstepx/2 == 0 :\n",
        "      ntx = nstepx;\n",
        "\n",
        "KX, KY = cp.meshgrid(kx, kx);\n",
        "\n",
        "grid_setup = (nstepx, nstepz, deltaz, KX**2+KY**2)"
      ],
      "execution_count": 0,
      "outputs": []
    },
    {
      "cell_type": "code",
      "metadata": {
        "id": "QwVHb_q67kg0",
        "colab_type": "code",
        "colab": {}
      },
      "source": [
        "####################### INPUT FIELDS DEFINITION  #########################\n",
        "# gaussian beam\n",
        "InputField = cp.sqrt(Ip)*cp.exp(-(X**2+Y**2)/(w0**2));\n",
        "\n",
        "InputPower = cp.abs(InputField)**2"
      ],
      "execution_count": 0,
      "outputs": []
    },
    {
      "cell_type": "code",
      "metadata": {
        "id": "UybeAqrH7oVi",
        "colab_type": "code",
        "outputId": "a6882a44-3bee-447f-b647-f30c2c070192",
        "colab": {
          "base_uri": "https://localhost:8080/",
          "height": 884
        }
      },
      "source": [
        "fig, ax, im = plot(InputPower, width=Lx*0.5e3)\n",
        "fig.savefig(\"gaussianinputfield.pdf\")\n",
        "plt.show()\n",
        "plt.close()"
      ],
      "execution_count": 38,
      "outputs": [
        {
          "output_type": "display_data",
          "data": {
            "image/png": "[encoded data removed]",
            "text/plain": [
              "<Figure size 1080x1080 with 1 Axes>"
            ]
          },
          "metadata": {
            "tags": []
          }
        }
      ]
    },
    {
      "cell_type": "code",
      "metadata": {
        "id": "ZVCnq1Ey841w",
        "colab_type": "code",
        "outputId": "7732871d-1665-409c-e59d-442d5c8ab635",
        "colab": {
          "base_uri": "https://localhost:8080/",
          "height": 902
        }
      },
      "source": [
        "OutputField, FieldModuleMemory = propagate(InputField, k0, \n",
        "    grid_setup=grid_setup, keep_memory=True)\n",
        "OutputPower = cp.abs(OutputField)**2\n",
        "fig, ax, im = plot(OutputPower, width=Lx*0.5e3)\n",
        "fig.savefig(\"gaussianoutputfield.pdf\")\n",
        "plt.show()\n",
        "plt.close()"
      ],
      "execution_count": 39,
      "outputs": [
        {
          "output_type": "stream",
          "text": [
            "Lasted 0.02707505226135254 seconds\n"
          ],
          "name": "stdout"
        },
        {
          "output_type": "display_data",
          "data": {
            "image/png": "[encoded data removed]",
            "text/plain": [
              "<Figure size 1080x1080 with 1 Axes>"
            ]
          },
          "metadata": {
            "tags": []
          }
        }
      ]
    },
    {
      "cell_type": "code",
      "metadata": {
        "id": "uMOJzzhJ9pWy",
        "colab_type": "code",
        "colab": {}
      },
      "source": [
        "save_animation(cp.moveaxis(FieldModuleMemory**2, 2, 0), \"gaussian_beam.mp4\")"
      ],
      "execution_count": 0,
      "outputs": []
    },
    {
      "cell_type": "markdown",
      "metadata": {
        "id": "LVpiZ5OlD7Vo",
        "colab_type": "text"
      },
      "source": [
        "Propagation of a red (wider) and a blue (thiner) beam."
      ]
    },
    {
      "cell_type": "code",
      "metadata": {
        "id": "jBdjAAEwCOGp",
        "colab_type": "code",
        "outputId": "86d89fb8-164b-4b1d-97ec-a78a17d44e08",
        "colab": {
          "base_uri": "https://localhost:8080/",
          "height": 921
        }
      },
      "source": [
        "InputField1 = cp.sqrt(Ip)*cp.exp(-((X)**2+(Y)**2)/(49*w0**2)); #7x larger\n",
        "InputField2 = cp.sqrt(Ip)*cp.exp(-((X)**2+(Y)**2)/(w0**2));\n",
        "\n",
        "RedPower = propagate_and_get_rgb(InputField1, 0.645e-6, grid=grid_setup)\n",
        "BluePower = propagate_and_get_rgb(InputField, 0.44e-6, grid=grid_setup)\n",
        "fig, ax, im = plot(RedPower + BluePower) #purple point with red cirle \n",
        "# red + blue = purple\n",
        "fig.savefig(\"redbluegaussianbeam.pdf\")\n",
        "plt.show()\n",
        "plt.close()"
      ],
      "execution_count": 41,
      "outputs": [
        {
          "output_type": "stream",
          "text": [
            "Lasted 0.02524733543395996 seconds\n",
            "Lasted 0.019706010818481445 seconds\n"
          ],
          "name": "stdout"
        },
        {
          "output_type": "display_data",
          "data": {
            "image/png": "[encoded data removed]",
            "text/plain": [
              "<Figure size 1080x1080 with 1 Axes>"
            ]
          },
          "metadata": {
            "tags": []
          }
        }
      ]
    },
    {
      "cell_type": "code",
      "metadata": {
        "id": "DXYz7E6JEwcF",
        "colab_type": "code",
        "colab": {}
      },
      "source": [
        "# we evaluate beam widths (FWHM) as the 2nd moment of a gaussian function\n",
        "\n",
        "def get_widths(FieldModuleMemory):\n",
        "  # extends grids X and Y to a third axis\n",
        "  # in order to make possible multiplying by FieldModuleMemory\n",
        "  _X = cp.stack((X,)*(nstepz+1), axis=-1)\n",
        "  _Y = cp.stack((Y,)*(nstepz+1), axis=-1)\n",
        "\n",
        "  norms = cp.sum(FieldModuleMemory, axis=(0, 1))\n",
        "  widths = cp.sqrt(np.sum((_X**2+_Y**2)*FieldModuleMemory, axis=(0, 1))/norms)\n",
        "  return widths"
      ],
      "execution_count": 0,
      "outputs": []
    },
    {
      "cell_type": "code",
      "metadata": {
        "id": "uKPCR4r2FH2z",
        "colab_type": "code",
        "outputId": "0a2c86e2-dd4e-47f8-d932-53f1027ee067",
        "colab": {
          "base_uri": "https://localhost:8080/",
          "height": 299
        }
      },
      "source": [
        "z, widths = cp.asnumpy(z), cp.asnumpy(get_widths(FieldModuleMemory))\n",
        "plt.scatter(z, 1000*widths)\n",
        "z0 = k0*w0**2/2 # Rayleigh's width\n",
        "plt.plot(z, 1000*w0*np.sqrt(1+z**2/z0**2))\n",
        "plt.xlabel(\"z (m)\")\n",
        "plt.ylabel(\"width (mm)\")\n",
        "plt.title(\"Gaussian beam FWHM during propagation\")\n",
        "plt.savefig(\"gaussianbeamfwhm.pdf\")\n",
        "plt.show()"
      ],
      "execution_count": 43,
      "outputs": [
        {
          "output_type": "display_data",
          "data": {
            "image/png": "[encoded data removed]",
            "text/plain": [
              "<Figure size 432x288 with 1 Axes>"
            ]
          },
          "metadata": {
            "tags": []
          }
        }
      ]
    },
    {
      "cell_type": "markdown",
      "metadata": {
        "id": "IoAp4BXtFzEW",
        "colab_type": "text"
      },
      "source": [
        "# Diffraction Grating"
      ]
    },
    {
      "cell_type": "code",
      "metadata": {
        "id": "-N1QGRjxq7RE",
        "colab_type": "code",
        "colab": {}
      },
      "source": [
        ""
      ],
      "execution_count": 0,
      "outputs": []
    },
    {
      "cell_type": "markdown",
      "metadata": {
        "id": "bkTG4ldqLx7U",
        "colab_type": "text"
      },
      "source": [
        "# Lens"
      ]
    },
    {
      "cell_type": "code",
      "metadata": {
        "id": "kYhfWxHOLziA",
        "colab_type": "code",
        "outputId": "8116f49f-58a7-4eb9-8648-5d812dc2000b",
        "colab": {
          "base_uri": "https://localhost:8080/",
          "height": 384
        }
      },
      "source": [
        "!wget https://github.com/raeubaen/ml/blob/master/refractiveindex.xlsx?raw=true -O glass_n.xlsx\n",
        "import pandas\n",
        "df = pandas.read_excel(\"glass_n.xlsx\", names=[\"wl\", \"n\"])\n"
      ],
      "execution_count": 0,
      "outputs": [
        {
          "output_type": "stream",
          "text": [
            "--2020-05-29 11:28:11--  https://github.com/raeubaen/ml/blob/master/refractiveindex.xlsx?raw=true\n",
            "Resolving github.com (github.com)... 140.82.113.4\n",
            "Connecting to github.com (github.com)|140.82.113.4|:443... connected.\n",
            "HTTP request sent, awaiting response... 302 Found\n",
            "Location: https://github.com/raeubaen/ml/raw/master/refractiveindex.xlsx [following]\n",
            "--2020-05-29 11:28:11--  https://github.com/raeubaen/ml/raw/master/refractiveindex.xlsx\n",
            "Reusing existing connection to github.com:443.\n",
            "HTTP request sent, awaiting response... 302 Found\n",
            "Location: https://raw.githubusercontent.com/raeubaen/ml/master/refractiveindex.xlsx [following]\n",
            "--2020-05-29 11:28:12--  https://raw.githubusercontent.com/raeubaen/ml/master/refractiveindex.xlsx\n",
            "Resolving raw.githubusercontent.com (raw.githubusercontent.com)... 151.101.0.133, 151.101.64.133, 151.101.128.133, ...\n",
            "Connecting to raw.githubusercontent.com (raw.githubusercontent.com)|151.101.0.133|:443... connected.\n",
            "HTTP request sent, awaiting response... 200 OK\n",
            "Length: 9813 (9.6K) [application/octet-stream]\n",
            "Saving to: ‘glass_n.xlsx’\n",
            "\n",
            "\rglass_n.xlsx          0%[                    ]       0  --.-KB/s               \rglass_n.xlsx        100%[===================>]   9.58K  --.-KB/s    in 0s      \n",
            "\n",
            "2020-05-29 11:28:12 (96.3 MB/s) - ‘glass_n.xlsx’ saved [9813/9813]\n",
            "\n"
          ],
          "name": "stdout"
        }
      ]
    },
    {
      "cell_type": "code",
      "metadata": {
        "id": "AKqkjbfjMIm2",
        "colab_type": "code",
        "outputId": "f7ca8470-6a3e-4e22-fc30-3c4cff31050f",
        "colab": {
          "base_uri": "https://localhost:8080/",
          "height": 1000
        }
      },
      "source": [
        ""
      ],
      "execution_count": 0,
      "outputs": [
        {
          "output_type": "execute_result",
          "data": {
            "text/html": [
              "<div>\n",
              "<style scoped>\n",
              "    .dataframe tbody tr th:only-of-type {\n",
              "        vertical-align: middle;\n",
              "    }\n",
              "\n",
              "    .dataframe tbody tr th {\n",
              "        vertical-align: top;\n",
              "    }\n",
              "\n",
              "    .dataframe thead th {\n",
              "        text-align: right;\n",
              "    }\n",
              "</style>\n",
              "<table border=\"1\" class=\"dataframe\">\n",
              "  <thead>\n",
              "    <tr style=\"text-align: right;\">\n",
              "      <th></th>\n",
              "      <th>wl</th>\n",
              "      <th>n</th>\n",
              "    </tr>\n",
              "  </thead>\n",
              "  <tbody>\n",
              "    <tr>\n",
              "      <th>0</th>\n",
              "      <td>0.2100</td>\n",
              "      <td>1.538358</td>\n",
              "    </tr>\n",
              "    <tr>\n",
              "      <th>1</th>\n",
              "      <td>0.2174</td>\n",
              "      <td>1.530846</td>\n",
              "    </tr>\n",
              "    <tr>\n",
              "      <th>2</th>\n",
              "      <td>0.2251</td>\n",
              "      <td>1.524079</td>\n",
              "    </tr>\n",
              "    <tr>\n",
              "      <th>3</th>\n",
              "      <td>0.2330</td>\n",
              "      <td>1.518042</td>\n",
              "    </tr>\n",
              "    <tr>\n",
              "      <th>4</th>\n",
              "      <td>0.2412</td>\n",
              "      <td>1.512572</td>\n",
              "    </tr>\n",
              "    <tr>\n",
              "      <th>5</th>\n",
              "      <td>0.2497</td>\n",
              "      <td>1.507610</td>\n",
              "    </tr>\n",
              "    <tr>\n",
              "      <th>6</th>\n",
              "      <td>0.2585</td>\n",
              "      <td>1.503101</td>\n",
              "    </tr>\n",
              "    <tr>\n",
              "      <th>7</th>\n",
              "      <td>0.2676</td>\n",
              "      <td>1.498999</td>\n",
              "    </tr>\n",
              "    <tr>\n",
              "      <th>8</th>\n",
              "      <td>0.2770</td>\n",
              "      <td>1.495263</td>\n",
              "    </tr>\n",
              "    <tr>\n",
              "      <th>9</th>\n",
              "      <td>0.2868</td>\n",
              "      <td>1.491822</td>\n",
              "    </tr>\n",
              "    <tr>\n",
              "      <th>10</th>\n",
              "      <td>0.2969</td>\n",
              "      <td>1.488683</td>\n",
              "    </tr>\n",
              "    <tr>\n",
              "      <th>11</th>\n",
              "      <td>0.3074</td>\n",
              "      <td>1.485791</td>\n",
              "    </tr>\n",
              "    <tr>\n",
              "      <th>12</th>\n",
              "      <td>0.3182</td>\n",
              "      <td>1.483150</td>\n",
              "    </tr>\n",
              "    <tr>\n",
              "      <th>13</th>\n",
              "      <td>0.3294</td>\n",
              "      <td>1.480714</td>\n",
              "    </tr>\n",
              "    <tr>\n",
              "      <th>14</th>\n",
              "      <td>0.3410</td>\n",
              "      <td>1.478468</td>\n",
              "    </tr>\n",
              "    <tr>\n",
              "      <th>15</th>\n",
              "      <td>0.3530</td>\n",
              "      <td>1.476395</td>\n",
              "    </tr>\n",
              "    <tr>\n",
              "      <th>16</th>\n",
              "      <td>0.3655</td>\n",
              "      <td>1.474468</td>\n",
              "    </tr>\n",
              "    <tr>\n",
              "      <th>17</th>\n",
              "      <td>0.3783</td>\n",
              "      <td>1.472705</td>\n",
              "    </tr>\n",
              "    <tr>\n",
              "      <th>18</th>\n",
              "      <td>0.3917</td>\n",
              "      <td>1.471053</td>\n",
              "    </tr>\n",
              "    <tr>\n",
              "      <th>19</th>\n",
              "      <td>0.4055</td>\n",
              "      <td>1.469529</td>\n",
              "    </tr>\n",
              "    <tr>\n",
              "      <th>20</th>\n",
              "      <td>0.4197</td>\n",
              "      <td>1.468122</td>\n",
              "    </tr>\n",
              "    <tr>\n",
              "      <th>21</th>\n",
              "      <td>0.4345</td>\n",
              "      <td>1.466805</td>\n",
              "    </tr>\n",
              "    <tr>\n",
              "      <th>22</th>\n",
              "      <td>0.4498</td>\n",
              "      <td>1.465581</td>\n",
              "    </tr>\n",
              "    <tr>\n",
              "      <th>23</th>\n",
              "      <td>0.4657</td>\n",
              "      <td>1.464436</td>\n",
              "    </tr>\n",
              "    <tr>\n",
              "      <th>24</th>\n",
              "      <td>0.4821</td>\n",
              "      <td>1.463372</td>\n",
              "    </tr>\n",
              "    <tr>\n",
              "      <th>25</th>\n",
              "      <td>0.4991</td>\n",
              "      <td>1.462376</td>\n",
              "    </tr>\n",
              "    <tr>\n",
              "      <th>26</th>\n",
              "      <td>0.5167</td>\n",
              "      <td>1.461445</td>\n",
              "    </tr>\n",
              "    <tr>\n",
              "      <th>27</th>\n",
              "      <td>0.5349</td>\n",
              "      <td>1.460573</td>\n",
              "    </tr>\n",
              "    <tr>\n",
              "      <th>28</th>\n",
              "      <td>0.5537</td>\n",
              "      <td>1.459756</td>\n",
              "    </tr>\n",
              "    <tr>\n",
              "      <th>29</th>\n",
              "      <td>0.5732</td>\n",
              "      <td>1.458987</td>\n",
              "    </tr>\n",
              "    <tr>\n",
              "      <th>30</th>\n",
              "      <td>0.5934</td>\n",
              "      <td>1.458261</td>\n",
              "    </tr>\n",
              "    <tr>\n",
              "      <th>31</th>\n",
              "      <td>0.6143</td>\n",
              "      <td>1.457576</td>\n",
              "    </tr>\n",
              "    <tr>\n",
              "      <th>32</th>\n",
              "      <td>0.6360</td>\n",
              "      <td>1.456926</td>\n",
              "    </tr>\n",
              "    <tr>\n",
              "      <th>33</th>\n",
              "      <td>0.6584</td>\n",
              "      <td>1.456310</td>\n",
              "    </tr>\n",
              "    <tr>\n",
              "      <th>34</th>\n",
              "      <td>0.6816</td>\n",
              "      <td>1.455725</td>\n",
              "    </tr>\n",
              "    <tr>\n",
              "      <th>35</th>\n",
              "      <td>0.7056</td>\n",
              "      <td>1.455166</td>\n",
              "    </tr>\n",
              "    <tr>\n",
              "      <th>36</th>\n",
              "      <td>0.7305</td>\n",
              "      <td>1.454630</td>\n",
              "    </tr>\n",
              "    <tr>\n",
              "      <th>37</th>\n",
              "      <td>0.7562</td>\n",
              "      <td>1.454116</td>\n",
              "    </tr>\n",
              "    <tr>\n",
              "      <th>38</th>\n",
              "      <td>0.7829</td>\n",
              "      <td>1.453619</td>\n",
              "    </tr>\n",
              "    <tr>\n",
              "      <th>39</th>\n",
              "      <td>0.8104</td>\n",
              "      <td>1.453140</td>\n",
              "    </tr>\n",
              "  </tbody>\n",
              "</table>\n",
              "</div>"
            ],
            "text/plain": [
              "        wl         n\n",
              "0   0.2100  1.538358\n",
              "1   0.2174  1.530846\n",
              "2   0.2251  1.524079\n",
              "3   0.2330  1.518042\n",
              "4   0.2412  1.512572\n",
              "5   0.2497  1.507610\n",
              "6   0.2585  1.503101\n",
              "7   0.2676  1.498999\n",
              "8   0.2770  1.495263\n",
              "9   0.2868  1.491822\n",
              "10  0.2969  1.488683\n",
              "11  0.3074  1.485791\n",
              "12  0.3182  1.483150\n",
              "13  0.3294  1.480714\n",
              "14  0.3410  1.478468\n",
              "15  0.3530  1.476395\n",
              "16  0.3655  1.474468\n",
              "17  0.3783  1.472705\n",
              "18  0.3917  1.471053\n",
              "19  0.4055  1.469529\n",
              "20  0.4197  1.468122\n",
              "21  0.4345  1.466805\n",
              "22  0.4498  1.465581\n",
              "23  0.4657  1.464436\n",
              "24  0.4821  1.463372\n",
              "25  0.4991  1.462376\n",
              "26  0.5167  1.461445\n",
              "27  0.5349  1.460573\n",
              "28  0.5537  1.459756\n",
              "29  0.5732  1.458987\n",
              "30  0.5934  1.458261\n",
              "31  0.6143  1.457576\n",
              "32  0.6360  1.456926\n",
              "33  0.6584  1.456310\n",
              "34  0.6816  1.455725\n",
              "35  0.7056  1.455166\n",
              "36  0.7305  1.454630\n",
              "37  0.7562  1.454116\n",
              "38  0.7829  1.453619\n",
              "39  0.8104  1.453140"
            ]
          },
          "metadata": {
            "tags": []
          },
          "execution_count": 2
        }
      ]
    }
  ]
}