{
  "nbformat": 4,
  "nbformat_minor": 0,
  "metadata": {
    "kernelspec": {
      "display_name": "Python 3",
      "language": "python",
      "name": "python3"
    },
    "language_info": {
      "codemirror_mode": {
        "name": "ipython",
        "version": 3
      },
      "file_extension": ".py",
      "mimetype": "text/x-python",
      "name": "python",
      "nbconvert_exporter": "python",
      "pygments_lexer": "ipython3",
      "version": "3.6.9"
    },
    "colab": {
      "name": "mim-max-scaling-pca-extratrees.ipynb",
      "provenance": []
    }
  },
  "cells": [
    {
      "cell_type": "code",
      "metadata": {
        "_uuid": "16b9ccd7f079b17e423c5edabbc62e461b2eecee",
        "id": "L3TKUCWcyCFE",
        "colab_type": "code",
        "colab": {}
      },
      "source": [
        "import warnings\n",
        "\n",
        "warnings.filterwarnings('ignore')\n",
        "\n",
        "%matplotlib inline \n",
        "import matplotlib.pyplot as plt "
      ],
      "execution_count": 0,
      "outputs": []
    },
    {
      "cell_type": "code",
      "metadata": {
        "_uuid": "8ac1053e8f67215988c7e6386264f6c014050e51",
        "id": "yaxWpLFKyCFU",
        "colab_type": "code",
        "colab": {}
      },
      "source": [
        "import numpy as np # linear algebra\n",
        "import pandas as pd # data processing, CSV file I/O (e.g. pd.read_csv)\n",
        "\n",
        "from sklearn.decomposition import PCA\n",
        "from sklearn.ensemble import ExtraTreesClassifier\n",
        "from sklearn.ensemble import RandomForestClassifier\n",
        "from sklearn.metrics import roc_auc_score\n",
        "from sklearn.model_selection import StratifiedKFold\n",
        "from sklearn.preprocessing import StandardScaler"
      ],
      "execution_count": 0,
      "outputs": []
    },
    {
      "cell_type": "code",
      "metadata": {
        "_uuid": "ef8697f606b955e98f1f306b8f2c159c090bd915",
        "id": "B5eticjsyCFh",
        "colab_type": "code",
        "colab": {}
      },
      "source": [
        "pca_num=12"
      ],
      "execution_count": 0,
      "outputs": []
    },
    {
      "cell_type": "code",
      "metadata": {
        "id": "VcSPhyFFyCFq",
        "colab_type": "code",
        "colab": {}
      },
      "source": [
        "import requests\n",
        "import io\n",
        "import numpy as np\n",
        "import pandas as pd\n",
        "import tensorflow as tf\n",
        "from tensorflow import keras \n",
        "from tensorflow.keras import layers\n",
        "import matplotlib.pyplot as plt\n",
        "\n",
        "def retrieve_data(urls):\n",
        "  data = []\n",
        "  for url in urls:\n",
        "    response = requests.get(url)\n",
        "    response.raise_for_status()\n",
        "    data.append(np.load(io.BytesIO(response.content)))\n",
        "  return data\n",
        "  \n",
        "images, labels = retrieve_data([\n",
        "    \"https://www.dropbox.com/s/zilveq4b7f1fdpz/images.npy?dl=1\",\n",
        "    \"https://www.dropbox.com/s/6oue6rbyfcsatxg/labels.npy?dl=1\"\n",
        "])\n",
        "\n",
        "from sklearn.model_selection import train_test_split\n",
        "X_train, X_test, y_train, y_test = train_test_split(images, labels)"
      ],
      "execution_count": 0,
      "outputs": []
    },
    {
      "cell_type": "markdown",
      "metadata": {
        "_uuid": "a7b7c252d5033249497c7f0fc1211b21643f1b0f",
        "id": "TH9MXM2WyCGI",
        "colab_type": "text"
      },
      "source": [
        "## min-max scaling"
      ]
    },
    {
      "cell_type": "code",
      "metadata": {
        "_uuid": "c60e819e36b988741920929ead705cb0d14aa3ec",
        "id": "qzyh1B8nyCGJ",
        "colab_type": "code",
        "colab": {}
      },
      "source": [
        "scaler = StandardScaler()\n",
        "scaler.fit(X_train.reshape(len(X_train), -1, ))\n",
        "X_train=scaler.transform(X_train.reshape(len(X_train), -1, ))"
      ],
      "execution_count": 0,
      "outputs": []
    },
    {
      "cell_type": "markdown",
      "metadata": {
        "_uuid": "a8ff66ae8a36130eb0b85f9975e222fbbdbb30c6",
        "id": "th27p1AMyCGQ",
        "colab_type": "text"
      },
      "source": [
        "## PCA "
      ]
    },
    {
      "cell_type": "code",
      "metadata": {
        "_uuid": "4c97326bfd69d55214a20eefa9e087cc2def2d5f",
        "id": "LPYo6xDzyCGS",
        "colab_type": "code",
        "colab": {
          "base_uri": "https://localhost:8080/",
          "height": 52
        },
        "outputId": "7dafff0c-6fc0-47c2-d458-bfb4795ceea9"
      },
      "source": [
        "pca = PCA(n_components=pca_num)\n",
        "pca.fit(X_train.reshape(len(X_train), -1, ))"
      ],
      "execution_count": 17,
      "outputs": [
        {
          "output_type": "execute_result",
          "data": {
            "text/plain": [
              "PCA(copy=True, iterated_power='auto', n_components=12, random_state=None,\n",
              "    svd_solver='auto', tol=0.0, whiten=False)"
            ]
          },
          "metadata": {
            "tags": []
          },
          "execution_count": 17
        }
      ]
    },
    {
      "cell_type": "markdown",
      "metadata": {
        "_uuid": "8e86dcd66e16ab194438b0dc35fa545f9a2f339d",
        "id": "cH4788DGyCGZ",
        "colab_type": "text"
      },
      "source": [
        "> # Start **KFold**"
      ]
    },
    {
      "cell_type": "code",
      "metadata": {
        "_uuid": "4ea7f95e3266e5078469635a917a7430dda790e7",
        "id": "JU398HssyCGa",
        "colab_type": "code",
        "colab": {}
      },
      "source": [
        "folds = StratifiedKFold(n_splits=6, shuffle=True, random_state=1)"
      ],
      "execution_count": 0,
      "outputs": []
    },
    {
      "cell_type": "code",
      "metadata": {
        "id": "eBGO-H1Zyln3",
        "colab_type": "code",
        "colab": {}
      },
      "source": [
        "y = y_train"
      ],
      "execution_count": 0,
      "outputs": []
    },
    {
      "cell_type": "code",
      "metadata": {
        "_uuid": "d47a872a53335d4230ed173fa11d588e6e68c130",
        "id": "QqObfdT0yCGh",
        "colab_type": "code",
        "colab": {}
      },
      "source": [
        "def do_train():\n",
        "    oof_preds = np.zeros((len(X_train), ))\n",
        "    preds = None\n",
        "\n",
        "    for fold_, (trn_, val_) in enumerate(folds.split(y, y)):\n",
        "        train_objects = X_train[trn_]\n",
        "        valid_objects = X_train[val_]\n",
        "        y_train = y[trn_]\n",
        "        y_valid = y[val_]\n",
        "        print('train len', len(train_objects))\n",
        "        print('valid len', len(valid_objects))\n",
        "        \n",
        "        trainX_pca = pca.transform(train_objects.reshape(len(train_objects), -1, ))\n",
        "        validX_pca = pca.transform(valid_objects.reshape(len(valid_objects), -1, ))\n",
        "\n",
        "        model = RandomForestClassifier(n_estimators=2000, max_depth=20)\n",
        "        model.fit(trainX_pca, y_train)\n",
        "\n",
        "        y_pred = model.predict_proba(validX_pca)[:, 1]\n",
        "        print(y_valid.shape)\n",
        "        print(y_pred.shape)\n",
        "        current_loss = roc_auc_score(y_valid, y_pred)\n",
        "        train_loss = roc_auc_score(y_valid, y_pred)\n",
        "        print(f\"k-f val AUC {current_loss}\")\n",
        "        print(f\"train AUC {train_loss}\")\n",
        "        oof_preds[val_] = y_pred\n",
        "\n",
        "        X_test_pca = pca.transform(X_test.reshape(len(X_test), -1, ))\n",
        "        test_pred = model.predict_proba(X_test_pca)[:, 1]\n",
        "        if preds is None:\n",
        "            preds = test_pred\n",
        "        else:\n",
        "            preds += test_pred\n",
        "        del model\n",
        "\n",
        "    cv_loss = roc_auc_score(y, oof_preds)\n",
        "    print('ALL FOLDS AUC: %.5f ' % cv_loss)\n",
        "    oof_preds_df = pd.DataFrame()\n",
        "    oof_preds_df['EventID'] = np.unique(data_train['EventID'].values)\n",
        "    oof_preds_df['Proba'] = oof_preds\n",
        "    oof_preds_df.to_csv('oof_preds.csv', index=False)\n",
        "    return cv_loss, preds / folds.n_splits"
      ],
      "execution_count": 0,
      "outputs": []
    },
    {
      "cell_type": "code",
      "metadata": {
        "_uuid": "dcc4dbf3cc2a7d6620c259411ddf679e07f296e3",
        "id": "U45UAcNtyCGo",
        "colab_type": "code",
        "colab": {
          "base_uri": "https://localhost:8080/",
          "height": 949
        },
        "outputId": "fa05aa6b-86cb-4345-f3fc-ce0b26dbbe73"
      },
      "source": [
        "best_loss, preds = do_train()\n",
        "print('CV:', best_loss)"
      ],
      "execution_count": 30,
      "outputs": [
        {
          "output_type": "stream",
          "text": [
            "train len 50000\n",
            "valid len 10000\n",
            "(10000,)\n",
            "(10000,)\n",
            "k-f val AUC 0.8603313144132526\n",
            "train AUC 0.8603313144132526\n",
            "train len 50000\n",
            "valid len 10000\n",
            "(10000,)\n",
            "(10000,)\n",
            "k-f val AUC 0.864997474599899\n",
            "train AUC 0.864997474599899\n",
            "train len 50000\n",
            "valid len 10000\n",
            "(10000,)\n",
            "(10000,)\n",
            "k-f val AUC 0.8689007547560302\n",
            "train AUC 0.8689007547560302\n",
            "train len 50000\n",
            "valid len 10000\n",
            "(10000,)\n",
            "(10000,)\n",
            "k-f val AUC 0.8581617543264701\n",
            "train AUC 0.8581617543264701\n",
            "train len 50000\n",
            "valid len 10000\n",
            "(10000,)\n",
            "(10000,)\n",
            "k-f val AUC 0.85767468\n",
            "train AUC 0.85767468\n",
            "train len 50000\n",
            "valid len 10000\n",
            "(10000,)\n",
            "(10000,)\n",
            "k-f val AUC 0.8637692\n",
            "train AUC 0.8637692\n",
            "ALL FOLDS AUC: 0.86221 \n"
          ],
          "name": "stdout"
        },
        {
          "output_type": "error",
          "ename": "NameError",
          "evalue": "ignored",
          "traceback": [
            "\u001b[0;31m---------------------------------------------------------------------------\u001b[0m",
            "\u001b[0;31mNameError\u001b[0m                                 Traceback (most recent call last)",
            "\u001b[0;32m<ipython-input-30-89540f382378>\u001b[0m in \u001b[0;36m<module>\u001b[0;34m()\u001b[0m\n\u001b[0;32m----> 1\u001b[0;31m \u001b[0mbest_loss\u001b[0m\u001b[0;34m,\u001b[0m \u001b[0mpreds\u001b[0m \u001b[0;34m=\u001b[0m \u001b[0mdo_train\u001b[0m\u001b[0;34m(\u001b[0m\u001b[0;34m)\u001b[0m\u001b[0;34m\u001b[0m\u001b[0;34m\u001b[0m\u001b[0m\n\u001b[0m\u001b[1;32m      2\u001b[0m \u001b[0mprint\u001b[0m\u001b[0;34m(\u001b[0m\u001b[0;34m'CV:'\u001b[0m\u001b[0;34m,\u001b[0m \u001b[0mbest_loss\u001b[0m\u001b[0;34m)\u001b[0m\u001b[0;34m\u001b[0m\u001b[0;34m\u001b[0m\u001b[0m\n",
            "\u001b[0;32m<ipython-input-29-47f05348853c>\u001b[0m in \u001b[0;36mdo_train\u001b[0;34m()\u001b[0m\n\u001b[1;32m     37\u001b[0m     \u001b[0mprint\u001b[0m\u001b[0;34m(\u001b[0m\u001b[0;34m'ALL FOLDS AUC: %.5f '\u001b[0m \u001b[0;34m%\u001b[0m \u001b[0mcv_loss\u001b[0m\u001b[0;34m)\u001b[0m\u001b[0;34m\u001b[0m\u001b[0;34m\u001b[0m\u001b[0m\n\u001b[1;32m     38\u001b[0m     \u001b[0moof_preds_df\u001b[0m \u001b[0;34m=\u001b[0m \u001b[0mpd\u001b[0m\u001b[0;34m.\u001b[0m\u001b[0mDataFrame\u001b[0m\u001b[0;34m(\u001b[0m\u001b[0;34m)\u001b[0m\u001b[0;34m\u001b[0m\u001b[0;34m\u001b[0m\u001b[0m\n\u001b[0;32m---> 39\u001b[0;31m     \u001b[0moof_preds_df\u001b[0m\u001b[0;34m[\u001b[0m\u001b[0;34m'EventID'\u001b[0m\u001b[0;34m]\u001b[0m \u001b[0;34m=\u001b[0m \u001b[0mnp\u001b[0m\u001b[0;34m.\u001b[0m\u001b[0munique\u001b[0m\u001b[0;34m(\u001b[0m\u001b[0mdata_train\u001b[0m\u001b[0;34m[\u001b[0m\u001b[0;34m'EventID'\u001b[0m\u001b[0;34m]\u001b[0m\u001b[0;34m.\u001b[0m\u001b[0mvalues\u001b[0m\u001b[0;34m)\u001b[0m\u001b[0;34m\u001b[0m\u001b[0;34m\u001b[0m\u001b[0m\n\u001b[0m\u001b[1;32m     40\u001b[0m     \u001b[0moof_preds_df\u001b[0m\u001b[0;34m[\u001b[0m\u001b[0;34m'Proba'\u001b[0m\u001b[0;34m]\u001b[0m \u001b[0;34m=\u001b[0m \u001b[0moof_preds\u001b[0m\u001b[0;34m\u001b[0m\u001b[0;34m\u001b[0m\u001b[0m\n\u001b[1;32m     41\u001b[0m     \u001b[0moof_preds_df\u001b[0m\u001b[0;34m.\u001b[0m\u001b[0mto_csv\u001b[0m\u001b[0;34m(\u001b[0m\u001b[0;34m'oof_preds.csv'\u001b[0m\u001b[0;34m,\u001b[0m \u001b[0mindex\u001b[0m\u001b[0;34m=\u001b[0m\u001b[0;32mFalse\u001b[0m\u001b[0;34m)\u001b[0m\u001b[0;34m\u001b[0m\u001b[0;34m\u001b[0m\u001b[0m\n",
            "\u001b[0;31mNameError\u001b[0m: name 'data_train' is not defined"
          ]
        }
      ]
    },
    {
      "cell_type": "code",
      "metadata": {
        "_uuid": "840b1aa0f70e42a786e8bde1534e86e3707483d0",
        "id": "7nvld-ClyCGw",
        "colab_type": "code",
        "colab": {}
      },
      "source": [
        "submission = pd.DataFrame()\n",
        "submission['EventID'] = np.unique(data_test['EventID'].values)\n",
        "submission['Proba'] = preds\n",
        "submission.to_csv(f's_pca{pca_num}.csv', index=False, float_format='%.6f')"
      ],
      "execution_count": 0,
      "outputs": []
    },
    {
      "cell_type": "code",
      "metadata": {
        "_uuid": "fefee8231fd4ecb3482a7dee78862298774b433d",
        "id": "lSjBTb3OyCG5",
        "colab_type": "code",
        "colab": {}
      },
      "source": [
        ""
      ],
      "execution_count": 0,
      "outputs": []
    }
  ]
}