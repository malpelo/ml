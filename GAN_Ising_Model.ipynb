{
  "nbformat": 4,
  "nbformat_minor": 0,
  "metadata": {
    "colab": {
      "name": "GAN-Ising-Model.ipynb",
      "provenance": [],
      "authorship_tag": "ABX9TyOX16EuPb/lFZd6I8zB9Ec7",
      "include_colab_link": true
    },
    "kernelspec": {
      "name": "python3",
      "display_name": "Python 3"
    },
    "accelerator": "GPU"
  },
  "cells": [
    {
      "cell_type": "markdown",
      "metadata": {
        "id": "view-in-github",
        "colab_type": "text"
      },
      "source": [
        "<a href=\"https://colab.research.google.com/github/raeubaen/ml/blob/master/GAN_Ising_Model.ipynb\" target=\"_parent\"><img src=\"https://colab.research.google.com/assets/colab-badge.svg\" alt=\"Open In Colab\"/></a>"
      ]
    },
    {
      "cell_type": "code",
      "metadata": {
        "id": "rttSu_gQ9VVe",
        "colab_type": "code",
        "colab": {
          "base_uri": "https://localhost:8080/",
          "height": 34
        },
        "outputId": "f327fefb-7672-4049-d870-3402ed463524"
      },
      "source": [
        "#import models & layers from TF/keras\n",
        "import tensorflow as tf\n",
        "from tensorflow import keras\n",
        "from tensorflow.keras import layers\n",
        "# Helper libraries\n",
        "import numpy as np\n",
        "\n",
        "import matplotlib as mpl\n",
        "import matplotlib.pyplot as plt\n",
        "\n",
        "print(tf.__version__)"
      ],
      "execution_count": 1,
      "outputs": [
        {
          "output_type": "stream",
          "text": [
            "2.2.0\n"
          ],
          "name": "stdout"
        }
      ]
    },
    {
      "cell_type": "code",
      "metadata": {
        "id": "2peq3muAB4CV",
        "colab_type": "code",
        "colab": {
          "base_uri": "https://localhost:8080/",
          "height": 399
        },
        "outputId": "84149f04-b843-48e5-91b2-f7ac2fe94337"
      },
      "source": [
        "# download del dataset:\n",
        "!wget http://www.roma1.infn.it/~giagu/datasets/ising2_conf.dat\n",
        "!wget http://www.roma1.infn.it/~giagu/datasets/ising2_label.dat\n",
        "\n",
        "#leggiamo le configurazioni ising dal file usando numpy (10k esempi oguno da 28x28 spin)\n",
        "data = np.loadtxt('ising2_conf.dat')\n",
        "labels = np.loadtxt('ising2_label.dat')"
      ],
      "execution_count": 2,
      "outputs": [
        {
          "output_type": "stream",
          "text": [
            "--2020-05-30 16:45:16--  http://www.roma1.infn.it/~giagu/datasets/ising2_conf.dat\n",
            "Resolving www.roma1.infn.it (www.roma1.infn.it)... 141.108.26.150, 141.108.26.1\n",
            "Connecting to www.roma1.infn.it (www.roma1.infn.it)|141.108.26.150|:80... connected.\n",
            "HTTP request sent, awaiting response... 200 OK\n",
            "Length: 19060775 (18M)\n",
            "Saving to: ‘ising2_conf.dat’\n",
            "\n",
            "ising2_conf.dat     100%[===================>]  18.18M  11.8MB/s    in 1.5s    \n",
            "\n",
            "2020-05-30 16:45:18 (11.8 MB/s) - ‘ising2_conf.dat’ saved [19060775/19060775]\n",
            "\n",
            "--2020-05-30 16:45:19--  http://www.roma1.infn.it/~giagu/datasets/ising2_label.dat\n",
            "Resolving www.roma1.infn.it (www.roma1.infn.it)... 141.108.26.1, 141.108.26.150\n",
            "Connecting to www.roma1.infn.it (www.roma1.infn.it)|141.108.26.1|:80... connected.\n",
            "HTTP request sent, awaiting response... 200 OK\n",
            "Length: 81025 (79K)\n",
            "Saving to: ‘ising2_label.dat’\n",
            "\n",
            "ising2_label.dat    100%[===================>]  79.13K   310KB/s    in 0.3s    \n",
            "\n",
            "2020-05-30 16:45:20 (310 KB/s) - ‘ising2_label.dat’ saved [81025/81025]\n",
            "\n"
          ],
          "name": "stdout"
        }
      ]
    },
    {
      "cell_type": "code",
      "metadata": {
        "id": "gXqV1wNvEFsq",
        "colab_type": "code",
        "colab": {}
      },
      "source": [
        "#riformattiamo i vettori in modo che abbiano la struttura di matrici di 28x28 spin\n",
        "# (le configurazioni sono scritte nel file come 10000*28 righe ognuna di 28 elementi)\n",
        "data = data.reshape(-1,28,28,1).astype('float32')\n",
        "\n",
        "n, m = 10, 10\n",
        "fig, axs = plt.subplots(n, m, figsize=(20, 20))\n",
        "for i in range(n):\n",
        "  for j in range(m):\n",
        "    r = np.random.randint(0, data.shape[0]-1)\n",
        "    axs[i][j].imshow(data[r].reshape(28, 28))\n",
        "\n",
        "train_dataset = tf.data.Dataset.from_tensor_slices(data)\n",
        "train_dataset = train_dataset.shuffle(buffer_size=1024).batch(64).prefetch(32)"
      ],
      "execution_count": 0,
      "outputs": []
    },
    {
      "cell_type": "code",
      "metadata": {
        "id": "21WoloLm9nsc",
        "colab_type": "code",
        "colab": {}
      },
      "source": [
        "IMG_SHAPE = (28, 28, 1)"
      ],
      "execution_count": 0,
      "outputs": []
    },
    {
      "cell_type": "code",
      "metadata": {
        "id": "EeFC9qmp9lMj",
        "colab_type": "code",
        "colab": {
          "base_uri": "https://localhost:8080/",
          "height": 434
        },
        "outputId": "a96a0e0e-14c3-4f21-a8ea-667b93382e0c"
      },
      "source": [
        "def get_discriminator_model():\n",
        "    model = tf.keras.Sequential()\n",
        "\n",
        "    model.add(tf.keras.layers.Conv2D(64, (5, 5), strides=(2, 2), padding='same', input_shape=(28, 28, 1)))\n",
        "    model.add(tf.keras.layers.LeakyReLU())\n",
        "    model.add(tf.keras.layers.Dropout(0.3))\n",
        "      \n",
        "    model.add(tf.keras.layers.Conv2D(128, (5, 5), strides=(2, 2), padding='same'))\n",
        "    model.add(tf.keras.layers.LeakyReLU())\n",
        "    model.add(tf.keras.layers.Dropout(0.3))\n",
        "       \n",
        "    model.add(tf.keras.layers.Flatten())\n",
        "    model.add(tf.keras.layers.Dense(1))\n",
        "\n",
        "    return model\n",
        "d_model = get_discriminator_model()\n",
        "d_model.summary()"
      ],
      "execution_count": 22,
      "outputs": [
        {
          "output_type": "stream",
          "text": [
            "Model: \"sequential_8\"\n",
            "_________________________________________________________________\n",
            "Layer (type)                 Output Shape              Param #   \n",
            "=================================================================\n",
            "conv2d_4 (Conv2D)            (None, 14, 14, 64)        1664      \n",
            "_________________________________________________________________\n",
            "leaky_re_lu_22 (LeakyReLU)   (None, 14, 14, 64)        0         \n",
            "_________________________________________________________________\n",
            "dropout_4 (Dropout)          (None, 14, 14, 64)        0         \n",
            "_________________________________________________________________\n",
            "conv2d_5 (Conv2D)            (None, 7, 7, 128)         204928    \n",
            "_________________________________________________________________\n",
            "leaky_re_lu_23 (LeakyReLU)   (None, 7, 7, 128)         0         \n",
            "_________________________________________________________________\n",
            "dropout_5 (Dropout)          (None, 7, 7, 128)         0         \n",
            "_________________________________________________________________\n",
            "flatten_2 (Flatten)          (None, 6272)              0         \n",
            "_________________________________________________________________\n",
            "dense_8 (Dense)              (None, 1)                 6273      \n",
            "=================================================================\n",
            "Total params: 212,865\n",
            "Trainable params: 212,865\n",
            "Non-trainable params: 0\n",
            "_________________________________________________________________\n"
          ],
          "name": "stdout"
        }
      ]
    },
    {
      "cell_type": "code",
      "metadata": {
        "id": "tr98n8P1_vur",
        "colab_type": "code",
        "colab": {
          "base_uri": "https://localhost:8080/",
          "height": 538
        },
        "outputId": "7dd3c704-7938-4360-9275-cf92dd4bff29"
      },
      "source": [
        "# Generator: campiona un vettore latente e genera un immagine\n",
        "\n",
        "# usa upsampling (Conv2DTranspose) per passare da z -> immagine\n",
        "# Size of latent vector (la dimensione del vettore latente z)\n",
        "\n",
        "latent_dim = 128\n",
        "\n",
        "def get_generator_model():\n",
        "    model = tf.keras.Sequential()\n",
        "\n",
        "    model.add(tf.keras.layers.Dense(7*7*256, use_bias=False, input_shape=(128,)))\n",
        "    model.add(tf.keras.layers.BatchNormalization())\n",
        "    model.add(tf.keras.layers.LeakyReLU())\n",
        "      \n",
        "    model.add(tf.keras.layers.Reshape((7, 7, 256)))\n",
        "    \n",
        "    model.add(tf.keras.layers.Conv2DTranspose(128, (4, 4), strides=(1, 1), padding='same', use_bias=False))\n",
        "\n",
        "    model.add(tf.keras.layers.BatchNormalization())\n",
        "    model.add(tf.keras.layers.LeakyReLU())\n",
        "\n",
        "    model.add(tf.keras.layers.Conv2DTranspose(64, (4, 4), strides=(2, 2), padding='same', use_bias=False))\n",
        "\n",
        "    model.add(tf.keras.layers.BatchNormalization())\n",
        "    model.add(tf.keras.layers.LeakyReLU())\n",
        "\n",
        "    model.add(tf.keras.layers.Conv2DTranspose(1, (7, 7), strides=(2, 2), padding='same', use_bias=False, activation=tf.tanh))\n",
        "    return model\n",
        "\n",
        "g_model = get_generator_model()\n",
        "g_model.summary()"
      ],
      "execution_count": 23,
      "outputs": [
        {
          "output_type": "stream",
          "text": [
            "Model: \"sequential_9\"\n",
            "_________________________________________________________________\n",
            "Layer (type)                 Output Shape              Param #   \n",
            "=================================================================\n",
            "dense_9 (Dense)              (None, 12544)             1605632   \n",
            "_________________________________________________________________\n",
            "batch_normalization_18 (Batc (None, 12544)             50176     \n",
            "_________________________________________________________________\n",
            "leaky_re_lu_24 (LeakyReLU)   (None, 12544)             0         \n",
            "_________________________________________________________________\n",
            "reshape_6 (Reshape)          (None, 7, 7, 256)         0         \n",
            "_________________________________________________________________\n",
            "conv2d_transpose_18 (Conv2DT (None, 7, 7, 128)         524288    \n",
            "_________________________________________________________________\n",
            "batch_normalization_19 (Batc (None, 7, 7, 128)         512       \n",
            "_________________________________________________________________\n",
            "leaky_re_lu_25 (LeakyReLU)   (None, 7, 7, 128)         0         \n",
            "_________________________________________________________________\n",
            "conv2d_transpose_19 (Conv2DT (None, 14, 14, 64)        131072    \n",
            "_________________________________________________________________\n",
            "batch_normalization_20 (Batc (None, 14, 14, 64)        256       \n",
            "_________________________________________________________________\n",
            "leaky_re_lu_26 (LeakyReLU)   (None, 14, 14, 64)        0         \n",
            "_________________________________________________________________\n",
            "conv2d_transpose_20 (Conv2DT (None, 28, 28, 1)         3136      \n",
            "=================================================================\n",
            "Total params: 2,315,072\n",
            "Trainable params: 2,289,600\n",
            "Non-trainable params: 25,472\n",
            "_________________________________________________________________\n"
          ],
          "name": "stdout"
        }
      ]
    },
    {
      "cell_type": "code",
      "metadata": {
        "id": "VHdkt-VpBguk",
        "colab_type": "code",
        "colab": {}
      },
      "source": [
        "# Modello DCGAN: implementiamo un keras.Model custom\n",
        "class DCGAN(keras.Model):\n",
        "    def __init__(self, discriminator, generator, latent_dim):\n",
        "        super().__init__()\n",
        "        self.discriminator = discriminator\n",
        "        self.generator = generator\n",
        "        self.latent_dim = latent_dim\n",
        "\n",
        "    # funzione per la compilazione\n",
        "    def compile(self, d_optimizer, g_optimizer, loss_fn):\n",
        "        super().compile()\n",
        "        self.d_optimizer = d_optimizer\n",
        "        self.g_optimizer = g_optimizer\n",
        "        self.loss_fn = loss_fn\n",
        "\n",
        "    def train_step(self, real_images):\n",
        "        if isinstance(real_images, tuple): #verifica che l'input isa una python tuple (numpy tensor)\n",
        "            real_images = real_images[0]\n",
        "\n",
        "        # 1) campiona un batch di punti random nello spazio latente: z\n",
        "        batch_size = tf.shape(real_images)[0]\n",
        "        random_latent_vectors = tf.random.normal(shape=(batch_size, self.latent_dim))\n",
        "\n",
        "        # 2) usa il generatore per creare dai vettori latenti immagini fake: immagine = G(z)\n",
        "        generated_images = self.generator(random_latent_vectors)\n",
        "        #print(generated_images.shape, real_images.shape, flush=True)\n",
        "        # 3) combina le immagini fake con quelle reali \n",
        "        combined_images = tf.concat([generated_images, real_images], axis=0)\n",
        "\n",
        "        # 4) assegna le label corrette (fae vs reale)\n",
        "        labels = tf.concat(\n",
        "            [tf.ones((batch_size, 1)), tf.zeros((batch_size, 1))], axis=0\n",
        "        )\n",
        "\n",
        "        # 5) Trucco per diminuire la probabilità di collasso della rete (si aggiunge un po' di rumore random alle label) \n",
        "        labels += 0.2 * tf.random.uniform(tf.shape(labels))\n",
        "\n",
        "        # 6) Training del discriminatore D\n",
        "        with tf.GradientTape() as tape: #autograd\n",
        "            predictions = self.discriminator(combined_images) #predizione = D(immagini)\n",
        "            d_loss = self.loss_fn(labels, predictions) #calcolo loss\n",
        "        grads = tape.gradient(d_loss, self.discriminator.trainable_weights) #backprop\n",
        "        self.d_optimizer.apply_gradients(\n",
        "            zip(grads, self.discriminator.trainable_weights) #aggiornamento pesi\n",
        "        )\n",
        "\n",
        "        # 7) campiona un nuovo batch di punti dello spazio latente: z\n",
        "        random_latent_vectors = tf.random.normal(shape=(batch_size, self.latent_dim))\n",
        "\n",
        "        # 8) crea un vettore di label corrispondenti a tutte immagii reali\n",
        "        misleading_labels = tf.zeros((batch_size, 1))\n",
        "\n",
        "        # 9) Training del generatore (non si devono aggiornare ovviamente i pesi del discriminatore)\n",
        "        with tf.GradientTape() as tape:\n",
        "            predictions = self.discriminator(self.generator(random_latent_vectors)) #predizione = D(G(z))\n",
        "            g_loss = self.loss_fn(misleading_labels, predictions) #calcolo loss\n",
        "        grads = tape.gradient(g_loss, self.generator.trainable_weights) #backprop\n",
        "        self.g_optimizer.apply_gradients(zip(grads, self.generator.trainable_weights)) #aggiornamento pesi\n",
        "\n",
        "        return {\"d_loss\": d_loss, \"g_loss\": g_loss}"
      ],
      "execution_count": 0,
      "outputs": []
    },
    {
      "cell_type": "code",
      "metadata": {
        "id": "2mbmMhuxBnmb",
        "colab_type": "code",
        "colab": {}
      },
      "source": [
        "# custom callback to save generated images peridoically during training\n",
        "class GANMonitor(keras.callbacks.Callback):\n",
        "    def __init__(self, num_img=6, latent_dim=128, norma=1.0):\n",
        "        self.num_img = num_img\n",
        "        self.latent_dim = latent_dim\n",
        "        self.norma = norma\n",
        "\n",
        "    def on_epoch_end(self, epoch, logs=None):\n",
        "        random_latent_vectors = tf.random.normal(shape=(self.num_img, self.latent_dim))\n",
        "        generated_images = self.model.generator(random_latent_vectors)\n",
        "        generated_images = generated_images * self.norma\n",
        "\n",
        "        for i in range(self.num_img):\n",
        "            img = generated_images[i].numpy()\n",
        "            img2 = keras.preprocessing.image.array_to_img(img)\n",
        "            img2.save(\"generated_img_{i}_{epoch}.png\".format(i=i, epoch=epoch))\n",
        "            img = img.reshape((28*28))\n",
        "            np.savetxt(\"generated_img_{i}_{epoch}.dat\".format(i=i, epoch=epoch), img)"
      ],
      "execution_count": 0,
      "outputs": []
    },
    {
      "cell_type": "code",
      "metadata": {
        "id": "cCx-QQTDBqFK",
        "colab_type": "code",
        "colab": {}
      },
      "source": [
        "# Training della GAN\n",
        "\n",
        "# Ottimizzatori di G e D\n",
        "# learning_rate=0.0002, beta_1=0.5 are recommened\n",
        "generator_optimizer = keras.optimizers.Adam(\n",
        "    learning_rate=0.0002, beta_1=0.5, beta_2=0.9)\n",
        "\n",
        "discriminator_optimizer = keras.optimizers.Adam(\n",
        "    learning_rate=0.0002, beta_1=0.5, beta_2=0.9)\n",
        "# Loss function\n",
        "gan_loss = keras.losses.BinaryCrossentropy(from_logits=True)\n",
        "\n",
        "# Epochs\n",
        "EPOCHS = 20\n",
        "\n",
        "# Callbacks\n",
        "cbk = GANMonitor(num_img=3, latent_dim=latent_dim, norma=255)\n",
        "\n",
        "# Istanziamento modello\n",
        "gan = DCGAN(discriminator=d_model, generator=g_model, latent_dim=latent_dim)\n",
        "\n",
        "# Compilazione\n",
        "gan.compile(\n",
        "    d_optimizer=discriminator_optimizer,\n",
        "    g_optimizer=generator_optimizer,\n",
        "    loss_fn=gan_loss,\n",
        ")"
      ],
      "execution_count": 0,
      "outputs": []
    },
    {
      "cell_type": "code",
      "metadata": {
        "id": "VKdrmIbCBstC",
        "colab_type": "code",
        "colab": {
          "base_uri": "https://localhost:8080/",
          "height": 729
        },
        "outputId": "9ee8d1e0-4679-4ff0-bfeb-5a77fecf3224"
      },
      "source": [
        "# Start training\n",
        "gan.fit(train_dataset, epochs=EPOCHS, callbacks=[cbk], batch_size=64)"
      ],
      "execution_count": 27,
      "outputs": [
        {
          "output_type": "stream",
          "text": [
            "Epoch 1/20\n",
            "157/157 [==============================] - 6s 37ms/step - d_loss: 0.4132 - g_loss: 1.2829\n",
            "Epoch 2/20\n",
            "157/157 [==============================] - 5s 35ms/step - d_loss: 0.3103 - g_loss: 2.3866\n",
            "Epoch 3/20\n",
            "157/157 [==============================] - 5s 34ms/step - d_loss: 0.3406 - g_loss: 2.4289\n",
            "Epoch 4/20\n",
            "157/157 [==============================] - 5s 34ms/step - d_loss: 0.3022 - g_loss: 3.7921\n",
            "Epoch 5/20\n",
            "157/157 [==============================] - 5s 35ms/step - d_loss: 0.1519 - g_loss: 5.9478\n",
            "Epoch 6/20\n",
            "157/157 [==============================] - 5s 35ms/step - d_loss: 0.2651 - g_loss: 3.3960\n",
            "Epoch 7/20\n",
            "157/157 [==============================] - 5s 35ms/step - d_loss: 0.3654 - g_loss: 2.5201\n",
            "Epoch 8/20\n",
            "157/157 [==============================] - 5s 35ms/step - d_loss: 0.4053 - g_loss: 2.1018\n",
            "Epoch 9/20\n",
            "157/157 [==============================] - 5s 35ms/step - d_loss: 0.4279 - g_loss: 1.9723\n",
            "Epoch 10/20\n",
            "157/157 [==============================] - 6s 35ms/step - d_loss: 0.4187 - g_loss: 1.9348\n",
            "Epoch 11/20\n",
            "157/157 [==============================] - 5s 35ms/step - d_loss: 0.4188 - g_loss: 1.9088\n",
            "Epoch 12/20\n",
            "157/157 [==============================] - 5s 35ms/step - d_loss: 0.4204 - g_loss: 1.8788\n",
            "Epoch 13/20\n",
            "157/157 [==============================] - 5s 35ms/step - d_loss: 0.4275 - g_loss: 1.8574\n",
            "Epoch 14/20\n",
            "157/157 [==============================] - 5s 35ms/step - d_loss: 0.4191 - g_loss: 1.8752\n",
            "Epoch 15/20\n",
            "157/157 [==============================] - 5s 35ms/step - d_loss: 0.4193 - g_loss: 1.8683\n",
            "Epoch 16/20\n",
            "157/157 [==============================] - 6s 35ms/step - d_loss: 0.4190 - g_loss: 1.8780\n",
            "Epoch 17/20\n",
            "157/157 [==============================] - 5s 35ms/step - d_loss: 0.4214 - g_loss: 1.8904\n",
            "Epoch 18/20\n",
            "157/157 [==============================] - 5s 35ms/step - d_loss: 0.4203 - g_loss: 1.8841\n",
            "Epoch 19/20\n",
            "157/157 [==============================] - 6s 35ms/step - d_loss: 0.4186 - g_loss: 1.8445\n",
            "Epoch 20/20\n",
            "157/157 [==============================] - 5s 35ms/step - d_loss: 0.4125 - g_loss: 1.8763\n"
          ],
          "name": "stdout"
        },
        {
          "output_type": "execute_result",
          "data": {
            "text/plain": [
              "<tensorflow.python.keras.callbacks.History at 0x7f2fbde7e668>"
            ]
          },
          "metadata": {
            "tags": []
          },
          "execution_count": 27
        }
      ]
    },
    {
      "cell_type": "code",
      "metadata": {
        "id": "PAKXI9p5IMKH",
        "colab_type": "code",
        "colab": {
          "base_uri": "https://localhost:8080/",
          "height": 1000
        },
        "outputId": "509b0bfb-5d1c-4f9f-dbcd-f2e3f7dfa20a"
      },
      "source": [
        "n, m = 10, 10\n",
        "random_latent_vectors = tf.random.normal(shape=(n*m, latent_dim))\n",
        "generated_images = gan.generator(random_latent_vectors)\n",
        "\n",
        "fig, axs = plt.subplots(n, m, figsize=(20, 20))\n",
        "for i in range(n):\n",
        "  for j in range(m):\n",
        "    axs[i][j].imshow(generated_images[n*i+j].numpy().reshape((28, 28)))"
      ],
      "execution_count": 28,
      "outputs": [
        {
          "output_type": "display_data",
          "data": {
            "image/png": "[encoded data removed]",
            "text/plain": [
              "<Figure size 1440x1440 with 100 Axes>"
            ]
          },
          "metadata": {
            "tags": [],
            "needs_background": "light"
          }
        }
      ]
    },
    {
      "cell_type": "code",
      "metadata": {
        "id": "eb9gRUFlIFsM",
        "colab_type": "code",
        "colab": {}
      },
      "source": [
        ""
      ],
      "execution_count": 0,
      "outputs": []
    }
  ]
}