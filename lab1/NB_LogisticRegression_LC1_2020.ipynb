{
  "nbformat": 4,
  "nbformat_minor": 0,
  "metadata": {
    "anaconda-cloud": {},
    "kernelspec": {
      "display_name": "Python 3",
      "language": "python",
      "name": "python3"
    },
    "language_info": {
      "codemirror_mode": {
        "name": "ipython",
        "version": 3
      },
      "file_extension": ".py",
      "mimetype": "text/x-python",
      "name": "python",
      "nbconvert_exporter": "python",
      "pygments_lexer": "ipython3",
      "version": "3.5.2"
    },
    "colab": {
      "name": "NB_LogisticRegression_LC1_2020.ipynb",
      "provenance": [],
      "collapsed_sections": [],
      "include_colab_link": true
    }
  },
  "cells": [
    {
      "cell_type": "markdown",
      "metadata": {
        "id": "view-in-github",
        "colab_type": "text"
      },
      "source": [
        "<a href=\"https://colab.research.google.com/github/raeubaen/giagu/blob/master/NB_LogisticRegression_LC1_2020.ipynb\" target=\"_parent\"><img src=\"https://colab.research.google.com/assets/colab-badge.svg\" alt=\"Open In Colab\"/></a>"
      ]
    },
    {
      "cell_type": "markdown",
      "metadata": {
        "id": "M5eG9YHe3uM_",
        "colab_type": "text"
      },
      "source": [
        "#  Regressione Logistica e Ricerca di Particelle Supersimmetriche #\n"
      ]
    },
    {
      "cell_type": "code",
      "metadata": {
        "id": "xSyahmCl3xtm",
        "colab_type": "code",
        "outputId": "aa92c9b6-7efd-4d3c-a7d2-959eb8245002",
        "colab": {
          "base_uri": "https://localhost:8080/",
          "height": 54
        }
      },
      "source": [
        "from google.colab import drive\n",
        "drive.mount('/content/drive')"
      ],
      "execution_count": 0,
      "outputs": [
        {
          "output_type": "stream",
          "text": [
            "Drive already mounted at /content/drive; to attempt to forcibly remount, call drive.mount(\"/content/drive\", force_remount=True).\n"
          ],
          "name": "stdout"
        }
      ]
    },
    {
      "cell_type": "markdown",
      "metadata": {
        "id": "7mC-lq4u3uNA",
        "colab_type": "text"
      },
      "source": [
        "### Informazioni\n",
        "\n",
        "scopo: imparare a risolvere un problema di classificazioen tramite un classificatore lineare di regressione logistica, prendere dimestichezza con la libreria scikit-learn e imparare l'uso del package Pandas per la gestione di dataset complessi\n",
        "\n",
        "campione di esempi: [SUSY dataset](https://archive.ics.uci.edu/ml/datasets/SUSY) da [UCI Machine Learning Repository](https://archive.ics.uci.edu/ml/index.php).\n",
        "\n",
        "Ci focalizzermeo in una task di classificazione binaria (segnale (SUSY) - fondo (processi del Modello Standard con stessi stati finali di quelli prodotti nei decadimenti delle particelle supersimmetriche)).\n",
        "\n",
        "\n",
        "**Regressione logistica**\n",
        "\n",
        "È una dei modelli classici del ML per la classificazione che permette di introdurre la maggior parte delle idee e techniche del ML supervisionato. \n",
        "\n",
        "Ogni set di fatures $\\mathbf{x}_i$ è associato ad una label di categoria (classe)$C_i\\in\\{1,0\\}$, con $i=1\\ldots n$.\n",
        "Di seguito il feature vector $\\mathbf{x}_i$ è ridefinito via the augmented rapresentation $\\mathbf{x}\\rightarrow (1,\\mathbf{x})$. \n",
        "La likelihood function della regressione logistica è data dalla funzione sigmoide:\n",
        "\n",
        "$$\n",
        "P(c_i=1)=1-P(c_i=0)= {1 \\over 1+ e^{-\\mathbf{w}\\cdot \\mathbf{x}_i}},\n",
        "$$\n",
        "\n",
        "in cui $\\mathbf{w}$ sono i pesi che definiscono il modello di regressione logistica e che vengono scelti massimizzando la log-likelihood sul campione di dati di training. \n",
        "\n",
        "Definendo la funzione:\n",
        "$$\n",
        "f(a)={1 \\over 1+ e^{-a}},\n",
        "$$\n",
        "\n",
        "con derivata rispetto a $a$:\n",
        "$$\n",
        "{df \\over da}= f(1-f).\n",
        "$$\n",
        "\n",
        "e definendo $f_i \\equiv f(\\mathbf{w}\\cdot \\mathbf{x}_i)$, possiamo esprimere la likelihood dei dati $\\{ \\mathbf{x}_i, C_i \\}$ come:\n",
        "\n",
        "$$\n",
        "P(Data|\\mathbf{x})= \\prod_{i=1}^n f_i^{C_i}(1-f_i)^{1-C_i}\n",
        "$$\n",
        "\n",
        "con log-likelihood:\n",
        "$$\n",
        "\\log{P(Data|\\mathbf{w})}= \\sum_{i=1}^n C_i \\log f_i + (1-C_i)\\log(1-f_i)\n",
        "$$\n",
        "\n",
        "La log-likelihood cambiata di segno fornisce la loss function ed è chiamata cross-entropy error function:\n",
        "$$\n",
        "\\mathrm{Cross\\,Entropy}=E(\\mathbf{w})= -\\sum_{i=1}^n C_i \\log f_i + (1-C_i)\\log(1-f_i).\n",
        "$$\n",
        "\n",
        "Osserviamo che:\n",
        "$$\n",
        "\\nabla E(\\mathbf{w})=\\sum_{i=1}^n (f_i-C_i)\\mathbf{x}_i.\n",
        "$$\n",
        "\n",
        "cioè il gradiente punta nella direzione della somma delle direzioni dei vettori del training set pesata con la differenza tra la label vera e la probabilità di predire la label stessa.\n",
        "\n",
        "La stima di massima verosimiglianza (MLE) corrisponde alla minimizzazione della cross-entropia. Questo può essere fatto usando metodi di discesa lungo il gradiente."
      ]
    },
    {
      "cell_type": "markdown",
      "metadata": {
        "id": "OqJ6L_FQ3uNB",
        "colab_type": "text"
      },
      "source": [
        "### Passo 1: carica il dataset con pandas\n",
        "\n",
        "**informazioni sul dataset:**\n",
        "\n",
        ">Provide all relevant informatioThe data has been produced using Monte Carlo simulations. The first 8 features are kinematic properties measured by the particle detectors in the accelerator. The last ten features are functions of the first 8 features; these are high-level features derived by physicists to help discriminate between the two classes.\n",
        "\n",
        "* data format: The first column is the class label (1 for signal, 0 for background), followed by the 18 features (8 low-level features then 10 high-level features):: lepton 1 pT, lepton 1 eta, lepton 1 phi, lepton 2 pT, lepton 2 eta, lepton 2 phi, missing energy magnitude, missing energy phi, MET_rel, axial MET, M_R, M_TR_2, R, MT2, S_R, M_Delta_R, dPhi_r_b, cos(theta_r1). For detailed information about each feature see the original paper.\n",
        "\n",
        "\n",
        "* reference: <cite> P. Baldi, P. Sadowski, and D. Whiteson. \"Searching for Exotic Particles in High-energy Physics with Deep Learning.\" Nature Communications 5 (July 2, 2014)</cite>.\n",
        "\n",
        "Il campione che potete scaricare da qui [Campione SUSY.csv 1M eventi](https://www.dropbox.com/s/qfvjlrdz38goien/SUSY.csv?dl=0) contiene solo 1M degli 11M di eventi del dataset totale (per mantenere la size limitata).\n",
        "\n",
        "Importiamo il dataset cono pandas usando i primi 950k eventi come training set e i secondi 50k come test set."
      ]
    },
    {
      "cell_type": "code",
      "metadata": {
        "id": "uNRgwF3Y3uNC",
        "colab_type": "code",
        "colab": {}
      },
      "source": [
        "# Importing the SUSY Data set\n",
        "import sys, os\n",
        "import pandas as pd\n",
        "\n",
        "import numpy as np\n",
        "import warnings\n",
        "\n",
        "#warnings.filterwarnings('ignore') #se non si vogliono ricevere warning scommentare questa riga\n",
        "\n",
        "\n",
        "seed=12345\n",
        "np.random.seed(seed)\n",
        "\n",
        "# Download SUSY.csv \n",
        "filename=\"/content/drive/My Drive/Colab Notebooks/dataset/SUSY.csv\"\n",
        "#filename=sample_data/SUSY.csv' \n",
        "\n",
        "columns=[\"signal\", \"lepton 1 pT\", \"lepton 1 eta\", \"lepton 1 phi\", \"lepton 2 pT\", \"lepton 2 eta\", \n",
        "         \"lepton 2 phi\", \"missing energy magnitude\", \"missing energy phi\", \"MET_rel\", \n",
        "         \"axial MET\", \"M_R\", \"M_TR_2\", \"R\", \"MT2\", \"S_R\", \"M_Delta_R\", \"dPhi_r_b\", \"cos(theta_r1)\"]\n",
        "\n",
        "# Load 950k rows as train data, 50k as test data\n",
        "df_train=pd.read_csv(filename,names=columns,nrows=950000,engine='python')\n",
        "df_test=pd.read_csv(filename,names=columns,nrows=50000, skiprows=950000,engine='python')"
      ],
      "execution_count": 0,
      "outputs": []
    },
    {
      "cell_type": "markdown",
      "metadata": {
        "id": "fagOsUMM3uNH",
        "colab_type": "text"
      },
      "source": [
        "**Definizione funzioni utili in pandas:**"
      ]
    },
    {
      "cell_type": "code",
      "metadata": {
        "id": "Mte607mD3uNI",
        "colab_type": "code",
        "colab": {}
      },
      "source": [
        "%matplotlib inline\n",
        "import matplotlib as mpl\n",
        "import matplotlib.pyplot as plt\n",
        "import sys\n",
        "\n",
        "#accede in pandas ai dati del campione di training e li formatta in modo comodo\n",
        "def getTrainData(nVar):\n",
        "    designMatrix = df_train.iloc[:,1:nVar+1].values\n",
        "    #now the signal\n",
        "    labels = df_train['signal'].values # labels (0 or 1)\n",
        "    return (designMatrix,labels)\n",
        "\n",
        "#accede in pandas ai dati del campione di test e li formatta in modo comodo \n",
        "def getTestData(nVar):\n",
        "    designMatrix = df_test.iloc[:,1:nVar+1].values\n",
        "    #now the signal\n",
        "    labels = df_test['signal'].values\n",
        "    return (designMatrix,labels)\n",
        "\n",
        "# usa pandas per costruire curve pseudo-ROC\n",
        "def build_roc_curve(probs, signal_bit, threshes):\n",
        "    # Convert things to a pandas series to build a DataFrame\n",
        "    # which will make ROC curve logic easier to express\n",
        "    signal_probs = pd.Series(probs[:,1])\n",
        "    signal_true = pd.Series(signal_bit)\n",
        "    signal_df = pd.DataFrame(signal_probs, columns=['sig_prob'])\n",
        "    signal_df.loc[:,'sig_true'] = signal_true\n",
        "    Acceptance = []\n",
        "    Rejection = []\n",
        "    for thresh in threshes:\n",
        "        # define acceptance\n",
        "        signal_df.loc[:,'accept'] = signal_df['sig_prob'] > thresh\n",
        "        # sum over data frame with slicing conditions\n",
        "        nSigCor = len(signal_df[(signal_df['accept']) & (signal_df['sig_true']==1.)])\n",
        "        nSig = len(signal_df[signal_df['sig_true']==1.])\n",
        "        nBkgCor = len(signal_df[ (signal_df['sig_true']==0.) & (~signal_df['accept'])])\n",
        "        nBkg = len(signal_df[signal_df['sig_true']==0.])\n",
        "        Acceptance.append(nSigCor/nSig) # False positive rate\n",
        "        Rejection.append(nBkgCor/nBkg) # True positive rate\n",
        "\n",
        "    return Acceptance, Rejection"
      ],
      "execution_count": 0,
      "outputs": []
    },
    {
      "cell_type": "markdown",
      "metadata": {
        "id": "VObp21FI3uNL",
        "colab_type": "text"
      },
      "source": [
        "### Passo 2:  Training  del modello lineare tipo logistic regression con scikit-learn\n",
        "\n",
        "**definizione dei modelli:**"
      ]
    },
    {
      "cell_type": "code",
      "metadata": {
        "id": "w9LUy1Ys3uNM",
        "colab_type": "code",
        "colab": {}
      },
      "source": [
        "from sklearn.neural_network import MLPClassifier\n",
        "from sklearn.linear_model import SGDClassifier\n",
        "\n",
        "#logistic discriminant con regolarizzazione L2\n",
        "def runSciKitRegressionL2(nVar, alpha):\n",
        "    X_train, y_train = getTrainData(nVar)\n",
        "    X_test, y_test = getTestData(nVar)\n",
        "    clf = SGDClassifier(loss=\"log\", penalty=\"l2\",alpha=alpha,max_iter=5,tol=None)\n",
        "    clf.fit(X_train,y_train.ravel())\n",
        "    predictions = clf.predict(X_test)\n",
        "    print('Accuracy on test data with alpha %.2E : %.3f' %(alpha,clf.score(X_test,y_test)) )\n",
        "    probs = clf.predict_proba(X_test)\n",
        "\n",
        "    #get signal acceptance and background rejection\n",
        "    thresholds = np.arange(0,1,.01)\n",
        "    Acceptance, Rejection = build_roc_curve(probs, y_test, thresholds)\n",
        "    return (probs, Acceptance, Rejection)\n",
        "\n",
        "#logistic discriminant con regolarizzazione L1\n",
        "def runSciKitRegressionL1(nVar,alpha):\n",
        "    X_train, y_train = getTrainData(nVar)\n",
        "    X_test, y_test = getTestData(nVar)\n",
        "    clf = SGDClassifier(loss=\"log\", penalty=\"l1\",alpha=alpha,max_iter=5,tol=None)\n",
        "    clf.fit(X_train,y_train.ravel())\n",
        "    predictions = clf.predict(X_test)\n",
        "    print('Accuracy on test data with alpha %.2E : %.3f' %(alpha,clf.score(X_test,y_test)) )\n",
        "    probs = clf.predict_proba(X_test)\n",
        "\n",
        "    #get signal acceptance and background rejection\n",
        "    thresholds = np.arange(0,1,.01)\n",
        "    Acceptance, Rejection = build_roc_curve(probs, y_test, thresholds)\n",
        "    return (probs,Acceptance,Rejection)"
      ],
      "execution_count": 0,
      "outputs": []
    },
    {
      "cell_type": "markdown",
      "metadata": {
        "id": "qcE2UQUm3uNP",
        "colab_type": "text"
      },
      "source": [
        "**Training e valutazione del modello con regolarizzazione L1**\n",
        "\n",
        "* usiamo inizialmente solo le prime 8 feature (low-level)\n",
        "* $\\alpha$ parametro che definisce il peso del termine di regolarizzazione e che va scelto in modo da missimizzare le prestazioni\n"
      ]
    },
    {
      "cell_type": "code",
      "metadata": {
        "id": "nEIq_lFW3uNP",
        "colab_type": "code",
        "outputId": "2d7b8403-6a07-42ef-ede7-93c09d7974e0",
        "colab": {
          "base_uri": "https://localhost:8080/",
          "height": 466
        }
      },
      "source": [
        "plt.close()\n",
        "alphas = np.logspace(-10,1,11)\n",
        "fig = plt.figure()\n",
        "ax = fig.add_subplot(111)\n",
        "it=0\n",
        "for alpha in alphas:\n",
        "    c1 = 1.*( float(it) % 3.)/3.0\n",
        "    c2 = 1.*( float(it) % 9.)/9.0\n",
        "    c3 = 1.*( float(it) % 27.)/27.0\n",
        "    probs,accept,rej = runSciKitRegressionL1(8,alpha)\n",
        "    ax.scatter(accept,rej,c=[[c1,c2,c3]],label='Alpha: %.1E' %alpha)\n",
        "    it+=1\n",
        "\n",
        "ax.set_xlabel('signal efficiency')\n",
        "ax.set_ylabel('background rejection')\n",
        "plt.legend(loc='lower left', fontsize = 'small');\n",
        "plt.show()"
      ],
      "execution_count": 0,
      "outputs": [
        {
          "output_type": "stream",
          "text": [
            "Accuracy on test data with alpha 1.00E-10 : 0.699\n",
            "Accuracy on test data with alpha 1.26E-09 : 0.692\n",
            "Accuracy on test data with alpha 1.58E-08 : 0.713\n",
            "Accuracy on test data with alpha 2.00E-07 : 0.756\n",
            "Accuracy on test data with alpha 2.51E-06 : 0.722\n",
            "Accuracy on test data with alpha 3.16E-05 : 0.768\n",
            "Accuracy on test data with alpha 3.98E-04 : 0.769\n",
            "Accuracy on test data with alpha 5.01E-03 : 0.768\n",
            "Accuracy on test data with alpha 6.31E-02 : 0.749\n",
            "Accuracy on test data with alpha 7.94E-01 : 0.542\n",
            "Accuracy on test data with alpha 1.00E+01 : 0.542\n"
          ],
          "name": "stdout"
        },
        {
          "output_type": "display_data",
          "data": {
            "image/png": "[encoded data removed]",
            "text/plain": [
              "<Figure size 432x288 with 1 Axes>"
            ]
          },
          "metadata": {
            "tags": []
          }
        }
      ]
    },
    {
      "cell_type": "markdown",
      "metadata": {
        "id": "SR22_b903uNT",
        "colab_type": "text"
      },
      "source": [
        "**Osservazioni:**\n",
        "\n",
        "abbiamo ottenuto un accuracy del 77% che è già piuttosto buona per un'analisi di questo tipo. Tramite la curva pseudo-ROC il fisico delle particelle può decidere il punto ottimale di lavoro per la data analisi (i.e. la condizione efficienza segnale vs reieizione fondo che ottimizza per esempio la sensibilità di scoperta).\n",
        "\n",
        "Notiamo anche che i risultati sono sensibili al peso della regolarizzazione $\\alpha$. In particolare i risultati delle punti della curva a peggiori prestazioni (verde scuro) indicano che in questi casi il modello non è in grado di distinguere tra le due classi. \n",
        "\n",
        "Ci aspettiamo che questo succeda per valori di $\\alpha$ più grandi, perchè la regolarizzazione L1 effttivamente tende a \"spegnere\" la maggior parte delle osservabili (costringe i pesi ad essere vicini a zero), di conseguenza la classificazione risulta in effetti nel tracciare una superficie nella distribuzione di pochissime (probabilmente una sola) fetaure in input, classificando gli eventi di segnale quelli da una pate della superficie e di fondo quelli dall'altra.\n",
        "\n",
        "Per verificarlo plottiamo la probabilità di segnale e fondo ricostruite dal modello per il caso di $\\alpha$ ottimale ($\\alpha = 3.98E-04$) e per il caso peggiore ($\\alpha = 0.79$):"
      ]
    },
    {
      "cell_type": "code",
      "metadata": {
        "id": "4zGk_J2A3uNT",
        "colab_type": "code",
        "outputId": "f5128bd3-65b5-437b-cbd0-8ba65f1ecd2e",
        "colab": {
          "base_uri": "https://localhost:8080/",
          "height": 547
        }
      },
      "source": [
        "# grafico delle probabilità delle due classi:\n",
        "probsSimple,accep,rej = runSciKitRegressionL1(8,3.98e-4)\n",
        "Signal = df_test.iloc[:,0:1]\n",
        "\n",
        "df_test_acc = pd.DataFrame({'PROB':probsSimple[:,1]})\n",
        "df_test_acc['SIG']=Signal\n",
        "df_test_acc_sig = df_test_acc.query('SIG==1')\n",
        "df_test_acc_bkg = df_test_acc.query('SIG==0')\n",
        "df_test_acc_sig.plot(kind='hist',y='PROB',color='blue',alpha=0.5,bins=np.linspace(0,1,10),label='Signal')\n",
        "df_test_acc_bkg.plot(kind='hist',y='PROB',color='red',label='Background')"
      ],
      "execution_count": 0,
      "outputs": [
        {
          "output_type": "stream",
          "text": [
            "Accuracy on test data with alpha 3.98E-04 : 0.769\n"
          ],
          "name": "stdout"
        },
        {
          "output_type": "execute_result",
          "data": {
            "text/plain": [
              "<matplotlib.axes._subplots.AxesSubplot at 0x7f2614c80ac8>"
            ]
          },
          "metadata": {
            "tags": []
          },
          "execution_count": 6
        },
        {
          "output_type": "display_data",
          "data": {
            "image/png": "[encoded data removed]",
            "text/plain": [
              "<Figure size 432x288 with 1 Axes>"
            ]
          },
          "metadata": {
            "tags": []
          }
        },
        {
          "output_type": "display_data",
          "data": {
            "image/png": "[encoded data removed]",
            "text/plain": [
              "<Figure size 432x288 with 1 Axes>"
            ]
          },
          "metadata": {
            "tags": []
          }
        }
      ]
    },
    {
      "cell_type": "code",
      "metadata": {
        "id": "cYtOq0sq3uNW",
        "colab_type": "code",
        "outputId": "8c1dd204-1e92-4e3a-ebc0-437b3269769e",
        "colab": {
          "base_uri": "https://localhost:8080/",
          "height": 547
        }
      },
      "source": [
        "# grafico delle probabilità delle due classi:\n",
        "probsSimple,accep,rej = runSciKitRegressionL1(8,0.79)\n",
        "Signal = df_test.iloc[:,0:1]\n",
        "\n",
        "df_test_acc = pd.DataFrame({'PROB':probsSimple[:,1]})\n",
        "df_test_acc['SIG']=Signal\n",
        "df_test_acc_sig = df_test_acc.query('SIG==1')\n",
        "df_test_acc_bkg = df_test_acc.query('SIG==0')\n",
        "df_test_acc_sig.plot(kind='hist',y='PROB',color='blue',alpha=0.5,bins=np.linspace(0,1,10),label='Signal')\n",
        "df_test_acc_bkg.plot(kind='hist',y='PROB',color='red',label='Background')"
      ],
      "execution_count": 0,
      "outputs": [
        {
          "output_type": "stream",
          "text": [
            "Accuracy on test data with alpha 7.90E-01 : 0.542\n"
          ],
          "name": "stdout"
        },
        {
          "output_type": "execute_result",
          "data": {
            "text/plain": [
              "<matplotlib.axes._subplots.AxesSubplot at 0x7f2614b82c50>"
            ]
          },
          "metadata": {
            "tags": []
          },
          "execution_count": 7
        },
        {
          "output_type": "display_data",
          "data": {
            "image/png": "[encoded data removed]",
            "text/plain": [
              "<Figure size 432x288 with 1 Axes>"
            ]
          },
          "metadata": {
            "tags": []
          }
        },
        {
          "output_type": "display_data",
          "data": {
            "image/png": "[encoded data removed]",
            "text/plain": [
              "<Figure size 432x288 with 1 Axes>"
            ]
          },
          "metadata": {
            "tags": []
          }
        }
      ]
    },
    {
      "cell_type": "markdown",
      "metadata": {
        "id": "mVPAocz43uNZ",
        "colab_type": "text"
      },
      "source": [
        "### Ottimizziamo ora usando tutte e 18 le osservabili ... ###"
      ]
    },
    {
      "cell_type": "code",
      "metadata": {
        "id": "T74eR5Vp3uNa",
        "colab_type": "code",
        "outputId": "ff572779-33a4-4f65-9356-9857b7ccecaf",
        "colab": {
          "base_uri": "https://localhost:8080/",
          "height": 466
        }
      },
      "source": [
        "plt.close()\n",
        "alphas = np.logspace(-10,1,11)\n",
        "fig = plt.figure()\n",
        "ax = fig.add_subplot(111)\n",
        "it=0\n",
        "for alpha in alphas:\n",
        "    c1 = 1.*( float(it) % 3.)/3.0\n",
        "    c2 = 1.*( float(it) % 9.)/9.0\n",
        "    c3 = 1.*( float(it) % 27.)/27.0\n",
        "    probs,accept,rej = runSciKitRegressionL1(18,alpha)\n",
        "    ax.scatter(accept,rej,c=[[c1,c2,c3]],label='Alpha: %.1E' %alpha)\n",
        "    it+=1\n",
        "\n",
        "ax.set_xlabel('signal efficiency')\n",
        "ax.set_ylabel('background rejection')\n",
        "plt.legend(loc='lower left', fontsize = 'small');\n",
        "plt.show()"
      ],
      "execution_count": 0,
      "outputs": [
        {
          "output_type": "stream",
          "text": [
            "Accuracy on test data with alpha 1.00E-10 : 0.632\n",
            "Accuracy on test data with alpha 1.26E-09 : 0.617\n",
            "Accuracy on test data with alpha 1.58E-08 : 0.675\n",
            "Accuracy on test data with alpha 2.00E-07 : 0.751\n",
            "Accuracy on test data with alpha 2.51E-06 : 0.754\n",
            "Accuracy on test data with alpha 3.16E-05 : 0.789\n",
            "Accuracy on test data with alpha 3.98E-04 : 0.789\n",
            "Accuracy on test data with alpha 5.01E-03 : 0.785\n",
            "Accuracy on test data with alpha 6.31E-02 : 0.749\n",
            "Accuracy on test data with alpha 7.94E-01 : 0.542\n",
            "Accuracy on test data with alpha 1.00E+01 : 0.458\n"
          ],
          "name": "stdout"
        },
        {
          "output_type": "display_data",
          "data": {
            "image/png": "[encoded data removed]",
            "text/plain": [
              "<Figure size 432x288 with 1 Axes>"
            ]
          },
          "metadata": {
            "tags": []
          }
        }
      ]
    },
    {
      "cell_type": "code",
      "metadata": {
        "id": "_ePQ_eDW3uNd",
        "colab_type": "code",
        "outputId": "e71cee09-6528-4c22-951c-ff1c0514eb6c",
        "colab": {
          "base_uri": "https://localhost:8080/",
          "height": 548
        }
      },
      "source": [
        "# grafico delle probabilità delle due classi:\n",
        "probsSimple,accep,rej = runSciKitRegressionL1(18,3.98e-4)\n",
        "Signal = df_test.iloc[:,0:1]\n",
        "\n",
        "df_test_acc = pd.DataFrame({'PROB':probsSimple[:,1]})\n",
        "df_test_acc['SIG']=Signal\n",
        "df_test_acc_sig = df_test_acc.query('SIG==1')\n",
        "df_test_acc_bkg = df_test_acc.query('SIG==0')\n",
        "df_test_acc_sig.plot(kind='hist',y='PROB',color='blue',alpha=0.5,bins=np.linspace(0,1,10),label='Signal')\n",
        "df_test_acc_bkg.plot(kind='hist',y='PROB',color='red',label='Background')"
      ],
      "execution_count": 0,
      "outputs": [
        {
          "output_type": "stream",
          "text": [
            "Accuracy on test data with alpha 3.98E-04 : 0.787\n"
          ],
          "name": "stdout"
        },
        {
          "output_type": "execute_result",
          "data": {
            "text/plain": [
              "<matplotlib.axes._subplots.AxesSubplot at 0x7f2614944ac8>"
            ]
          },
          "metadata": {
            "tags": []
          },
          "execution_count": 9
        },
        {
          "output_type": "display_data",
          "data": {
            "image/png": "[encoded data removed]",
            "text/plain": [
              "<Figure size 432x288 with 1 Axes>"
            ]
          },
          "metadata": {
            "tags": []
          }
        },
        {
          "output_type": "display_data",
          "data": {
            "image/png": "[encoded data removed]",
            "text/plain": [
              "<Figure size 432x288 with 1 Axes>"
            ]
          },
          "metadata": {
            "tags": []
          }
        }
      ]
    },
    {
      "cell_type": "markdown",
      "metadata": {
        "id": "jkRFfsJg3uNf",
        "colab_type": "text"
      },
      "source": [
        "abbiamo migliorato l'accuracy che ora è del 79% e, come atteso dall'usare più features, è diminuita la dipedenza dalla regolarizzazione..."
      ]
    },
    {
      "cell_type": "markdown",
      "metadata": {
        "id": "DaujtzGE3uNg",
        "colab_type": "text"
      },
      "source": [
        "<b> Esercizi:</b>\n",
        "\n",
        "* provare ad usare la regolarizzazione L2, i risultati migliorano?\n",
        "\n",
        "* provare a addestrare il modello dopo aver normalizzato i dati in input in modo che abbiano simile dinamica, i risultati cambiano? \n",
        "\n",
        "* provare ad usare dei tagli rettangolari sulle osservabili migliori, calcolate le prestaizoni in termini di efficienza e reiezione e confrontate con la ROC curva ottenuta con la regressione logistica ... \n",
        "\n",
        "* provate a pensare se sia possibile selezionare una regione del campione dei dati di training che permetta di migliorare le prestazioni (suggerimento: pensare a dove il guadagano dall'uso del ML ha più valore rispetto ad una analisi tradizionale cut-based)."
      ]
    }
  ]
}