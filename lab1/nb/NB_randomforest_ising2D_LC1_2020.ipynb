{
  "nbformat": 4,
  "nbformat_minor": 0,
  "metadata": {
    "anaconda-cloud": {},
    "kernelspec": {
      "display_name": "Python 3",
      "language": "python",
      "name": "python3"
    },
    "language_info": {
      "codemirror_mode": {
        "name": "ipython",
        "version": 3
      },
      "file_extension": ".py",
      "mimetype": "text/x-python",
      "name": "python",
      "nbconvert_exporter": "python",
      "pygments_lexer": "ipython3",
      "version": "3.6.1"
    },
    "colab": {
      "name": "NB_randomforest_ising2D_LC1_2020.ipynb",
      "provenance": []
    }
  },
  "cells": [
    {
      "cell_type": "markdown",
      "metadata": {
        "id": "aBljQkfICznP",
        "colab_type": "text"
      },
      "source": [
        "<a href=\"https://colab.research.google.com/github/raeubaen/giagu/blob/master/NB_randomforest_ising2D_LC1_2020.ipynb\" target=\"_parent\"><img src=\"https://colab.research.google.com/assets/colab-badge.svg\" alt=\"Open In Colab\"/></a>"
      ]
    },
    {
      "cell_type": "markdown",
      "metadata": {
        "id": "83_hDEaJCznS",
        "colab_type": "text"
      },
      "source": [
        "# Classificazione stato di un modello di Ising 2D con Random Forests"
      ]
    },
    {
      "cell_type": "code",
      "metadata": {
        "id": "94JHPP24CznV",
        "colab_type": "code",
        "colab": {
          "base_uri": "https://localhost:8080/",
          "height": 124
        },
        "outputId": "9b6e9a47-5fff-4b0b-e321-5d262542d231"
      },
      "source": [
        "from google.colab import drive\n",
        "drive.mount('/content/drive')"
      ],
      "execution_count": 1,
      "outputs": [
        {
          "output_type": "stream",
          "text": [
            "Go to this URL in a browser: https://accounts.google.com/o/oauth2/auth?client_id=947318989803-6bn6qk8qdgf4n4g3pfee6491hc0brc4i.apps.googleusercontent.com&redirect_uri=urn%3aietf%3awg%3aoauth%3a2.0%3aoob&response_type=code&scope=email%20https%3a%2f%2fwww.googleapis.com%2fauth%2fdocs.test%20https%3a%2f%2fwww.googleapis.com%2fauth%2fdrive%20https%3a%2f%2fwww.googleapis.com%2fauth%2fdrive.photos.readonly%20https%3a%2f%2fwww.googleapis.com%2fauth%2fpeopleapi.readonly\n",
            "\n",
            "Enter your authorization code:\n",
            "··········\n",
            "Mounted at /content/drive\n"
          ],
          "name": "stdout"
        }
      ]
    },
    {
      "cell_type": "markdown",
      "metadata": {
        "id": "JPPv2CeoCznl",
        "colab_type": "text"
      },
      "source": [
        "### Informazioni ###\n",
        "\n",
        "scopo: imparare ad usare ensamble di modelli deboli tipo foreste random di alberi a decisione binaria \n",
        "applicazione: classificazione dello fase in cui si trovano configurazioni di un modello di Ising 2D <br>\n",
        "ML tool: scikit-learn\n",
        "\n",
        "\n",
        "### Modello di Ising 2D ###\n",
        "\n",
        "dettagli (definizione teorica e simulazione) nella [nota](https://vixra.org/pdf/1710.0021v2.pdf).\n",
        "\n",
        "È definito su un reticolo bidimensionale dall'Hamiltoniana \n",
        "\n",
        "$$ H = -J\\sum_{\\langle ij\\rangle}S_{i}S_j,\\qquad \\qquad S_j\\in\\{\\pm 1\\} $$\n",
        "\n",
        "in cui gli indici del reticolo $i,j$ sono associati ai primi vicini di un reticolo 2D quadrato di lato $L$, e $J$ è un parametro di scala arbitrario che definisce la scala dell'energia di interazione tra gli spin $S_i$.\n",
        "Si utilizzano condizioni periodiche al contorno sul reticolo.\n",
        "\n",
        "Si dimostra che questo sistema presenta una transizione di fase nel limite termodinamico da un sistea ordinato con tutti gli spin allineati (ferromagnete ordinato) a una fase disordinata con spin random, alla temperatura critica $T_c/J=1/\\log(1+\\sqrt{2})\\approx 2.26$. \n",
        "\n",
        "\n",
        "**Dataset:**\n",
        "\n",
        "100k configurazioni con $T/J$ uniforme in $[0,5]$ di un modello ising 2D su un reticolo $28\\times 28$ simulato tramite un semplice Monte Carlo tipo Metropolis. \n",
        "\n",
        "Il campione è disponibile qui:\n",
        "\n",
        "* [configurazioni](https://www.dropbox.com/s/ma1n1r2uejb9iei/ising_conf.dat?dl=0)\n",
        "* [label](https://www.dropbox.com/s/dj1urxh8tsadoh5/ising_label.dat?dl=0)\n",
        "\n",
        "NOTA: le configurazioni sono 28x28 valori dello spin, le label sono la temperatura associata ad ogni configurazione.\n",
        "\n",
        "Poiché è noto che vicino alla temepratura critica $T_c$, la lunghezza delle correlazioni ferromagnetiche diverge, rendendo difficile identificare la fase, dvideremo il campione in tre sotto-campioni:\n",
        "\n",
        "* ordinato: $T/J<2.0$\n",
        "* critico: $2.0\\leq T/J\\leq 2.5$\n",
        "* disordinato: $T/J>2.5$\n",
        "\n",
        "e addestreremo il modello usando solo le configurazioni ordinate e disordinate. Poi testeremo il tutto su tutte le configurazioni."
      ]
    },
    {
      "cell_type": "markdown",
      "metadata": {
        "id": "UiYnmdh4Cznn",
        "colab_type": "text"
      },
      "source": [
        "### Parte 1: load e pre-processamento del dataset ###"
      ]
    },
    {
      "cell_type": "code",
      "metadata": {
        "id": "2FjkVGl7Cznp",
        "colab_type": "code",
        "colab": {}
      },
      "source": [
        "import numpy as np\n",
        "\n",
        "np.random.seed() # shuffle random seed generator\n",
        "\n",
        "# Ising model parameters\n",
        "L = 28 # size del reticolo\n",
        "J = 1.0 # Ising interaction (1 ferromagnetico, -1 anti-ferromagnetico)\n",
        "T_c = 2.26 # Temperatura critica"
      ],
      "execution_count": 0,
      "outputs": []
    },
    {
      "cell_type": "code",
      "metadata": {
        "id": "FTiJo_rTCzny",
        "colab_type": "code",
        "colab": {
          "base_uri": "https://localhost:8080/",
          "height": 34
        },
        "outputId": "c9903dfd-9511-48f5-9bcc-f379153f9765"
      },
      "source": [
        "#leggiamo le configurazioni ising dal file usando numpy (100k esempi oguno da 28x28 spin)\n",
        "data = np.loadtxt('/content/drive/My Drive/Colab Notebooks/dataset/ising_conf.dat')\n",
        "print(data.shape)"
      ],
      "execution_count": 3,
      "outputs": [
        {
          "output_type": "stream",
          "text": [
            "(2800000, 28)\n"
          ],
          "name": "stdout"
        }
      ]
    },
    {
      "cell_type": "markdown",
      "metadata": {
        "id": "FgRsOy8TCzn7",
        "colab_type": "text"
      },
      "source": [
        "NOTA: gli esempi sono scritti nel file come righe sequenziali da 28 valori l'una -> 100k x 28 = 2800000 "
      ]
    },
    {
      "cell_type": "code",
      "metadata": {
        "id": "fKZngT_1Czn9",
        "colab_type": "code",
        "colab": {
          "base_uri": "https://localhost:8080/",
          "height": 34
        },
        "outputId": "3139dd5c-d2f4-41ba-807e-212dff23097b"
      },
      "source": [
        "# al fine di visualizzare alcune delle configurazioni convertiamo il vettore numpy \n",
        "# in un tensore di 100K eventi ognuno \n",
        "# formato da una matrice 28x28 di spin\n",
        "data = data.reshape(100000,28,28)\n",
        "print(f\"Data shape: {data.shape}\")\n",
        "conf_num = data.shape[0]"
      ],
      "execution_count": 8,
      "outputs": [
        {
          "output_type": "stream",
          "text": [
            "Data shape: (100000, 28, 28)\n"
          ],
          "name": "stdout"
        }
      ]
    },
    {
      "cell_type": "code",
      "metadata": {
        "id": "uyEoWWFkCzoF",
        "colab_type": "code",
        "colab": {
          "base_uri": "https://localhost:8080/",
          "height": 555
        },
        "outputId": "23f7b3b4-875a-4bfd-e219-bc2003c9fc0d"
      },
      "source": [
        "#esempio\n",
        "import pandas as pd\n",
        "rnd = np.random.randint(0, conf_num)\n",
        "#stampa un evento come una matrice 28x28 di valori dello spin (-1,1)\n",
        "print(pd.DataFrame(data[rnd]))"
      ],
      "execution_count": 11,
      "outputs": [
        {
          "output_type": "stream",
          "text": [
            "     0    1    2    3    4    5    6   ...   21   22   23   24   25   26   27\n",
            "0   1.0  1.0  1.0  1.0 -1.0  1.0 -1.0  ...  1.0 -1.0  1.0 -1.0  1.0  1.0  1.0\n",
            "1   1.0  1.0 -1.0  1.0 -1.0  1.0 -1.0  ... -1.0  1.0  1.0  1.0  1.0  1.0  1.0\n",
            "2   1.0  1.0  1.0  1.0 -1.0  1.0  1.0  ...  1.0 -1.0  1.0  1.0  1.0  1.0  1.0\n",
            "3   1.0  1.0  1.0  1.0 -1.0 -1.0  1.0  ...  1.0 -1.0 -1.0  1.0  1.0  1.0  1.0\n",
            "4   1.0  1.0  1.0 -1.0 -1.0 -1.0 -1.0  ...  1.0  1.0 -1.0  1.0  1.0  1.0  1.0\n",
            "5   1.0  1.0  1.0  1.0  1.0 -1.0 -1.0  ... -1.0 -1.0 -1.0  1.0  1.0  1.0  1.0\n",
            "6   1.0  1.0  1.0  1.0 -1.0 -1.0 -1.0  ...  1.0  1.0 -1.0 -1.0  1.0  1.0  1.0\n",
            "7   1.0 -1.0 -1.0 -1.0  1.0 -1.0 -1.0  ...  1.0  1.0  1.0  1.0  1.0  1.0  1.0\n",
            "8  -1.0 -1.0 -1.0  1.0 -1.0 -1.0  1.0  ...  1.0 -1.0  1.0  1.0  1.0  1.0  1.0\n",
            "9   1.0 -1.0 -1.0  1.0  1.0 -1.0  1.0  ...  1.0  1.0  1.0  1.0  1.0  1.0  1.0\n",
            "10  1.0 -1.0 -1.0 -1.0 -1.0 -1.0  1.0  ...  1.0  1.0  1.0  1.0  1.0  1.0  1.0\n",
            "11  1.0  1.0  1.0 -1.0 -1.0 -1.0  1.0  ...  1.0  1.0  1.0  1.0  1.0  1.0 -1.0\n",
            "12  1.0  1.0 -1.0 -1.0 -1.0 -1.0 -1.0  ...  1.0  1.0  1.0  1.0  1.0  1.0  1.0\n",
            "13  1.0  1.0 -1.0  1.0  1.0 -1.0 -1.0  ...  1.0  1.0  1.0  1.0  1.0  1.0  1.0\n",
            "14  1.0 -1.0 -1.0 -1.0 -1.0 -1.0 -1.0  ...  1.0  1.0  1.0  1.0  1.0  1.0  1.0\n",
            "15  1.0  1.0 -1.0 -1.0 -1.0  1.0 -1.0  ...  1.0  1.0  1.0  1.0  1.0  1.0  1.0\n",
            "16 -1.0 -1.0 -1.0 -1.0  1.0  1.0 -1.0  ...  1.0  1.0  1.0  1.0  1.0  1.0  1.0\n",
            "17  1.0 -1.0 -1.0  1.0  1.0  1.0  1.0  ...  1.0 -1.0  1.0  1.0  1.0  1.0  1.0\n",
            "18  1.0 -1.0 -1.0 -1.0  1.0  1.0  1.0  ...  1.0 -1.0  1.0 -1.0  1.0  1.0 -1.0\n",
            "19 -1.0 -1.0 -1.0 -1.0 -1.0 -1.0  1.0  ... -1.0 -1.0 -1.0 -1.0 -1.0  1.0 -1.0\n",
            "20 -1.0  1.0 -1.0 -1.0 -1.0 -1.0 -1.0  ... -1.0 -1.0 -1.0 -1.0  1.0  1.0 -1.0\n",
            "21 -1.0  1.0  1.0 -1.0  1.0 -1.0 -1.0  ... -1.0 -1.0 -1.0 -1.0  1.0  1.0 -1.0\n",
            "22 -1.0 -1.0 -1.0  1.0  1.0 -1.0  1.0  ...  1.0 -1.0 -1.0 -1.0  1.0  1.0 -1.0\n",
            "23 -1.0 -1.0 -1.0  1.0  1.0  1.0  1.0  ... -1.0 -1.0 -1.0  1.0  1.0  1.0 -1.0\n",
            "24  1.0  1.0 -1.0  1.0  1.0  1.0  1.0  ...  1.0  1.0  1.0 -1.0  1.0  1.0 -1.0\n",
            "25  1.0  1.0 -1.0  1.0  1.0  1.0  1.0  ...  1.0  1.0  1.0 -1.0 -1.0 -1.0  1.0\n",
            "26 -1.0  1.0  1.0  1.0  1.0  1.0  1.0  ...  1.0  1.0  1.0 -1.0 -1.0 -1.0  1.0\n",
            "27  1.0 -1.0  1.0  1.0  1.0  1.0  1.0  ...  1.0  1.0  1.0 -1.0 -1.0  1.0  1.0\n",
            "\n",
            "[28 rows x 28 columns]\n"
          ],
          "name": "stdout"
        }
      ]
    },
    {
      "cell_type": "code",
      "metadata": {
        "id": "xzHRtDl2FfIQ",
        "colab_type": "code",
        "colab": {
          "base_uri": "https://localhost:8080/",
          "height": 208
        },
        "outputId": "7ae2f4d4-fe64-4546-ae23-c6f7db40efd1"
      },
      "source": [
        "# plotta come un immagine la matrice precedente e quella successiva nell'array\n",
        "%matplotlib inline \n",
        "import matplotlib as mpl\n",
        "import matplotlib.pyplot as plt\n",
        "\n",
        "def plot_conf(axarr, data_list, titles_list):\n",
        "  cmap_args=dict(cmap='binary')\n",
        "  for i in range(len(data_list)):\n",
        "    axarr[i].imshow(data_list[i], **cmap_args)\n",
        "    axarr[i].set_title(titles_list[i], fontsize=16)\n",
        "    axarr[i].tick_params(labelsize=16)\n",
        "\n",
        "# plot states\n",
        "fig, axarr = plt.subplots(nrows=1, ncols=2)\n",
        "plot_conf(axarr, [data[rnd], data[rnd+1]], [\"\", \"\"])\n",
        "plt.show()\n"
      ],
      "execution_count": 33,
      "outputs": [
        {
          "output_type": "display_data",
          "data": {
            "image/png": "[encoded data removed]",
            "text/plain": [
              "<Figure size 432x288 with 2 Axes>"
            ]
          },
          "metadata": {
            "tags": [],
            "needs_background": "light"
          }
        }
      ]
    },
    {
      "cell_type": "code",
      "metadata": {
        "id": "bw1HLTIXCzoO",
        "colab_type": "code",
        "colab": {
          "base_uri": "https://localhost:8080/",
          "height": 52
        },
        "outputId": "a4ab990b-4121-4164-989f-e76b63b74da7"
      },
      "source": [
        "#leggiamo da file le label associate:\n",
        "labels = np.loadtxt('/content/drive/My Drive/Colab Notebooks/dataset/ising_label.dat')\n",
        "print(labels.shape)\n",
        "print(f\"T/J: {labels[rnd]}\") #T/J della configurazione dell'evento mostrato prima"
      ],
      "execution_count": 19,
      "outputs": [
        {
          "output_type": "stream",
          "text": [
            "(100000,)\n",
            "T/J: 2.4916\n"
          ],
          "name": "stdout"
        }
      ]
    },
    {
      "cell_type": "code",
      "metadata": {
        "id": "ji8RmAwhCzoU",
        "colab_type": "code",
        "colab": {
          "base_uri": "https://localhost:8080/",
          "height": 121
        },
        "outputId": "41392582-1cfc-4ad3-9841-7a9add0d5880"
      },
      "source": [
        "# dividiamo il campione in 3 campioni sulla base dello stato (ordinato, critico, disordinato)\n",
        "# T/J < 2.0 ordinato\n",
        "# T/J > 2.5 disordinato\n",
        "# altrimenti critico\n",
        "\n",
        "ord_sele = (labels < 2.0)\n",
        "dis_sele = (labels > 2.5)\n",
        "cri_sele = ((labels >= 2.0) & (labels <= 2.5))\n",
        "    \n",
        "data_ord, n_ord = data[ord_sele], np.sum(ord_sele)\n",
        "data_dis, n_dis = data[dis_sele], np.sum(dis_sele)\n",
        "data_cri, n_cri = data[cri_sele], np.sum(cri_sele)\n",
        "\n",
        "print(f\"Number of ordered configurations:\\t{n_ord}\") \n",
        "print(f\"Number of disordered configurations:\\t{n_dis}\") \n",
        "print(f\"Number of critical configurations:\\t{n_cri}\") \n",
        "\n",
        "labels_ord = np.zeros(data_ord.shape[0])\n",
        "labels_dis = np.ones(data_dis.shape[0])\n",
        "labels_critic = labels[cri_sele]\n",
        "\n",
        "labels_cri = labels_critic.copy()\n",
        "labels_cri[labels_critic>T_c] = 1\n",
        "labels_cri[labels_critic<=T_c] = 0\n",
        "\n",
        "print(f\"Ordered Conf. labels:\\t\\t\\t{labels_ord}\")\n",
        "print(f\"Disordered Conf. labels:\\t\\t{labels_dis}\")\n",
        "print(f\"Critical Conf. labels:\\t\\t\\t{labels_cri}\")"
      ],
      "execution_count": 26,
      "outputs": [
        {
          "output_type": "stream",
          "text": [
            "Number of ordered configurations:\t40177\n",
            "Number of disordered configurations:\t50015\n",
            "Number of critical configurations:\t9808\n",
            "Ordered Conf. labels:\t\t\t[0. 0. 0. ... 0. 0. 0.]\n",
            "Disordered Conf. labels:\t\t[1. 1. 1. ... 1. 1. 1.]\n",
            "Critical Conf. labels:\t\t\t[1. 0. 0. ... 1. 0. 1.]\n"
          ],
          "name": "stdout"
        }
      ]
    },
    {
      "cell_type": "code",
      "metadata": {
        "id": "iydS6dzgCzoc",
        "colab_type": "code",
        "colab": {
          "base_uri": "https://localhost:8080/",
          "height": 288
        },
        "outputId": "e1795f2a-cf14-490c-cf2c-1d57bce2d5bc"
      },
      "source": [
        "#una rappresentazione grafica più bella\n",
        "from mpl_toolkits.axes_grid1 import make_axes_locatable\n",
        "\n",
        "# plot states\n",
        "fig, axarr = plt.subplots(nrows=1, ncols=3)\n",
        "\n",
        "plot_conf(\n",
        "    axarr, \n",
        "    [data_ord[4], data_cri[4], data_dis[4]], \n",
        "    ['ordered phase', 'critical region', 'disordered phase'],\n",
        ")\n",
        "\n",
        "fig.subplots_adjust(right=2.0)\n",
        "plt.show()"
      ],
      "execution_count": 35,
      "outputs": [
        {
          "output_type": "display_data",
          "data": {
            "image/png": "[encoded data removed]",
            "text/plain": [
              "<Figure size 432x288 with 3 Axes>"
            ]
          },
          "metadata": {
            "tags": [],
            "needs_background": "light"
          }
        }
      ]
    },
    {
      "cell_type": "code",
      "metadata": {
        "id": "whVAuz5BCzoj",
        "colab_type": "code",
        "colab": {
          "base_uri": "https://localhost:8080/",
          "height": 121
        },
        "outputId": "45f46844-a95d-48a8-ae19-905a43b6ea3c"
      },
      "source": [
        "##Dividiamo il campione per il training\n",
        "from sklearn.model_selection import train_test_split\n",
        "\n",
        "train_to_test_ratio = 0.8 # training samples\n",
        "\n",
        "# define training and test data sets\n",
        "X = np.concatenate((data_ord,data_dis))\n",
        "Y = np.concatenate((labels_ord,labels_dis))\n",
        "\n",
        "# selezioniamo random data points dai campioni ordinati e disordinati per cerare training e test\n",
        "X_train, X_test, Y_train, Y_test = train_test_split(\n",
        "    X, Y, \n",
        "    train_size=train_to_test_ratio,\n",
        "    test_size=1.0 - train_to_test_ratio\n",
        ")\n",
        "\n",
        "X_critical = data_cri\n",
        "Y_critical = labels_cri\n",
        "\n",
        "print('X_train shape:', X_train.shape)\n",
        "print(f'Y_train shape: {Y_train.shape}\\n')\n",
        "print(X_train.shape[0], 'train samples')\n",
        "print(X_critical.shape[0], 'critical samples')\n",
        "print(X_test.shape[0], 'test samples')\n",
        "\n",
        "# riformattiamo i tensori in modo che abbiano l'input corretto atteso dagli alberi a decisione binaria \n",
        "# (vettori flat di features)   (N,28,28) -> (N, 28*28 = 784)\n",
        "\n",
        "X_train = np.reshape(X_train, (X_train.shape[0], 28*28))\n",
        "X_test = np.reshape(X_test, (X_test.shape[0], 28*28))\n",
        "X_critical = np.reshape(X_critical, (X_critical.shape[0], 28*28))"
      ],
      "execution_count": 36,
      "outputs": [
        {
          "output_type": "stream",
          "text": [
            "X_train shape: (72153, 28, 28)\n",
            "Y_train shape: (72153,)\n",
            "\n",
            "72153 train samples\n",
            "9808 critical samples\n",
            "18039 test samples\n"
          ],
          "name": "stdout"
        }
      ]
    },
    {
      "cell_type": "markdown",
      "metadata": {
        "id": "CSuezzIsCzoq",
        "colab_type": "text"
      },
      "source": [
        "### Parte 2: addestramento della Random Forests\n",
        "\n",
        "**Iperparametri**\n",
        "\n",
        "Usiamo l'implementazione in [scikit-learn](https://scikit-learn.org/stable/modules/generated/sklearn.ensemble.RandomForestClassifier.html) che ha due iperparamteri principali che possono modificare anche sensibimente le prestazioni del modello e il livelo di overfit/underfit: il numero di alberi nella foresta e la complessità di ciascun albero: il primo è controllato dal parametro `n_estimators`, mentre la complesiità è controllata da vari parametri `min_samples_split`, `min_samples_leaf`, `min_impurity_decrease`, etc, in parte correlati tra loro. Nell'esempio in esame per semplicità useremo solo `min_samples_split` (governa il numero di campioni necessari per procedere ad uno split di un nodo: più alto è il numero minore sarà la segmentazione e le diramazioni dell'albero.\n",
        "\n",
        "**NOTA: Stime OOB (Out of Bag)**\n",
        "\n",
        "È un metodo molto utile per ottimizzare gli iperparametri quando si usano metodi di bagging: consiste nel verificare quanto bene funziona il classificatore su quegli eventi del training set che non sono stati usati nel training (perchè non campionati nella technica di boostrap). Gioca un ruolo simile alla k-fold cross-validation."
      ]
    },
    {
      "cell_type": "code",
      "metadata": {
        "id": "TUQj_nyRCzos",
        "colab_type": "code",
        "colab": {
          "base_uri": "https://localhost:8080/",
          "height": 1000
        },
        "outputId": "54bd5db9-315e-4846-9f98-b20d05b9d405"
      },
      "source": [
        "# Scikit-learn Random Forest\n",
        "from sklearn.ensemble import RandomForestClassifier\n",
        "import time\n",
        "import warnings\n",
        "#disabilitiamo messaggi di warning \n",
        "warnings.filterwarnings(\"ignore\")\n",
        "\n",
        "#Valore del numero di alberi \n",
        "min_estimators = 10\n",
        "max_estimators = 101\n",
        "classifer = RandomForestClassifier\n",
        "\n",
        "#testiamo 10 valori per il primo iperparametro\n",
        "n_estimator_range = np.arange(min_estimators, max_estimators, 10) \n",
        "\n",
        "#testiamo due valori per il seocondo iperparametro \n",
        "# (alta segmentazione e bassa segmentazione)\n",
        "leaf_size_list = [2, 10000] \n",
        "\n",
        "m = len(n_estimator_range)\n",
        "n = len(leaf_size_list)\n",
        "\n",
        "#Allocate Arrays for various quantities\n",
        "RFC_OOB_accuracy = np.zeros((n, m))\n",
        "RFC_train_accuracy = np.zeros((n, m))\n",
        "RFC_test_accuracy = np.zeros((n, m))\n",
        "RFC_critical_accuracy = np.zeros((n, m))\n",
        "run_time = np.zeros((n, m))\n",
        "\n",
        "print_flag = True\n",
        "\n",
        "for i, leaf_size in enumerate(leaf_size_list):\n",
        "    # Define Random Forest Classifier\n",
        "    myRF_clf = classifer(\n",
        "        n_estimators=min_estimators,\n",
        "        max_depth=None, \n",
        "        min_samples_split=leaf_size, # minimum number of sample per leaf\n",
        "        oob_score=True,\n",
        "        random_state=0,\n",
        "        warm_start=True \n",
        "        # When set to True, reuses the solution of the previous call to fit and \n",
        "        # adds more estimators to the ensemble, otherwise, just fits a whole new forest.\n",
        "    )\n",
        "\n",
        "    for j, n_estimator in enumerate(n_estimator_range):\n",
        "        \n",
        "        print('n_estimators: %i, leaf_size: %i'%(n_estimator, leaf_size))\n",
        "        \n",
        "        start_time = time.time()\n",
        "        myRF_clf.set_params(n_estimators=n_estimator)\n",
        "        myRF_clf.fit(X_train, Y_train)\n",
        "        run_time[i,j] = time.time() - start_time\n",
        "\n",
        "    # check accuracy\n",
        "        RFC_train_accuracy[i,j]=myRF_clf.score(X_train, Y_train)\n",
        "        RFC_OOB_accuracy[i,j]=myRF_clf.oob_score_\n",
        "        RFC_test_accuracy[i,j]=myRF_clf.score(X_test, Y_test)\n",
        "        RFC_critical_accuracy[i,j]=myRF_clf.score(X_critical, Y_critical)\n",
        "        if print_flag:\n",
        "            result = (run_time[i,j], RFC_train_accuracy[i,j], RFC_OOB_accuracy[i,j], RFC_test_accuracy[i,j], RFC_critical_accuracy[i,j])\n",
        "            print('{0:<15}{1:<15}{2:<15}{3:<15}{4:<15}'.format(\"time (s)\",\"train score\", \"OOB estimate\",\"test score\", \"critical score\"))\n",
        "            print('{0:<15.4f}{1:<15.4f}{2:<15.4f}{3:<15.4f}{4:<15.4f}'.format(*result))\n"
      ],
      "execution_count": 37,
      "outputs": [
        {
          "output_type": "stream",
          "text": [
            "n_estimators: 10, leaf_size: 2\n",
            "time (s)       train score    OOB estimate   test score     critical score \n",
            "3.0789         1.0000         0.9916         0.9996         0.7947         \n",
            "n_estimators: 20, leaf_size: 2\n",
            "time (s)       train score    OOB estimate   test score     critical score \n",
            "3.2378         1.0000         0.9994         0.9997         0.8089         \n",
            "n_estimators: 30, leaf_size: 2\n",
            "time (s)       train score    OOB estimate   test score     critical score \n",
            "3.5271         1.0000         0.9997         0.9998         0.8100         \n",
            "n_estimators: 40, leaf_size: 2\n",
            "time (s)       train score    OOB estimate   test score     critical score \n",
            "3.8702         1.0000         0.9997         0.9997         0.8161         \n",
            "n_estimators: 50, leaf_size: 2\n",
            "time (s)       train score    OOB estimate   test score     critical score \n",
            "4.1411         1.0000         0.9997         0.9997         0.8180         \n",
            "n_estimators: 60, leaf_size: 2\n",
            "time (s)       train score    OOB estimate   test score     critical score \n",
            "4.4355         1.0000         0.9998         0.9997         0.8145         \n",
            "n_estimators: 70, leaf_size: 2\n",
            "time (s)       train score    OOB estimate   test score     critical score \n",
            "4.7155         1.0000         0.9997         0.9997         0.8173         \n",
            "n_estimators: 80, leaf_size: 2\n",
            "time (s)       train score    OOB estimate   test score     critical score \n",
            "5.0506         1.0000         0.9997         0.9997         0.8180         \n",
            "n_estimators: 90, leaf_size: 2\n",
            "time (s)       train score    OOB estimate   test score     critical score \n",
            "5.3767         1.0000         0.9997         0.9998         0.8167         \n",
            "n_estimators: 100, leaf_size: 2\n",
            "time (s)       train score    OOB estimate   test score     critical score \n",
            "5.6189         1.0000         0.9997         0.9997         0.8192         \n",
            "n_estimators: 10, leaf_size: 10000\n",
            "time (s)       train score    OOB estimate   test score     critical score \n",
            "2.0654         0.8616         0.8768         0.8631         0.6662         \n",
            "n_estimators: 20, leaf_size: 10000\n",
            "time (s)       train score    OOB estimate   test score     critical score \n",
            "2.3072         0.8536         0.8758         0.8554         0.6748         \n",
            "n_estimators: 30, leaf_size: 10000\n",
            "time (s)       train score    OOB estimate   test score     critical score \n",
            "2.6299         0.8895         0.8956         0.8903         0.6748         \n",
            "n_estimators: 40, leaf_size: 10000\n",
            "time (s)       train score    OOB estimate   test score     critical score \n",
            "2.9060         0.8947         0.8990         0.8948         0.6753         \n",
            "n_estimators: 50, leaf_size: 10000\n",
            "time (s)       train score    OOB estimate   test score     critical score \n",
            "3.1411         0.9115         0.9096         0.9123         0.6769         \n",
            "n_estimators: 60, leaf_size: 10000\n",
            "time (s)       train score    OOB estimate   test score     critical score \n",
            "3.5083         0.9055         0.9063         0.9050         0.6756         \n",
            "n_estimators: 70, leaf_size: 10000\n",
            "time (s)       train score    OOB estimate   test score     critical score \n",
            "3.7175         0.9090         0.9090         0.9086         0.6766         \n",
            "n_estimators: 80, leaf_size: 10000\n",
            "time (s)       train score    OOB estimate   test score     critical score \n",
            "4.1153         0.9069         0.9064         0.9061         0.6778         \n",
            "n_estimators: 90, leaf_size: 10000\n",
            "time (s)       train score    OOB estimate   test score     critical score \n",
            "4.2779         0.9112         0.9107         0.9107         0.6770         \n",
            "n_estimators: 100, leaf_size: 10000\n",
            "time (s)       train score    OOB estimate   test score     critical score \n",
            "4.5496         0.9138         0.9126         0.9140         0.6791         \n"
          ],
          "name": "stdout"
        }
      ]
    },
    {
      "cell_type": "markdown",
      "metadata": {
        "id": "Jd5mr4DVCzoz",
        "colab_type": "text"
      },
      "source": [
        "**Grafico delle prestazioni:**"
      ]
    },
    {
      "cell_type": "code",
      "metadata": {
        "id": "yoBRSrhJCzo0",
        "colab_type": "code",
        "colab": {
          "base_uri": "https://localhost:8080/",
          "height": 549
        },
        "outputId": "6fcec81b-7c11-4ced-a32d-ffd97208b35c"
      },
      "source": [
        "plt.figure()\n",
        "plt.plot(n_estimator_range,RFC_train_accuracy[1],'--b^',label='Train (bassa segmentazione)')\n",
        "plt.plot(n_estimator_range,RFC_test_accuracy[1],'--r^',label='Test (bassa segmentazione)')\n",
        "plt.plot(n_estimator_range,RFC_critical_accuracy[1],'--g^',label='Critical (bassa segmentazione)')\n",
        "\n",
        "plt.plot(n_estimator_range,RFC_train_accuracy[0],'o-b',label='Train (alta segmentazione)')\n",
        "plt.plot(n_estimator_range,RFC_test_accuracy[0],'o-r',label='Test (alta segmentazione)')\n",
        "plt.plot(n_estimator_range,RFC_critical_accuracy[0],'o-g',label='Critical (alta segmentazione)')\n",
        "\n",
        "plt.xlabel('$N_\\mathrm{estimators}$')\n",
        "plt.ylabel('Accuracy')\n",
        "lgd=plt.legend(bbox_to_anchor=(1.05, 1), loc=2, borderaxespad=0.)\n",
        "plt.savefig(\"Ising_RF.pdf\",bbox_extra_artists=(lgd,), bbox_inches='tight')\n",
        "\n",
        "plt.show()\n",
        "\n",
        "plt.plot(n_estimator_range, run_time[1], '--k^',label='Bassa segmentazione')\n",
        "plt.plot(n_estimator_range, run_time[0], 'o-k',label='Alta segmentazione')\n",
        "plt.xlabel('$N_\\mathrm{estimators}$')\n",
        "plt.ylabel('Run time (s)')\n",
        "\n",
        "\n",
        "plt.legend(loc=2)\n",
        "#plt.savefig(\"Ising_RF_Runtime.pdf\")\n",
        "\n",
        "plt.show()"
      ],
      "execution_count": 38,
      "outputs": [
        {
          "output_type": "display_data",
          "data": {
            "image/png": "[encoded data removed]",
            "text/plain": [
              "<Figure size 432x288 with 1 Axes>"
            ]
          },
          "metadata": {
            "tags": [],
            "needs_background": "light"
          }
        },
        {
          "output_type": "display_data",
          "data": {
            "image/png": "[encoded data removed]",
            "text/plain": [
              "<Figure size 432x288 with 1 Axes>"
            ]
          },
          "metadata": {
            "tags": [],
            "needs_background": "light"
          }
        }
      ]
    },
    {
      "cell_type": "markdown",
      "metadata": {
        "id": "yxdXxUa6Czo-",
        "colab_type": "text"
      },
      "source": [
        "### Esercizi: ###  \n",
        "\n",
        "* provate a implementare invece che una validazione OOB (gratis con le foreste random in scikit-learn) una k-fold validation (con k=5 e 10) e verificate se vi sono differenze (OOB tende a dare delle stime molto pessimistiche).\n",
        "    \n",
        "NOTA: per imparare ad implementare una k-fold validation in scikit-learn guardate a questo [tutorial](https://scikit-learn.org/stable/modules/cross_validation.html)"
      ]
    }
  ]
}