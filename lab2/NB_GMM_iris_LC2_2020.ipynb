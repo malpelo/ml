{
 "cells": [
  {
   "cell_type": "markdown",
   "metadata": {
    "colab_type": "text",
    "id": "tFr3s1eh9_Mi"
   },
   "source": [
    "# Clustering con Gaussian Mixture Model applicato al dataset iris\n",
    "da esempio originale di Oscar Contreras Carrasco"
   ]
  },
  {
   "cell_type": "code",
   "execution_count": 10,
   "metadata": {
    "colab": {},
    "colab_type": "code",
    "id": "irGOL_Dcw8ja"
   },
   "outputs": [],
   "source": [
    "import numpy as np\n",
    "import imageio\n",
    "import matplotlib.animation as ani\n",
    "import matplotlib.cm as cmx\n",
    "import matplotlib.colors as colors\n",
    "import matplotlib.pyplot as plt\n",
    "import numpy as np\n",
    "\n",
    "from matplotlib.patches import Ellipse\n",
    "from PIL import Image\n",
    "from sklearn.cluster import KMeans"
   ]
  },
  {
   "cell_type": "markdown",
   "metadata": {
    "colab_type": "text",
    "id": "hN_TKq1kVRJT"
   },
   "source": [
    "**Iris dataset da scikit-learn**\n",
    "\n",
    "Consiste in 150 istanze di Iris misurate da Edgar Anderson e classificate secondo tre specie: *Iris setosa*, *Iris virginica* e *Iris versicolor*. Le quattro variabili considerate sono la lunghezza e la larghezza del sepalo e del petalo"
   ]
  },
  {
   "cell_type": "code",
   "execution_count": 11,
   "metadata": {
    "colab": {
     "base_uri": "https://localhost:8080/",
     "height": 357
    },
    "colab_type": "code",
    "id": "mcCzJFnT_fRQ",
    "outputId": "e218d247-fd7c-4449-e0a1-e348bced96e7"
   },
   "outputs": [
    {
     "data": {
      "text/plain": [
       "array([[5.1, 3.5, 1.4, 0.2],\n",
       "       [4.9, 3. , 1.4, 0.2],\n",
       "       [4.7, 3.2, 1.3, 0.2],\n",
       "       [4.6, 3.1, 1.5, 0.2],\n",
       "       [5. , 3.6, 1.4, 0.2],\n",
       "       [5.4, 3.9, 1.7, 0.4],\n",
       "       [4.6, 3.4, 1.4, 0.3],\n",
       "       [5. , 3.4, 1.5, 0.2],\n",
       "       [4.4, 2.9, 1.4, 0.2],\n",
       "       [4.9, 3.1, 1.5, 0.1],\n",
       "       [5.4, 3.7, 1.5, 0.2],\n",
       "       [4.8, 3.4, 1.6, 0.2],\n",
       "       [4.8, 3. , 1.4, 0.1],\n",
       "       [4.3, 3. , 1.1, 0.1],\n",
       "       [5.8, 4. , 1.2, 0.2],\n",
       "       [5.7, 4.4, 1.5, 0.4],\n",
       "       [5.4, 3.9, 1.3, 0.4],\n",
       "       [5.1, 3.5, 1.4, 0.3],\n",
       "       [5.7, 3.8, 1.7, 0.3],\n",
       "       [5.1, 3.8, 1.5, 0.3]])"
      ]
     },
     "execution_count": 11,
     "metadata": {},
     "output_type": "execute_result"
    }
   ],
   "source": [
    "from sklearn import datasets\n",
    "iris = datasets.load_iris()\n",
    "X = iris.data\n",
    "#stampa efeature reative ai primi 20 eventi del dataset\n",
    "X[:20]"
   ]
  },
  {
   "cell_type": "markdown",
   "metadata": {
    "colab_type": "text",
    "id": "Vgz6E8z9VaVJ"
   },
   "source": [
    "**Parte 1: implementazione \"a mano\" del modello**\n",
    "\n",
    "Gaussian density function (può essere fatto usando direttamente la funzione di numpy qui lo facciamo noi come esempio)\n",
    "\n",
    "\\begin{equation}\n",
    "\\large\n",
    "p(\\mathbf x | \\mathbf\\mu, \\mathbf\\Sigma) = \\frac 1 {({2\\pi})^{n/2}|\\Sigma|^{1/2}}\\exp\\left(-\\frac 1 2 (\\mathbf x -\\mathbf\\mu)^T\\mathbf\\Sigma^{-1}(\\mathbf x -\\mathbf\\mu)\\right)\n",
    "\\end{equation}\n"
   ]
  },
  {
   "cell_type": "code",
   "execution_count": 12,
   "metadata": {
    "colab": {},
    "colab_type": "code",
    "id": "Wk9WlrFVHtcN"
   },
   "outputs": [],
   "source": [
    "def gaussian(X, mu, cov):\n",
    "    n = X.shape[1]\n",
    "    diff = (X - mu).T\n",
    "    return np.diagonal(1 / ((2 * np.pi) ** (n / 2) * np.linalg.det(cov) ** 0.5) * np.exp(-0.5 * np.dot(np.dot(diff.T, np.linalg.inv(cov)), diff))).reshape(-1, 1)"
   ]
  },
  {
   "cell_type": "code",
   "execution_count": 13,
   "metadata": {
    "colab": {
     "base_uri": "https://localhost:8080/",
     "height": 102
    },
    "colab_type": "code",
    "id": "7PHi0Tu4xQAS",
    "outputId": "a331ca20-6b3a-4552-b83b-8174b6951256"
   },
   "outputs": [
    {
     "data": {
      "text/plain": [
       "array([[0.00159853],\n",
       "       [0.00481869],\n",
       "       [0.00276259],\n",
       "       [0.0014309 ],\n",
       "       [0.00143998]])"
      ]
     },
     "execution_count": 13,
     "metadata": {},
     "output_type": "execute_result"
    }
   ],
   "source": [
    "#test\n",
    "x0 = np.array([[0.05, 1.413, 0.212], [0.85, -0.3, 1.11], [11.1, 0.4, 1.5], [0.27, 0.12, 1.44], [88, 12.33, 1.44]])\n",
    "mu = np.mean(x0, axis=0)\n",
    "cov = np.dot((x0 - mu).T, x0 - mu) / (x0.shape[0] - 1)\n",
    "\n",
    "y = gaussian(x0, mu=mu, cov=cov)\n",
    "y"
   ]
  },
  {
   "cell_type": "markdown",
   "metadata": {
    "colab_type": "text",
    "id": "NsxI7u2NXpWY"
   },
   "source": [
    "__Step 1__\n",
    "\n",
    "Inizializzazione dei parametri $\\pi_k$, $\\mu_k$, e $\\Sigma_k$. Come guess iniziale addestriamo un modello di k-means clustering e utilizziamo i centroidi trovati dal modello come punto di partenza ... "
   ]
  },
  {
   "cell_type": "code",
   "execution_count": 14,
   "metadata": {
    "colab": {},
    "colab_type": "code",
    "id": "XEZjEtUqRfgG"
   },
   "outputs": [],
   "source": [
    "from sklearn.cluster import KMeans\n",
    "def initialize_clusters(X, n_clusters):\n",
    "    clusters = []\n",
    "    idx = np.arange(X.shape[0])\n",
    "    \n",
    "    # We use the KMeans centroids to initialise the GMM\n",
    "    \n",
    "    kmeans = KMeans().fit(X)\n",
    "    mu_k = kmeans.cluster_centers_\n",
    "    \n",
    "    for i in range(n_clusters):\n",
    "        clusters.append({\n",
    "            'pi_k': 1.0 / n_clusters,\n",
    "            'mu_k': mu_k[i],\n",
    "            'cov_k': np.identity(X.shape[1], dtype=np.float64)\n",
    "        })\n",
    "        \n",
    "    return clusters"
   ]
  },
  {
   "cell_type": "markdown",
   "metadata": {
    "colab_type": "text",
    "id": "b4HIKt0OYCex"
   },
   "source": [
    "**Step 2 (Expectation step)**\n",
    "\n",
    "calcolo di $\\gamma(z_{nk})$ tramite l'espressione:\n",
    "\n",
    "\\begin{equation}\n",
    "\\large\n",
    "\\gamma{(z_{nk})}=\\frac {\\pi_k\\mathcal N(\\mathbf x_n| \\mathbf\\mu_k, \\mathbf\\Sigma_k)}{\\sum_{j=1}^K\\pi_j\\mathcal N(\\mathbf x_n| \\mathbf\\mu_j, \\mathbf\\Sigma_j)}\n",
    "\\end{equation}\n",
    "\n",
    "per comodità calcoliamo il denominatore come somma di tutti i termini nel numeratore e salviamo (servirà dopo nel calcolo della likelihood) il totale nella variabile __totals__"
   ]
  },
  {
   "cell_type": "code",
   "execution_count": 15,
   "metadata": {
    "colab": {},
    "colab_type": "code",
    "id": "78Xqp2nSGugd"
   },
   "outputs": [],
   "source": [
    "def expectation_step(X, clusters):\n",
    "    totals = np.zeros((X.shape[0], 1), dtype=np.float64)\n",
    "    \n",
    "    for cluster in clusters:\n",
    "        pi_k = cluster['pi_k']\n",
    "        mu_k = cluster['mu_k']\n",
    "        cov_k = cluster['cov_k']\n",
    "        \n",
    "        gamma_nk = (pi_k * gaussian(X, mu_k, cov_k)).astype(np.float64)\n",
    "        \n",
    "        for i in range(X.shape[0]):\n",
    "            totals[i] += gamma_nk[i]\n",
    "        \n",
    "        cluster['gamma_nk'] = gamma_nk\n",
    "        cluster['totals'] = totals\n",
    "        \n",
    "    \n",
    "    for cluster in clusters:\n",
    "        cluster['gamma_nk'] /= cluster['totals']"
   ]
  },
  {
   "cell_type": "markdown",
   "metadata": {
    "colab_type": "text",
    "id": "_VHT5Ph1ZAFu"
   },
   "source": [
    "**Step 3 (Maximization step):**\n",
    "\n",
    "calcolo:\n",
    "\n",
    "\\begin{equation}\n",
    "\\large\n",
    "N_k=\\sum_{n=1}^N\\gamma({z_{nk}})\n",
    "\\end{equation}\n",
    "\n",
    "e dei parametri aggiornati:\n",
    "\n",
    "\\begin{equation}\n",
    "\\large\n",
    "\\pi_k^*=\\frac {N_k} N\n",
    "\\end{equation}\n",
    "\n",
    "\\begin{equation}\n",
    "\\large\n",
    "\\mu_k^*=\\frac 1 {N_k} \\sum_{n=1}^N\\gamma({z_{nk}})\\mathbf x_n\n",
    "\\end{equation}\n",
    "\n",
    "\\begin{equation}\n",
    "\\large\n",
    "\\Sigma_k^*=\\frac 1 {N_k} \\sum_{n=1}^N\\gamma({z_{nk}})(\\mathbf x_n-\\mathbf\\mu_k)(\\mathbf x_n-\\mathbf\\mu_k)^T\n",
    "\\end{equation}"
   ]
  },
  {
   "cell_type": "code",
   "execution_count": 16,
   "metadata": {
    "colab": {},
    "colab_type": "code",
    "id": "7Z7K5jrEJHHu"
   },
   "outputs": [],
   "source": [
    "def maximization_step(X, clusters):\n",
    "    N = float(X.shape[0])\n",
    "  \n",
    "    for cluster in clusters:\n",
    "        gamma_nk = cluster['gamma_nk']\n",
    "        cov_k = np.zeros((X.shape[1], X.shape[1]))\n",
    "        \n",
    "        N_k = np.sum(gamma_nk, axis=0)\n",
    "        \n",
    "        pi_k = N_k / N\n",
    "        mu_k = np.sum(gamma_nk * X, axis=0) / N_k\n",
    "        \n",
    "        for j in range(X.shape[0]):\n",
    "            diff = (X[j] - mu_k).reshape(-1, 1)\n",
    "            cov_k += gamma_nk[j] * np.dot(diff, diff.T)\n",
    "            \n",
    "        cov_k /= N_k\n",
    "        \n",
    "        cluster['pi_k'] = pi_k\n",
    "        cluster['mu_k'] = mu_k\n",
    "        cluster['cov_k'] = cov_k"
   ]
  },
  {
   "cell_type": "markdown",
   "metadata": {
    "colab_type": "text",
    "id": "Qzbylmjoa_61"
   },
   "source": [
    "**Definizione della log-likelihood del modello:**\n",
    "\n",
    "\\begin{equation}\n",
    "\\large\n",
    "\\ln p(\\mathbf X)=\\sum_{n=1}^N\\ln\\sum_{k=1}^K\\pi_k\\mathcal N(\\mathbf x_n|\\mu_k,\\Sigma_k)\n",
    "\\end{equation}\n",
    "\n",
    "poiché la seconda sommatoria corrisponde al denominatore in $\\gamma$ calcolato nel __expectation_step__ e disponibile in __totals__ non dobbiamo ricalcolarlo qui ..."
   ]
  },
  {
   "cell_type": "code",
   "execution_count": 17,
   "metadata": {
    "colab": {},
    "colab_type": "code",
    "id": "vzVrZY6PTMR8"
   },
   "outputs": [],
   "source": [
    "def get_likelihood(X, clusters):\n",
    "    likelihood = []\n",
    "    sample_likelihoods = np.log(np.array([cluster['totals'] for cluster in clusters]))\n",
    "    return np.sum(sample_likelihoods), sample_likelihoods"
   ]
  },
  {
   "cell_type": "markdown",
   "metadata": {
    "colab_type": "text",
    "id": "oGSkyh33bNu8"
   },
   "source": [
    "**Algoritmo:** \n",
    "si itera la procedura per un numero fissato di epoche __n_epochs__ e si monitora il valore della log-likelihood per vedere quanto questa raggiunge un plateaux ..."
   ]
  },
  {
   "cell_type": "code",
   "execution_count": 18,
   "metadata": {
    "colab": {},
    "colab_type": "code",
    "id": "9qWFzpI3Uq-9"
   },
   "outputs": [],
   "source": [
    "def train_gmm(X, n_clusters, n_epochs):\n",
    "    clusters = initialize_clusters(X, n_clusters)\n",
    "    likelihoods = np.zeros((n_epochs, ))\n",
    "    scores = np.zeros((X.shape[0], n_clusters))\n",
    "    history = []\n",
    "\n",
    "    for i in range(n_epochs):\n",
    "        clusters_snapshot = []\n",
    "        \n",
    "        # This is just for our later use in the graphs\n",
    "        for cluster in clusters:\n",
    "            clusters_snapshot.append({\n",
    "                'mu_k': cluster['mu_k'].copy(),\n",
    "                'cov_k': cluster['cov_k'].copy()\n",
    "            })\n",
    "            \n",
    "        history.append(clusters_snapshot)\n",
    "      \n",
    "        expectation_step(X, clusters)\n",
    "        maximization_step(X, clusters)\n",
    "\n",
    "        likelihood, sample_likelihoods = get_likelihood(X, clusters)\n",
    "        likelihoods[i] = likelihood\n",
    "\n",
    "        print('Epoch: ', i + 1, 'Likelihood: ', likelihood)\n",
    "        \n",
    "    for i, cluster in enumerate(clusters):\n",
    "        scores[:, i] = np.log(cluster['gamma_nk']).reshape(-1)\n",
    "        \n",
    "    return clusters, likelihoods, scores, sample_likelihoods, history"
   ]
  },
  {
   "cell_type": "markdown",
   "metadata": {
    "colab_type": "text",
    "id": "QqhgdUKrbUrf"
   },
   "source": [
    "**Training del modello:**"
   ]
  },
  {
   "cell_type": "code",
   "execution_count": 19,
   "metadata": {
    "colab": {
     "base_uri": "https://localhost:8080/",
     "height": 867
    },
    "colab_type": "code",
    "id": "5h10mICZGwrh",
    "outputId": "69f56c32-deff-463f-a29a-f3be7515e0ad"
   },
   "outputs": [
    {
     "name": "stdout",
     "output_type": "stream",
     "text": [
      "Epoch:  1 Likelihood:  -2199.6079734893483\n",
      "Epoch:  2 Likelihood:  -718.4473028172076\n",
      "Epoch:  3 Likelihood:  -608.5652210081444\n",
      "Epoch:  4 Likelihood:  -596.4538179838542\n",
      "Epoch:  5 Likelihood:  -587.0001144324366\n",
      "Epoch:  6 Likelihood:  -578.8381661112753\n",
      "Epoch:  7 Likelihood:  -571.6372116623036\n",
      "Epoch:  8 Likelihood:  -565.7992713294803\n",
      "Epoch:  9 Likelihood:  -561.481358563028\n",
      "Epoch:  10 Likelihood:  -557.8461075319806\n",
      "Epoch:  11 Likelihood:  -554.6398824900818\n",
      "Epoch:  12 Likelihood:  -551.825211557994\n",
      "Epoch:  13 Likelihood:  -549.3163948181723\n",
      "Epoch:  14 Likelihood:  -547.2223315497916\n",
      "Epoch:  15 Likelihood:  -545.5213728509688\n",
      "Epoch:  16 Likelihood:  -543.7793360573355\n",
      "Epoch:  17 Likelihood:  -541.9766131319592\n",
      "Epoch:  18 Likelihood:  -541.0082186031577\n",
      "Epoch:  19 Likelihood:  -540.6960692716698\n",
      "Epoch:  20 Likelihood:  -540.6000259730499\n",
      "Epoch:  21 Likelihood:  -540.5701390449415\n",
      "Epoch:  22 Likelihood:  -540.5607686500458\n",
      "Epoch:  23 Likelihood:  -540.5578098532833\n",
      "Epoch:  24 Likelihood:  -540.5568706812851\n",
      "Epoch:  25 Likelihood:  -540.5565716014818\n",
      "Epoch:  26 Likelihood:  -540.556476182023\n",
      "Epoch:  27 Likelihood:  -540.5564457077348\n",
      "Epoch:  28 Likelihood:  -540.556435969626\n",
      "Epoch:  29 Likelihood:  -540.5564328568388\n",
      "Epoch:  30 Likelihood:  -540.5564318616678\n",
      "Epoch:  31 Likelihood:  -540.5564315434779\n",
      "Epoch:  32 Likelihood:  -540.5564314417361\n",
      "Epoch:  33 Likelihood:  -540.5564314092034\n",
      "Epoch:  34 Likelihood:  -540.5564313988006\n",
      "Epoch:  35 Likelihood:  -540.556431395474\n",
      "Epoch:  36 Likelihood:  -540.5564313944103\n",
      "Epoch:  37 Likelihood:  -540.5564313940703\n",
      "Epoch:  38 Likelihood:  -540.5564313939615\n",
      "Epoch:  39 Likelihood:  -540.5564313939265\n",
      "Epoch:  40 Likelihood:  -540.5564313939155\n",
      "Epoch:  41 Likelihood:  -540.5564313939119\n",
      "Epoch:  42 Likelihood:  -540.5564313939108\n",
      "Epoch:  43 Likelihood:  -540.5564313939104\n",
      "Epoch:  44 Likelihood:  -540.5564313939103\n",
      "Epoch:  45 Likelihood:  -540.5564313939104\n",
      "Epoch:  46 Likelihood:  -540.5564313939102\n",
      "Epoch:  47 Likelihood:  -540.5564313939102\n",
      "Epoch:  48 Likelihood:  -540.5564313939103\n",
      "Epoch:  49 Likelihood:  -540.5564313939105\n",
      "Epoch:  50 Likelihood:  -540.5564313939101\n"
     ]
    }
   ],
   "source": [
    "#scegliamo il numero di clusters e il numero di iterazioni (epoche)\n",
    "n_clusters = 3\n",
    "n_epochs = 50\n",
    "\n",
    "clusters, likelihoods, scores, sample_likelihoods, history = train_gmm(X, n_clusters, n_epochs)"
   ]
  },
  {
   "cell_type": "markdown",
   "metadata": {
    "colab_type": "text",
    "id": "Ho3efim_bYxk"
   },
   "source": [
    "**Grafico andamento log-likelihood**"
   ]
  },
  {
   "cell_type": "code",
   "execution_count": 20,
   "metadata": {
    "colab": {
     "base_uri": "https://localhost:8080/",
     "height": 607
    },
    "colab_type": "code",
    "id": "YV_9LG2WLGeZ",
    "outputId": "a05e80a2-8ea5-4bd0-8d92-0db897086c11"
   },
   "outputs": [
    {
     "data": {
      "image/png": "[encoded data removed]",
      "text/plain": [
       "<Figure size 720x720 with 1 Axes>"
      ]
     },
     "metadata": {
      "needs_background": "light"
     },
     "output_type": "display_data"
    }
   ],
   "source": [
    "plt.figure(figsize=(10, 10))\n",
    "plt.title('Log-Likelihood')\n",
    "plt.plot(np.arange(1, n_epochs + 1), likelihoods)\n",
    "plt.show()"
   ]
  },
  {
   "cell_type": "markdown",
   "metadata": {
    "colab_type": "text",
    "id": "V1RMlu7ybb6r"
   },
   "source": [
    "**Visualizzazione dei clusters e dei parametri della GGM**"
   ]
  },
  {
   "cell_type": "code",
   "execution_count": 21,
   "metadata": {
    "colab": {
     "base_uri": "https://localhost:8080/",
     "height": 592
    },
    "colab_type": "code",
    "id": "eR5RLqt9HEzp",
    "outputId": "d94b564c-94c3-4c68-9691-29d716a6a80e"
   },
   "outputs": [
    {
     "data": {
      "image/png": "[encoded data removed]",
      "text/plain": [
       "<Figure size 720x720 with 1 Axes>"
      ]
     },
     "metadata": {
      "needs_background": "light"
     },
     "output_type": "display_data"
    }
   ],
   "source": [
    "def create_cluster_animation(X, history, scores):\n",
    "    fig, ax = plt.subplots(1, 1, figsize=(10, 10))\n",
    "    colorset = ['blue', 'red', 'black']\n",
    "    images = []\n",
    "    \n",
    "    for j, clusters in enumerate(history):\n",
    "      \n",
    "        idx = 0\n",
    "      \n",
    "        if j % 3 != 0:\n",
    "            continue\n",
    "        \n",
    "        plt.cla()\n",
    "        \n",
    "        for cluster in clusters:\n",
    "            mu = cluster['mu_k']\n",
    "            cov = cluster['cov_k']\n",
    "\n",
    "            eigenvalues, eigenvectors = np.linalg.eigh(cov)\n",
    "            order = eigenvalues.argsort()[::-1]\n",
    "            eigenvalues, eigenvectors = eigenvalues[order], eigenvectors[:, order]\n",
    "            vx, vy = eigenvectors[:,0][0], eigenvectors[:,0][1]\n",
    "            theta = np.arctan2(vy, vx)\n",
    "\n",
    "            color = colors.to_rgba(colorset[idx])\n",
    "\n",
    "            for cov_factor in range(1, 4):\n",
    "                ell = Ellipse(xy=mu, width=np.sqrt(eigenvalues[0]) * cov_factor * 2, height=np.sqrt(eigenvalues[1]) * cov_factor * 2, angle=np.degrees(theta), linewidth=2)\n",
    "                ell.set_facecolor((color[0], color[1], color[2], 1.0 / (cov_factor * 4.5)))\n",
    "                ax.add_artist(ell)\n",
    "\n",
    "            ax.scatter(cluster['mu_k'][0], cluster['mu_k'][1], c=colorset[idx], s=1000, marker='+')\n",
    "            idx += 1\n",
    "\n",
    "        for i in range(X.shape[0]):\n",
    "            ax.scatter(X[i, 0], X[i, 1], c=colorset[np.argmax(scores[i])], marker='o')\n",
    "        \n",
    "        fig.canvas.draw()\n",
    "        \n",
    "        image = np.frombuffer(fig.canvas.tostring_rgb(), dtype='uint8')\n",
    "        image = image.reshape(fig.canvas.get_width_height()[::-1] + (3,))\n",
    "\n",
    "        images.append(image)\n",
    "    \n",
    "    kwargs_write = {'fps':1.0, 'quantizer':'nq'}\n",
    "    imageio.mimsave('./gmm.gif', images, fps=1)\n",
    "    plt.show(Image.open('gmm.gif').convert('RGB'))\n",
    "    \n",
    "    \n",
    "create_cluster_animation(X, history, scores)"
   ]
  },
  {
   "cell_type": "markdown",
   "metadata": {
    "colab_type": "text",
    "id": "7YlS_QKKbvmJ"
   },
   "source": [
    "NOTA: aprendo il file __gmm.gif__  è possibile visulizzare un animazione di come la stima dei cluster migliori ad ogni iterazione."
   ]
  },
  {
   "cell_type": "markdown",
   "metadata": {
    "colab_type": "text",
    "id": "3zggdygP7esj"
   },
   "source": [
    "## Implementazione usando scikit-learn ##\n",
    "\n",
    "quella da usare in pratica ..."
   ]
  },
  {
   "cell_type": "code",
   "execution_count": 22,
   "metadata": {
    "colab": {
     "base_uri": "https://localhost:8080/",
     "height": 323
    },
    "colab_type": "code",
    "id": "W5TLvNKQ8LX6",
    "outputId": "b5b95446-b15c-44ac-f5f7-13518201190c"
   },
   "outputs": [
    {
     "name": "stdout",
     "output_type": "stream",
     "text": [
      "Means by sklearn:\n",
      " [[6.54639415 2.94946365 5.48364578 1.98726565]\n",
      " [5.006      3.428      1.462      0.246     ]\n",
      " [5.9170732  2.77804839 4.20540364 1.29848217]]\n",
      "Means by our implementation:\n",
      " [[6.54454865 2.94866115 5.47955343 1.98460495]\n",
      " [5.006      3.428      1.462      0.246     ]\n",
      " [5.91496959 2.77784365 4.20155323 1.29696685]]\n",
      "Scores by sklearn:\n",
      " [ 1.57050082  0.73787138  1.14436656  0.92913238  1.411028   -0.09451903\n",
      "  0.05266884  1.62442195  0.27082378  0.16706624  0.83489877  0.77168582\n",
      "  0.29597841 -1.79224582 -3.41557928 -2.10529279 -1.12995447  1.47503579\n",
      " -0.84612536  0.97699215]\n",
      "Scores by our implementation:\n",
      " [ 1.57057947  0.73793642  1.14444614  0.92920539  1.41110417 -0.09448868\n",
      "  0.05268031  1.62449505  0.27090462  0.16702226  0.83494742  0.77171947\n",
      "  0.29597776 -1.79222469 -3.41562626 -2.1052825  -1.1300608   1.47509939\n",
      " -0.84608424  0.9770596 ]\n"
     ]
    }
   ],
   "source": [
    "from sklearn.mixture import GaussianMixture\n",
    "\n",
    "gmm = GaussianMixture(n_components=n_clusters, max_iter=50).fit(X)\n",
    "gmm_scores = gmm.score_samples(X)\n",
    "\n",
    "print('Means by sklearn:\\n', gmm.means_)\n",
    "print('Means by our implementation:\\n', np.array([cluster['mu_k'].tolist() for cluster in clusters]))\n",
    "print('Scores by sklearn:\\n', gmm_scores[0:20])\n",
    "print('Scores by our implementation:\\n', sample_likelihoods.reshape(-1)[0:20])"
   ]
  },
  {
   "cell_type": "markdown",
   "metadata": {
    "colab_type": "text",
    "id": "CWswV1Y9_tVm"
   },
   "source": [
    "## Esercizi: ##\n",
    "\n",
    "* provare a cambiare il numero di cluster nella GMM da 1 a 10 ... la logLikelihood fornisce informazioni sul valore giusto del numeori di cluster (3)? \n",
    "\n",
    "* inizializzando la GMM con centroidi random invece che con i valori ottenuti da k-means si ottengono prestazioni altrettando buone?\n",
    "\n",
    "* come si ottengono predizione di classe e probabilità di classe per la GMM in scikit-learn? Dividete il campione in 80% trainign e 20% test, addestrate la GMM con il training set e predicete label di classe e probabilità di classe per gli eventi di test ... quale è l'accuracy ottenuta? "
   ]
  },
  {
   "cell_type": "code",
   "execution_count": null,
   "metadata": {},
   "outputs": [],
   "source": []
  },
  {
   "cell_type": "code",
   "execution_count": null,
   "metadata": {},
   "outputs": [],
   "source": []
  }
 ],
 "metadata": {
  "colab": {
   "collapsed_sections": [],
   "name": "NB_GMM_iris_LC2_2020.ipynb",
   "provenance": [],
   "toc_visible": true
  },
  "kernelspec": {
   "display_name": "Python 3",
   "language": "python",
   "name": "python3"
  },
  "language_info": {
   "codemirror_mode": {
    "name": "ipython",
    "version": 3
   },
   "file_extension": ".py",
   "mimetype": "text/x-python",
   "name": "python",
   "nbconvert_exporter": "python",
   "pygments_lexer": "ipython3",
   "version": "3.6.9"
  }
 },
 "nbformat": 4,
 "nbformat_minor": 1
}
