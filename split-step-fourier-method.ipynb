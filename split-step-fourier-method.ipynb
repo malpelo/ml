{
  "nbformat": 4,
  "nbformat_minor": 0,
  "metadata": {
    "colab": {
      "name": "Untitled2.ipynb",
      "provenance": [],
      "authorship_tag": "ABX9TyMH3YPfs/taE1d6QE7VIDnn",
      "include_colab_link": true
    },
    "kernelspec": {
      "name": "python3",
      "display_name": "Python 3"
    }
  },
  "cells": [
    {
      "cell_type": "markdown",
      "metadata": {
        "id": "view-in-github",
        "colab_type": "text"
      },
      "source": [
        "<a href=\"https://colab.research.google.com/github/raeubaen/ml/blob/master/split-step-fourier-method.ipynb\" target=\"_parent\"><img src=\"https://colab.research.google.com/assets/colab-badge.svg\" alt=\"Open In Colab\"/></a>"
      ]
    },
    {
      "cell_type": "code",
      "metadata": {
        "id": "4ApEC4rOAU6M",
        "colab_type": "code",
        "colab": {}
      },
      "source": [
        "import numpy as np\n",
        "import matplotlib.pyplot as plt\n",
        "import time\n",
        "plt.style.use('ggplot')"
      ],
      "execution_count": 0,
      "outputs": []
    },
    {
      "cell_type": "code",
      "metadata": {
        "id": "pw2UfXph_sRV",
        "colab_type": "code",
        "colab": {}
      },
      "source": [
        "################### Physical Parameters  ########################\n",
        "Ip = 4**2;                           #peak intensity\n",
        "Ib = 1.0;                             #background illumination\n",
        "Lambda = 0.5e-6;                      #wavelength\n",
        "k0 = 2*np.pi/Lambda;                  #vacuum wavevector\n",
        "n0 = 1;                               #background index of refraction\n",
        "\n",
        "Lz = 5;                               #computational length of sample\n",
        "Lx = 30e-3;                           #computational width of sample\n",
        "\n",
        "Chirp = -0.0*6*230000.0;              #input linear chirp parameter\n",
        "\n",
        "# inputposition=-0*10^(-6);           #input position\n",
        "h = 0.67e-3;\n",
        "inputposition = +h/2;                 #input position\n",
        "\n",
        "Radius = 1e-3;\n"
      ],
      "execution_count": 0,
      "outputs": []
    },
    {
      "cell_type": "code",
      "metadata": {
        "id": "MBsNsnHsAFIl",
        "colab_type": "code",
        "colab": {}
      },
      "source": [
        "################## Computational Parameters #############\n",
        "\n",
        "nstepx = 1*1024;                #number of transverse grid points\n",
        "nstepz = 20;     #200            #number of longitudinal propagation steps\n",
        "deltax = Lx/nstepx;\n",
        "deltaz = Lz/nstepz;    #the resolution in the z direction, IMPORTANT\n",
        "deltaf = 1/Lx;                  #spatial frequency step"
      ],
      "execution_count": 0,
      "outputs": []
    },
    {
      "cell_type": "code",
      "metadata": {
        "id": "ZsTDXySsAuwB",
        "colab_type": "code",
        "colab": {}
      },
      "source": [
        "##########################  GENERAL GRID SET-UP  ##########################\n",
        "\n",
        "z = np.arange(0, Lz, deltaz)                #z grid\n",
        "x = -Lx/2 + deltax/2+(np.arange(0, nstepx, 1))*deltax;                       # x array\n",
        "\n",
        "X, Y = np.meshgrid(x,x);"
      ],
      "execution_count": 0,
      "outputs": []
    },
    {
      "cell_type": "code",
      "metadata": {
        "id": "g8EzzNAjBAt7",
        "colab_type": "code",
        "colab": {}
      },
      "source": [
        "##########################  Dispersive Step Setup #########################\n",
        "\n",
        "ntx = 0;             \n",
        "kx = np.zeros(nstepx)                                          #this is to get rid of fftshifts and the sort\n",
        "for nn in range(nstepx):\n",
        "    ikx = nn - ntx;\n",
        "    kx[nn] = 2*np.pi*deltaf*ikx;\n",
        "    if nn + 1 - nstepx/2 == 0 :\n",
        "      ntx = nstepx;\n",
        "\n",
        "KX, KY = np.meshgrid(kx, kx);\n",
        "\n",
        "ArgumentOfPropagator  =  ((k0*n0)**(-1)*(KX**2+KY**2))*(deltaz/2.);             \n",
        "Propagator = np.cos(ArgumentOfPropagator)+1j*np.sin(ArgumentOfPropagator);"
      ],
      "execution_count": 0,
      "outputs": []
    },
    {
      "cell_type": "code",
      "metadata": {
        "id": "kosYAmxLCiS2",
        "colab_type": "code",
        "colab": {}
      },
      "source": [
        "####################### INPUT FIELDS DEFINITION  #########################\n",
        "InputField=np.sqrt(Ip)*np.exp(1j*Chirp*X-(X-inputposition)**2./(w0**2)-(Y)**2./(w0**2));\n",
        "\n",
        "MatrixAppoggio = np.zeros(shape=(nstepx, nstepx, nstepz))\n",
        "MatrixAppoggio[..., 0] = np.abs(InputField)**2"
      ],
      "execution_count": 0,
      "outputs": []
    },
    {
      "cell_type": "code",
      "metadata": {
        "id": "wrHM0kcrd_YC",
        "colab_type": "code",
        "colab": {}
      },
      "source": [
        "from matplotlib.colors import LinearSegmentedColormap\n",
        "\n",
        "# we use a colormap similar to the one observed in lab\n",
        "# when using lasers, black with no light, red at maximum intensity\n",
        "\n",
        "cdict = {'red':   [[0.0,  0.0, 0.0],\n",
        "                   [1.0,  1.0, 1.0]],\n",
        "         'green': [[0.0,  0.0, 0.0],\n",
        "                   [1.0,  0.0, 0.0]],\n",
        "         'blue':  [[0.0,  0.0, 0.0],\n",
        "                   [1.0,  0.0, 0.0]]}\n",
        "\n",
        "cmap = LinearSegmentedColormap('testCmap', segmentdata=cdict, N=256)"
      ],
      "execution_count": 0,
      "outputs": []
    },
    {
      "cell_type": "code",
      "metadata": {
        "id": "1dEfDESEj0x8",
        "colab_type": "code",
        "outputId": "3321b63e-fd0f-46ed-973b-e15e5c09a1ad",
        "colab": {
          "base_uri": "https://localhost:8080/",
          "height": 286
        }
      },
      "source": [
        "plt.imshow(abs(InputField)**2, cmap=cmap)"
      ],
      "execution_count": 147,
      "outputs": [
        {
          "output_type": "execute_result",
          "data": {
            "text/plain": [
              "<matplotlib.image.AxesImage at 0x7fa4c1d4af60>"
            ]
          },
          "metadata": {
            "tags": []
          },
          "execution_count": 147
        },
        {
          "output_type": "display_data",
          "data": {
            "image/png": "[encoded data removed]",
            "text/plain": [
              "<Figure size 432x288 with 1 Axes>"
            ]
          },
          "metadata": {
            "tags": []
          }
        }
      ]
    },
    {
      "cell_type": "code",
      "metadata": {
        "id": "lFEw-lz2LKo6",
        "colab_type": "code",
        "colab": {}
      },
      "source": [
        "fft2, ifft2= np.fft.fft2, np.fft.ifft2"
      ],
      "execution_count": 0,
      "outputs": []
    },
    {
      "cell_type": "code",
      "metadata": {
        "id": "AaN-CXjELBQX",
        "colab_type": "code",
        "outputId": "2cd5264b-4925-43a0-d718-153bc080dd3c",
        "colab": {
          "base_uri": "https://localhost:8080/",
          "height": 52
        }
      },
      "source": [
        "####################################################################)#\n",
        "######                    PROPAGATION LOOP                  ########\n",
        "####################################################################\n",
        "tstart = time.time()\n",
        "for hh in range(nstepz):\n",
        "    \n",
        "    InputFieldTransform = fft2(InputField)\n",
        "    InputFieldTransform = InputFieldTransform*Propagator;\n",
        "    InputField = ifft2(InputFieldTransform)\n",
        "\n",
        "    MatrixAppoggio[..., hh] = abs(InputField)**2;\n",
        "    \n",
        "print(f\"Lasted {time.time()-tstart} seconds\")\n",
        "inputpower = np.sum(MatrixAppoggio[...,1])\n",
        "outputpower = np.sum(MatrixAppoggio[...,-1])\n",
        "\n",
        "energy_gap = (outputpower-inputpower)/(outputpower+inputpower)\n",
        "if energy_gap != 0:\n",
        "  print(energy_gap)"
      ],
      "execution_count": 149,
      "outputs": [
        {
          "output_type": "stream",
          "text": [
            "Lasted 28.110009908676147 seconds\n",
            "6.212020862233393e-15\n"
          ],
          "name": "stdout"
        }
      ]
    },
    {
      "cell_type": "code",
      "metadata": {
        "id": "29bGVWMCTCJs",
        "colab_type": "code",
        "outputId": "63dc74bb-5741-42a3-b716-b06afb739031",
        "colab": {
          "base_uri": "https://localhost:8080/",
          "height": 1000
        }
      },
      "source": [
        "plt.close()\n",
        "fig, ax = plt.subplots(figsize=(20, 20))\n",
        "ax.imshow(MatrixAppoggio[...,-1], cmap=cmap)"
      ],
      "execution_count": 150,
      "outputs": [
        {
          "output_type": "execute_result",
          "data": {
            "text/plain": [
              "<matplotlib.image.AxesImage at 0x7fa4c1d6f9b0>"
            ]
          },
          "metadata": {
            "tags": []
          },
          "execution_count": 150
        },
        {
          "output_type": "display_data",
          "data": {
            "image/png": "[encoded data removed]",
            "text/plain": [
              "<Figure size 1440x1440 with 1 Axes>"
            ]
          },
          "metadata": {
            "tags": []
          }
        }
      ]
    }
  ]
}