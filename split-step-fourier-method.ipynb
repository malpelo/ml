{
  "nbformat": 4,
  "nbformat_minor": 0,
  "metadata": {
    "colab": {
      "name": "split-step-fourier-method.ipynb",
      "provenance": [],
      "authorship_tag": "ABX9TyPawzoypaYXH6yIgd9Rb/8H",
      "include_colab_link": true
    },
    "kernelspec": {
      "name": "python3",
      "display_name": "Python 3"
    }
  },
  "cells": [
    {
      "cell_type": "markdown",
      "metadata": {
        "id": "view-in-github",
        "colab_type": "text"
      },
      "source": [
        "<a href=\"https://colab.research.google.com/github/raeubaen/ml/blob/master/split-step-fourier-method.ipynb\" target=\"_parent\"><img src=\"https://colab.research.google.com/assets/colab-badge.svg\" alt=\"Open In Colab\"/></a>"
      ]
    },
    {
      "cell_type": "code",
      "metadata": {
        "id": "4ApEC4rOAU6M",
        "colab_type": "code",
        "colab": {}
      },
      "source": [
        "import numpy as np\n",
        "import matplotlib.pyplot as plt\n",
        "import time\n",
        "plt.style.use('ggplot')"
      ],
      "execution_count": 0,
      "outputs": []
    },
    {
      "cell_type": "code",
      "metadata": {
        "id": "pw2UfXph_sRV",
        "colab_type": "code",
        "colab": {}
      },
      "source": [
        "################### Physical Parameters  ########################\n",
        "Ip = 4**2; #peak intensity               \n",
        "Ib = 1.0; #background illumination                             \n",
        "Lambda = 0.651e-6; #wavelength\n",
        "k0 = 2*np.pi/Lambda; #vacuum wavevector                 \n",
        "n0 = 1; #background index of refraction      \n",
        "Lz = 5; #computational length of sample    \n",
        "Lx = 30e-3; #computational width of sample          \n",
        "Chirp = -0.0*6*230000.0; #input linear chirp parameter         \n",
        "h = 0*0.67e-3;\n",
        "xshift = +h/2; # input position on x axis               \n",
        "w0 = 0.5e-3 # beam width of gaussian beam parameter"
      ],
      "execution_count": 0,
      "outputs": []
    },
    {
      "cell_type": "code",
      "metadata": {
        "id": "MBsNsnHsAFIl",
        "colab_type": "code",
        "colab": {}
      },
      "source": [
        "################## Computational Parameters #############\n",
        "nstepx = 1*1024; #number of transverse grid points\n",
        "nstepz = 20; #number of longitudinal propagation steps\n",
        "\n",
        "deltax = Lx/nstepx;\n",
        "deltaz = Lz/nstepz; #resolution in the z direction, IMPORTANT\n",
        "deltaf = 1/Lx; #spatial frequency step       "
      ],
      "execution_count": 0,
      "outputs": []
    },
    {
      "cell_type": "code",
      "metadata": {
        "id": "ZsTDXySsAuwB",
        "colab_type": "code",
        "colab": {}
      },
      "source": [
        "##########################  GENERAL GRID SET-UP  ##########################\n",
        "\n",
        "z = np.arange(0, Lz, deltaz) # z array            \n",
        "x = -Lx/2 +(np.arange(0, nstepx, 1))*deltax; # x array                    \n",
        "\n",
        "X, Y = np.meshgrid(x,x); #x and y grid"
      ],
      "execution_count": 0,
      "outputs": []
    },
    {
      "cell_type": "code",
      "metadata": {
        "id": "g8EzzNAjBAt7",
        "colab_type": "code",
        "colab": {}
      },
      "source": [
        "##########################  Dispersive Step Setup #########################\n",
        "#this is to get rid of fftshifts and the sort\n",
        "\n",
        "ntx = 0;             \n",
        "kx = np.zeros(nstepx)                                          \n",
        "for nn in range(nstepx):\n",
        "    ikx = nn - ntx;\n",
        "    kx[nn] = 2*np.pi*deltaf*ikx;\n",
        "    if nn + 1 - nstepx/2 == 0 :\n",
        "      ntx = nstepx;\n",
        "\n",
        "KX, KY = np.meshgrid(kx, kx);\n",
        "\n",
        "ArgumentOfPropagator  = lambda k: ((k*n0)**(-1)*(KX**2+KY**2))*(deltaz/2);             \n",
        "Propagator = lambda k: np.exp(1j*ArgumentOfPropagator(k))"
      ],
      "execution_count": 0,
      "outputs": []
    },
    {
      "cell_type": "code",
      "metadata": {
        "id": "kosYAmxLCiS2",
        "colab_type": "code",
        "colab": {}
      },
      "source": [
        "####################### INPUT FIELDS DEFINITION  #########################\n",
        "# gaussian beam\n",
        "InputField = np.sqrt(Ip)*np.exp(-((X)**2+(Y)**2)/(w0**2));\n",
        "InputPower = abs(InputField)**2\n",
        "\n",
        "MatrixAppoggio = np.zeros(shape=(nstepx, nstepx, nstepz))\n",
        "MatrixAppoggio[..., 0] = InputField"
      ],
      "execution_count": 0,
      "outputs": []
    },
    {
      "cell_type": "code",
      "metadata": {
        "id": "Y5REfGAKbVS8",
        "colab_type": "code",
        "colab": {}
      },
      "source": [
        "from matplotlib.colors import LinearSegmentedColormap\n",
        "'''\n",
        "To make more realistic plots we define a function\n",
        "returning approzimated colormap from wavelength.\n",
        "There is not a simple form for it, because of the\n",
        "complex mechanisms of human vision and trichromy\n",
        "'''\n",
        "def wavelength_to_rgb(wavelength):\n",
        "    '''\n",
        "    Based on code by Dan Bruton\n",
        "    http://www.physics.sfasu.edu/astro/color/spectra.html\n",
        "    Additionally alpha value set to 0.5 outside range\n",
        "    '''\n",
        "    wavelength = float(wavelength)\n",
        "    if wavelength < 380:\n",
        "        wavelength = 380.\n",
        "    if wavelength >750:\n",
        "        wavelength = 750.\n",
        "    if wavelength >= 380 and wavelength <= 440:\n",
        "        attenuation = 0.3 + 0.7 * (wavelength - 380) / (440 - 380)\n",
        "        R = ((-(wavelength - 440) / (440 - 380)) * attenuation)\n",
        "        G = 0.0\n",
        "        B = (1.0 * attenuation)\n",
        "    elif wavelength >= 440 and wavelength <= 490:\n",
        "        R = 0.0\n",
        "        G = ((wavelength - 440) / (490 - 440))\n",
        "        B = 1.0\n",
        "    elif wavelength >= 490 and wavelength <= 510:\n",
        "        R = 0.0\n",
        "        G = 1.0\n",
        "        B = (-(wavelength - 510) / (510 - 490))\n",
        "    elif wavelength >= 510 and wavelength <= 580:\n",
        "        R = ((wavelength - 510) / (580 - 510))\n",
        "        G = 1.0\n",
        "        B = 0.0\n",
        "    elif wavelength >= 580 and wavelength <= 645:\n",
        "        R = 1.0\n",
        "        G = (-(wavelength - 645) / (645 - 580))\n",
        "        B = 0.0\n",
        "    elif wavelength >= 645 and wavelength <= 750:\n",
        "        attenuation = 0.3 + 0.7 * (750 - wavelength) / (750 - 645)\n",
        "        R = (1.0 * attenuation)\n",
        "        G = 0.0\n",
        "        B = 0.0\n",
        "    else:\n",
        "        R = 0.0\n",
        "        G = 0.0\n",
        "        B = 0.0\n",
        "    return np.array([R, G, B])\n",
        "\n",
        "def wavelength_to_cmap(wavelength):\n",
        "  R, G, B = wavelength_to_rgb(wavelength)\n",
        "  cdict = {\n",
        "        'red':  [[0.0,  0.0, 0.0],\n",
        "                  [1.0,  R, R]],\n",
        "        'green': [[0.0,  0.0, 0.0],\n",
        "                  [1.0,  G, G]],\n",
        "        'blue':  [[0.0,  0.0, 0.0],\n",
        "                  [1.0,  B, B]]\n",
        "            }\n",
        "  return LinearSegmentedColormap('Cmap', segmentdata=cdict, N=256)"
      ],
      "execution_count": 0,
      "outputs": []
    },
    {
      "cell_type": "code",
      "metadata": {
        "id": "owEZ9APWbvvU",
        "colab_type": "code",
        "colab": {}
      },
      "source": [
        "cmap = wavelength_to_cmap(Lambda*1e9) #light at the wavelength used in our experiment"
      ],
      "execution_count": 0,
      "outputs": []
    },
    {
      "cell_type": "code",
      "metadata": {
        "id": "1dEfDESEj0x8",
        "colab_type": "code",
        "colab": {}
      },
      "source": [
        "# we define a function to plot \n",
        "def plot(Power, figsize=(15, 15), width=15, unit=\"mm\", _cmap=cmap):\n",
        "  fig, ax = plt.subplots(figsize=figsize)\n",
        "  ax.grid(False)\n",
        "  ax.set(xlabel=f\"x ({unit})\", ylabel=f\"y ({unit})\")\n",
        "  ax.imshow(Power, cmap=_cmap, extent=[-width,width,-width,width])"
      ],
      "execution_count": 0,
      "outputs": []
    },
    {
      "cell_type": "code",
      "metadata": {
        "id": "ox80IBYHgI6U",
        "colab_type": "code",
        "outputId": "0000781a-d0bf-4841-abc7-a5d8fd8fb71b",
        "colab": {
          "base_uri": "https://localhost:8080/",
          "height": 884
        }
      },
      "source": [
        "plot(InputPower)"
      ],
      "execution_count": 44,
      "outputs": [
        {
          "output_type": "display_data",
          "data": {
            "image/png": "[encoded data removed]",
            "text/plain": [
              "<Figure size 1080x1080 with 1 Axes>"
            ]
          },
          "metadata": {
            "tags": []
          }
        }
      ]
    },
    {
      "cell_type": "code",
      "metadata": {
        "id": "lFEw-lz2LKo6",
        "colab_type": "code",
        "colab": {}
      },
      "source": [
        "fft2, ifft2= np.fft.fft2, np.fft.ifft2"
      ],
      "execution_count": 0,
      "outputs": []
    },
    {
      "cell_type": "code",
      "metadata": {
        "id": "AaN-CXjELBQX",
        "colab_type": "code",
        "outputId": "384060fc-af9b-4364-9e2f-bce04379c666",
        "colab": {
          "base_uri": "https://localhost:8080/",
          "height": 34
        }
      },
      "source": [
        "######                    PROPAGATION LOOP                  ########\n",
        "def propagate(InputField, k):\n",
        "  PropagatingField = InputField.copy()\n",
        "  tstart = time.time()\n",
        "  _Propagator = Propagator(k)\n",
        "  for hh in range(nstepz):\n",
        "      \n",
        "      PropagatingFieldTransform = fft2(PropagatingField)*_Propagator\n",
        "      PropagatingField = ifft2(PropagatingFieldTransform)\n",
        "      MatrixAppoggio[..., hh] = np.abs(PropagatingField)\n",
        "\n",
        "  print(f\"Lasted {time.time()-tstart} seconds\")\n",
        "  return PropagatingField\n",
        "\n",
        "OutputField = propagate(InputField, k0)\n",
        "OutputPower = abs(OutputField)**2\n",
        "\n",
        "OutputTotalPower = np.sum(OutputPower) # total power on output plane\n",
        "InputTotalPower = np.sum(InputPower) # total power on input plane\n",
        "gap = (OutputTotalPower-InputTotalPower)/(OutputTotalPower+InputTotalPower)\n",
        "\n",
        "if abs(gap) > 1e-14:\n",
        "  print(gap)"
      ],
      "execution_count": 155,
      "outputs": [
        {
          "output_type": "stream",
          "text": [
            "Lasted 2.63318133354187 seconds\n"
          ],
          "name": "stdout"
        }
      ]
    },
    {
      "cell_type": "code",
      "metadata": {
        "id": "29bGVWMCTCJs",
        "colab_type": "code",
        "outputId": "bf7ac5b8-4838-4bfc-8c93-217e7f7328d6",
        "colab": {
          "base_uri": "https://localhost:8080/",
          "height": 884
        }
      },
      "source": [
        "plt.close()\n",
        "#just for example, a plot with blue light\n",
        "plot(OutputPower) "
      ],
      "execution_count": 141,
      "outputs": [
        {
          "output_type": "display_data",
          "data": {
            "image/png": "[encoded data removed]",
            "text/plain": [
              "<Figure size 1080x1080 with 1 Axes>"
            ]
          },
          "metadata": {
            "tags": []
          }
        }
      ]
    },
    {
      "cell_type": "code",
      "metadata": {
        "id": "p7aluHOF4gwe",
        "colab_type": "code",
        "outputId": "389a2f98-2545-4ec3-9032-3335effb65bb",
        "colab": {
          "base_uri": "https://localhost:8080/",
          "height": 34
        }
      },
      "source": [
        "np.sum(MatrixAppoggio[..., -1]-OutputField)\n",
        "# controllo sia tutto apposto - deve fare tipo 0"
      ],
      "execution_count": 142,
      "outputs": [
        {
          "output_type": "execute_result",
          "data": {
            "text/plain": [
              "-1.8855511949414205e-13j"
            ]
          },
          "metadata": {
            "tags": []
          },
          "execution_count": 142
        }
      ]
    },
    {
      "cell_type": "code",
      "metadata": {
        "id": "kmjdawJqI7r4",
        "colab_type": "code",
        "outputId": "e78e0fec-ae73-42f9-92b9-8ad3ec0587cf",
        "colab": {
          "base_uri": "https://localhost:8080/",
          "height": 953
        }
      },
      "source": [
        "def propagate_and_get_rgb(InputField, wavelength):\n",
        "  k = 2*np.pi/wavelength\n",
        "  OutputField = propagate(InputField, k)\n",
        "  P = abs(OutputField)**2\n",
        "  rgb = np.stack((P,)*3, axis=-1)/np.max(P)\n",
        "  return rgb*wavelength_to_rgb(wavelength*1e9)\n",
        "\n",
        "InputField1 = np.sqrt(Ip)*np.exp(1j*Chirp*X-((X-xshift)**2+(Y)**2)/(49*w0**2)); #7x larger\n",
        "InputField2 = np.sqrt(Ip)*np.exp(1j*Chirp*X-((X-xshift)**2+(Y)**2)/(w0**2));\n",
        "\n",
        "RedPower = propagate_and_get_rgb(InputField1, 0.645e-6)\n",
        "BluePower = propagate_and_get_rgb(InputField, 0.44e-6)\n",
        "plot(RedPower+BluePower) #purple point with red cirle \n",
        "# red + blue = purple"
      ],
      "execution_count": 34,
      "outputs": [
        {
          "output_type": "stream",
          "text": [
            "/usr/local/lib/python3.6/dist-packages/ipykernel_launcher.py:10: ComplexWarning: Casting complex values to real discards the imaginary part\n",
            "  # Remove the CWD from sys.path while we load stuff.\n"
          ],
          "name": "stderr"
        },
        {
          "output_type": "stream",
          "text": [
            "Lasted 2.1956653594970703 seconds\n",
            "Lasted 2.210221767425537 seconds\n"
          ],
          "name": "stdout"
        },
        {
          "output_type": "display_data",
          "data": {
            "image/png": "[encoded data removed]",
            "text/plain": [
              "<Figure size 1080x1080 with 1 Axes>"
            ]
          },
          "metadata": {
            "tags": []
          }
        }
      ]
    },
    {
      "cell_type": "code",
      "metadata": {
        "id": "OpuXbrPPHYQP",
        "colab_type": "code",
        "colab": {
          "base_uri": "https://localhost:8080/",
          "height": 52
        },
        "outputId": "e56e3a7c-3dee-4889-92df-0779388336c7"
      },
      "source": [
        "print(MatrixAppoggio[511, 511, 18])\n",
        "np.max(MatrixAppoggio[..., 18])"
      ],
      "execution_count": 157,
      "outputs": [
        {
          "output_type": "stream",
          "text": [
            "0.9842820804930459\n"
          ],
          "name": "stdout"
        },
        {
          "output_type": "execute_result",
          "data": {
            "text/plain": [
              "0.9846917400870359"
            ]
          },
          "metadata": {
            "tags": []
          },
          "execution_count": 157
        }
      ]
    },
    {
      "cell_type": "code",
      "metadata": {
        "id": "djQiAUNj8tbo",
        "colab_type": "code",
        "colab": {}
      },
      "source": [
        "step = 1 #da modificare\n",
        "flatx = []\n",
        "flaty = []\n",
        "module = []\n",
        "for i in range(1024):\n",
        "  for j in range(1024):\n",
        "    p = MatrixAppoggio[i, j, _z]\n",
        "    if np.random.rand() < p:\n",
        "        flatx.append(x[i])\n",
        "        flaty.append(x[j])\n",
        "        module.append(p)"
      ],
      "execution_count": 0,
      "outputs": []
    },
    {
      "cell_type": "code",
      "metadata": {
        "id": "3i4lFkGWA5Dn",
        "colab_type": "code",
        "colab": {
          "base_uri": "https://localhost:8080/",
          "height": 282
        },
        "outputId": "8ef2ef49-5916-4eb4-e859-a8f69da07a7a"
      },
      "source": [
        "perm = np.random.permutation(len(_x))[:100]\n",
        "_flatx = np.asarray(flatx)[perm]\n",
        "_flaty = np.asarray(flaty)[perm]\n",
        "_module = np.asarray(module)[perm]\n",
        "\n",
        "plt.scatter(np.sqrt(_x**2+_y**2), _P)"
      ],
      "execution_count": 207,
      "outputs": [
        {
          "output_type": "execute_result",
          "data": {
            "text/plain": [
              "<matplotlib.collections.PathCollection at 0x7fa976ac8fd0>"
            ]
          },
          "metadata": {
            "tags": []
          },
          "execution_count": 207
        },
        {
          "output_type": "display_data",
          "data": {
            "image/png": "[encoded data removed]",
            "text/plain": [
              "<Figure size 432x288 with 1 Axes>"
            ]
          },
          "metadata": {
            "tags": []
          }
        }
      ]
    },
    {
      "cell_type": "code",
      "metadata": {
        "id": "UtUxn04VB57g",
        "colab_type": "code",
        "colab": {}
      },
      "source": [
        "from google.colab import files\n",
        "import pandas as pd\n",
        "df = pd.DataFrame({\n",
        "    \"x\": _flatx,\n",
        "    \"y\": _flaty,\n",
        "    \"field\": _module\n",
        "})\n",
        "df.to_csv(\"export.csv\")\n",
        "files.download('export.csv') "
      ],
      "execution_count": 0,
      "outputs": []
    }
  ]
}