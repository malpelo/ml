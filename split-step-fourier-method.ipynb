{
  "nbformat": 4,
  "nbformat_minor": 0,
  "metadata": {
    "colab": {
      "name": "Untitled2.ipynb",
      "provenance": [],
      "authorship_tag": "ABX9TyMSQQdjm0VCO3GuUvrrEaf0",
      "include_colab_link": true
    },
    "kernelspec": {
      "name": "python3",
      "display_name": "Python 3"
    }
  },
  "cells": [
    {
      "cell_type": "markdown",
      "metadata": {
        "id": "view-in-github",
        "colab_type": "text"
      },
      "source": [
        "<a href=\"https://colab.research.google.com/github/raeubaen/ml/blob/master/split-step-fourier-method.ipynb\" target=\"_parent\"><img src=\"https://colab.research.google.com/assets/colab-badge.svg\" alt=\"Open In Colab\"/></a>"
      ]
    },
    {
      "cell_type": "code",
      "metadata": {
        "id": "4ApEC4rOAU6M",
        "colab_type": "code",
        "colab": {}
      },
      "source": [
        "import numpy as np\n",
        "import matplotlib.pyplot as plt"
      ],
      "execution_count": 0,
      "outputs": []
    },
    {
      "cell_type": "code",
      "metadata": {
        "id": "pw2UfXph_sRV",
        "colab_type": "code",
        "colab": {}
      },
      "source": [
        "################### Physical Parameters  ########################\n",
        "Ip = 4**2;                           #peak intensity\n",
        "Ib = 1.0;                             #background illumination\n",
        "Lambda = 0.5e-6;                      #wavelength\n",
        "k0 = 2*np.pi/Lambda;                  #vacuum wavevector\n",
        "n0 = 1;                               #background index of refraction\n",
        "w0 = 0.5e-3;\n",
        "\n",
        "Lz = 5;                               #computational length of sample\n",
        "Lx = 30e-3;                           #computational width of sample\n",
        "\n",
        "Chirp = -0.0*6*230000.0;              #input linear chirp parameter\n",
        "\n",
        "# inputposition=-0*10^(-6);           #input position\n",
        "h = 0.67e-3;\n",
        "inputposition = +h/2;                 #input position"
      ],
      "execution_count": 0,
      "outputs": []
    },
    {
      "cell_type": "code",
      "metadata": {
        "id": "MBsNsnHsAFIl",
        "colab_type": "code",
        "colab": {}
      },
      "source": [
        "################## Computational Parameters #############\n",
        "\n",
        "nstepx = 1*1024;                #number of transverse grid points\n",
        "nstepz = 5;     #200            #number of longitudinal propagation steps\n",
        "deltax = Lx/nstepx;\n",
        "deltaz = Lz/nstepz;    #the resolution in the z direction, IMPORTANT\n",
        "deltaf = 1/Lx;                  #spatial frequency step"
      ],
      "execution_count": 0,
      "outputs": []
    },
    {
      "cell_type": "code",
      "metadata": {
        "id": "ZsTDXySsAuwB",
        "colab_type": "code",
        "colab": {}
      },
      "source": [
        "##########################  GENERAL GRID SET-UP  ##########################\n",
        "\n",
        "z = np.arange(0, Lz, deltaz)                #z grid\n",
        "x = -Lx/2 + deltax/2+(np.arange(0, nstepx, 1))*deltax;                       # x array\n",
        "\n",
        "X, Y = np.meshgrid(x,x);"
      ],
      "execution_count": 0,
      "outputs": []
    },
    {
      "cell_type": "code",
      "metadata": {
        "id": "g8EzzNAjBAt7",
        "colab_type": "code",
        "colab": {}
      },
      "source": [
        "##########################  Dispersive Step Setup #########################\n",
        "\n",
        "ntx = 0;             \n",
        "kx = np.zeros(nstepx)                                          #this is to get rid of fftshifts and the sort\n",
        "for nn in range(nstepx):\n",
        "    ikx = nn - ntx;\n",
        "    kx[nn] = 2*np.pi*deltaf*ikx;\n",
        "    if nn + 1 - nstepx/2 == 0 :\n",
        "      ntx = nstepx;\n",
        "\n",
        "KX, KY = np.meshgrid(kx, kx);\n",
        "\n",
        "ArgumentOfPropagator  =  ((k0*n0)**(-1)*(KX**2+KY**2))*(deltaz/4.);                  #### propagao per dz/2 (il 4 � perch� c'� anche un fattore 2 nel propagatore)\n",
        "Propagator = np.cos(ArgumentOfPropagator)+1j*np.sin(ArgumentOfPropagator);"
      ],
      "execution_count": 0,
      "outputs": []
    },
    {
      "cell_type": "code",
      "metadata": {
        "id": "kosYAmxLCiS2",
        "colab_type": "code",
        "colab": {
          "base_uri": "https://localhost:8080/",
          "height": 265
        },
        "outputId": "df8c6d73-61cf-4b8c-8674-583904b57225"
      },
      "source": [
        "####################### INPUT FIELDS DEFINITION  #########################\n",
        "\n",
        "# InputField = sqrt(Ip)*exp(i*Chirp*x-(x-inputposition).^2./(w0^2));    #input field shape\n",
        "InputField = np.sqrt(Ip)*np.exp(-(X-0*inputposition)**2/(w0**2)-(Y-0*inputposition)**2/(w0**2));  #input field shape\n",
        "InputField = 1+0*X;Radius = 1e-3;\n",
        "InputField[np.sqrt(X**2+Y**2)>Radius] = 0;\n",
        "\n",
        "\n",
        "# InputFields = sqrt(Ip)*(exp(-(x-inputposition).^20./(w0^20))+exp(-(x-inputposition+h).^20./(w0^20))); #input field shape\n",
        "plt.pcolor(X,Y,InputField**2)\n",
        "\n",
        "# [ZZ XX] = meshgrid(z,x);\n",
        "# MatrixAppoggio = 0.*ZZ+NaN;\n",
        "# MatrixAppoggio2 = 0.*ZZ+NaN;\n",
        "\n",
        "MatrixAppoggio = np.zeros(shape=(nstepx, nstepx, nstepz))\n",
        "MatrixAppoggio[..., 0] = np.abs(InputField)**2"
      ],
      "execution_count": 56,
      "outputs": [
        {
          "output_type": "display_data",
          "data": {
            "image/png": "[encoded data removed]",
            "text/plain": [
              "<Figure size 432x288 with 1 Axes>"
            ]
          },
          "metadata": {
            "tags": [],
            "needs_background": "light"
          }
        }
      ]
    },
    {
      "cell_type": "code",
      "metadata": {
        "id": "lFEw-lz2LKo6",
        "colab_type": "code",
        "colab": {}
      },
      "source": [
        "fft2, ifft2= np.fft.fft2, np.fft.ifft2"
      ],
      "execution_count": 0,
      "outputs": []
    },
    {
      "cell_type": "code",
      "metadata": {
        "id": "AaN-CXjELBQX",
        "colab_type": "code",
        "colab": {
          "base_uri": "https://localhost:8080/",
          "height": 132
        },
        "outputId": "ec383e2b-c817-4cf5-be9f-8969bf7b280a"
      },
      "source": [
        "####################################################################\n",
        "######                    PROPAGATION LOOP                  ########\n",
        "####################################################################\n",
        "for hh in range(nstepz):\n",
        "    \n",
        "    ################### DISPERSIVE HALF STEP ############################\n",
        "    \n",
        "    InputFieldTransform = fft2(InputField, nstepx, nstepx);\n",
        "    \n",
        "    InputFieldTransform = InputFieldTransform*Propagator;\n",
        "    InputField = ifft2(InputFieldTransform, nstepx, nstepx);\n",
        "    \n",
        "    ################### DISPERSIVE HALF STEP ############################\n",
        "    InputFieldTransform = fft2(InputField, nstepx, nstepx);\n",
        "    #InputFieldTransform = fftshift(InputFieldTransform);\n",
        "    InputFieldTransform = InputFieldTransform*Propagator;\n",
        "    InputField = ifft2(InputFieldTransform, nstepx, nstepx);\n",
        "    #InputField = ifftshift(InputField);\n",
        "    \n",
        "    \n",
        "    MatrixAppoggio[...,1+hh] = abs(InputField)**2;\n",
        "    figure(22),\n",
        "    pcolor(X*1e3,Y*1e3,abs(InputField).^2),shading interp\n",
        "    title(['z  =  ' num2str(z(hh+1)) ' m'])\n",
        "    #       title(['current z  =  ' num2str(z(hh+1))])\n",
        "    xlabel('x (mm)')\n",
        "    ylabel('y (mm)')\n",
        "    set(gca,'fontsize',18)\n",
        "    set(gca,'TickDir','out')\n",
        "    set(gca,'layer','top')\n",
        "    #       xlim([0 Lz])\n",
        "    #       ylim([-8e3*w0 8e3*w0])\n",
        "    #       subplot(2,1,2)\n",
        "    #       pcolor(z,1e3*x,MatrixAppoggio2),shading interp\n",
        "    #       title(['current z  =  ' num2str(z(hh+1))])\n",
        "    #          xlabel('z (m)')\n",
        "    #          ylabel('x (mm)')\n",
        "    #          set(gca,'fontsize',18)\n",
        "    #          set(gca,'TickDir','out')\n",
        "    #          set(gca,'layer','top')\n",
        "    #       xlim([0 Lz])\n",
        "    #       ylim([-10e3*w0 10e3*w0])\n",
        "    pause(0.0011)\n",
        "    \n",
        "    \n",
        "end \n"
      ],
      "execution_count": 62,
      "outputs": [
        {
          "output_type": "error",
          "ename": "SyntaxError",
          "evalue": "ignored",
          "traceback": [
            "\u001b[0;36m  File \u001b[0;32m\"<ipython-input-62-f4bdeb5c99e1>\"\u001b[0;36m, line \u001b[0;32m7\u001b[0m\n\u001b[0;31m    InputFieldTransform = InputFieldTransform.*Propagator;\u001b[0m\n\u001b[0m                                              ^\u001b[0m\n\u001b[0;31mSyntaxError\u001b[0m\u001b[0;31m:\u001b[0m invalid syntax\n"
          ]
        }
      ]
    }
  ]
}