{
  "nbformat": 4,
  "nbformat_minor": 0,
  "metadata": {
    "colab": {
      "name": "NB_GMM_iris_LC2_2020.ipynb",
      "provenance": [],
      "collapsed_sections": []
    },
    "kernelspec": {
      "display_name": "Python 3",
      "language": "python",
      "name": "python3"
    },
    "language_info": {
      "codemirror_mode": {
        "name": "ipython",
        "version": 3
      },
      "file_extension": ".py",
      "mimetype": "text/x-python",
      "name": "python",
      "nbconvert_exporter": "python",
      "pygments_lexer": "ipython3",
      "version": "3.5.2"
    }
  },
  "cells": [
    {
      "cell_type": "markdown",
      "metadata": {
        "colab_type": "text",
        "id": "tFr3s1eh9_Mi"
      },
      "source": [
        "# Clustering con Gaussian Mixture Model applicato al dataset iris\n",
        "da esempio originale di Oscar Contreras Carrasco"
      ]
    },
    {
      "cell_type": "code",
      "metadata": {
        "colab_type": "code",
        "id": "irGOL_Dcw8ja",
        "colab": {}
      },
      "source": [
        "import numpy as np\n",
        "import pandas as pd\n",
        "\n",
        "import imageio\n",
        "import matplotlib.animation as ani\n",
        "import matplotlib.cm as cmx\n",
        "import matplotlib.colors as colors\n",
        "import matplotlib.pyplot as plt\n",
        "import matplotlib as mpl\n",
        "from matplotlib.patches import Ellipse\n",
        "from PIL import Image\n",
        "from sklearn.cluster import KMeans"
      ],
      "execution_count": 0,
      "outputs": []
    },
    {
      "cell_type": "markdown",
      "metadata": {
        "colab_type": "text",
        "id": "hN_TKq1kVRJT"
      },
      "source": [
        "**Iris dataset da scikit-learn**\n",
        "\n",
        "Consiste in 150 istanze di Iris misurate da Edgar Anderson e classificate secondo tre specie: *Iris setosa*, *Iris virginica* e *Iris versicolor*. Le quattro variabili considerate sono la lunghezza e la larghezza del sepalo e del petalo"
      ]
    },
    {
      "cell_type": "code",
      "metadata": {
        "colab_type": "code",
        "id": "mcCzJFnT_fRQ",
        "outputId": "6b99319c-710f-4959-bf77-99da3f5a096c",
        "colab": {
          "base_uri": "https://localhost:8080/",
          "height": 382
        }
      },
      "source": [
        "from sklearn import datasets\n",
        "iris = datasets.load_iris()\n",
        "X = iris.data\n",
        "#stampa le feature reative ai primi 20 eventi del dataset\n",
        "print(pd.DataFrame(X[:20]).to_string(index=False))"
      ],
      "execution_count": 2,
      "outputs": [
        {
          "output_type": "stream",
          "text": [
            "   0    1    2    3\n",
            " 5.1  3.5  1.4  0.2\n",
            " 4.9  3.0  1.4  0.2\n",
            " 4.7  3.2  1.3  0.2\n",
            " 4.6  3.1  1.5  0.2\n",
            " 5.0  3.6  1.4  0.2\n",
            " 5.4  3.9  1.7  0.4\n",
            " 4.6  3.4  1.4  0.3\n",
            " 5.0  3.4  1.5  0.2\n",
            " 4.4  2.9  1.4  0.2\n",
            " 4.9  3.1  1.5  0.1\n",
            " 5.4  3.7  1.5  0.2\n",
            " 4.8  3.4  1.6  0.2\n",
            " 4.8  3.0  1.4  0.1\n",
            " 4.3  3.0  1.1  0.1\n",
            " 5.8  4.0  1.2  0.2\n",
            " 5.7  4.4  1.5  0.4\n",
            " 5.4  3.9  1.3  0.4\n",
            " 5.1  3.5  1.4  0.3\n",
            " 5.7  3.8  1.7  0.3\n",
            " 5.1  3.8  1.5  0.3\n"
          ],
          "name": "stdout"
        }
      ]
    },
    {
      "cell_type": "markdown",
      "metadata": {
        "colab_type": "text",
        "id": "Vgz6E8z9VaVJ"
      },
      "source": [
        "**Parte 1: implementazione \"a mano\" del modello**\n",
        "\n",
        "Gaussian density function (può essere fatto usando direttamente la funzione di numpy qui lo facciamo noi come esempio)\n",
        "\n",
        "\\begin{equation}\n",
        "\\large\n",
        "p(\\mathbf x | \\mathbf\\mu, \\mathbf\\Sigma) = \\frac 1 {({2\\pi})^{n/2}|\\Sigma|^{1/2}}\\exp\\left(-\\frac 1 2 (\\mathbf x -\\mathbf\\mu)^T\\mathbf\\Sigma^{-1}(\\mathbf x -\\mathbf\\mu)\\right)\n",
        "\\end{equation}\n"
      ]
    },
    {
      "cell_type": "code",
      "metadata": {
        "colab_type": "code",
        "id": "Wk9WlrFVHtcN",
        "colab": {}
      },
      "source": [
        "def gaussian(X, mu, cov):\n",
        "    n = X.shape[1] #lunghezza secondo indice\n",
        "    diff = (X - mu).T\n",
        "    return np.diagonal(1 / ((2 * np.pi) ** (n / 2) * np.linalg.det(cov) ** 0.5)*\n",
        "                       np.exp(-0.5*np.dot(np.dot(diff.T,np.linalg.inv(cov)),diff))\n",
        "                       ).reshape(-1, 1)"
      ],
      "execution_count": 0,
      "outputs": []
    },
    {
      "cell_type": "code",
      "metadata": {
        "id": "XPsVbitPaWlP",
        "colab_type": "code",
        "colab": {}
      },
      "source": [
        "#np.diagonal(np.exp(-0.5*np.dot(np.dot(x0,np.linalg.inv(cov)),x0.T))).reshape(-1,1)"
      ],
      "execution_count": 0,
      "outputs": []
    },
    {
      "cell_type": "code",
      "metadata": {
        "colab_type": "code",
        "id": "7PHi0Tu4xQAS",
        "outputId": "ce8efb68-c7b4-46b5-8f15-2e780063e2f1",
        "colab": {
          "base_uri": "https://localhost:8080/",
          "height": 104
        }
      },
      "source": [
        "#test\n",
        "x0 = np.array([[0.05, 1.413, 0.212], [0.85, -0.3, 1.11], \n",
        "               [11.1, 0.4, 1.5], [0.27, 0.12, 1.44], [88, 12.33, 1.44]])\n",
        "mu = np.mean(x0, axis=0) \n",
        "cov = np.dot((x0 - mu).T, x0 - mu) / (x0.shape[0] - 1) #sperimentale\n",
        "\n",
        "y = gaussian(x0, mu=mu, cov=cov)\n",
        "y"
      ],
      "execution_count": 4,
      "outputs": [
        {
          "output_type": "execute_result",
          "data": {
            "text/plain": [
              "array([[0.00159853],\n",
              "       [0.00481869],\n",
              "       [0.00276259],\n",
              "       [0.0014309 ],\n",
              "       [0.00143998]])"
            ]
          },
          "metadata": {
            "tags": []
          },
          "execution_count": 4
        }
      ]
    },
    {
      "cell_type": "markdown",
      "metadata": {
        "colab_type": "text",
        "id": "NsxI7u2NXpWY"
      },
      "source": [
        "__Step 1__\n",
        "\n",
        "Inizializzazione dei parametri $\\pi_k$, $\\mu_k$, e $\\Sigma_k$. Come guess iniziale addestriamo un modello di k-means clustering e utilizziamo i centroidi trovati dal modello come punto di partenza ... "
      ]
    },
    {
      "cell_type": "code",
      "metadata": {
        "colab_type": "code",
        "id": "XEZjEtUqRfgG",
        "colab": {}
      },
      "source": [
        "def initialize_clusters(X, n_clusters):\n",
        "    clusters = []\n",
        "    idx = np.arange(X.shape[0])\n",
        "    \n",
        "    # We use the KMeans centroids to initialise the GMM\n",
        "    \n",
        "    kmeans = KMeans().fit(X)\n",
        "    mu_k = kmeans.cluster_centers_\n",
        "    \n",
        "    for i in range(n_clusters):\n",
        "        clusters.append({\n",
        "            'pi_k': 1.0 / n_clusters,\n",
        "            'mu_k': mu_k[i],\n",
        "            'cov_k': np.identity(X.shape[1], dtype=np.float64)\n",
        "        })\n",
        "        \n",
        "    return clusters"
      ],
      "execution_count": 0,
      "outputs": []
    },
    {
      "cell_type": "markdown",
      "metadata": {
        "colab_type": "text",
        "id": "b4HIKt0OYCex"
      },
      "source": [
        "**Step 2 (Expectation step)**\n",
        "\n",
        "calcolo di $\\gamma(z_{nk})$ tramite l'espressione:\n",
        "\n",
        "\\begin{equation}\n",
        "\\large\n",
        "\\gamma{(z_{nk})}=\\frac {\\pi_k\\mathcal N(\\mathbf x_n| \\mathbf\\mu_k, \\mathbf\\Sigma_k)}{\\sum_{j=1}^K\\pi_j\\mathcal N(\\mathbf x_n| \\mathbf\\mu_j, \\mathbf\\Sigma_j)}\n",
        "\\end{equation}\n",
        "\n",
        "per comodità calcoliamo il denominatore come somma di tutti i termini nel numeratore e salviamo (servirà dopo nel calcolo della likelihood) il totale nella variabile __totals__"
      ]
    },
    {
      "cell_type": "code",
      "metadata": {
        "colab_type": "code",
        "id": "78Xqp2nSGugd",
        "colab": {}
      },
      "source": [
        "def expectation_step(X, clusters):\n",
        "    totals = np.zeros((X.shape[0], 1), dtype=np.float64)\n",
        "    \n",
        "    for cluster in clusters:\n",
        "        pi_k = cluster['pi_k']\n",
        "        mu_k = cluster['mu_k']\n",
        "        cov_k = cluster['cov_k']\n",
        "        \n",
        "        gamma_nk = (pi_k * gaussian(X, mu_k, cov_k)).astype(np.float64)\n",
        "        \n",
        "        for i in range(X.shape[0]):\n",
        "            totals[i] += gamma_nk[i]\n",
        "        \n",
        "        cluster['gamma_nk'] = gamma_nk\n",
        "        cluster['totals'] = totals\n",
        "        \n",
        "    \n",
        "    for cluster in clusters:\n",
        "        cluster['gamma_nk'] /= cluster['totals']"
      ],
      "execution_count": 0,
      "outputs": []
    },
    {
      "cell_type": "markdown",
      "metadata": {
        "colab_type": "text",
        "id": "_VHT5Ph1ZAFu"
      },
      "source": [
        "**Step 3 (Maximization step):**\n",
        "\n",
        "calcolo:\n",
        "\n",
        "\\begin{equation}\n",
        "\\large\n",
        "N_k=\\sum_{n=1}^N\\gamma({z_{nk}})\n",
        "\\end{equation}\n",
        "\n",
        "e dei parametri aggiornati:\n",
        "\n",
        "\\begin{equation}\n",
        "\\large\n",
        "\\pi_k^*=\\frac {N_k} N\n",
        "\\end{equation}\n",
        "\n",
        "\\begin{equation}\n",
        "\\large\n",
        "\\mu_k^*=\\frac 1 {N_k} \\sum_{n=1}^N\\gamma({z_{nk}})\\mathbf x_n\n",
        "\\end{equation}\n",
        "\n",
        "\\begin{equation}\n",
        "\\large\n",
        "\\Sigma_k^*=\\frac 1 {N_k} \\sum_{n=1}^N\\gamma({z_{nk}})(\\mathbf x_n-\\mathbf\\mu_k)(\\mathbf x_n-\\mathbf\\mu_k)^T\n",
        "\\end{equation}"
      ]
    },
    {
      "cell_type": "code",
      "metadata": {
        "colab_type": "code",
        "id": "7Z7K5jrEJHHu",
        "colab": {}
      },
      "source": [
        "def maximization_step(X, clusters):\n",
        "    N = float(X.shape[0])\n",
        "  \n",
        "    for cluster in clusters:\n",
        "        gamma_nk = cluster['gamma_nk']\n",
        "        cov_k = np.zeros((X.shape[1], X.shape[1]))\n",
        "        \n",
        "        N_k = np.sum(gamma_nk, axis=0)\n",
        "        \n",
        "        pi_k = N_k / N\n",
        "        mu_k = np.sum(gamma_nk * X, axis=0) / N_k\n",
        "        \n",
        "        for j in range(X.shape[0]):\n",
        "            diff = (X[j] - mu_k).reshape(-1, 1)\n",
        "            cov_k += gamma_nk[j] * np.dot(diff, diff.T)\n",
        "            \n",
        "        cov_k /= N_k\n",
        "        \n",
        "        cluster['pi_k'] = pi_k\n",
        "        cluster['mu_k'] = mu_k\n",
        "        cluster['cov_k'] = cov_k"
      ],
      "execution_count": 0,
      "outputs": []
    },
    {
      "cell_type": "markdown",
      "metadata": {
        "colab_type": "text",
        "id": "Qzbylmjoa_61"
      },
      "source": [
        "**Definizione della log-likelihood del modello:**\n",
        "\n",
        "\\begin{equation}\n",
        "\\large\n",
        "\\ln p(\\mathbf X)=\\sum_{n=1}^N\\ln\\sum_{k=1}^K\\pi_k\\mathcal N(\\mathbf x_n|\\mu_k,\\Sigma_k)\n",
        "\\end{equation}\n",
        "\n",
        "poiché la seconda sommatoria corrisponde al denominatore in $\\gamma$ calcolato nel __expectation_step__ e disponibile in __totals__ non dobbiamo ricalcolarlo qui ..."
      ]
    },
    {
      "cell_type": "code",
      "metadata": {
        "colab_type": "code",
        "id": "vzVrZY6PTMR8",
        "colab": {}
      },
      "source": [
        "def get_likelihood(X, clusters):\n",
        "    likelihood = []\n",
        "    sample_likelihoods = np.log(np.array([cluster['totals'] for cluster in clusters]))\n",
        "    return np.sum(sample_likelihoods), sample_likelihoods"
      ],
      "execution_count": 0,
      "outputs": []
    },
    {
      "cell_type": "markdown",
      "metadata": {
        "colab_type": "text",
        "id": "oGSkyh33bNu8"
      },
      "source": [
        "**Algoritmo:** \n",
        "si itera la procedura per un numero fissato di epoche __n_epochs__ e si monitora il valore della log-likelihood per vedere quanto questa raggiunge un plateaux ..."
      ]
    },
    {
      "cell_type": "code",
      "metadata": {
        "colab_type": "code",
        "id": "9qWFzpI3Uq-9",
        "colab": {}
      },
      "source": [
        "def train_gmm(X, n_clusters, n_epochs):\n",
        "    clusters = initialize_clusters(X, n_clusters)\n",
        "    likelihoods = np.zeros((n_epochs, ))\n",
        "    scores = np.zeros((X.shape[0], n_clusters))\n",
        "    history = []\n",
        "\n",
        "    for i in range(n_epochs):\n",
        "        clusters_snapshot = []\n",
        "        \n",
        "        # This is just for later use for the graphs\n",
        "        for cluster in clusters:\n",
        "            clusters_snapshot.append({\n",
        "                'mu_k': cluster['mu_k'].copy(),\n",
        "                'cov_k': cluster['cov_k'].copy()\n",
        "            })\n",
        "            \n",
        "        history.append(clusters_snapshot)\n",
        "      \n",
        "        expectation_step(X, clusters)\n",
        "        maximization_step(X, clusters)\n",
        "\n",
        "        likelihood, sample_likelihoods = get_likelihood(X, clusters)\n",
        "        likelihoods[i] = likelihood\n",
        "\n",
        "        #print('Epoch: ', i + 1, 'Likelihood: ', likelihood)\n",
        "        \n",
        "    for i, cluster in enumerate(clusters):\n",
        "        scores[:, i] = np.log(cluster['gamma_nk']).reshape(-1)\n",
        "        \n",
        "    return clusters, likelihoods, scores, sample_likelihoods, history"
      ],
      "execution_count": 0,
      "outputs": []
    },
    {
      "cell_type": "markdown",
      "metadata": {
        "colab_type": "text",
        "id": "QqhgdUKrbUrf"
      },
      "source": [
        "**Training del modello:**"
      ]
    },
    {
      "cell_type": "code",
      "metadata": {
        "colab_type": "code",
        "id": "5h10mICZGwrh",
        "colab": {}
      },
      "source": [
        "#scegliamo il numero di clusters e il numero di iterazioni (epoche)\n",
        "n_clusters = 3\n",
        "n_epochs = 50\n",
        "\n",
        "clusters, likelihoods, scores, sample_likelihoods, history = train_gmm(X,n_clusters, n_epochs)"
      ],
      "execution_count": 0,
      "outputs": []
    },
    {
      "cell_type": "markdown",
      "metadata": {
        "colab_type": "text",
        "id": "Ho3efim_bYxk"
      },
      "source": [
        "**Grafico andamento log-likelihood**"
      ]
    },
    {
      "cell_type": "code",
      "metadata": {
        "colab_type": "code",
        "id": "YV_9LG2WLGeZ",
        "outputId": "99cc1efb-0b44-4c5c-c364-4ccf256c7e88",
        "colab": {
          "base_uri": "https://localhost:8080/",
          "height": 607
        }
      },
      "source": [
        "plt.figure(figsize=(10, 10))\n",
        "plt.title('Log-Likelihood')\n",
        "plt.plot(np.arange(1, n_epochs + 1), likelihoods)\n",
        "plt.show()"
      ],
      "execution_count": 13,
      "outputs": [
        {
          "output_type": "display_data",
          "data": {
            "image/png": "[encoded data removed]",
            "text/plain": [
              "<Figure size 720x720 with 1 Axes>"
            ]
          },
          "metadata": {
            "tags": [],
            "needs_background": "light"
          }
        }
      ]
    },
    {
      "cell_type": "markdown",
      "metadata": {
        "colab_type": "text",
        "id": "V1RMlu7ybb6r"
      },
      "source": [
        "**Visualizzazione dei clusters e dei parametri della GGM**"
      ]
    },
    {
      "cell_type": "code",
      "metadata": {
        "colab_type": "code",
        "id": "eR5RLqt9HEzp",
        "outputId": "6ceff856-0e6f-4793-a68e-a5dec3de9ceb",
        "colab": {
          "base_uri": "https://localhost:8080/",
          "height": 592
        }
      },
      "source": [
        "def create_cluster_animation(X, history, scores):\n",
        "    fig, ax = plt.subplots(1, 1, figsize=(10, 10))\n",
        "    colorset = ['blue', 'red', 'black']\n",
        "    images = []\n",
        "    \n",
        "    for j, clusters in enumerate(history):\n",
        "      \n",
        "        idx = 0\n",
        "      \n",
        "        if j % 3 != 0:\n",
        "            continue\n",
        "        \n",
        "        plt.cla()\n",
        "        \n",
        "        for cluster in clusters:\n",
        "            mu = cluster['mu_k']\n",
        "            cov = cluster['cov_k']\n",
        "\n",
        "            eigenvalues, eigenvectors = np.linalg.eigh(cov)\n",
        "            order = eigenvalues.argsort()[::-1]\n",
        "            eigenvalues, eigenvectors = eigenvalues[order],eigenvectors[:, order]\n",
        "            vx, vy = eigenvectors[:,0][0], eigenvectors[:,0][1]\n",
        "            theta = np.arctan2(vy, vx)\n",
        "\n",
        "            color = colors.to_rgba(colorset[idx])\n",
        "\n",
        "            for cov_factor in range(1, 4):\n",
        "                ell = Ellipse(xy=mu, width=np.sqrt(eigenvalues[0]) * \n",
        "                              cov_factor * 2,\n",
        "                              height=np.sqrt(eigenvalues[1]) * cov_factor * 2, \n",
        "                              angle=np.degrees(theta), linewidth=2)\n",
        "                ell.set_facecolor((color[0], color[1], color[2], 1.0 /\n",
        "                                   (cov_factor * 4.5)))\n",
        "                ax.add_artist(ell)\n",
        "\n",
        "            ax.scatter(cluster['mu_k'][0], cluster['mu_k'][1], c=colorset[idx], \n",
        "                       s=1000, marker='+')\n",
        "            idx += 1\n",
        "\n",
        "        for i in range(X.shape[0]):\n",
        "            ax.scatter(X[i, 0], X[i, 1], c=colorset[np.argmax(scores[i])], \n",
        "                       marker='o')\n",
        "        \n",
        "        fig.canvas.draw()\n",
        "        \n",
        "        image = np.frombuffer(fig.canvas.tostring_rgb(), dtype='uint8')\n",
        "        image = image.reshape(fig.canvas.get_width_height()[::-1] + (3,))\n",
        "\n",
        "        images.append(image)\n",
        "    \n",
        "    kwargs_write = {'fps':1.0, 'quantizer':'nq'}\n",
        "    imageio.mimsave('./gmm.gif', images, fps=1)\n",
        "    plt.show(Image.open('gmm.gif').convert('RGB'))\n",
        "    \n",
        "    \n",
        "create_cluster_animation(X, history, scores)"
      ],
      "execution_count": 14,
      "outputs": [
        {
          "output_type": "display_data",
          "data": {
            "image/png": "[encoded data removed]",
            "text/plain": [
              "<Figure size 720x720 with 1 Axes>"
            ]
          },
          "metadata": {
            "tags": [],
            "needs_background": "light"
          }
        }
      ]
    },
    {
      "cell_type": "markdown",
      "metadata": {
        "colab_type": "text",
        "id": "7YlS_QKKbvmJ"
      },
      "source": [
        "NOTA: aprendo il file __gmm.gif__  è possibile visulizzare un animazione di come la stima dei cluster migliori ad ogni iterazione."
      ]
    },
    {
      "cell_type": "markdown",
      "metadata": {
        "id": "3zggdygP7esj",
        "colab_type": "text"
      },
      "source": [
        "## Implementazione usando scikit-learn ##\n",
        "\n",
        "quella da usare in pratica ..."
      ]
    },
    {
      "cell_type": "code",
      "metadata": {
        "colab_type": "code",
        "id": "W5TLvNKQ8LX6",
        "outputId": "20f5985f-6efd-4f9b-afac-a36ca628e0a4",
        "colab": {
          "base_uri": "https://localhost:8080/",
          "height": 330
        }
      },
      "source": [
        "from sklearn.mixture import GaussianMixture\n",
        "\n",
        "gmm = GaussianMixture(n_components=n_clusters, max_iter=50).fit(X)\n",
        "gmm_scores = gmm.score_samples(X)\n",
        "\n",
        "print('Means by sklearn:\\n', gmm.means_)\n",
        "print('Means by our implementation:\\n',\n",
        "      np.array([cluster['mu_k'].tolist() for cluster in clusters]))\n",
        "print('Scores by sklearn:\\n', gmm_scores[0:20])\n",
        "print('Scores by our implementation:\\n', sample_likelihoods.reshape(-1)[0:20])"
      ],
      "execution_count": 15,
      "outputs": [
        {
          "output_type": "stream",
          "text": [
            "Means by sklearn:\n",
            " [[5.9170732  2.77804839 4.20540364 1.29848217]\n",
            " [5.006      3.428      1.462      0.246     ]\n",
            " [6.54639415 2.94946365 5.48364578 1.98726565]]\n",
            "Means by our implementation:\n",
            " [[5.006      3.428      1.462      0.246     ]\n",
            " [5.9149696  2.77784365 4.20155324 1.29696686]\n",
            " [6.54454866 2.94866115 5.47955346 1.98460497]]\n",
            "Scores by sklearn:\n",
            " [ 1.57050082  0.73787138  1.14436656  0.92913238  1.411028   -0.09451903\n",
            "  0.05266884  1.62442195  0.27082378  0.16706624  0.83489877  0.77168582\n",
            "  0.29597841 -1.79224582 -3.41557928 -2.10529279 -1.12995447  1.47503579\n",
            " -0.84612536  0.97699215]\n",
            "Scores by our implementation:\n",
            " [ 1.57057947  0.73793642  1.14444614  0.92920539  1.41110417 -0.09448868\n",
            "  0.05268031  1.62449505  0.27090462  0.16702226  0.83494742  0.77171947\n",
            "  0.29597776 -1.79222469 -3.41562626 -2.1052825  -1.1300608   1.47509939\n",
            " -0.84608424  0.9770596 ]\n"
          ],
          "name": "stdout"
        }
      ]
    },
    {
      "cell_type": "markdown",
      "metadata": {
        "id": "CWswV1Y9_tVm",
        "colab_type": "text"
      },
      "source": [
        "## Esercizi: ##\n",
        "\n",
        "* provare a cambiare il numero di cluster nella GMM da 1 a 10 ... la logLikelihood fornisce informazioni sul valore giusto del numeori di cluster (3)? \n",
        "\n",
        "* inizializzando la GMM con centroidi random invece che con i valori ottenuti da k-means si ottengono prestazioni altrettando buone?\n",
        "\n",
        "* come si ottengono predizione di classe e probabilità di classe per la GMM in scikit-learn? Dividete il campione in 80% trainign e 20% test, addestrate la GMM con il training set e predicete label di classe e probabilità di classe per gli eventi di test ... quale è l'accuracy ottenuta? "
      ]
    },
    {
      "cell_type": "markdown",
      "metadata": {
        "id": "5JaoWaE0fzIS",
        "colab_type": "text"
      },
      "source": [
        "## Esercizi svolti \n",
        "### la ricerca del numero di cluster giusto\n",
        "Si compie un ciclo dei numeri di cluster da 1 a 10 e si cerca di capire quale sia il valore ottimale<br>\n",
        "Per farlo si analizza preliminarmente l'andamento della likelihood per capire se questa è portatrice di informazioni.<br>\n",
        "In un solo plot è riprodotta la likelihood in funzione delle epoche variando il numero dei centri. Si osserva che escludendo il caso con 1 centroide, che è banale, aumentando la taglia del cluster si impiegano più epoche per giungere a saturazione e il tempo per arrivare è proporzionale alla taglia. <br>"
      ]
    },
    {
      "cell_type": "code",
      "metadata": {
        "id": "VjUZfkiEgMIK",
        "colab_type": "code",
        "outputId": "a5c6d080-a178-443a-ce84-5160e0da4b07",
        "colab": {
          "base_uri": "https://localhost:8080/",
          "height": 337
        }
      },
      "source": [
        "import warnings\n",
        "plt.style.use(\"ggplot\")\n",
        "plt.rcParams['axes.facecolor']='#f7f9fc'\n",
        "warnings.filterwarnings(\"ignore\")\n",
        "plt.close()\n",
        "n_epochs=50\n",
        "fig=plt.figure(figsize=(10,5))\n",
        "ax=fig.add_subplot(111)\n",
        "# ci si deve fermare a 8\n",
        "for n_clusters in range(1, 8):\n",
        "  clusters, likelihoods, scores, sample_likelihoods, history = train_gmm(\n",
        "      X, n_clusters, n_epochs)\n",
        "  ax.plot(range(10, n_epochs), likelihoods[10:], '-o', label=str(n_clusters))\n",
        "ax.set(xlabel='epochs', ylabel='logLikelihood')\n",
        "ax.legend()\n",
        "plt.show()"
      ],
      "execution_count": 74,
      "outputs": [
        {
          "output_type": "display_data",
          "data": {
            "image/png": "[encoded data removed]",
            "text/plain": [
              "<Figure size 720x360 with 1 Axes>"
            ]
          },
          "metadata": {
            "tags": []
          }
        }
      ]
    },
    {
      "cell_type": "code",
      "metadata": {
        "id": "UL1cG8RSOttx",
        "colab_type": "code",
        "colab": {}
      },
      "source": [
        "# fittiamo con sklearn con il numero di cluster da 3 a 8\n",
        "# e inseriamo i risultati in una lista\n",
        "gmms=[]\n",
        "for n_clusters in range(2, 8):\n",
        "  gmms.append(\n",
        "      GaussianMixture(n_components=n_clusters, max_iter=n_epochs).fit(X)\n",
        "  )"
      ],
      "execution_count": 0,
      "outputs": []
    },
    {
      "cell_type": "markdown",
      "metadata": {
        "id": "A5u-53fnOJTZ",
        "colab_type": "text"
      },
      "source": [
        "Osserviamo il potere predittivo dell'algoritmo al variare del numero di clusters. Scegliamo di adottare come features per visualizzare i dati la seconda e la quarta. <br>\n",
        "In questo caso si osserva che la miglior divisione avviene con 2 classi e che i dati clusterizzano in maniera naturale in 2 classi, differentemente dalle 3 previste, nonostante anche il risultato con 3 classi sia accettabile. <br>\n",
        "A conferma di tale teoria si procede anche calcolando per i vari modelli il *Bayesian Information Criterion* (BIC), che va minimizzato.<br>\n",
        "Anche questo criterio ha identificato l'uso di 2 cluster come ottimale.<br>\n",
        "Si può concludere pertanto che procedendo in maniera non supervisionata l'algoritmo identifica solo 2 classi, imputabile al fatto che 2 delle 3 sono molto simili tra di loro."
      ]
    },
    {
      "cell_type": "code",
      "metadata": {
        "id": "iWh57sNaUdaL",
        "colab_type": "code",
        "colab": {}
      },
      "source": [
        "# Funzione per plottare la divisione fatta dall'algoritmo\n",
        "def plot_class(prediction, ax):\n",
        "  for i in range(np.amax(prediction).astype(int)+1):\n",
        "    data = X[prediction==i]\n",
        "    ax.plot(data[:,1], data[:,3], '.')"
      ],
      "execution_count": 0,
      "outputs": []
    },
    {
      "cell_type": "code",
      "metadata": {
        "id": "SVQ_FbZBLW7k",
        "colab_type": "code",
        "outputId": "92065e92-91f6-4846-ca77-78648297f33d",
        "colab": {
          "base_uri": "https://localhost:8080/",
          "height": 609
        }
      },
      "source": [
        "plt.close()\n",
        "fig, ax_mat = plt.subplots(2, 3, figsize=(20,10))\n",
        "axs = np.ravel(ax_mat)\n",
        "for i, gmm in enumerate(gmms):\n",
        "  plot_class(gmm.predict(X), ax=axs[i])\n",
        "  axs[i].set(title=f\"{gmm.n_components} cluster\")"
      ],
      "execution_count": 75,
      "outputs": [
        {
          "output_type": "display_data",
          "data": {
            "image/png": "[encoded data removed]",
            "text/plain": [
              "<Figure size 1440x720 with 6 Axes>"
            ]
          },
          "metadata": {
            "tags": []
          }
        }
      ]
    },
    {
      "cell_type": "code",
      "metadata": {
        "id": "DVJ-uyerxkuf",
        "colab_type": "code",
        "outputId": "afc50e87-e0bf-46fe-f175-9267506c2e8e",
        "colab": {
          "base_uri": "https://localhost:8080/",
          "height": 282
        }
      },
      "source": [
        "plt.barh(\n",
        "    [gmm.n_components for gmm in gmms], \n",
        "    [gmm.bic(X) for gmm in gmms])\n",
        "plt.xlabel(\"BIC score\")\n",
        "plt.ylabel(\"Number of Clusters\")\n",
        "plt.show()"
      ],
      "execution_count": 76,
      "outputs": [
        {
          "output_type": "display_data",
          "data": {
            "image/png": "[encoded data removed]",
            "text/plain": [
              "<Figure size 432x288 with 1 Axes>"
            ]
          },
          "metadata": {
            "tags": []
          }
        }
      ]
    },
    {
      "cell_type": "markdown",
      "metadata": {
        "id": "l8YkbjH6sU6C",
        "colab_type": "text"
      },
      "source": [
        "### Inizializzazione random dei centroidi\n",
        "Implementiamo il metodo ` Gaussian Mixture` scegliendo i centroidi in maniera random e osserviamo la differenza rispetto a quello con `k-means`.<br> \n",
        "In primo luogo analizziamo lo 'score' dell'algoritmo. Si osserva che i valori ottenuti spaziano, divenendo anche positivi. Data la natura aleatoria della scelta dei centroidi riportiamo la media e la deviazione standart dello score ottenuta mediando attraverso 100 samples.<br>\n",
        "Forniamo anche una visualizzazzione della scelta casuale dei centroidi mostrando i clusters e l'ampiezza della gaussiana per le features 2 e 3. La scelta casuale non permette di clusterizzare in maniera evidente i dati, ma l'area d'intersezione tra le gaussiane è maggiore rispetto a quella derivante dall'uso di k-means.\n"
      ]
    },
    {
      "cell_type": "code",
      "metadata": {
        "id": "2F00ugx7tBF3",
        "colab_type": "code",
        "outputId": "803e2066-477e-4c5f-9835-ed8dfb1cfa8f",
        "colab": {
          "base_uri": "https://localhost:8080/",
          "height": 352
        }
      },
      "source": [
        "n_cluster=3\n",
        "gmmr = GaussianMixture(n_components=n_clusters, max_iter=50\n",
        "                       ,init_params='random').fit(X)\n",
        "gmmk = GaussianMixture(n_components=n_clusters, max_iter=50\n",
        "                      ,init_params='kmeans').fit(X)\n",
        "gmmr_scores = gmmr.score_samples(X)\n",
        "gmmk_scores = gmmk.score_samples(X)\n",
        "plt.hist(gmmk_scores-gmmr_scores)"
      ],
      "execution_count": 78,
      "outputs": [
        {
          "output_type": "execute_result",
          "data": {
            "text/plain": [
              "(array([ 1.,  2.,  2.,  0.,  4.,  8., 31., 76., 17.,  9.]),\n",
              " array([-7.13458789, -6.13868918, -5.14279047, -4.14689176, -3.15099304,\n",
              "        -2.15509433, -1.15919562, -0.16329691,  0.8326018 ,  1.82850052,\n",
              "         2.82439923]),\n",
              " <a list of 10 Patch objects>)"
            ]
          },
          "metadata": {
            "tags": []
          },
          "execution_count": 78
        },
        {
          "output_type": "display_data",
          "data": {
            "image/png": "[encoded data removed]",
            "text/plain": [
              "<Figure size 432x288 with 1 Axes>"
            ]
          },
          "metadata": {
            "tags": []
          }
        }
      ]
    },
    {
      "cell_type": "code",
      "metadata": {
        "id": "6yzxGA8iUWia",
        "colab_type": "code",
        "colab": {
          "base_uri": "https://localhost:8080/",
          "height": 853
        },
        "outputId": "d2846a23-0106-4900-fbaf-3223ad56218b"
      },
      "source": [
        "#from the docs of sklearn\n",
        "def plot_results(x, y, labels, means, covariances, index, title):\n",
        "    fig = plt.figure(figsize=(20, 20))\n",
        "    splot = fig.add_subplot(2, 1, 1 + index)\n",
        "    for i, (mean, covar, color) in enumerate(zip(\n",
        "            means, covariances, color_iter)):\n",
        "        v, w = np.linalg.eigh(covar)\n",
        "        v = 2. * np.sqrt(2) * np.sqrt(v)\n",
        "        u = w[0] / np.linalg.norm(w[0])\n",
        "        # as the DP will not use every component it has access to\n",
        "        # unless it needs it, we shouldn't plot the redundant\n",
        "        # components.\n",
        "\n",
        "        plt.scatter(x, y, c=labels, cmap='tab10', \n",
        "            vmin=0, vmax=10,\n",
        "        )\n",
        "        # Plot an ellipse to show the Gaussian component\n",
        "        angle = np.arctan(u[1] / u[0])\n",
        "        angle = 180. * angle / np.pi  # convert to degrees\n",
        "        ell = patches.Ellipse(mean, v[0], v[1], 180. + angle, color=color)\n",
        "        ell.set_clip_box(splot.bbox)\n",
        "        ell.set_alpha(0.5)\n",
        "        splot.add_artist(ell)\n",
        "\n",
        "plot_results(X[:, 1], X[:, 3], iris.target, gmm.means_, gmm.covariances_, 0, 'Gaussian Mixture')"
      ],
      "execution_count": 83,
      "outputs": [
        {
          "output_type": "error",
          "ename": "NameError",
          "evalue": "ignored",
          "traceback": [
            "\u001b[0;31m---------------------------------------------------------------------------\u001b[0m",
            "\u001b[0;31mNameError\u001b[0m                                 Traceback (most recent call last)",
            "\u001b[0;32m<ipython-input-83-4c4e97d88cf1>\u001b[0m in \u001b[0;36m<module>\u001b[0;34m()\u001b[0m\n\u001b[1;32m     22\u001b[0m         \u001b[0msplot\u001b[0m\u001b[0;34m.\u001b[0m\u001b[0madd_artist\u001b[0m\u001b[0;34m(\u001b[0m\u001b[0mell\u001b[0m\u001b[0;34m)\u001b[0m\u001b[0;34m\u001b[0m\u001b[0;34m\u001b[0m\u001b[0m\n\u001b[1;32m     23\u001b[0m \u001b[0;34m\u001b[0m\u001b[0m\n\u001b[0;32m---> 24\u001b[0;31m \u001b[0mplot_results\u001b[0m\u001b[0;34m(\u001b[0m\u001b[0mX\u001b[0m\u001b[0;34m[\u001b[0m\u001b[0;34m:\u001b[0m\u001b[0;34m,\u001b[0m \u001b[0;36m1\u001b[0m\u001b[0;34m]\u001b[0m\u001b[0;34m,\u001b[0m \u001b[0mX\u001b[0m\u001b[0;34m[\u001b[0m\u001b[0;34m:\u001b[0m\u001b[0;34m,\u001b[0m \u001b[0;36m3\u001b[0m\u001b[0;34m]\u001b[0m\u001b[0;34m,\u001b[0m \u001b[0miris\u001b[0m\u001b[0;34m.\u001b[0m\u001b[0mtarget\u001b[0m\u001b[0;34m,\u001b[0m \u001b[0mgmm\u001b[0m\u001b[0;34m.\u001b[0m\u001b[0mmeans_\u001b[0m\u001b[0;34m,\u001b[0m \u001b[0mgmm\u001b[0m\u001b[0;34m.\u001b[0m\u001b[0mcovariances_\u001b[0m\u001b[0;34m,\u001b[0m \u001b[0;36m0\u001b[0m\u001b[0;34m,\u001b[0m \u001b[0;34m'Gaussian Mixture'\u001b[0m\u001b[0;34m)\u001b[0m\u001b[0;34m\u001b[0m\u001b[0;34m\u001b[0m\u001b[0m\n\u001b[0m",
            "\u001b[0;32m<ipython-input-83-4c4e97d88cf1>\u001b[0m in \u001b[0;36mplot_results\u001b[0;34m(x, y, labels, means, covariances, index, title)\u001b[0m\n\u001b[1;32m      3\u001b[0m     \u001b[0msplot\u001b[0m \u001b[0;34m=\u001b[0m \u001b[0mfig\u001b[0m\u001b[0;34m.\u001b[0m\u001b[0madd_subplot\u001b[0m\u001b[0;34m(\u001b[0m\u001b[0;36m2\u001b[0m\u001b[0;34m,\u001b[0m \u001b[0;36m1\u001b[0m\u001b[0;34m,\u001b[0m \u001b[0;36m1\u001b[0m \u001b[0;34m+\u001b[0m \u001b[0mindex\u001b[0m\u001b[0;34m)\u001b[0m\u001b[0;34m\u001b[0m\u001b[0;34m\u001b[0m\u001b[0m\n\u001b[1;32m      4\u001b[0m     for i, (mean, covar, color) in enumerate(zip(\n\u001b[0;32m----> 5\u001b[0;31m             means, covariances, color_iter)):\n\u001b[0m\u001b[1;32m      6\u001b[0m         \u001b[0mv\u001b[0m\u001b[0;34m,\u001b[0m \u001b[0mw\u001b[0m \u001b[0;34m=\u001b[0m \u001b[0mnp\u001b[0m\u001b[0;34m.\u001b[0m\u001b[0mlinalg\u001b[0m\u001b[0;34m.\u001b[0m\u001b[0meigh\u001b[0m\u001b[0;34m(\u001b[0m\u001b[0mcovar\u001b[0m\u001b[0;34m)\u001b[0m\u001b[0;34m\u001b[0m\u001b[0;34m\u001b[0m\u001b[0m\n\u001b[1;32m      7\u001b[0m         \u001b[0mv\u001b[0m \u001b[0;34m=\u001b[0m \u001b[0;36m2.\u001b[0m \u001b[0;34m*\u001b[0m \u001b[0mnp\u001b[0m\u001b[0;34m.\u001b[0m\u001b[0msqrt\u001b[0m\u001b[0;34m(\u001b[0m\u001b[0;36m2\u001b[0m\u001b[0;34m)\u001b[0m \u001b[0;34m*\u001b[0m \u001b[0mnp\u001b[0m\u001b[0;34m.\u001b[0m\u001b[0msqrt\u001b[0m\u001b[0;34m(\u001b[0m\u001b[0mv\u001b[0m\u001b[0;34m)\u001b[0m\u001b[0;34m\u001b[0m\u001b[0;34m\u001b[0m\u001b[0m\n",
            "\u001b[0;31mNameError\u001b[0m: name 'color_iter' is not defined"
          ]
        },
        {
          "output_type": "display_data",
          "data": {
            "image/png": "[encoded data removed]",
            "text/plain": [
              "<Figure size 1440x1440 with 1 Axes>"
            ]
          },
          "metadata": {
            "tags": []
          }
        }
      ]
    },
    {
      "cell_type": "code",
      "metadata": {
        "id": "N-15lRkOrHhX",
        "colab_type": "code",
        "outputId": "710f091d-f680-4b51-d425-a928d1ae8fd0",
        "colab": {
          "base_uri": "https://localhost:8080/",
          "height": 300
        }
      },
      "source": [
        "gsr=[]\n",
        "for i in range(100):\n",
        "  gsr.append(GaussianMixture(n_components=n_clusters,\n",
        "                        max_iter=100,init_params='random').fit(X).score(X))\n",
        "df_gsr=pd.DataFrame({'Score':gsr})\n",
        "df_gsr.describe()"
      ],
      "execution_count": 79,
      "outputs": [
        {
          "output_type": "execute_result",
          "data": {
            "text/html": [
              "<div>\n",
              "<style scoped>\n",
              "    .dataframe tbody tr th:only-of-type {\n",
              "        vertical-align: middle;\n",
              "    }\n",
              "\n",
              "    .dataframe tbody tr th {\n",
              "        vertical-align: top;\n",
              "    }\n",
              "\n",
              "    .dataframe thead th {\n",
              "        text-align: right;\n",
              "    }\n",
              "</style>\n",
              "<table border=\"1\" class=\"dataframe\">\n",
              "  <thead>\n",
              "    <tr style=\"text-align: right;\">\n",
              "      <th></th>\n",
              "      <th>Score</th>\n",
              "    </tr>\n",
              "  </thead>\n",
              "  <tbody>\n",
              "    <tr>\n",
              "      <th>count</th>\n",
              "      <td>100.000000</td>\n",
              "    </tr>\n",
              "    <tr>\n",
              "      <th>mean</th>\n",
              "      <td>-0.719232</td>\n",
              "    </tr>\n",
              "    <tr>\n",
              "      <th>std</th>\n",
              "      <td>0.153301</td>\n",
              "    </tr>\n",
              "    <tr>\n",
              "      <th>min</th>\n",
              "      <td>-0.955164</td>\n",
              "    </tr>\n",
              "    <tr>\n",
              "      <th>25%</th>\n",
              "      <td>-0.795734</td>\n",
              "    </tr>\n",
              "    <tr>\n",
              "      <th>50%</th>\n",
              "      <td>-0.741214</td>\n",
              "    </tr>\n",
              "    <tr>\n",
              "      <th>75%</th>\n",
              "      <td>-0.688867</td>\n",
              "    </tr>\n",
              "    <tr>\n",
              "      <th>max</th>\n",
              "      <td>-0.092196</td>\n",
              "    </tr>\n",
              "  </tbody>\n",
              "</table>\n",
              "</div>"
            ],
            "text/plain": [
              "            Score\n",
              "count  100.000000\n",
              "mean    -0.719232\n",
              "std      0.153301\n",
              "min     -0.955164\n",
              "25%     -0.795734\n",
              "50%     -0.741214\n",
              "75%     -0.688867\n",
              "max     -0.092196"
            ]
          },
          "metadata": {
            "tags": []
          },
          "execution_count": 79
        }
      ]
    },
    {
      "cell_type": "code",
      "metadata": {
        "id": "U3eW-2ge3LZM",
        "colab_type": "code",
        "outputId": "9fdc4484-b77d-40b2-ba5f-4856616bde85",
        "colab": {
          "base_uri": "https://localhost:8080/",
          "height": 394
        }
      },
      "source": [
        "plt.close()\n",
        "fig=plt.figure(figsize=(10,15))\n",
        "for i in range(10):\n",
        "  gmmr=GaussianMixture(n_components=n_clusters,\n",
        "                        max_iter=100,init_params='random').fit(X)\n",
        "  ax=fig.add_subplot(5,2,i+1)\n",
        "  ax.label_outer()"
      ],
      "execution_count": 80,
      "outputs": [
        {
          "output_type": "error",
          "ename": "NameError",
          "evalue": "ignored",
          "traceback": [
            "\u001b[0;31m---------------------------------------------------------------------------\u001b[0m",
            "\u001b[0;31mNameError\u001b[0m                                 Traceback (most recent call last)",
            "\u001b[0;32m<ipython-input-80-a6bbaf53f51b>\u001b[0m in \u001b[0;36m<module>\u001b[0;34m()\u001b[0m\n\u001b[1;32m      5\u001b[0m                         max_iter=100,init_params='random').fit(X)\n\u001b[1;32m      6\u001b[0m   \u001b[0max\u001b[0m\u001b[0;34m=\u001b[0m\u001b[0mfig\u001b[0m\u001b[0;34m.\u001b[0m\u001b[0madd_subplot\u001b[0m\u001b[0;34m(\u001b[0m\u001b[0;36m5\u001b[0m\u001b[0;34m,\u001b[0m\u001b[0;36m2\u001b[0m\u001b[0;34m,\u001b[0m\u001b[0mi\u001b[0m\u001b[0;34m+\u001b[0m\u001b[0;36m1\u001b[0m\u001b[0;34m)\u001b[0m\u001b[0;34m\u001b[0m\u001b[0;34m\u001b[0m\u001b[0m\n\u001b[0;32m----> 7\u001b[0;31m   \u001b[0mplt_3_clust\u001b[0m\u001b[0;34m(\u001b[0m\u001b[0mgmmr\u001b[0m\u001b[0;34m.\u001b[0m\u001b[0mpredict\u001b[0m\u001b[0;34m(\u001b[0m\u001b[0mX\u001b[0m\u001b[0;34m)\u001b[0m\u001b[0;34m,\u001b[0m\u001b[0max\u001b[0m\u001b[0;34m,\u001b[0m\u001b[0mgmmr\u001b[0m\u001b[0;34m,\u001b[0m\u001b[0mX\u001b[0m\u001b[0;34m)\u001b[0m\u001b[0;34m\u001b[0m\u001b[0;34m\u001b[0m\u001b[0m\n\u001b[0m\u001b[1;32m      8\u001b[0m   \u001b[0max\u001b[0m\u001b[0;34m.\u001b[0m\u001b[0mlabel_outer\u001b[0m\u001b[0;34m(\u001b[0m\u001b[0;34m)\u001b[0m\u001b[0;34m\u001b[0m\u001b[0;34m\u001b[0m\u001b[0m\n",
            "\u001b[0;31mNameError\u001b[0m: name 'plt_3_clust' is not defined"
          ]
        },
        {
          "output_type": "display_data",
          "data": {
            "image/png": "[encoded data removed]",
            "text/plain": [
              "<Figure size 720x1080 with 1 Axes>"
            ]
          },
          "metadata": {
            "tags": []
          }
        }
      ]
    },
    {
      "cell_type": "markdown",
      "metadata": {
        "id": "ld0P9fhG3L9G",
        "colab_type": "text"
      },
      "source": [
        "### Training e applicazione \n",
        "Dividiamo il campione di modo che una parte, 80%, sia impegato come training set mentre il restante come test quindi su questo viene calcolata la probabilità di appartenenza e la predizione. <br>\n",
        "Per la divisione del set ci si avvale di `sklearn.model_selection.train_test_split `.<br>\n",
        "Viene addestrato il modello imponendo come numero di clusters 3.\n",
        "Si osserva che il valore dell'accuracy è molto instabile e assume diversi valori. Si procede pertanto con un ciclo per calcolare i diversi valori che questa può asusmere e si osservano 6 valori. Osservando i plot per i diversi valori dell'accuracy si comprende bene la causa di tale variabilità del parametro: l'algoritmo riesce a separare per bene i clusters tuttavia assegna la classe sbagliata a questi. Essendo il numero delle classi predette 3, banalmente si procede con una permutazione degli indici finché non si trova quella che massimizza l'acucracy. In questo modo si ha che l'accuracy vale 0.97<br>\n",
        "Un'altro modo è l'uso di metriche invarianti per permutazioni di indici. Queste sono riportate in [sklearn.metrics](https://scikit-learn.org/dev/modules/clustering.html#clustering-performance-evaluation).\n",
        "Le metriche adottate sono AMI,ARI e il metodo di Fowlkes-Mallows. Per mostrare che sono invariati per permutazioni di indici riportiamo il valore che si ottiene con queste due metriche calcolato con quello originale e quello con la disposizione corretta."
      ]
    },
    {
      "cell_type": "code",
      "metadata": {
        "id": "1xu0wT52hqVl",
        "colab_type": "code",
        "colab": {}
      },
      "source": [
        "from sklearn.model_selection import train_test_split\n",
        "from sklearn.metrics import plot_roc_curve as plroc\n",
        "from sklearn.metrics import accuracy_score as acc\n",
        "Y=iris.target\n",
        "Xtrain,Xtest,Ytrain,Ytest=train_test_split(\n",
        "    X,Y,test_size=0.2,shuffle=True)"
      ],
      "execution_count": 0,
      "outputs": []
    },
    {
      "cell_type": "code",
      "metadata": {
        "id": "97vMtcl0mXcC",
        "colab_type": "code",
        "colab": {}
      },
      "source": [
        "colors=['blue','red','brown']\n",
        "def make_ellipses(gmm, ax):\n",
        "  for n, color in enumerate(colors):\n",
        "    if gmm.covariance_type == 'full':\n",
        "      covariances = gmm.covariances_[n][2:4,2:4]\n",
        "    elif gmm.covariance_type == 'tied':\n",
        "      covariances = gmm.covariances_[:2, :2]\n",
        "    elif gmm.covariance_type == 'diag':\n",
        "      covariances = np.diag(gmm.covariances_[n][:2])\n",
        "    elif gmm.covariance_type == 'spherical':\n",
        "      covariances = np.eye(gmm.means_.shape[1]) * gmm.covariances_[n]\n",
        "    v, w = np.linalg.eigh(covariances)\n",
        "    u = w[0] / np.linalg.norm(w[0])\n",
        "    angle = np.arctan2(u[1], u[0])\n",
        "    angle = 180 * angle / np.pi  # convert to degrees\n",
        "    v = 2. * np.sqrt(2.) * np.sqrt(v)\n",
        "    ell = mpl.patches.Ellipse(gmm.means_[n, 2:4], v[0], v[1],\n",
        "                              180 + angle, color=color)\n",
        "    ell.set_clip_box(ax.bbox)\n",
        "    ell.set_alpha(0.5)\n",
        "    ax.add_artist(ell)\n",
        "    ax.set_aspect('equal', 'datalim')\n",
        "\n",
        "def plt_3_clust(prediction,axs,gmm,test):\n",
        "  make_ellipses(gmm,ax=axs)\n",
        "  for n,color in enumerate(colors):\n",
        "    data=test[prediction==n]\n",
        "    axs.scatter(data[:,2],data[:,3],marker='x',\n",
        "                color=color,label='Cluster %d'%(n+1))"
      ],
      "execution_count": 0,
      "outputs": []
    },
    {
      "cell_type": "code",
      "metadata": {
        "id": "laNHoAbA5T0q",
        "colab_type": "code",
        "outputId": "ed496d81-ba9e-4ea2-b007-56fd1800d409",
        "colab": {
          "base_uri": "https://localhost:8080/",
          "height": 996
        }
      },
      "source": [
        "#non supervisionata\n",
        "gmm_us=GaussianMixture(n_components=3,max_iter=50).fit(Xtrain)\n",
        "type_iris_us=gmm_us.predict(Xtest)\n",
        "print(acc(Ytrain,gmm_us.predict(Xtrain)),\n",
        "      gmm_us.score(Xtest),acc(Ytest,type_iris_us))\n",
        "pd.DataFrame(gmm_us.predict_proba(Xtest))"
      ],
      "execution_count": 0,
      "outputs": [
        {
          "output_type": "stream",
          "text": [
            "0.35 -1.3801287832161138 0.26666666666666666\n"
          ],
          "name": "stdout"
        },
        {
          "output_type": "execute_result",
          "data": {
            "text/html": [
              "<div>\n",
              "<style scoped>\n",
              "    .dataframe tbody tr th:only-of-type {\n",
              "        vertical-align: middle;\n",
              "    }\n",
              "\n",
              "    .dataframe tbody tr th {\n",
              "        vertical-align: top;\n",
              "    }\n",
              "\n",
              "    .dataframe thead th {\n",
              "        text-align: right;\n",
              "    }\n",
              "</style>\n",
              "<table border=\"1\" class=\"dataframe\">\n",
              "  <thead>\n",
              "    <tr style=\"text-align: right;\">\n",
              "      <th></th>\n",
              "      <th>0</th>\n",
              "      <th>1</th>\n",
              "      <th>2</th>\n",
              "    </tr>\n",
              "  </thead>\n",
              "  <tbody>\n",
              "    <tr>\n",
              "      <th>0</th>\n",
              "      <td>1.173287e-02</td>\n",
              "      <td>4.110097e-148</td>\n",
              "      <td>9.882671e-01</td>\n",
              "    </tr>\n",
              "    <tr>\n",
              "      <th>1</th>\n",
              "      <td>9.956601e-01</td>\n",
              "      <td>5.335402e-115</td>\n",
              "      <td>4.339891e-03</td>\n",
              "    </tr>\n",
              "    <tr>\n",
              "      <th>2</th>\n",
              "      <td>4.233527e-50</td>\n",
              "      <td>1.000000e+00</td>\n",
              "      <td>4.011902e-36</td>\n",
              "    </tr>\n",
              "    <tr>\n",
              "      <th>3</th>\n",
              "      <td>4.337251e-01</td>\n",
              "      <td>1.273119e-105</td>\n",
              "      <td>5.662749e-01</td>\n",
              "    </tr>\n",
              "    <tr>\n",
              "      <th>4</th>\n",
              "      <td>9.175046e-12</td>\n",
              "      <td>1.735121e-223</td>\n",
              "      <td>1.000000e+00</td>\n",
              "    </tr>\n",
              "    <tr>\n",
              "      <th>5</th>\n",
              "      <td>1.995357e-35</td>\n",
              "      <td>1.000000e+00</td>\n",
              "      <td>1.846940e-32</td>\n",
              "    </tr>\n",
              "    <tr>\n",
              "      <th>6</th>\n",
              "      <td>4.273138e-11</td>\n",
              "      <td>8.627150e-308</td>\n",
              "      <td>1.000000e+00</td>\n",
              "    </tr>\n",
              "    <tr>\n",
              "      <th>7</th>\n",
              "      <td>3.074460e-35</td>\n",
              "      <td>1.000000e+00</td>\n",
              "      <td>6.483583e-30</td>\n",
              "    </tr>\n",
              "    <tr>\n",
              "      <th>8</th>\n",
              "      <td>8.239439e-01</td>\n",
              "      <td>1.293294e-82</td>\n",
              "      <td>1.760561e-01</td>\n",
              "    </tr>\n",
              "    <tr>\n",
              "      <th>9</th>\n",
              "      <td>9.992320e-01</td>\n",
              "      <td>8.749092e-90</td>\n",
              "      <td>7.680200e-04</td>\n",
              "    </tr>\n",
              "    <tr>\n",
              "      <th>10</th>\n",
              "      <td>9.980578e-01</td>\n",
              "      <td>5.893559e-114</td>\n",
              "      <td>1.942162e-03</td>\n",
              "    </tr>\n",
              "    <tr>\n",
              "      <th>11</th>\n",
              "      <td>9.961841e-01</td>\n",
              "      <td>4.667653e-75</td>\n",
              "      <td>3.815892e-03</td>\n",
              "    </tr>\n",
              "    <tr>\n",
              "      <th>12</th>\n",
              "      <td>1.339840e-11</td>\n",
              "      <td>1.310301e-244</td>\n",
              "      <td>1.000000e+00</td>\n",
              "    </tr>\n",
              "    <tr>\n",
              "      <th>13</th>\n",
              "      <td>3.514791e-26</td>\n",
              "      <td>1.000000e+00</td>\n",
              "      <td>2.537849e-25</td>\n",
              "    </tr>\n",
              "    <tr>\n",
              "      <th>14</th>\n",
              "      <td>1.544839e-01</td>\n",
              "      <td>1.747680e-146</td>\n",
              "      <td>8.455161e-01</td>\n",
              "    </tr>\n",
              "    <tr>\n",
              "      <th>15</th>\n",
              "      <td>2.355737e-16</td>\n",
              "      <td>5.287582e-249</td>\n",
              "      <td>1.000000e+00</td>\n",
              "    </tr>\n",
              "    <tr>\n",
              "      <th>16</th>\n",
              "      <td>1.582505e-31</td>\n",
              "      <td>1.000000e+00</td>\n",
              "      <td>7.281900e-28</td>\n",
              "    </tr>\n",
              "    <tr>\n",
              "      <th>17</th>\n",
              "      <td>1.037325e-05</td>\n",
              "      <td>4.882841e-228</td>\n",
              "      <td>9.999896e-01</td>\n",
              "    </tr>\n",
              "    <tr>\n",
              "      <th>18</th>\n",
              "      <td>1.471469e-43</td>\n",
              "      <td>1.000000e+00</td>\n",
              "      <td>8.476069e-30</td>\n",
              "    </tr>\n",
              "    <tr>\n",
              "      <th>19</th>\n",
              "      <td>4.618149e-03</td>\n",
              "      <td>2.462081e-165</td>\n",
              "      <td>9.953819e-01</td>\n",
              "    </tr>\n",
              "    <tr>\n",
              "      <th>20</th>\n",
              "      <td>4.481077e-57</td>\n",
              "      <td>1.000000e+00</td>\n",
              "      <td>1.153780e-37</td>\n",
              "    </tr>\n",
              "    <tr>\n",
              "      <th>21</th>\n",
              "      <td>9.575656e-03</td>\n",
              "      <td>7.050966e-155</td>\n",
              "      <td>9.904243e-01</td>\n",
              "    </tr>\n",
              "    <tr>\n",
              "      <th>22</th>\n",
              "      <td>6.990581e-44</td>\n",
              "      <td>1.000000e+00</td>\n",
              "      <td>1.264832e-35</td>\n",
              "    </tr>\n",
              "    <tr>\n",
              "      <th>23</th>\n",
              "      <td>5.152268e-53</td>\n",
              "      <td>1.000000e+00</td>\n",
              "      <td>1.179934e-37</td>\n",
              "    </tr>\n",
              "    <tr>\n",
              "      <th>24</th>\n",
              "      <td>9.996373e-01</td>\n",
              "      <td>5.664561e-79</td>\n",
              "      <td>3.626666e-04</td>\n",
              "    </tr>\n",
              "    <tr>\n",
              "      <th>25</th>\n",
              "      <td>9.997585e-01</td>\n",
              "      <td>8.359764e-98</td>\n",
              "      <td>2.414565e-04</td>\n",
              "    </tr>\n",
              "    <tr>\n",
              "      <th>26</th>\n",
              "      <td>9.993478e-01</td>\n",
              "      <td>4.798442e-124</td>\n",
              "      <td>6.522369e-04</td>\n",
              "    </tr>\n",
              "    <tr>\n",
              "      <th>27</th>\n",
              "      <td>3.023875e-35</td>\n",
              "      <td>1.000000e+00</td>\n",
              "      <td>2.100044e-29</td>\n",
              "    </tr>\n",
              "    <tr>\n",
              "      <th>28</th>\n",
              "      <td>9.993868e-01</td>\n",
              "      <td>5.382154e-86</td>\n",
              "      <td>6.131731e-04</td>\n",
              "    </tr>\n",
              "    <tr>\n",
              "      <th>29</th>\n",
              "      <td>1.713638e-16</td>\n",
              "      <td>7.228758e-264</td>\n",
              "      <td>1.000000e+00</td>\n",
              "    </tr>\n",
              "  </tbody>\n",
              "</table>\n",
              "</div>"
            ],
            "text/plain": [
              "               0              1             2\n",
              "0   1.173287e-02  4.110097e-148  9.882671e-01\n",
              "1   9.956601e-01  5.335402e-115  4.339891e-03\n",
              "2   4.233527e-50   1.000000e+00  4.011902e-36\n",
              "3   4.337251e-01  1.273119e-105  5.662749e-01\n",
              "4   9.175046e-12  1.735121e-223  1.000000e+00\n",
              "5   1.995357e-35   1.000000e+00  1.846940e-32\n",
              "6   4.273138e-11  8.627150e-308  1.000000e+00\n",
              "7   3.074460e-35   1.000000e+00  6.483583e-30\n",
              "8   8.239439e-01   1.293294e-82  1.760561e-01\n",
              "9   9.992320e-01   8.749092e-90  7.680200e-04\n",
              "10  9.980578e-01  5.893559e-114  1.942162e-03\n",
              "11  9.961841e-01   4.667653e-75  3.815892e-03\n",
              "12  1.339840e-11  1.310301e-244  1.000000e+00\n",
              "13  3.514791e-26   1.000000e+00  2.537849e-25\n",
              "14  1.544839e-01  1.747680e-146  8.455161e-01\n",
              "15  2.355737e-16  5.287582e-249  1.000000e+00\n",
              "16  1.582505e-31   1.000000e+00  7.281900e-28\n",
              "17  1.037325e-05  4.882841e-228  9.999896e-01\n",
              "18  1.471469e-43   1.000000e+00  8.476069e-30\n",
              "19  4.618149e-03  2.462081e-165  9.953819e-01\n",
              "20  4.481077e-57   1.000000e+00  1.153780e-37\n",
              "21  9.575656e-03  7.050966e-155  9.904243e-01\n",
              "22  6.990581e-44   1.000000e+00  1.264832e-35\n",
              "23  5.152268e-53   1.000000e+00  1.179934e-37\n",
              "24  9.996373e-01   5.664561e-79  3.626666e-04\n",
              "25  9.997585e-01   8.359764e-98  2.414565e-04\n",
              "26  9.993478e-01  4.798442e-124  6.522369e-04\n",
              "27  3.023875e-35   1.000000e+00  2.100044e-29\n",
              "28  9.993868e-01   5.382154e-86  6.131731e-04\n",
              "29  1.713638e-16  7.228758e-264  1.000000e+00"
            ]
          },
          "metadata": {
            "tags": []
          },
          "execution_count": 84
        }
      ]
    },
    {
      "cell_type": "code",
      "metadata": {
        "id": "K0Z6H4i_r6o2",
        "colab_type": "code",
        "colab": {}
      },
      "source": [
        "plt.close()\n",
        "acc_un=[]\n",
        "fig=plt.figure(figsize=(40,20))\n",
        "for i in range(100):\n",
        "  gmm_us=GaussianMixture(n_components=3,max_iter=50).fit(Xtrain)\n",
        "  ax=plt.subplot(10,10,i+1)\n",
        "  type_iris_us=gmm_us.predict(Xtest)\n",
        "  acc_un+=[(acc(Ytest,type_iris_us))]\n",
        "  print(gmm_us.score(Xtest))\n",
        "  plt_3_clust(Ytest,ax,gmm_us,Xtest)\n",
        "  ax.label_outer()\n",
        "print(np.unique(acc_un))"
      ],
      "execution_count": 0,
      "outputs": []
    },
    {
      "cell_type": "code",
      "metadata": {
        "id": "A3XMMtkIwrOy",
        "colab_type": "code",
        "colab": {}
      },
      "source": [
        "#fig.savefig('prediction.pdf')"
      ],
      "execution_count": 0,
      "outputs": []
    },
    {
      "cell_type": "code",
      "metadata": {
        "id": "WOcEQcIYSmNr",
        "colab_type": "code",
        "colab": {}
      },
      "source": [
        "## Uso delle permutazioni\n",
        "from itertools import permutations"
      ],
      "execution_count": 0,
      "outputs": []
    },
    {
      "cell_type": "code",
      "metadata": {
        "id": "67MFXUexe20W",
        "colab_type": "code",
        "colab": {}
      },
      "source": [
        "gmm_us=GaussianMixture(n_components=3,max_iter=50).fit(Xtrain)\n",
        "type_iris_us=gmm_us.predict(Xtest)"
      ],
      "execution_count": 0,
      "outputs": []
    },
    {
      "cell_type": "code",
      "metadata": {
        "id": "_5yj_O-meHbM",
        "colab_type": "code",
        "colab": {}
      },
      "source": [
        "perms=list(permutations([0,1,2])) #permutazioni possibili\n",
        "n_index=[type_iris_us==i for i in range(3)] #indici valori\n",
        "Xtest0=Xtest.copy() #copia campione test\n",
        "gmm_us_cov0=gmm_us.covariances_.copy()\n",
        "gmm_us_mean0=gmm_us.means_.copy()\n",
        "type_iris0=type_iris_us"
      ],
      "execution_count": 0,
      "outputs": []
    },
    {
      "cell_type": "code",
      "metadata": {
        "id": "_PaR5qCXSh-d",
        "colab_type": "code",
        "outputId": "3712a2ce-5f4f-4c5a-bc94-5017ce0159ed",
        "colab": {
          "base_uri": "https://localhost:8080/",
          "height": 119
        }
      },
      "source": [
        "acc_iri=-np.infty\n",
        "for perm in perms:\n",
        "  for i in range(3):\n",
        "    type_iris_us[n_index[i]]=perm[i]\n",
        "  if(acc_iri<acc(Ytest,type_iris_us)):\n",
        "    acc_iri=acc(Ytest,type_iris_us)\n",
        "    true_perm=perm\n",
        "  print(type_iris_us,acc(Ytest,type_iris_us))\n",
        "for i in range(3):\n",
        "  type_iris_us[n_index[i]]=true_perm[i]\n",
        "  #gmm_us.means_[i,:]=gmm_us_mean0[true_perm[i],:]\n",
        "  #gmm_us.covariances_[i]=gmm_us_cov0[true_perm[i]]"
      ],
      "execution_count": 0,
      "outputs": [
        {
          "output_type": "stream",
          "text": [
            "[1 0 2 2 2 1 2 1 0 0 0 0 2 1 2 2 1 2 1 2 1 2 1 1 0 0 0 1 0 2] 0.23333333333333334\n",
            "[2 0 1 1 1 2 1 2 0 0 0 0 1 2 1 1 2 1 2 1 2 1 2 2 0 0 0 2 0 1] 0.13333333333333333\n",
            "[0 1 2 2 2 0 2 0 1 1 1 1 2 0 2 2 0 2 0 2 0 2 0 0 1 1 1 0 1 2] 0.8333333333333334\n",
            "[2 1 0 0 0 2 0 2 1 1 1 1 0 2 0 0 2 0 2 0 2 0 2 2 1 1 1 2 1 0] 0.36666666666666664\n",
            "[0 2 1 1 1 0 1 0 2 2 2 2 1 0 1 1 0 1 0 1 0 1 0 0 2 2 2 0 2 1] 0.4\n",
            "[1 2 0 0 0 1 0 1 2 2 2 2 0 1 0 0 1 0 1 0 1 0 1 1 2 2 2 1 2 0] 0.03333333333333333\n"
          ],
          "name": "stdout"
        }
      ]
    },
    {
      "cell_type": "code",
      "metadata": {
        "id": "C_rFwLML19qC",
        "colab_type": "code",
        "outputId": "4355e18b-5cc9-4595-a845-d890f43d678b",
        "colab": {
          "base_uri": "https://localhost:8080/",
          "height": 85
        }
      },
      "source": [
        "gmm_us_cov0[2]==gmm_us.covariances_[2]"
      ],
      "execution_count": 0,
      "outputs": [
        {
          "output_type": "execute_result",
          "data": {
            "text/plain": [
              "array([[ True,  True,  True,  True],\n",
              "       [ True,  True,  True,  True],\n",
              "       [ True,  True,  True,  True],\n",
              "       [ True,  True,  True,  True]])"
            ]
          },
          "metadata": {
            "tags": []
          },
          "execution_count": 354
        }
      ]
    },
    {
      "cell_type": "code",
      "metadata": {
        "id": "FBwMaoDExbSI",
        "colab_type": "code",
        "outputId": "629d5e05-9ee9-4d5b-8a57-905325204ba5",
        "colab": {
          "base_uri": "https://localhost:8080/",
          "height": 85
        }
      },
      "source": [
        "n_sort=np.searchsorted(type_iris_us,type_iris0)#ordine in maniera corretta\n",
        "type_iris_us==type_iris0[n_sort]"
      ],
      "execution_count": 0,
      "outputs": [
        {
          "output_type": "execute_result",
          "data": {
            "text/plain": [
              "array([ True,  True,  True,  True,  True,  True,  True,  True,  True,\n",
              "        True,  True,  True,  True,  True,  True,  True,  True,  True,\n",
              "        True,  True,  True,  True,  True,  True,  True,  True,  True,\n",
              "        True,  True,  True])"
            ]
          },
          "metadata": {
            "tags": []
          },
          "execution_count": 355
        }
      ]
    },
    {
      "cell_type": "code",
      "metadata": {
        "id": "evq3v7pFcIS4",
        "colab_type": "code",
        "outputId": "37d8efd5-92ee-4bdb-c649-a29b8a96e494",
        "colab": {
          "base_uri": "https://localhost:8080/",
          "height": 34
        }
      },
      "source": [
        "Xtest0=Xtest[n_sort]\n",
        "print(acc(Ytest,gmm_us.predict(Xtest0)))"
      ],
      "execution_count": 0,
      "outputs": [
        {
          "output_type": "stream",
          "text": [
            "0.23333333333333334\n"
          ],
          "name": "stdout"
        }
      ]
    },
    {
      "cell_type": "code",
      "metadata": {
        "id": "HzV4gKEFSrJm",
        "colab_type": "code",
        "outputId": "210fe862-2817-487a-8611-dd5b6f7b7c4c",
        "colab": {
          "base_uri": "https://localhost:8080/",
          "height": 265
        }
      },
      "source": [
        "plt.close()\n",
        "fig=plt.figure()\n",
        "ax=fig.add_subplot(111)\n",
        "plt_3_clust(Ytest,ax,gmm_us,Xtest0)"
      ],
      "execution_count": 0,
      "outputs": [
        {
          "output_type": "display_data",
          "data": {
            "image/png": "[encoded data removed]",
            "text/plain": [
              "<Figure size 432x288 with 1 Axes>"
            ]
          },
          "metadata": {
            "tags": [],
            "needs_background": "light"
          }
        }
      ]
    },
    {
      "cell_type": "code",
      "metadata": {
        "id": "v9LdnXmJietl",
        "colab_type": "code",
        "outputId": "0573a6d3-e76d-440b-9aa7-d8fae666ef17",
        "colab": {
          "base_uri": "https://localhost:8080/",
          "height": 68
        }
      },
      "source": [
        "## metriche invarianti per permutazioni di indici\n",
        "from sklearn import metrics\n",
        "methods={'AMI':metrics.adjusted_mutual_info_score,\n",
        "         'ARI':metrics.adjusted_rand_score,\n",
        "         'Fowlkes':metrics.fowlkes_mallows_score}\n",
        "for name,method in methods.items():\n",
        "  print(name,method(Ytest, type_iris_us),\n",
        "        method(Ytest, type_iris0))"
      ],
      "execution_count": 0,
      "outputs": [
        {
          "output_type": "stream",
          "text": [
            "AMI 0.577638058524363 0.577638058524363\n",
            "ARI 0.5587102924820025 0.5587102924820025\n",
            "Fowlkes 0.6982233665935389 0.6982233665935389\n"
          ],
          "name": "stdout"
        }
      ]
    },
    {
      "cell_type": "code",
      "metadata": {
        "id": "EMIyNdJf31eB",
        "colab_type": "code",
        "colab": {}
      },
      "source": [
        ""
      ],
      "execution_count": 0,
      "outputs": []
    }
  ]
}