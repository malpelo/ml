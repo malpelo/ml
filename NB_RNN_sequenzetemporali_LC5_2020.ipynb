{
  "nbformat": 4,
  "nbformat_minor": 0,
  "metadata": {
    "colab": {
      "name": "NB_RNN_sequenzetemporali_LC5_2020.ipynb",
      "provenance": [],
      "collapsed_sections": [],
      "toc_visible": true
    },
    "kernelspec": {
      "name": "python3",
      "display_name": "Python 3"
    },
    "accelerator": "GPU"
  },
  "cells": [
    {
      "cell_type": "markdown",
      "metadata": {
        "id": "O-97SDET3JG-",
        "colab_type": "text"
      },
      "source": [
        "# Sviluppo e training di RNN per analisi di sequenze temporali\n",
        "\n",
        "### Informazioni ###\n",
        "\n",
        "scopo: \n",
        "- apprendere uso e funzionalità delle RNN rispetto a una task tipica per queste architetture: predizioni di feature sulla base di esempi di serie temporali\n",
        "\n",
        "**Dataset:**\n",
        "\n",
        "dataset kaggle con andamento titolo di borsa Tata Global Beverages Ltd borsa Indiana"
      ]
    },
    {
      "cell_type": "code",
      "metadata": {
        "id": "kKw-kBMr5jr0",
        "colab_type": "code",
        "outputId": "6d2e46d0-8f67-4f60-96a1-a2def93fe20d",
        "colab": {
          "base_uri": "https://localhost:8080/",
          "height": 34
        }
      },
      "source": [
        "import tensorflow as tf \n",
        "print(tf.__version__)\n",
        "\n",
        "from tensorflow import keras\n",
        "from tensorflow.keras import layers\n",
        "\n",
        "import numpy as np\n",
        "import os\n",
        "import time\n",
        "\n",
        "import pandas as pd\n",
        "\n",
        "from sklearn.preprocessing import MinMaxScaler\n",
        "\n",
        "import matplotlib.pyplot as plt\n",
        "\n",
        "if len(tf.config.list_physical_devices('GPU')) == 0:\n",
        "    print('Per questa esercitazione è importante usare la GPU: cambia runtime: menu Runtime > Change Runtime Type > GPU)')"
      ],
      "execution_count": 160,
      "outputs": [
        {
          "output_type": "stream",
          "text": [
            "2.2.0\n"
          ],
          "name": "stdout"
        }
      ]
    },
    {
      "cell_type": "markdown",
      "metadata": {
        "id": "zdw2C2lZ6uwf",
        "colab_type": "text"
      },
      "source": [
        "# Parte 1: predizione andamento titolo di borsa"
      ]
    },
    {
      "cell_type": "code",
      "metadata": {
        "id": "jKdhtD9EtqXz",
        "colab_type": "code",
        "outputId": "3726ac26-0aad-40b4-ad8a-b2f1157a27bf",
        "colab": {
          "base_uri": "https://localhost:8080/",
          "height": 416
        }
      },
      "source": [
        "# Dataset \n",
        "!rm -rf NSE-TATAGLOBAL.csv\n",
        "!rm -rf NSE-TATAGLOBAL-test.csv\n",
        "!wget http://giagu.web.cern.ch/giagu/CERN/NSE-TATAGLOBAL.csv\n",
        "!wget http://giagu.web.cern.ch/giagu/CERN/NSE-TATAGLOBAL-test.csv\n",
        "!ls "
      ],
      "execution_count": 161,
      "outputs": [
        {
          "output_type": "stream",
          "text": [
            "--2020-05-21 16:23:04--  http://giagu.web.cern.ch/giagu/CERN/NSE-TATAGLOBAL.csv\n",
            "Resolving giagu.web.cern.ch (giagu.web.cern.ch)... 188.184.101.49, 2001:1458:d00:35::100:35\n",
            "Connecting to giagu.web.cern.ch (giagu.web.cern.ch)|188.184.101.49|:80... connected.\n",
            "HTTP request sent, awaiting response... 200 OK\n",
            "Length: 115525 (113K) [text/csv]\n",
            "Saving to: ‘NSE-TATAGLOBAL.csv’\n",
            "\n",
            "\rNSE-TATAGLOBAL.csv    0%[                    ]       0  --.-KB/s               \rNSE-TATAGLOBAL.csv  100%[===================>] 112.82K  --.-KB/s    in 0.1s    \n",
            "\n",
            "2020-05-21 16:23:04 (1.11 MB/s) - ‘NSE-TATAGLOBAL.csv’ saved [115525/115525]\n",
            "\n",
            "--2020-05-21 16:23:08--  http://giagu.web.cern.ch/giagu/CERN/NSE-TATAGLOBAL-test.csv\n",
            "Resolving giagu.web.cern.ch (giagu.web.cern.ch)... 188.184.101.49, 2001:1458:d00:35::100:35\n",
            "Connecting to giagu.web.cern.ch (giagu.web.cern.ch)|188.184.101.49|:80... connected.\n",
            "HTTP request sent, awaiting response... 200 OK\n",
            "Length: 984 [text/csv]\n",
            "Saving to: ‘NSE-TATAGLOBAL-test.csv’\n",
            "\n",
            "NSE-TATAGLOBAL-test 100%[===================>]     984  --.-KB/s    in 0s      \n",
            "\n",
            "2020-05-21 16:23:08 (150 MB/s) - ‘NSE-TATAGLOBAL-test.csv’ saved [984/984]\n",
            "\n",
            "logs  model.png  NSE-TATAGLOBAL.csv  NSE-TATAGLOBAL-test.csv  sample_data\n"
          ],
          "name": "stdout"
        }
      ]
    },
    {
      "cell_type": "code",
      "metadata": {
        "id": "2n0GGTiFui8O",
        "colab_type": "code",
        "colab": {}
      },
      "source": [
        "# Usiamo pandas per leggere il dataset in formato csv\n",
        "\n",
        "# training data\n",
        "df = pd.read_csv('NSE-TATAGLOBAL.csv')\n",
        "# test data\n",
        "df_test = pd.read_csv('NSE-TATAGLOBAL-test.csv')"
      ],
      "execution_count": 0,
      "outputs": []
    },
    {
      "cell_type": "code",
      "metadata": {
        "id": "hRiFQ7s6ucx2",
        "colab_type": "code",
        "outputId": "13a90f13-12ff-41f0-ea90-d60d76ce4824",
        "colab": {
          "base_uri": "https://localhost:8080/",
          "height": 278
        }
      },
      "source": [
        "df.info()"
      ],
      "execution_count": 163,
      "outputs": [
        {
          "output_type": "stream",
          "text": [
            "<class 'pandas.core.frame.DataFrame'>\n",
            "RangeIndex: 2035 entries, 0 to 2034\n",
            "Data columns (total 8 columns):\n",
            " #   Column                Non-Null Count  Dtype  \n",
            "---  ------                --------------  -----  \n",
            " 0   Date                  2035 non-null   object \n",
            " 1   Open                  2035 non-null   float64\n",
            " 2   High                  2035 non-null   float64\n",
            " 3   Low                   2035 non-null   float64\n",
            " 4   Last                  2035 non-null   float64\n",
            " 5   Close                 2035 non-null   float64\n",
            " 6   Total Trade Quantity  2035 non-null   int64  \n",
            " 7   Turnover (Lacs)       2035 non-null   float64\n",
            "dtypes: float64(6), int64(1), object(1)\n",
            "memory usage: 127.3+ KB\n"
          ],
          "name": "stdout"
        }
      ]
    },
    {
      "cell_type": "code",
      "metadata": {
        "id": "noOof7LzuecP",
        "colab_type": "code",
        "outputId": "e3708aa4-d5c4-411a-a6ea-76c2a61c00a7",
        "colab": {
          "base_uri": "https://localhost:8080/",
          "height": 206
        }
      },
      "source": [
        "df.head(5)"
      ],
      "execution_count": 164,
      "outputs": [
        {
          "output_type": "execute_result",
          "data": {
            "text/html": [
              "<div>\n",
              "<style scoped>\n",
              "    .dataframe tbody tr th:only-of-type {\n",
              "        vertical-align: middle;\n",
              "    }\n",
              "\n",
              "    .dataframe tbody tr th {\n",
              "        vertical-align: top;\n",
              "    }\n",
              "\n",
              "    .dataframe thead th {\n",
              "        text-align: right;\n",
              "    }\n",
              "</style>\n",
              "<table border=\"1\" class=\"dataframe\">\n",
              "  <thead>\n",
              "    <tr style=\"text-align: right;\">\n",
              "      <th></th>\n",
              "      <th>Date</th>\n",
              "      <th>Open</th>\n",
              "      <th>High</th>\n",
              "      <th>Low</th>\n",
              "      <th>Last</th>\n",
              "      <th>Close</th>\n",
              "      <th>Total Trade Quantity</th>\n",
              "      <th>Turnover (Lacs)</th>\n",
              "    </tr>\n",
              "  </thead>\n",
              "  <tbody>\n",
              "    <tr>\n",
              "      <th>0</th>\n",
              "      <td>2018-09-28</td>\n",
              "      <td>234.05</td>\n",
              "      <td>235.95</td>\n",
              "      <td>230.20</td>\n",
              "      <td>233.50</td>\n",
              "      <td>233.75</td>\n",
              "      <td>3069914</td>\n",
              "      <td>7162.35</td>\n",
              "    </tr>\n",
              "    <tr>\n",
              "      <th>1</th>\n",
              "      <td>2018-09-27</td>\n",
              "      <td>234.55</td>\n",
              "      <td>236.80</td>\n",
              "      <td>231.10</td>\n",
              "      <td>233.80</td>\n",
              "      <td>233.25</td>\n",
              "      <td>5082859</td>\n",
              "      <td>11859.95</td>\n",
              "    </tr>\n",
              "    <tr>\n",
              "      <th>2</th>\n",
              "      <td>2018-09-26</td>\n",
              "      <td>240.00</td>\n",
              "      <td>240.00</td>\n",
              "      <td>232.50</td>\n",
              "      <td>235.00</td>\n",
              "      <td>234.25</td>\n",
              "      <td>2240909</td>\n",
              "      <td>5248.60</td>\n",
              "    </tr>\n",
              "    <tr>\n",
              "      <th>3</th>\n",
              "      <td>2018-09-25</td>\n",
              "      <td>233.30</td>\n",
              "      <td>236.75</td>\n",
              "      <td>232.00</td>\n",
              "      <td>236.25</td>\n",
              "      <td>236.10</td>\n",
              "      <td>2349368</td>\n",
              "      <td>5503.90</td>\n",
              "    </tr>\n",
              "    <tr>\n",
              "      <th>4</th>\n",
              "      <td>2018-09-24</td>\n",
              "      <td>233.55</td>\n",
              "      <td>239.20</td>\n",
              "      <td>230.75</td>\n",
              "      <td>234.00</td>\n",
              "      <td>233.30</td>\n",
              "      <td>3423509</td>\n",
              "      <td>7999.55</td>\n",
              "    </tr>\n",
              "  </tbody>\n",
              "</table>\n",
              "</div>"
            ],
            "text/plain": [
              "         Date    Open    High  ...   Close  Total Trade Quantity  Turnover (Lacs)\n",
              "0  2018-09-28  234.05  235.95  ...  233.75               3069914          7162.35\n",
              "1  2018-09-27  234.55  236.80  ...  233.25               5082859         11859.95\n",
              "2  2018-09-26  240.00  240.00  ...  234.25               2240909          5248.60\n",
              "3  2018-09-25  233.30  236.75  ...  236.10               2349368          5503.90\n",
              "4  2018-09-24  233.55  239.20  ...  233.30               3423509          7999.55\n",
              "\n",
              "[5 rows x 8 columns]"
            ]
          },
          "metadata": {
            "tags": []
          },
          "execution_count": 164
        }
      ]
    },
    {
      "cell_type": "code",
      "metadata": {
        "id": "MvKF9Br6u_Uz",
        "colab_type": "code",
        "outputId": "142c83fb-20dd-4585-ef02-60c03a066607",
        "colab": {
          "base_uri": "https://localhost:8080/",
          "height": 69
        }
      },
      "source": [
        "df.columns"
      ],
      "execution_count": 165,
      "outputs": [
        {
          "output_type": "execute_result",
          "data": {
            "text/plain": [
              "Index(['Date', 'Open', 'High', 'Low', 'Last', 'Close', 'Total Trade Quantity',\n",
              "       'Turnover (Lacs)'],\n",
              "      dtype='object')"
            ]
          },
          "metadata": {
            "tags": []
          },
          "execution_count": 165
        }
      ]
    },
    {
      "cell_type": "code",
      "metadata": {
        "id": "x5ds_-LE9vMO",
        "colab_type": "code",
        "colab": {}
      },
      "source": [
        "# ordiniamo i valori in tempo crescente\n",
        "df.sort_values('Date', inplace=True, ascending=True, ignore_index=True)\n",
        "df_test.sort_values('Date', inplace=True, ascending=True, ignore_index=True)"
      ],
      "execution_count": 0,
      "outputs": []
    },
    {
      "cell_type": "code",
      "metadata": {
        "id": "cdqenMRByI9b",
        "colab_type": "code",
        "outputId": "f6c969ba-aca2-4563-c4a9-5d9a4a4c1ae7",
        "colab": {
          "base_uri": "https://localhost:8080/",
          "height": 52
        }
      },
      "source": [
        "print('Inizio della sequenza temporale: ', df.Date.min())\n",
        "print('Fine della sequenza temporale: ', df.Date.max())"
      ],
      "execution_count": 167,
      "outputs": [
        {
          "output_type": "stream",
          "text": [
            "Inizio della sequenza temporale:  2010-07-21\n",
            "Fine della sequenza temporale:  2018-09-28\n"
          ],
          "name": "stdout"
        }
      ]
    },
    {
      "cell_type": "code",
      "metadata": {
        "id": "arB1bsQ7yUdQ",
        "colab_type": "code",
        "outputId": "c76329c4-ccdc-4ae2-d57a-c62219003c68",
        "colab": {
          "base_uri": "https://localhost:8080/",
          "height": 52
        }
      },
      "source": [
        "print('Inizio della sequenza temporale (test set): ', df_test.Date.min())\n",
        "print('Fine della sequenza temporale (test set): ', df_test.Date.max())"
      ],
      "execution_count": 168,
      "outputs": [
        {
          "output_type": "stream",
          "text": [
            "Inizio della sequenza temporale (test set):  2018-10-01\n",
            "Fine della sequenza temporale (test set):  2018-10-24\n"
          ],
          "name": "stdout"
        }
      ]
    },
    {
      "cell_type": "code",
      "metadata": {
        "id": "g4JHVqAUiXhZ",
        "colab_type": "code",
        "outputId": "4d9f3fa5-60e5-4b46-9b8f-bc09895e1fc0",
        "colab": {
          "base_uri": "https://localhost:8080/",
          "height": 206
        }
      },
      "source": [
        "df.head(5)"
      ],
      "execution_count": 169,
      "outputs": [
        {
          "output_type": "execute_result",
          "data": {
            "text/html": [
              "<div>\n",
              "<style scoped>\n",
              "    .dataframe tbody tr th:only-of-type {\n",
              "        vertical-align: middle;\n",
              "    }\n",
              "\n",
              "    .dataframe tbody tr th {\n",
              "        vertical-align: top;\n",
              "    }\n",
              "\n",
              "    .dataframe thead th {\n",
              "        text-align: right;\n",
              "    }\n",
              "</style>\n",
              "<table border=\"1\" class=\"dataframe\">\n",
              "  <thead>\n",
              "    <tr style=\"text-align: right;\">\n",
              "      <th></th>\n",
              "      <th>Date</th>\n",
              "      <th>Open</th>\n",
              "      <th>High</th>\n",
              "      <th>Low</th>\n",
              "      <th>Last</th>\n",
              "      <th>Close</th>\n",
              "      <th>Total Trade Quantity</th>\n",
              "      <th>Turnover (Lacs)</th>\n",
              "    </tr>\n",
              "  </thead>\n",
              "  <tbody>\n",
              "    <tr>\n",
              "      <th>0</th>\n",
              "      <td>2010-07-21</td>\n",
              "      <td>122.1</td>\n",
              "      <td>123.00</td>\n",
              "      <td>121.05</td>\n",
              "      <td>121.10</td>\n",
              "      <td>121.55</td>\n",
              "      <td>658666</td>\n",
              "      <td>803.56</td>\n",
              "    </tr>\n",
              "    <tr>\n",
              "      <th>1</th>\n",
              "      <td>2010-07-22</td>\n",
              "      <td>120.3</td>\n",
              "      <td>122.00</td>\n",
              "      <td>120.25</td>\n",
              "      <td>120.75</td>\n",
              "      <td>120.90</td>\n",
              "      <td>293312</td>\n",
              "      <td>355.17</td>\n",
              "    </tr>\n",
              "    <tr>\n",
              "      <th>2</th>\n",
              "      <td>2010-07-23</td>\n",
              "      <td>121.8</td>\n",
              "      <td>121.95</td>\n",
              "      <td>120.25</td>\n",
              "      <td>120.35</td>\n",
              "      <td>120.65</td>\n",
              "      <td>281312</td>\n",
              "      <td>340.31</td>\n",
              "    </tr>\n",
              "    <tr>\n",
              "      <th>3</th>\n",
              "      <td>2010-07-26</td>\n",
              "      <td>120.1</td>\n",
              "      <td>121.00</td>\n",
              "      <td>117.10</td>\n",
              "      <td>117.10</td>\n",
              "      <td>117.60</td>\n",
              "      <td>658440</td>\n",
              "      <td>780.01</td>\n",
              "    </tr>\n",
              "    <tr>\n",
              "      <th>4</th>\n",
              "      <td>2010-07-27</td>\n",
              "      <td>117.6</td>\n",
              "      <td>119.50</td>\n",
              "      <td>112.00</td>\n",
              "      <td>118.80</td>\n",
              "      <td>118.65</td>\n",
              "      <td>586100</td>\n",
              "      <td>694.98</td>\n",
              "    </tr>\n",
              "  </tbody>\n",
              "</table>\n",
              "</div>"
            ],
            "text/plain": [
              "         Date   Open    High  ...   Close  Total Trade Quantity  Turnover (Lacs)\n",
              "0  2010-07-21  122.1  123.00  ...  121.55                658666           803.56\n",
              "1  2010-07-22  120.3  122.00  ...  120.90                293312           355.17\n",
              "2  2010-07-23  121.8  121.95  ...  120.65                281312           340.31\n",
              "3  2010-07-26  120.1  121.00  ...  117.60                658440           780.01\n",
              "4  2010-07-27  117.6  119.50  ...  118.65                586100           694.98\n",
              "\n",
              "[5 rows x 8 columns]"
            ]
          },
          "metadata": {
            "tags": []
          },
          "execution_count": 169
        }
      ]
    },
    {
      "cell_type": "code",
      "metadata": {
        "id": "7wJC63u0zEsr",
        "colab_type": "code",
        "outputId": "ea45a018-48fa-4f50-c790-7098867848e6",
        "colab": {
          "base_uri": "https://localhost:8080/",
          "height": 281
        }
      },
      "source": [
        "#Data Exploration\n",
        "\n",
        "# grafichiamo la il prezzo di apertura in funzione della data\n",
        "\n",
        "plt.plot(df['Open'],linewidth=1)\n",
        "plt.title('TATA Open Price vs time')\n",
        "plt.show()\n"
      ],
      "execution_count": 170,
      "outputs": [
        {
          "output_type": "display_data",
          "data": {
            "image/png": "[encoded data removed]",
            "text/plain": [
              "<Figure size 432x288 with 1 Axes>"
            ]
          },
          "metadata": {
            "tags": [],
            "needs_background": "light"
          }
        }
      ]
    },
    {
      "cell_type": "code",
      "metadata": {
        "id": "xIBGnzw3-wNt",
        "colab_type": "code",
        "outputId": "0495183f-4e3c-42fd-8223-efbea8f35a6f",
        "colab": {
          "base_uri": "https://localhost:8080/",
          "height": 281
        }
      },
      "source": [
        "plt.plot(df_test['Open'],linewidth=1)\n",
        "plt.title('TATA Open Price vs time Test set')\n",
        "plt.show()\n"
      ],
      "execution_count": 171,
      "outputs": [
        {
          "output_type": "display_data",
          "data": {
            "image/png": "[encoded data removed]",
            "text/plain": [
              "<Figure size 432x288 with 1 Axes>"
            ]
          },
          "metadata": {
            "tags": [],
            "needs_background": "light"
          }
        }
      ]
    },
    {
      "cell_type": "markdown",
      "metadata": {
        "id": "GMMzS8ECwtoi",
        "colab_type": "text"
      },
      "source": [
        "## Costruzione del modello RNN (una LSTM multilayer)\n",
        "\n",
        "*   task: predire il vaore del titolo (feature *Open*) al tempo corrente a partire dalla storia del titolo a tempi precedenti \n",
        "\n",
        "Step necessari:\n",
        "\n",
        "*   normalizzare le feature\n",
        "*   split in training/validation\n",
        "*   adeguare la shape dei dati per l'input atteso per una RNN in TF/keras: 3D array *(num_samples, num_timesteps, num_features)*\n",
        "*   costruzione del modello in keras\n"
      ]
    },
    {
      "cell_type": "code",
      "metadata": {
        "id": "ZkDsmG7Fqlc1",
        "colab_type": "code",
        "colab": {}
      },
      "source": [
        "# selezioniamo solo la feature interessante (Open price) e convertiamo i dati \n",
        "# in array numpy\n",
        "training_set = df.iloc[:, 1:2].values\n",
        "# normalizziamo le feature in [0,1]\n",
        "scaler = MinMaxScaler(feature_range = (0, 1))\n",
        "training_set_scaled = scaler.fit_transform(training_set)"
      ],
      "execution_count": 0,
      "outputs": []
    },
    {
      "cell_type": "code",
      "metadata": {
        "id": "zI4JgjXXq4xS",
        "colab_type": "code",
        "outputId": "4c0a39f2-563f-4edf-e7cf-56af6ef89d38",
        "colab": {
          "base_uri": "https://localhost:8080/",
          "height": 52
        }
      },
      "source": [
        "# Creiamo la strutura di dati adeguata per la RNN: \n",
        "# consideriamo timesteps campionamenti in cui osserviamo i valori del titolo a tempi\n",
        "# precedenti, t-timetamp-delay ... t-delay\n",
        "# e 1 output corrispondente al valore del titolo al tempo corrente  \n",
        "# NOTA: nella RNN  input X timestamp valori a tempi precedenti e target X al tempo t\n",
        "X_train = []\n",
        "y_train = []\n",
        "\n",
        "timesteps = 30 #numero di step temporali sequenziali usati per la predizione\n",
        "delay = 0 #distanza in step temporali tra il target e l'elemento piu' vicino della sequenza temporale\n",
        "\n",
        "for i in range(timesteps+delay, training_set.shape[0]):\n",
        "    X_train.append(training_set_scaled[i-timesteps-delay:i-delay, 0])\n",
        "    y_train.append(training_set_scaled[i, 0])\n",
        "\n",
        "X_train, y_train = np.array(X_train), np.array(y_train)\n",
        "print(X_train.shape)\n",
        "print(y_train.shape)"
      ],
      "execution_count": 271,
      "outputs": [
        {
          "output_type": "stream",
          "text": [
            "(2005, 30)\n",
            "(2005,)\n"
          ],
          "name": "stdout"
        }
      ]
    },
    {
      "cell_type": "code",
      "metadata": {
        "id": "kh6-HIz8rkuk",
        "colab_type": "code",
        "outputId": "5b74f9f0-6725-4a3f-8b74-c02b260136c3",
        "colab": {
          "base_uri": "https://localhost:8080/",
          "height": 34
        }
      },
      "source": [
        "# Reshaping nel formato atteso da una RNN in TF/keras: 3D array (num_samples, num_timesteps, num_features)\n",
        "X_train = np.reshape(X_train, (X_train.shape[0], X_train.shape[1], 1))\n",
        "print(X_train.shape)"
      ],
      "execution_count": 272,
      "outputs": [
        {
          "output_type": "stream",
          "text": [
            "(2005, 30, 1)\n"
          ],
          "name": "stdout"
        }
      ]
    },
    {
      "cell_type": "markdown",
      "metadata": {
        "id": "nG5wsYT9x0_b",
        "colab_type": "text"
      },
      "source": [
        "Architettura del modello di RNN:\n",
        "\n",
        "1.   LSTM con 2 blocchi LSTM sequenziali (stacked LSTM) \n",
        "2.   spazio latente *ht* di dimensione 50\n",
        "3.   dropout 20% per regolarizzare il modello\n",
        "4.   un nuerone nell'output layer per predire la feature *Open*\n",
        "5.   loss: MSE,  ottimizzatore: Adam\n",
        "6.   100 epoche con EarlyStopping, con batch size 32\n"
      ]
    },
    {
      "cell_type": "code",
      "metadata": {
        "id": "BvNFAfQsr3q9",
        "colab_type": "code",
        "outputId": "89944e81-0ed1-4ed5-ef93-a11d8184bccd",
        "colab": {
          "base_uri": "https://localhost:8080/",
          "height": 957
        }
      },
      "source": [
        "# Stacked LSTM layers con dropouts\n",
        "model = keras.Sequential()\n",
        "\n",
        "# return_sequences = True va usato quando l'output della LSTM serve come input \n",
        "# ad un'altra LSTM\n",
        "model.add(layers.LSTM(50, return_sequences = True, input_shape=(X_train.shape[1], 1)))\n",
        "model.add(layers.Dropout(0.2))\n",
        "\n",
        "# nell'ultimo modulo LSTM non serve return_sequences = True\n",
        "model.add(layers.LSTM(50))\n",
        "model.add(layers.Dropout(0.2))\n",
        "\n",
        "model.add(layers.Dense(1))\n",
        "\n",
        "model.summary()\n",
        "keras.utils.plot_model(model, show_shapes=True)"
      ],
      "execution_count": 273,
      "outputs": [
        {
          "output_type": "stream",
          "text": [
            "Model: \"sequential_19\"\n",
            "_________________________________________________________________\n",
            "Layer (type)                 Output Shape              Param #   \n",
            "=================================================================\n",
            "lstm_14 (LSTM)               (None, 30, 50)            10400     \n",
            "_________________________________________________________________\n",
            "dropout_37 (Dropout)         (None, 30, 50)            0         \n",
            "_________________________________________________________________\n",
            "lstm_15 (LSTM)               (None, 50)                20200     \n",
            "_________________________________________________________________\n",
            "dropout_38 (Dropout)         (None, 50)                0         \n",
            "_________________________________________________________________\n",
            "dense_18 (Dense)             (None, 1)                 51        \n",
            "=================================================================\n",
            "Total params: 30,651\n",
            "Trainable params: 30,651\n",
            "Non-trainable params: 0\n",
            "_________________________________________________________________\n"
          ],
          "name": "stdout"
        },
        {
          "output_type": "execute_result",
          "data": {
            "image/png": "[encoded data removed]",
            "text/plain": [
              "<IPython.core.display.Image object>"
            ]
          },
          "metadata": {
            "tags": []
          },
          "execution_count": 273
        }
      ]
    },
    {
      "cell_type": "code",
      "metadata": {
        "id": "jw0C2uuCIdTf",
        "colab_type": "code",
        "outputId": "42602b4a-3af0-4c94-9f7d-d75d87197508",
        "colab": {
          "base_uri": "https://localhost:8080/",
          "height": 1000
        }
      },
      "source": [
        "model.compile(optimizer='adam', loss='mean_squared_error')\n",
        "\n",
        "history = model.fit(\n",
        "    X_train, y_train, epochs=100, batch_size=32, \n",
        "    callbacks=[\n",
        "        keras.callbacks.EarlyStopping(monitor='loss', patience=5),\n",
        "    ]\n",
        ")"
      ],
      "execution_count": 274,
      "outputs": [
        {
          "output_type": "stream",
          "text": [
            "Epoch 1/100\n",
            "63/63 [==============================] - 1s 15ms/step - loss: 0.0103\n",
            "Epoch 2/100\n",
            "63/63 [==============================] - 1s 15ms/step - loss: 0.0024\n",
            "Epoch 3/100\n",
            "63/63 [==============================] - 1s 15ms/step - loss: 0.0022\n",
            "Epoch 4/100\n",
            "63/63 [==============================] - 1s 15ms/step - loss: 0.0019\n",
            "Epoch 5/100\n",
            "63/63 [==============================] - 1s 15ms/step - loss: 0.0018\n",
            "Epoch 6/100\n",
            "63/63 [==============================] - 1s 15ms/step - loss: 0.0015\n",
            "Epoch 7/100\n",
            "63/63 [==============================] - 1s 15ms/step - loss: 0.0016\n",
            "Epoch 8/100\n",
            "63/63 [==============================] - 1s 15ms/step - loss: 0.0015\n",
            "Epoch 9/100\n",
            "63/63 [==============================] - 1s 15ms/step - loss: 0.0014\n",
            "Epoch 10/100\n",
            "63/63 [==============================] - 1s 15ms/step - loss: 0.0018\n",
            "Epoch 11/100\n",
            "63/63 [==============================] - 1s 15ms/step - loss: 0.0014\n",
            "Epoch 12/100\n",
            "63/63 [==============================] - 1s 15ms/step - loss: 0.0013\n",
            "Epoch 13/100\n",
            "63/63 [==============================] - 1s 15ms/step - loss: 0.0013\n",
            "Epoch 14/100\n",
            "63/63 [==============================] - 1s 15ms/step - loss: 0.0013\n",
            "Epoch 15/100\n",
            "63/63 [==============================] - 1s 15ms/step - loss: 0.0013\n",
            "Epoch 16/100\n",
            "63/63 [==============================] - 1s 15ms/step - loss: 0.0013\n",
            "Epoch 17/100\n",
            "63/63 [==============================] - 1s 15ms/step - loss: 0.0012\n",
            "Epoch 18/100\n",
            "63/63 [==============================] - 1s 15ms/step - loss: 0.0012\n",
            "Epoch 19/100\n",
            "63/63 [==============================] - 1s 15ms/step - loss: 0.0011\n",
            "Epoch 20/100\n",
            "63/63 [==============================] - 1s 15ms/step - loss: 0.0011\n",
            "Epoch 21/100\n",
            "63/63 [==============================] - 1s 15ms/step - loss: 9.5327e-04\n",
            "Epoch 22/100\n",
            "63/63 [==============================] - 1s 15ms/step - loss: 0.0011\n",
            "Epoch 23/100\n",
            "63/63 [==============================] - 1s 15ms/step - loss: 9.4618e-04\n",
            "Epoch 24/100\n",
            "63/63 [==============================] - 1s 15ms/step - loss: 9.7360e-04\n",
            "Epoch 25/100\n",
            "63/63 [==============================] - 1s 15ms/step - loss: 8.7899e-04\n",
            "Epoch 26/100\n",
            "63/63 [==============================] - 1s 15ms/step - loss: 0.0010\n",
            "Epoch 27/100\n",
            "63/63 [==============================] - 1s 15ms/step - loss: 0.0011\n",
            "Epoch 28/100\n",
            "63/63 [==============================] - 1s 15ms/step - loss: 8.8024e-04\n",
            "Epoch 29/100\n",
            "63/63 [==============================] - 1s 15ms/step - loss: 7.7194e-04\n",
            "Epoch 30/100\n",
            "63/63 [==============================] - 1s 15ms/step - loss: 0.0010\n",
            "Epoch 31/100\n",
            "63/63 [==============================] - 1s 15ms/step - loss: 8.2203e-04\n",
            "Epoch 32/100\n",
            "63/63 [==============================] - 1s 15ms/step - loss: 8.2289e-04\n",
            "Epoch 33/100\n",
            "63/63 [==============================] - 1s 15ms/step - loss: 8.2825e-04\n",
            "Epoch 34/100\n",
            "63/63 [==============================] - 1s 15ms/step - loss: 7.6188e-04\n",
            "Epoch 35/100\n",
            "63/63 [==============================] - 1s 15ms/step - loss: 8.4097e-04\n",
            "Epoch 36/100\n",
            "63/63 [==============================] - 1s 15ms/step - loss: 7.8976e-04\n",
            "Epoch 37/100\n",
            "63/63 [==============================] - 1s 15ms/step - loss: 7.7546e-04\n",
            "Epoch 38/100\n",
            "63/63 [==============================] - 1s 15ms/step - loss: 6.7771e-04\n",
            "Epoch 39/100\n",
            "63/63 [==============================] - 1s 15ms/step - loss: 8.6257e-04\n",
            "Epoch 40/100\n",
            "63/63 [==============================] - 1s 15ms/step - loss: 7.5713e-04\n",
            "Epoch 41/100\n",
            "63/63 [==============================] - 1s 15ms/step - loss: 7.0214e-04\n",
            "Epoch 42/100\n",
            "63/63 [==============================] - 1s 15ms/step - loss: 6.8280e-04\n",
            "Epoch 43/100\n",
            "63/63 [==============================] - 1s 15ms/step - loss: 7.5724e-04\n"
          ],
          "name": "stdout"
        }
      ]
    },
    {
      "cell_type": "code",
      "metadata": {
        "id": "H_1TNrsqq2Am",
        "colab_type": "code",
        "colab": {
          "base_uri": "https://localhost:8080/",
          "height": 282
        },
        "outputId": "8e176b46-b5b9-4cdf-b83b-8a5aa21feed8"
      },
      "source": [
        "plt.plot(history.history[\"loss\"])"
      ],
      "execution_count": 275,
      "outputs": [
        {
          "output_type": "execute_result",
          "data": {
            "text/plain": [
              "[<matplotlib.lines.Line2D at 0x7f5cdc8ee710>]"
            ]
          },
          "metadata": {
            "tags": []
          },
          "execution_count": 275
        },
        {
          "output_type": "display_data",
          "data": {
            "image/png": "[encoded data removed]",
            "text/plain": [
              "<Figure size 432x288 with 1 Axes>"
            ]
          },
          "metadata": {
            "tags": [],
            "needs_background": "light"
          }
        }
      ]
    },
    {
      "cell_type": "code",
      "metadata": {
        "id": "rRYmizR_vWH_",
        "colab_type": "code",
        "colab": {}
      },
      "source": [
        "# Calcoliamo la predizione del modello su i dati del test set (set degli stessi dati nel periodo subito \n",
        "# successivo)\n",
        "\n",
        "test_set = df_test.iloc[:, 1:2].values\n",
        "\n",
        "#concateniamo il dataset di training (che contiene le sequenze precedenti a quelle \n",
        "#del test set) con il test set\n",
        "df_total = pd.concat((df['Open'], df_test['Open']), axis = 0)\n",
        "inputs = df_total[(len(df_total) - len(df_test) - timesteps - delay):].values\n",
        "inputs = inputs.reshape(-1,1) #nota -1 significa che numpy ricava la dimensione dalla lunghezza dell'array\n",
        "inputs = scaler.transform(inputs) #normalizzazione\n",
        "\n",
        "X_test = []\n",
        "for i in range(timesteps+delay, timesteps+delay+test_set.shape[0]):\n",
        "    start = i-(timesteps+delay)\n",
        "    end = i-delay\n",
        "    X_test.append(inputs[start:end, 0])\n",
        "\n",
        "X_test = np.array(X_test)\n",
        "X_test = np.reshape(X_test, (X_test.shape[0], X_test.shape[1], 1))\n",
        "\n",
        "# predizione sul test set\n",
        "predicted_values = model.predict(X_test)\n",
        "\n",
        "# riconvertiamo indietro da [0,1] ai valori originali dell'prezzo di borsa\n",
        "predicted_values = scaler.inverse_transform(predicted_values)"
      ],
      "execution_count": 0,
      "outputs": []
    },
    {
      "cell_type": "code",
      "metadata": {
        "id": "xwDX-TtbxMDC",
        "colab_type": "code",
        "outputId": "f1e12f33-0ed1-4eb9-83fb-65ed5dfbfbb4",
        "colab": {
          "base_uri": "https://localhost:8080/",
          "height": 283
        }
      },
      "source": [
        "# Grafichiamo il risultato: predizione VS valore vero\n",
        "\n",
        "plt.plot(test_set, color = 'red', label = 'Prezzo reale del titolo TATA')\n",
        "plt.plot(predicted_values, color = 'blue', label = 'Predizione del titolo TATA')\n",
        "plt.ylim(150, 300)\n",
        "plt.xlabel('Tempo')\n",
        "plt.ylabel('Prezzo del titolo TATA')\n",
        "plt.legend()\n",
        "plt.show()"
      ],
      "execution_count": 277,
      "outputs": [
        {
          "output_type": "display_data",
          "data": {
            "image/png": "[encoded data removed]",
            "text/plain": [
              "<Figure size 432x288 with 1 Axes>"
            ]
          },
          "metadata": {
            "tags": [],
            "needs_background": "light"
          }
        }
      ]
    },
    {
      "cell_type": "code",
      "metadata": {
        "id": "QiiGbfELXw1R",
        "colab_type": "code",
        "colab": {}
      },
      "source": [
        "lstm_model = model"
      ],
      "execution_count": 0,
      "outputs": []
    },
    {
      "cell_type": "markdown",
      "metadata": {
        "id": "aIQQaODcBCSM",
        "colab_type": "text"
      },
      "source": [
        "# **Compiti:** \n",
        "\n",
        "1.   provare a vedere come cambiano le prestazioni riducendo la complessita della rete (dimensione spazio latente, numero di stack LSTM), e/o passando a RNN di tipo SimpleRNN e GRU\n",
        "2.   pensare ad un modello naive basato sull'intuizione (vostra) del processo (esempio: la predizione a t potrebbe essere la media dei valori in n t precedenti tra i dati disponibili (dato il valore del delay), oppure il valore più vicino, ...) per stimare il valore del titolo al tempo corrente, misurarne le prestazioni sul test_set e confrontarlo con quanto ottenuto con la RNN ... commenti?\n",
        "3.   provate a vedere come la qualità della predizione dipende dal numeo di eventi temporali (timestamps) utilizzati e sopratutto dalla distanza temporale (delay) tra l'ultima misura disponibile e il valore corrente. Come infuiscono sulle prestazioni?\n",
        "4.   provate a costruire un campione di test ottenuto dalle predizioni sul campione di test stesso e iterare la procedura, cosa succede alla predizione?\n",
        "5.   le prestazioni del modello migliorrebbero aggiungendo ulteriori feature nell'analisi temporale (per esempio: 'Total Trade Quantity' e 'Turnover (Lacs)')? Provare a capire come poter modificare il modello inserendo tali quantità e addestrando un nuovo modello ... (più complesso e opzionale)"
      ]
    },
    {
      "cell_type": "markdown",
      "metadata": {
        "id": "KLZKyZ7cGF4T",
        "colab_type": "text"
      },
      "source": [
        "# Riduzione della complessità della rete"
      ]
    },
    {
      "cell_type": "markdown",
      "metadata": {
        "id": "LWJA9m3FGJO0",
        "colab_type": "text"
      },
      "source": [
        "Utilizzo una rete con Simple RNN (poiché ho solo 2 layer probabilmente non si avrà diluizione del gradiente) e riduco la dimensione dello spazio latente da 50 a 20. Per bilanciare la minore complessità della rete diminuisco il dropout a 0.1."
      ]
    },
    {
      "cell_type": "code",
      "metadata": {
        "id": "eRbZMi6pqmLo",
        "colab_type": "code",
        "colab": {
          "base_uri": "https://localhost:8080/",
          "height": 1000
        },
        "outputId": "6ec3b4e7-5fa5-410d-ba5f-e75bdb6d188d"
      },
      "source": [
        "model = keras.Sequential()\n",
        "model.add(layers.SimpleRNN(20, return_sequences = True, input_shape=(X_train.shape[1], 1)))\n",
        "model.add(layers.Dropout(0.1))\n",
        "\n",
        "model.add(layers.SimpleRNN(20))\n",
        "model.add(layers.Dropout(0.1))\n",
        "\n",
        "model.add(layers.Dense(1))\n",
        "\n",
        "model.summary()\n",
        "\n",
        "model.compile(optimizer='adam', loss='mean_squared_error')\n",
        "\n",
        "history = model.fit(X_train, y_train,\n",
        "                    epochs=100,\n",
        "                    batch_size=32,\n",
        "                    callbacks=[keras.callbacks.EarlyStopping(monitor='loss', patience=5)])\n",
        "\n",
        "plt.plot(history.history[\"loss\"])\n",
        "\n",
        "# Calcoliamo la predizione del modello su i dati del test set (set degli stessi dati nel periodo subito \n",
        "# successivo)\n",
        "\n",
        "test_set = df_test.iloc[:, 1:2].values\n",
        "\n",
        "#concateniamo il dataset di training (che contiene le sequenze precedenti a quelle \n",
        "#del test set) con il test set\n",
        "df_total = pd.concat((df['Open'], df_test['Open']), axis = 0)\n",
        "inputs = df_total[(len(df_total) - len(df_test) - timesteps - delay):].values\n",
        "inputs = inputs.reshape(-1,1) #nota -1 significa che numpy ricava la dimensione dalla lunghezza dell'array\n",
        "inputs = scaler.transform(inputs) #normalizzazione\n",
        "\n",
        "X_test = []\n",
        "for i in range(timesteps+delay, timesteps+delay+test_set.shape[0]):\n",
        "    start = i-(timesteps+delay)\n",
        "    end = i-delay\n",
        "    X_test.append(inputs[start:end, 0])\n",
        "\n",
        "X_test = np.array(X_test)\n",
        "X_test = np.reshape(X_test, (X_test.shape[0], X_test.shape[1], 1))"
      ],
      "execution_count": 183,
      "outputs": [
        {
          "output_type": "stream",
          "text": [
            "Model: \"sequential_9\"\n",
            "_________________________________________________________________\n",
            "Layer (type)                 Output Shape              Param #   \n",
            "=================================================================\n",
            "simple_rnn_8 (SimpleRNN)     (None, 30, 20)            440       \n",
            "_________________________________________________________________\n",
            "dropout_17 (Dropout)         (None, 30, 20)            0         \n",
            "_________________________________________________________________\n",
            "simple_rnn_9 (SimpleRNN)     (None, 20)                820       \n",
            "_________________________________________________________________\n",
            "dropout_18 (Dropout)         (None, 20)                0         \n",
            "_________________________________________________________________\n",
            "dense_8 (Dense)              (None, 1)                 21        \n",
            "=================================================================\n",
            "Total params: 1,281\n",
            "Trainable params: 1,281\n",
            "Non-trainable params: 0\n",
            "_________________________________________________________________\n",
            "Epoch 1/100\n",
            "63/63 [==============================] - 4s 62ms/step - loss: 0.0803\n",
            "Epoch 2/100\n",
            "63/63 [==============================] - 4s 60ms/step - loss: 0.0154\n",
            "Epoch 3/100\n",
            "63/63 [==============================] - 4s 61ms/step - loss: 0.0106\n",
            "Epoch 4/100\n",
            "63/63 [==============================] - 4s 60ms/step - loss: 0.0074\n",
            "Epoch 5/100\n",
            "63/63 [==============================] - 4s 60ms/step - loss: 0.0061\n",
            "Epoch 6/100\n",
            "63/63 [==============================] - 4s 61ms/step - loss: 0.0050\n",
            "Epoch 7/100\n",
            "63/63 [==============================] - 4s 58ms/step - loss: 0.0040\n",
            "Epoch 8/100\n",
            "63/63 [==============================] - 4s 60ms/step - loss: 0.0036\n",
            "Epoch 9/100\n",
            "63/63 [==============================] - 4s 59ms/step - loss: 0.0030\n",
            "Epoch 10/100\n",
            "63/63 [==============================] - 4s 59ms/step - loss: 0.0028\n",
            "Epoch 11/100\n",
            "63/63 [==============================] - 4s 59ms/step - loss: 0.0030\n",
            "Epoch 12/100\n",
            "63/63 [==============================] - 4s 59ms/step - loss: 0.0028\n",
            "Epoch 13/100\n",
            "63/63 [==============================] - 4s 60ms/step - loss: 0.0024\n",
            "Epoch 14/100\n",
            "63/63 [==============================] - 4s 60ms/step - loss: 0.0022\n",
            "Epoch 15/100\n",
            "63/63 [==============================] - 4s 60ms/step - loss: 0.0019\n",
            "Epoch 16/100\n",
            "63/63 [==============================] - 4s 60ms/step - loss: 0.0020\n",
            "Epoch 17/100\n",
            "63/63 [==============================] - 4s 60ms/step - loss: 0.0019\n",
            "Epoch 18/100\n",
            "63/63 [==============================] - 4s 60ms/step - loss: 0.0017\n",
            "Epoch 19/100\n",
            "63/63 [==============================] - 4s 60ms/step - loss: 0.0017\n",
            "Epoch 20/100\n",
            "63/63 [==============================] - 4s 59ms/step - loss: 0.0016\n",
            "Epoch 21/100\n",
            "63/63 [==============================] - 4s 58ms/step - loss: 0.0015\n",
            "Epoch 22/100\n",
            "63/63 [==============================] - 4s 59ms/step - loss: 0.0015\n",
            "Epoch 23/100\n",
            "63/63 [==============================] - 4s 59ms/step - loss: 0.0015\n",
            "Epoch 24/100\n",
            "63/63 [==============================] - 4s 60ms/step - loss: 0.0013\n",
            "Epoch 25/100\n",
            "63/63 [==============================] - 4s 59ms/step - loss: 0.0015\n",
            "Epoch 26/100\n",
            "63/63 [==============================] - 4s 60ms/step - loss: 0.0013\n",
            "Epoch 27/100\n",
            "63/63 [==============================] - 4s 59ms/step - loss: 0.0012\n",
            "Epoch 28/100\n",
            "63/63 [==============================] - 4s 59ms/step - loss: 0.0013\n",
            "Epoch 29/100\n",
            "63/63 [==============================] - 4s 59ms/step - loss: 0.0013\n",
            "Epoch 30/100\n",
            "63/63 [==============================] - 4s 60ms/step - loss: 0.0011\n",
            "Epoch 31/100\n",
            "63/63 [==============================] - 4s 60ms/step - loss: 0.0013\n",
            "Epoch 32/100\n",
            "63/63 [==============================] - 4s 63ms/step - loss: 0.0011\n",
            "Epoch 33/100\n",
            "63/63 [==============================] - 4s 62ms/step - loss: 0.0012\n",
            "Epoch 34/100\n",
            "63/63 [==============================] - 4s 61ms/step - loss: 0.0011\n",
            "Epoch 35/100\n",
            "63/63 [==============================] - 4s 58ms/step - loss: 0.0010\n",
            "Epoch 36/100\n",
            "63/63 [==============================] - 4s 60ms/step - loss: 0.0010\n",
            "Epoch 37/100\n",
            "63/63 [==============================] - 4s 60ms/step - loss: 0.0011\n",
            "Epoch 38/100\n",
            "63/63 [==============================] - 4s 60ms/step - loss: 9.5128e-04\n",
            "Epoch 39/100\n",
            "63/63 [==============================] - 4s 59ms/step - loss: 0.0011\n",
            "Epoch 40/100\n",
            "63/63 [==============================] - 4s 59ms/step - loss: 9.6483e-04\n",
            "Epoch 41/100\n",
            "63/63 [==============================] - 4s 60ms/step - loss: 0.0010\n",
            "Epoch 42/100\n",
            "63/63 [==============================] - 4s 62ms/step - loss: 9.8197e-04\n",
            "Epoch 43/100\n",
            "63/63 [==============================] - 4s 61ms/step - loss: 9.2931e-04\n",
            "Epoch 44/100\n",
            "63/63 [==============================] - 4s 58ms/step - loss: 7.8833e-04\n",
            "Epoch 45/100\n",
            "63/63 [==============================] - 4s 59ms/step - loss: 9.7570e-04\n",
            "Epoch 46/100\n",
            "63/63 [==============================] - 4s 60ms/step - loss: 8.9063e-04\n",
            "Epoch 47/100\n",
            "63/63 [==============================] - 4s 60ms/step - loss: 8.7157e-04\n",
            "Epoch 48/100\n",
            "63/63 [==============================] - 4s 59ms/step - loss: 8.8500e-04\n",
            "Epoch 49/100\n",
            "63/63 [==============================] - 4s 59ms/step - loss: 8.9939e-04\n"
          ],
          "name": "stdout"
        },
        {
          "output_type": "display_data",
          "data": {
            "image/png": "[encoded data removed]",
            "text/plain": [
              "<Figure size 432x288 with 1 Axes>"
            ]
          },
          "metadata": {
            "tags": [],
            "needs_background": "light"
          }
        }
      ]
    },
    {
      "cell_type": "markdown",
      "metadata": {
        "id": "6P9hLt7aGegw",
        "colab_type": "text"
      },
      "source": [
        "Con 1200 parametri a fronte dei 30000 usati prima si ha una loss finale simile ed una predizione ottima."
      ]
    },
    {
      "cell_type": "code",
      "metadata": {
        "id": "zUjtyrf32Y3B",
        "colab_type": "code",
        "colab": {
          "base_uri": "https://localhost:8080/",
          "height": 300
        },
        "outputId": "323acb93-fb49-4c24-b70c-ef9d81c77e8b"
      },
      "source": [
        "# predizione sul test set\n",
        "predicted_values = model.predict(X_test)\n",
        "\n",
        "# riconvertiamo indietro da [0,1] ai valori originali dell'prezzo di borsa\n",
        "predicted_values = scaler.inverse_transform(predicted_values)\n",
        "\n",
        "# Grafichiamo il risultato: predizione VS valore vero\n",
        "\n",
        "plt.plot(test_set, color = 'red', label = 'Prezzo reale del titolo TATA')\n",
        "plt.plot(predicted_values, color = 'blue', label = 'Predizione del titolo TATA')\n",
        "plt.ylim(200, 250)\n",
        "plt.xlabel('Tempo')\n",
        "plt.ylabel('Prezzo del titolo TATA')\n",
        "plt.legend()\n",
        "plt.show()\n",
        "\n",
        "from sklearn.metrics import mean_squared_error\n",
        "\n",
        "print(f\"MSE: {mean_squared_error(predicted_values, test_set)}\")"
      ],
      "execution_count": 252,
      "outputs": [
        {
          "output_type": "display_data",
          "data": {
            "image/png": "[encoded data removed]",
            "text/plain": [
              "<Figure size 432x288 with 1 Axes>"
            ]
          },
          "metadata": {
            "tags": [],
            "needs_background": "light"
          }
        },
        {
          "output_type": "stream",
          "text": [
            "MSE: 57.19767960814757\n"
          ],
          "name": "stdout"
        }
      ]
    },
    {
      "cell_type": "markdown",
      "metadata": {
        "id": "TJQe9jRIOnP9",
        "colab_type": "text"
      },
      "source": [
        "# Confronto con *naive model*"
      ]
    },
    {
      "cell_type": "markdown",
      "metadata": {
        "id": "wbJhYuHaGqsS",
        "colab_type": "text"
      },
      "source": [
        "Utilizzo come *naive model* una spline di grado 5, che fitta gli ultimi 100 punti del training set. A questi, per evitare l'esplosione della spline nella previsione, viene aggiunto un pezzo di lunghezza pari al test set e avente sempre un valore pari all'ultimo elemento del training set. "
      ]
    },
    {
      "cell_type": "code",
      "metadata": {
        "id": "oKAsTOqjAa7c",
        "colab_type": "code",
        "colab": {
          "base_uri": "https://localhost:8080/",
          "height": 569
        },
        "outputId": "9209ef25-bf6e-4a76-8e83-403e98afba99"
      },
      "source": [
        "from scipy.interpolate import UnivariateSpline\n",
        "L = 100\n",
        "x_train = training_set[-L:].reshape(-1)\n",
        "x_test = test_set.reshape(-1)\n",
        "\n",
        "_x_train = np.concatenate((x_train, x_train[-1]*np.ones((len(test_set), ))))\n",
        "x_test = test_set.reshape(-1)\n",
        "spl = UnivariateSpline(range(len(_x_train)), _x_train, k=5)\n",
        "plt.plot(np.concatenate((x_train, x_test)))\n",
        "x = np.asarray(range(L+len(test_set)))\n",
        "spl.set_smoothing_factor(np.infty)\n",
        "plt.plot(x, spl(x))\n",
        "plt.show()\n",
        "x = range(L, L+len(test_set))\n",
        "plt.plot(x_test, color = 'red', label = 'Prezzo reale del titolo TATA')\n",
        "plt.plot(spl(x), color = 'blue', label = 'Predizione del titolo TATA')\n",
        "plt.ylim(150, 300)\n",
        "plt.xlabel('Tempo')\n",
        "plt.ylabel('Prezzo del titolo TATA')\n",
        "plt.legend()\n",
        "plt.show()\n",
        "print(f\"MSE: {mean_squared_error(spl(x), x_test)}\")"
      ],
      "execution_count": 254,
      "outputs": [
        {
          "output_type": "display_data",
          "data": {
            "image/png": "[encoded data removed]",
            "text/plain": [
              "<Figure size 432x288 with 1 Axes>"
            ]
          },
          "metadata": {
            "tags": [],
            "needs_background": "light"
          }
        },
        {
          "output_type": "display_data",
          "data": {
            "image/png": "[encoded data removed]",
            "text/plain": [
              "<Figure size 432x288 with 1 Axes>"
            ]
          },
          "metadata": {
            "tags": [],
            "needs_background": "light"
          }
        },
        {
          "output_type": "stream",
          "text": [
            "MSE: 216.88329019428016\n",
            "MSE: 216.88329019428016\n"
          ],
          "name": "stdout"
        }
      ]
    },
    {
      "cell_type": "markdown",
      "metadata": {
        "id": "ZGngmbImOee_",
        "colab_type": "text"
      },
      "source": [
        "Come si vede, la previsione è abbastanza ragionevole, seppur molto più *smooth* di quella della rete neurale. L'MSE è circa \n",
        "4 volte più grande di quello della rete."
      ]
    },
    {
      "cell_type": "markdown",
      "metadata": {
        "id": "oEkKm3JVXUDP",
        "colab_type": "text"
      },
      "source": [
        "# Modifica delay"
      ]
    },
    {
      "cell_type": "code",
      "metadata": {
        "id": "mK35BAxKPHAW",
        "colab_type": "code",
        "colab": {
          "base_uri": "https://localhost:8080/",
          "height": 1000
        },
        "outputId": "ceda2efd-dd8c-4efa-c977-c08577f855f9"
      },
      "source": [
        "def get_timed_data(input_set, timesteps=30, delay=0):\n",
        "  X_train = []\n",
        "  y_train = []\n",
        "\n",
        "  for i in range(timesteps+delay, input_set.shape[0]):\n",
        "      X_train.append(training_set_scaled[i-timesteps-delay:i-delay, 0])\n",
        "      y_train.append(training_set_scaled[i, 0])\n",
        "\n",
        "  return (np.array(X_train), np.array(y_train))\n",
        "\n",
        "\n",
        "X_train, y_train = get_timed_data(training_set, delay=10)\n",
        "X_train = np.reshape(X_train, (X_train.shape[0], X_train.shape[1], 1))\n",
        "\n",
        "model = keras.Sequential()\n",
        "\n",
        "model.add(layers.SimpleRNN(20, return_sequences = True, input_shape=(X_train.shape[1], 1)))\n",
        "model.add(layers.Dropout(0.1))\n",
        "\n",
        "model.add(layers.SimpleRNN(20))\n",
        "model.add(layers.Dropout(0.1))\n",
        "\n",
        "model.add(layers.Dense(1))\n",
        "\n",
        "model.summary()\n",
        "\n",
        "model.compile(optimizer='adam', loss='mean_squared_error')\n",
        "\n",
        "history = model.fit(X_train, y_train,\n",
        "                    epochs=100,\n",
        "                    batch_size=32,\n",
        "                    callbacks=[keras.callbacks.EarlyStopping(monitor='loss', patience=5)])\n",
        "\n",
        "plt.plot(history.history[\"loss\"])\n",
        "\n",
        "# Calcoliamo la predizione del modello su i dati del test set (set degli stessi dati nel periodo subito \n",
        "# successivo)\n",
        "\n",
        "test_set = df_test.iloc[:, 1:2].values\n",
        "\n",
        "#concateniamo il dataset di training (che contiene le sequenze precedenti a quelle \n",
        "#del test set) con il test set\n",
        "df_total = pd.concat((df['Open'], df_test['Open']), axis = 0)\n",
        "inputs = df_total[(len(df_total) - len(df_test) - timesteps - delay):].values\n",
        "inputs = inputs.reshape(-1,1) #nota -1 significa che numpy ricava la dimensione dalla lunghezza dell'array\n",
        "inputs = scaler.transform(inputs) #normalizzazione"
      ],
      "execution_count": 257,
      "outputs": [
        {
          "output_type": "stream",
          "text": [
            "Model: \"sequential_16\"\n",
            "_________________________________________________________________\n",
            "Layer (type)                 Output Shape              Param #   \n",
            "=================================================================\n",
            "simple_rnn_22 (SimpleRNN)    (None, 30, 20)            440       \n",
            "_________________________________________________________________\n",
            "dropout_31 (Dropout)         (None, 30, 20)            0         \n",
            "_________________________________________________________________\n",
            "simple_rnn_23 (SimpleRNN)    (None, 20)                820       \n",
            "_________________________________________________________________\n",
            "dropout_32 (Dropout)         (None, 20)                0         \n",
            "_________________________________________________________________\n",
            "dense_15 (Dense)             (None, 1)                 21        \n",
            "=================================================================\n",
            "Total params: 1,281\n",
            "Trainable params: 1,281\n",
            "Non-trainable params: 0\n",
            "_________________________________________________________________\n",
            "Epoch 1/100\n",
            "63/63 [==============================] - 4s 63ms/step - loss: 0.0415\n",
            "Epoch 2/100\n",
            "63/63 [==============================] - 4s 64ms/step - loss: 0.0135\n",
            "Epoch 3/100\n",
            "63/63 [==============================] - 4s 63ms/step - loss: 0.0088\n",
            "Epoch 4/100\n",
            "63/63 [==============================] - 4s 61ms/step - loss: 0.0077\n",
            "Epoch 5/100\n",
            "63/63 [==============================] - 4s 61ms/step - loss: 0.0067\n",
            "Epoch 6/100\n",
            "63/63 [==============================] - 4s 63ms/step - loss: 0.0059\n",
            "Epoch 7/100\n",
            "63/63 [==============================] - 4s 62ms/step - loss: 0.0050\n",
            "Epoch 8/100\n",
            "63/63 [==============================] - 4s 64ms/step - loss: 0.0054\n",
            "Epoch 9/100\n",
            "63/63 [==============================] - 4s 64ms/step - loss: 0.0049\n",
            "Epoch 10/100\n",
            "63/63 [==============================] - 4s 63ms/step - loss: 0.0045\n",
            "Epoch 11/100\n",
            "63/63 [==============================] - 4s 64ms/step - loss: 0.0041\n",
            "Epoch 12/100\n",
            "63/63 [==============================] - 4s 63ms/step - loss: 0.0040\n",
            "Epoch 13/100\n",
            "63/63 [==============================] - 4s 63ms/step - loss: 0.0041\n",
            "Epoch 14/100\n",
            "63/63 [==============================] - 4s 62ms/step - loss: 0.0032\n",
            "Epoch 15/100\n",
            "63/63 [==============================] - 4s 64ms/step - loss: 0.0037\n",
            "Epoch 16/100\n",
            "63/63 [==============================] - 4s 63ms/step - loss: 0.0038\n",
            "Epoch 17/100\n",
            "63/63 [==============================] - 4s 63ms/step - loss: 0.0034\n",
            "Epoch 18/100\n",
            "63/63 [==============================] - 4s 62ms/step - loss: 0.0037\n",
            "Epoch 19/100\n",
            "63/63 [==============================] - 4s 63ms/step - loss: 0.0034\n"
          ],
          "name": "stdout"
        },
        {
          "output_type": "display_data",
          "data": {
            "image/png": "[encoded data removed]",
            "text/plain": [
              "<Figure size 432x288 with 1 Axes>"
            ]
          },
          "metadata": {
            "tags": [],
            "needs_background": "light"
          }
        }
      ]
    },
    {
      "cell_type": "code",
      "metadata": {
        "id": "QEEC-qPJV6_R",
        "colab_type": "code",
        "colab": {
          "base_uri": "https://localhost:8080/",
          "height": 300
        },
        "outputId": "82717947-f294-4aaa-c26a-6c5170275026"
      },
      "source": [
        "delay=10\n",
        "X_test = []\n",
        "for i in range(timesteps+delay, timesteps+delay+test_set.shape[0]):\n",
        "    start = i-(timesteps+delay)\n",
        "    end = i-delay\n",
        "    X_test.append(inputs[start:end, 0])\n",
        "\n",
        "X_test = np.array(X_test)\n",
        "X_test = np.reshape(X_test, (X_test.shape[0], X_test.shape[1], 1))\n",
        "\n",
        "# predizione sul test set\n",
        "predicted_values = model.predict(X_test)\n",
        "\n",
        "# riconvertiamo indietro da [0,1] ai valori originali dell'prezzo di borsa\n",
        "predicted_values = scaler.inverse_transform(predicted_values)\n",
        "\n",
        "# Grafichiamo il risultato: predizione VS valore vero\n",
        "\n",
        "plt.plot(test_set, color = 'red', label = 'Prezzo reale del titolo TATA')\n",
        "plt.plot(predicted_values, color = 'blue', label = 'Predizione del titolo TATA')\n",
        "plt.ylim(200, 250)\n",
        "plt.xlabel('Tempo')\n",
        "plt.ylabel('Prezzo del titolo TATA')\n",
        "plt.legend()\n",
        "plt.show()\n",
        "\n",
        "from sklearn.metrics import mean_squared_error\n",
        "\n",
        "print(f\"MSE: {mean_squared_error(predicted_values, test_set)}\")"
      ],
      "execution_count": 258,
      "outputs": [
        {
          "output_type": "display_data",
          "data": {
            "image/png": "[encoded data removed]",
            "text/plain": [
              "<Figure size 432x288 with 1 Axes>"
            ]
          },
          "metadata": {
            "tags": [],
            "needs_background": "light"
          }
        },
        {
          "output_type": "stream",
          "text": [
            "MSE: 164.48057219330627\n"
          ],
          "name": "stdout"
        }
      ]
    },
    {
      "cell_type": "markdown",
      "metadata": {
        "id": "v6oF7XVjXPPk",
        "colab_type": "text"
      },
      "source": [
        "Aumentando il delay a 10 le prestazioni calano sensibilmente."
      ]
    },
    {
      "cell_type": "markdown",
      "metadata": {
        "id": "VWgEp8I1Xflr",
        "colab_type": "text"
      },
      "source": [
        "# Reiterazione della previsione"
      ]
    },
    {
      "cell_type": "code",
      "metadata": {
        "id": "jwhcVDiHXjGe",
        "colab_type": "code",
        "colab": {
          "base_uri": "https://localhost:8080/",
          "height": 265
        },
        "outputId": "246fe691-116a-41bd-f6d8-60f020348037"
      },
      "source": [
        "delay = 1\n",
        "\n",
        "iterations = 10\n",
        "pred = inputs\n",
        "plt.plot(test_set, color = 'red', label = 'Prezzo reale del titolo TATA')\n",
        "df_test[\"pred\"] = df_test['Open']\n",
        "for i in range(iterations):\n",
        "  delay = 1\n",
        "  \n",
        "  df_total = pd.concat((df['Open'], df_test['pred']), axis = 0)\n",
        "  inputs = df_total[(len(df_total) - len(df_test) - timesteps - delay):].values\n",
        "  inputs = inputs.reshape(-1,1) #nota -1 significa che numpy ricava la dimensione dalla lunghezza dell'array\n",
        "  inputs = scaler.transform(inputs) #normalizzazione\n",
        "\n",
        "  X_test = []\n",
        "  for j in range(timesteps+delay, timesteps+delay+test_set.shape[0]):\n",
        "      start = j-(timesteps+delay)\n",
        "      end = j-delay\n",
        "      X_test.append(inputs[start:end, 0])\n",
        "\n",
        "  X_test = np.array(X_test)\n",
        "  X_test = np.reshape(X_test, (X_test.shape[0], X_test.shape[1], 1))\n",
        "\n",
        "  df_test[\"pred\"] = scaler.inverse_transform(lstm_model.predict(X_test))\n",
        "  plt.plot(df_test[\"pred\"], color = 'blue', label = str(i))\n"
      ],
      "execution_count": 301,
      "outputs": [
        {
          "output_type": "display_data",
          "data": {
            "image/png": "[encoded data removed]",
            "text/plain": [
              "<Figure size 432x288 with 1 Axes>"
            ]
          },
          "metadata": {
            "tags": [],
            "needs_background": "light"
          }
        }
      ]
    },
    {
      "cell_type": "markdown",
      "metadata": {
        "id": "qDK5flJAfTas",
        "colab_type": "text"
      },
      "source": [
        "La previsione viene sempre di più ritardata, amplificando l'effetto che si ottiene per una singola previsione."
      ]
    }
  ]
}