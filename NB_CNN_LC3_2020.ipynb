{
  "nbformat": 4,
  "nbformat_minor": 0,
  "metadata": {
    "kernelspec": {
      "display_name": "Python 3",
      "language": "python",
      "name": "python3"
    },
    "language_info": {
      "codemirror_mode": {
        "name": "ipython",
        "version": 3
      },
      "file_extension": ".py",
      "mimetype": "text/x-python",
      "name": "python",
      "nbconvert_exporter": "python",
      "pygments_lexer": "ipython3",
      "version": "3.5.2"
    },
    "colab": {
      "name": "NB_CNN_LC3_2020.ipynb",
      "provenance": [],
      "collapsed_sections": []
    }
  },
  "cells": [
    {
      "cell_type": "markdown",
      "metadata": {
        "id": "JdZoclXw1tVi",
        "colab_type": "text"
      },
      "source": [
        "### Implementazione di Convolutional Neural Network, tuning degli iperparmetri, confronto con una CNN stato dell'arte + transfer learning  \n",
        "\n",
        "### Informazioni ###\n",
        "\n",
        "scopo: familiarizzare con l'utilizzo del tool Tensorflow/Keras per lo sviluppo di CNN \n",
        "\n",
        "applicazione: predizione temperatura di configurazioni del modello di Ising ferromagnetico 2D\n",
        "\n",
        "DL tool: tensorflow/keras\n",
        "\n",
        "### Modello di Ising 2D ###\n",
        "\n",
        "dettagli (definizione teorica e simulazione) nella [nota](https://vixra.org/pdf/1710.0021v2.pdf).\n",
        "\n",
        "È definito su un reticolo bidimensionale dall'Hamiltoniana \n",
        "\n",
        "$$ H = -J\\sum_{\\langle ij\\rangle}S_{i}S_j,\\qquad \\qquad S_j\\in\\{\\pm 1\\} $$\n",
        "\n",
        "in cui gli indici del reticolo $i,j$ sono associati ai primi vicini di un reticolo 2D quadrato di lato $L$, e $J$ è un parametro di scala arbitrario che definisce la scala dell'energia di interazione tra gli spin $S_i$.\n",
        "Si utilizzano condizioni periodiche al contorno sul reticolo.\n",
        "\n",
        "Si dimostra che questo sistema presenta una transizione di fase nel limite termodinamico da un sistea ordinato con tutti gli spin allineati (ferromagnete ordinato) a una fase disordinata con spin random, alla temperatura critica $T_c/J=1/\\log(1+\\sqrt{2})\\approx 2.26$. \n",
        "\n",
        "\n",
        "**Dataset:**\n",
        "\n",
        "10k configurazioni (simulate con termalizzazioni non complete in modo da avere un certo livello di \"rumore\") con $T/J$ uniforme in $[0,5]$ di un modello ising 2D su un reticolo $28\\times 28$ simulato tramite un semplice Monte Carlo tipo Metropolis \n",
        "\n",
        "NOTA: le configurazioni sono 28x28 valori dello spin, le label sono la temperatura associata ad ogni configurazione."
      ]
    },
    {
      "cell_type": "code",
      "metadata": {
        "id": "XMbOsQ2YG2Zf",
        "colab_type": "code",
        "outputId": "6d45de7b-7a40-4d17-af71-da3b89475146",
        "colab": {
          "base_uri": "https://localhost:8080/",
          "height": 418
        }
      },
      "source": [
        "# download del dataset:\n",
        "!wget http://www.roma1.infn.it/~giagu/datasets/ising2_label.dat\n",
        "!wget http://www.roma1.infn.it/~giagu/datasets/ising2_conf.dat"
      ],
      "execution_count": 4,
      "outputs": [
        {
          "output_type": "stream",
          "text": [
            "--2020-05-07 12:50:10--  http://www.roma1.infn.it/~giagu/datasets/ising2_label.dat\n",
            "Resolving www.roma1.infn.it (www.roma1.infn.it)... 141.108.26.1, 141.108.26.150\n",
            "Connecting to www.roma1.infn.it (www.roma1.infn.it)|141.108.26.1|:80... connected.\n",
            "HTTP request sent, awaiting response... 200 OK\n",
            "Length: 81025 (79K)\n",
            "Saving to: ‘ising2_label.dat’\n",
            "\n",
            "ising2_label.dat    100%[===================>]  79.13K   315KB/s    in 0.3s    \n",
            "\n",
            "2020-05-07 12:50:11 (315 KB/s) - ‘ising2_label.dat’ saved [81025/81025]\n",
            "\n",
            "--2020-05-07 12:50:12--  http://www.roma1.infn.it/~giagu/datasets/ising2_conf.dat\n",
            "Resolving www.roma1.infn.it (www.roma1.infn.it)... 141.108.26.150, 141.108.26.1\n",
            "Connecting to www.roma1.infn.it (www.roma1.infn.it)|141.108.26.150|:80... connected.\n",
            "HTTP request sent, awaiting response... 200 OK\n",
            "Length: 19060775 (18M)\n",
            "Saving to: ‘ising2_conf.dat’\n",
            "\n",
            "ising2_conf.dat     100%[===================>]  18.18M  10.2MB/s    in 1.8s    \n",
            "\n",
            "2020-05-07 12:50:14 (10.2 MB/s) - ‘ising2_conf.dat’ saved [19060775/19060775]\n",
            "\n"
          ],
          "name": "stdout"
        }
      ]
    },
    {
      "cell_type": "markdown",
      "metadata": {
        "id": "K0noVvY9xA61",
        "colab_type": "text"
      },
      "source": [
        "### Procedura ###\n",
        "\n",
        "Passi tipici nella costruzione di una procedura end-to-end per lo sviluppo di una CNN (o generica DNN):\n",
        "\n",
        "1.   lettura e pre-processamento dei dati\n",
        "2.   definizionedel modello di ANN e della sua architettura\n",
        "3.   scelta dell'ottmizzatore e della funzione di loss\n",
        "4.   training del modello\n",
        "5.   misura delle prestazioni del modello su dati non utilizzati nel training (test data)\n",
        "6.   modifica degli iperparametri per ottimizzare le prestazioni per il dataset specifico (hyperparameter tuning)"
      ]
    },
    {
      "cell_type": "code",
      "metadata": {
        "scrolled": true,
        "id": "bzapYGeA1tVk",
        "colab_type": "code",
        "outputId": "ef8999d4-2f45-47a8-dcae-409c31ea45da",
        "colab": {
          "base_uri": "https://localhost:8080/",
          "height": 34
        }
      },
      "source": [
        "#import models & layers from TF/keras\n",
        "import tensorflow as tf\n",
        "from tensorflow import keras\n",
        "\n",
        "# Helper libraries\n",
        "import numpy as np\n",
        "\n",
        "import matplotlib.pyplot as plt\n",
        "\n",
        "print(tf.__version__)"
      ],
      "execution_count": 3,
      "outputs": [
        {
          "output_type": "stream",
          "text": [
            "2.2.0-rc4\n"
          ],
          "name": "stdout"
        }
      ]
    },
    {
      "cell_type": "code",
      "metadata": {
        "id": "UD29xJ0mLdgg",
        "colab_type": "code",
        "colab": {
          "base_uri": "https://localhost:8080/",
          "height": 123
        },
        "outputId": "ee82598f-d719-4dce-c79b-0522ac00a585"
      },
      "source": [
        "from google.colab import drive\n",
        "drive.mount(\"/content/drive/\")"
      ],
      "execution_count": 2,
      "outputs": [
        {
          "output_type": "stream",
          "text": [
            "Go to this URL in a browser: https://accounts.google.com/o/oauth2/auth?client_id=947318989803-6bn6qk8qdgf4n4g3pfee6491hc0brc4i.apps.googleusercontent.com&redirect_uri=urn%3aietf%3awg%3aoauth%3a2.0%3aoob&response_type=code&scope=email%20https%3a%2f%2fwww.googleapis.com%2fauth%2fdocs.test%20https%3a%2f%2fwww.googleapis.com%2fauth%2fdrive%20https%3a%2f%2fwww.googleapis.com%2fauth%2fdrive.photos.readonly%20https%3a%2f%2fwww.googleapis.com%2fauth%2fpeopleapi.readonly\n",
            "\n",
            "Enter your authorization code:\n",
            "··········\n",
            "Mounted at /content/drive/\n"
          ],
          "name": "stdout"
        }
      ]
    },
    {
      "cell_type": "markdown",
      "metadata": {
        "id": "OAJgNkk45-vL",
        "colab_type": "text"
      },
      "source": [
        "Le reti neurali non processano direttamente dati \"raw\" come per esempio immagini JPEG o file di testo, o file CSV. Si aspettano in input rappresentazioni numeriche vettorizzate e standardizzate\n",
        "\n",
        "\n",
        "*   file con testo devono essere convertiti in tensori di stringhe, poi separati in parole, e infine ogni parola deve essere indicizzata e trasformata in tensori di interi\n",
        "\n",
        "*   le immagini devono essere convertite in tenosri di numeri reali ed eventualmente normalizzate a vlaori piccoli (spesso in [0,1])\n",
        "\n",
        "*   dati in formato CSV devono essere letti e decodificati (per esempio con pandas). Ogni feature poi eventualmente dovrebbe essere normalizzata (non obbligatorio ma utile) in modo da avere media zero e varianza unitaria\n",
        "\n",
        "etc. etc.\n",
        "\n",
        "Keras accetta input in forma di numpy array oopure in formati specializzati di tensorflow (tf dataset objects) utili nel caso di grandi campioni che non entrano in memoria e per i quali si deve attuare una lettura a batch dallo storage del disco rigido. \n",
        "\n",
        "Keras ha anche varie utility che permettono di leggere automaticamente immagini o file di testo e convertirli nei formati utili (vedere per esempio tf.keras.preprocessing.image_dataset_from_directory o tf.keras.preprocessing.text_dataset_from_directory). \n",
        "\n",
        "In questa esercitazione useremo semplicemente numpy"
      ]
    },
    {
      "cell_type": "code",
      "metadata": {
        "id": "289IiNEH1tVq",
        "colab_type": "code",
        "outputId": "09e5f992-dbb7-4684-9f5a-89f9270dd6b4",
        "colab": {
          "base_uri": "https://localhost:8080/",
          "height": 51
        }
      },
      "source": [
        "#leggiamo le configurazioni ising dal file usando numpy (10k esempi oguno da 28x28 spin)\n",
        "data = np.loadtxt('ising2_conf.dat')\n",
        "#riformattiamo i vettori in modo che abbiano la struttura di matrici di 28x28 spin\n",
        "# (le configurazioni sono scritte nel file come 10000*28 righe ognuna di 28 elementi)\n",
        "data = data.reshape(10000,28,28)\n",
        "print('Formato data: ', data.shape)\n",
        "\n",
        "#leggiamo le label associate:\n",
        "labels = np.loadtxt('ising2_label.dat')\n",
        "print('Formato labels:', labels.shape)"
      ],
      "execution_count": 5,
      "outputs": [
        {
          "output_type": "stream",
          "text": [
            "Formato data:  (10000, 28, 28)\n",
            "Formato labels: (10000,)\n"
          ],
          "name": "stdout"
        }
      ]
    },
    {
      "cell_type": "code",
      "metadata": {
        "id": "0KbrYYCvylZY",
        "colab_type": "code",
        "outputId": "f66349f9-27e4-4520-9df3-4134a660ca68",
        "colab": {
          "base_uri": "https://localhost:8080/",
          "height": 105
        }
      },
      "source": [
        "#Data esploration: visulaizzazione dei campioni\n",
        "%matplotlib inline \n",
        "\n",
        "# set colourbar map\n",
        "cmap_args=dict(cmap='plasma_r')\n",
        "\n",
        "# selezioniamo configurazioni sotto la temperatura critica (stato ordinato), \n",
        "# sopra la temp. critica (stato disordinato), e intorno alla temperatura \n",
        "# critica (stato critico)\n",
        "ord_sele = (labels < 2.0)\n",
        "dis_sele = (labels > 2.5)\n",
        "cri_sele = ((labels >= 2.0) & (labels <= 2.5))\n",
        "\n",
        "# plot states\n",
        "fig, axarr = plt.subplots(nrows=1, ncols=3)\n",
        "\n",
        "axarr[0].imshow(data[ord_sele][1],**cmap_args)\n",
        "axarr[0].set_title('ordered phase',fontsize=16)\n",
        "axarr[0].tick_params(labelsize=16)\n",
        "\n",
        "axarr[1].imshow(data[cri_sele][7],**cmap_args)\n",
        "axarr[1].set_title('critical region',fontsize=16)\n",
        "axarr[1].tick_params(labelsize=16)\n",
        "\n",
        "axarr[2].imshow(data[dis_sele][5],**cmap_args)\n",
        "axarr[2].set_title('disordered phase',fontsize=16)\n",
        "axarr[2].tick_params(labelsize=16)\n",
        "\n",
        "fig.subplots_adjust(right=2.0)\n",
        "\n",
        "plt.show()"
      ],
      "execution_count": 6,
      "outputs": [
        {
          "output_type": "display_data",
          "data": {
            "image/png": "[encoded data removed]",
            "text/plain": [
              "<Figure size 432x288 with 3 Axes>"
            ]
          },
          "metadata": {
            "tags": [],
            "needs_background": "light"
          }
        }
      ]
    },
    {
      "cell_type": "code",
      "metadata": {
        "id": "Epha5Zxu1tV1",
        "colab_type": "code",
        "outputId": "136f1a2f-a881-48df-d756-a4e8666ab50f",
        "colab": {
          "base_uri": "https://localhost:8080/",
          "height": 106
        }
      },
      "source": [
        "# Preprocessamento dei dati: \n",
        "# in questo caso specifico non serve normalizzare i dati visto che sono già valori \n",
        "# binari compresi nell'intervallo [-1,1]\n",
        "# non è nemmeno necessario agire sulle label (T) per esempio convertendole in \n",
        "# formato vettori one-hot visto che siamo interesati ad addestrare la CNN per \n",
        "# una task di regressione (predire la temperatura di una configurazione del modello\n",
        "# rappresentata da un'immagine binaria  \n",
        "\n",
        "# unica cosa utile è quella di convertire in formato fp32 i valori degli spin (-1, 1):\n",
        "\n",
        "data = data.astype('float32')\n",
        "labels = labels.astype('float32')\n",
        "\n",
        "# se avessimo voluto normalizzare le immagini tra [0,1]:\n",
        "# o usare scikit-learn sklearn.preprocessing.MinMaxScaler\n",
        "data_max = np.amax(data)\n",
        "data_min = np.amin(data)\n",
        "print('min/max data: %f / %f' % (data_min, data_max))\n",
        "data_norm = (data.astype('float32')-data_min) / (data_max-data_min)\n",
        "print('min/max normalized data: %f / %f' % (np.amin(data_norm), np.amax(data_norm)))\n",
        "\n",
        "# se avessimo voluto normalizzare le immagini a media 0 e varianza 1\n",
        "# o usare scikit-learn sklearn.preprocessing.normalize\n",
        "from tensorflow.keras.layers.experimental.preprocessing import Normalization\n",
        "normalizer = Normalization(axis=-1)\n",
        "normalizer.adapt(data)\n",
        "data_norm = normalizer(data)\n",
        "print('var normalized data: %.4f' % np.var(data_norm))\n",
        "print('mean normalized data: %.4f' % np.mean(data_norm))"
      ],
      "execution_count": 7,
      "outputs": [
        {
          "output_type": "stream",
          "text": [
            "min/max data: -1.000000 / 1.000000\n",
            "min/max normalized data: 0.000000 / 1.000000\n",
            "var normalized data: 1.0000\n",
            "mean normalized data: -0.0000\n"
          ],
          "name": "stdout"
        }
      ]
    },
    {
      "cell_type": "code",
      "metadata": {
        "id": "-hkBqm4m1tV8",
        "colab_type": "code",
        "colab": {}
      },
      "source": [
        "# se avessimo voluto codificare le label usando one_hot encoding (builtin in keras)\n",
        "# NOTA: non ha senso in questo caso con label target continui ...\n",
        "# labels_onehot = keras.utils.to_categorical(labels)"
      ],
      "execution_count": 0,
      "outputs": []
    },
    {
      "cell_type": "code",
      "metadata": {
        "id": "hM1rhCNxETjA",
        "colab_type": "code",
        "outputId": "4a7dd83f-fdec-40d6-c4db-a25882ecf242",
        "colab": {
          "base_uri": "https://localhost:8080/",
          "height": 86
        }
      },
      "source": [
        "# dividiamo il campione in training e test sets\n",
        "\n",
        "from sklearn.model_selection import train_test_split\n",
        "train_to_test_ratio=0.8 # training samples\n",
        "\n",
        "X_train,X_test,Y_train,Y_test=train_test_split(data,labels,train_size=train_to_test_ratio)\n",
        "print(X_train.shape)\n",
        "print(X_test.shape)\n",
        "print(Y_train.shape)\n",
        "print(Y_test.shape)"
      ],
      "execution_count": 8,
      "outputs": [
        {
          "output_type": "stream",
          "text": [
            "(8000, 28, 28)\n",
            "(2000, 28, 28)\n",
            "(8000,)\n",
            "(2000,)\n"
          ],
          "name": "stdout"
        }
      ]
    },
    {
      "cell_type": "markdown",
      "metadata": {
        "id": "o98UNJzgAb8m",
        "colab_type": "text"
      },
      "source": [
        "**Creazione del Modello CNN**\n",
        "\n",
        "Usiamo functional API di Keras"
      ]
    },
    {
      "cell_type": "code",
      "metadata": {
        "id": "9KEHvHcRPLUB",
        "colab_type": "code",
        "outputId": "aa0620cd-d6fe-443a-e3d3-ff17f1646cb2",
        "colab": {
          "base_uri": "https://localhost:8080/",
          "height": 1000
        }
      },
      "source": [
        "# Model definition (functional model)\n",
        "\n",
        "# definizione input (tensori 28 spin x 28 spin x 1)\n",
        "inputs = keras.Input(shape=(28,28,1))\n",
        "\n",
        "# Data Augmentation\n",
        "# è spesso utile applicare variazioni random ai dati che siano coerenti con le \n",
        "# simmetrie del problema per rendere il modello più robusto e con maggiore \n",
        "# capacità di generalizzazione\n",
        "# In questo caso per esempio e' possibile fare dei filipping random orizzontali \n",
        "# o verticali dei pixel (spin) senza cambiare il contenuto fisico delle config.\n",
        "# Se lo volessimo fare in TF/keras basta generare un layer di data-augmentation\n",
        "\n",
        "data_augmentation = keras.Sequential([\n",
        "  keras.layers.experimental.preprocessing.RandomFlip()\n",
        "], name='DataAugm')\n",
        "\n",
        "#ed aggiungerlo al modello come primo layer dopo l'input ...\n",
        "# NOTA: il sistema è intelligente e le trasformazioni vengono atuate SOLO durante \n",
        "# il training ma non durante uso del modello in prediction/test \n",
        "\n",
        "# Image augmentation block scomentare la riga che segue (e commentare la successiva) \n",
        "# per attivarlo\n",
        "#x = data_augmentation(inputs)\n",
        "x = inputs\n",
        "\n",
        "# CNN costituita da 3 blocchi convoluzionali per la feature selection, seguiti \n",
        "# da una rete densa come classificatore\n",
        "\n",
        "#\n",
        "# singolo blocco convoluzionale: conv2D + maxPooling \n",
        "# attvazione: ReLu\n",
        "\n",
        "# primo blocco convoluzionale: x -> Conv2D -> x -> ReLU -> x -> MaxPooling2D\n",
        "#tf.keras.layers.Conv2D(\n",
        "#    filters, kernel_size, strides=(1, 1), padding='valid', data_format=None,\n",
        "#    dilation_rate=(1, 1), activation=None, use_bias=True,\n",
        "#    kernel_initializer='glorot_uniform', bias_initializer='zeros',\n",
        "#    kernel_regularizer=None, bias_regularizer=None, activity_regularizer=None,\n",
        "#    kernel_constraint=None, bias_constraint=None, **kwargs\n",
        "#)\n",
        "#tf.keras.layers.ReLU(\n",
        "#    max_value=None, negative_slope=0, threshold=0, **kwargs\n",
        "#)\n",
        "#tf.keras.layers.MaxPool2D(\n",
        "#    pool_size=(2, 2), strides=None, padding='valid', data_format=None, **kwargs\n",
        "#)\n",
        "# NOTA: padding = 'valid' -> no padding,  = 'same' -> padding aggiunto per non \n",
        "# ridurre la size dell'immagine dopo lapplicazione del filtro\n",
        "\n",
        "#\n",
        "# primo blocco Convoluzionale\n",
        "x = keras.layers.Conv2D(32, kernel_size=(3,3), name='Conv_1')(x)\n",
        "x = keras.layers.ReLU(name='ReLU_1')(x)\n",
        "x = keras.layers.MaxPool2D((2,2), name='MaxPool_1')(x)\n",
        "\n",
        "# secondo blocco convoluzionale\n",
        "x = keras.layers.Conv2D(64, kernel_size=(3,3), name='Conv_2')(x)\n",
        "x = keras.layers.ReLU(name='ReLU_2')(x)\n",
        "x = keras.layers.MaxPool2D((2,2), name='MaxPool_2')(x)\n",
        "\n",
        "# terzo blocco convoluzionale (non applichiamo il maxpooling per non ridurre \n",
        "# troppo la dimensione dell'output x)\n",
        "x = keras.layers.Conv2D(64, kernel_size=(3,3), name='Conv_3')(x)\n",
        "x = keras.layers.ReLU(name='ReLU_3')(x)\n",
        "\n",
        "# appiattimento del tensore x di uscita dell'ultimo layer convoluzionale in un \n",
        "# vettore piatto come input per la rete densa\n",
        "\n",
        "x = keras.layers.Flatten(name='Flatten')(x)\n",
        "\n",
        "# rete densa: 2 layer hidden densi da 256 neuroni con attivazione ReLU + 1 \n",
        "# layer di uscita costituito da 1 neurone con funzione di attivazione lineare\n",
        "# che produce in output la stima della temperatura associata alla configurazione\n",
        "# in input\n",
        "\n",
        "# Layer denso in Keras\n",
        "#tf.keras.layers.Dense(\n",
        "#    units, activation=None, use_bias=True, kernel_initializer='glorot_uniform',\n",
        "#    bias_initializer='zeros', kernel_regularizer=None, bias_regularizer=None,\n",
        "#    activity_regularizer=None, kernel_constraint=None, bias_constraint=None,\n",
        "#    **kwargs\n",
        "#)\n",
        "x = keras.layers.Dense(256, name='Dense_1')(x)\n",
        "x = keras.layers.ReLU(name='ReLU_dense_1')(x)\n",
        "x = keras.layers.Dense(256, name='Dense_2')(x)\n",
        "x = keras.layers.ReLU(name='ReLU_dense_2')(x)\n",
        "outputs = keras.layers.Dense(1, name='Output')(x)\n",
        "\n",
        "#definizione del modello\n",
        "model = keras.Model(inputs=inputs, outputs=outputs, name='ising_CNN')\n",
        "\n",
        "#printout il summary del modello\n",
        "model.summary()\n",
        "\n",
        "# struttura el modello\n",
        "keras.utils.plot_model(model, show_shapes=True)"
      ],
      "execution_count": 9,
      "outputs": [
        {
          "output_type": "stream",
          "text": [
            "Model: \"ising_CNN\"\n",
            "_________________________________________________________________\n",
            "Layer (type)                 Output Shape              Param #   \n",
            "=================================================================\n",
            "input_1 (InputLayer)         [(None, 28, 28, 1)]       0         \n",
            "_________________________________________________________________\n",
            "Conv_1 (Conv2D)              (None, 26, 26, 32)        320       \n",
            "_________________________________________________________________\n",
            "ReLU_1 (ReLU)                (None, 26, 26, 32)        0         \n",
            "_________________________________________________________________\n",
            "MaxPool_1 (MaxPooling2D)     (None, 13, 13, 32)        0         \n",
            "_________________________________________________________________\n",
            "Conv_2 (Conv2D)              (None, 11, 11, 64)        18496     \n",
            "_________________________________________________________________\n",
            "ReLU_2 (ReLU)                (None, 11, 11, 64)        0         \n",
            "_________________________________________________________________\n",
            "MaxPool_2 (MaxPooling2D)     (None, 5, 5, 64)          0         \n",
            "_________________________________________________________________\n",
            "Conv_3 (Conv2D)              (None, 3, 3, 64)          36928     \n",
            "_________________________________________________________________\n",
            "ReLU_3 (ReLU)                (None, 3, 3, 64)          0         \n",
            "_________________________________________________________________\n",
            "Flatten (Flatten)            (None, 576)               0         \n",
            "_________________________________________________________________\n",
            "Dense_1 (Dense)              (None, 256)               147712    \n",
            "_________________________________________________________________\n",
            "ReLU_dense_1 (ReLU)          (None, 256)               0         \n",
            "_________________________________________________________________\n",
            "Dense_2 (Dense)              (None, 256)               65792     \n",
            "_________________________________________________________________\n",
            "ReLU_dense_2 (ReLU)          (None, 256)               0         \n",
            "_________________________________________________________________\n",
            "Output (Dense)               (None, 1)                 257       \n",
            "=================================================================\n",
            "Total params: 269,505\n",
            "Trainable params: 269,505\n",
            "Non-trainable params: 0\n",
            "_________________________________________________________________\n"
          ],
          "name": "stdout"
        },
        {
          "output_type": "execute_result",
          "data": {
            "image/png": "[encoded data removed]",
            "text/plain": [
              "<IPython.core.display.Image object>"
            ]
          },
          "metadata": {
            "tags": []
          },
          "execution_count": 9
        }
      ]
    },
    {
      "cell_type": "code",
      "metadata": {
        "id": "Hftzjnpg1tWG",
        "colab_type": "code",
        "colab": {}
      },
      "source": [
        "#Compilazione del Modello\n",
        "\n",
        "# Definizione dei parametri di training del modello:\n",
        "# * Loss function: \n",
        "# * Optimizer:\n",
        "# * Metric: \n",
        "\n",
        "# Parametri:\n",
        "\n",
        "# learning rate per Adam\n",
        "LR_ST=1e-3\n",
        "\n",
        "# Ottimizzatore: \n",
        "#adam: adaptive moment estimation (SGD con learning adattivo del gradiente e \n",
        "# del momento secondo + momentum )\n",
        "#tf.keras.optimizers.Adam(\n",
        "#    learning_rate=0.001, beta_1=0.9, beta_2=0.999, epsilon=1e-07, amsgrad=False,\n",
        "#    name='Adam', **kwargs\n",
        "#)\n",
        "\n",
        "OPTIMIZER = tf.keras.optimizers.Adam(learning_rate=LR_ST)\n",
        "\n",
        "# Loss function:\n",
        "# siamo interessati ad una task di regressione: una loss appropriata è la MSE\n",
        "# (mean squared error) che minimizza la distanza quadratica tra predizione \n",
        "# della rete e target = 1/N sum (y_pred - t_true)^2\n",
        "# loss: mse\n",
        "\n",
        "mse = tf.keras.losses.MeanSquaredError()\n",
        "\n",
        "# Metrica:\n",
        "# visto che la MSE viene monitorata come loss, può essere utile monitorare la \n",
        "# MAE (mean absolute error) = 1/N sum |y_pred - t_true|\n",
        "# metric: mae\n",
        "\n",
        "mae = tf.keras.metrics.MeanAbsoluteError()\n",
        "\n",
        "# Eagerly RUN:\n",
        "# di default Tensorflow ottimizza in modo spinto il modello che abbiamo progettato\n",
        "# e trasforma il modello in un grafo diretto acicliclo computazionale altamente \n",
        "# ottimizzato per girare nel minor tempo possibile. Questo significa che non è \n",
        "# il codice python che abbiamo scritto sopra ad essere in realtà esegeuito. Questo\n",
        "# può creare difficoltà con il debugging se ci sono problemi. Se sidesidera \n",
        "# eseguire esattamente il python scritto basta settare run_eagerly=True. Il prezzo\n",
        "# da pagare è una esecuzioen estremamente più lenta (is usa solo in debug) \n",
        "\n",
        "EAGERLY = False\n",
        "\n",
        "model.compile(optimizer=OPTIMIZER,\n",
        "              loss=mse,\n",
        "              metrics=[mae],\n",
        "              run_eagerly=EAGERLY)"
      ],
      "execution_count": 0,
      "outputs": []
    },
    {
      "cell_type": "code",
      "metadata": {
        "scrolled": false,
        "id": "K0bO7uCd1tWN",
        "colab_type": "code",
        "outputId": "0ca4c0c5-52a0-4ce6-f57c-6c6b0feb480d",
        "colab": {
          "base_uri": "https://localhost:8080/",
          "height": 1000
        }
      },
      "source": [
        "# TRAINING\n",
        "\n",
        "# Parametr: frazione eventi validation set, batch size, numero epoche, ...\n",
        "\n",
        "# Callbacks:\n",
        "# tramite le callbacks possiamo interagire durante il run-time con il modello.\n",
        "# Per esempio possiamo modificare il larnign rate facendolo decadere (diminuire) \n",
        "# nel tempo, o possiamo dire al modello di salvare i pesi ad ogni epoca o quando \n",
        "# la validation loss raggiunge il suo valore minimo etc..\n",
        "# Le callback vengono chiamate all'inizio di ogni epoca o all'inizio di ogni \n",
        "# mini-batch a seconda dello scopo ...\n",
        "\n",
        "# callback per avere un leraning rate variabile\n",
        "\n",
        "# Definisco una funzione che mantiene il learning rate costante a LR_ST per le \n",
        "# prime 10 epoche e poi lo diminuisce esponenzialmente\n",
        "def lr_decay(epoch):\n",
        "  if epoch < 10:\n",
        "    return LR_ST\n",
        "  else:\n",
        "    return LR_ST * tf.math.exp(0.2 * (10 - epoch))\n",
        "\n",
        "lr_scheduler = keras.callbacks.LearningRateScheduler(lr_decay)\n",
        "\n",
        "# callback per salvare il modello (solo i pesi in queto caso) ad ogni epoca\n",
        "model_checkpoint = keras.callbacks.ModelCheckpoint(\n",
        "        filepath='mycnn_{epoch}',\n",
        "        save_weights_only=True, \n",
        "        save_freq='epoch')\n",
        "\n",
        "# metto tutte le callback in una lista\n",
        "#callbacks = [ lr_scheduler, model_checkpoint ]\n",
        "callbacks = [ model_checkpoint ]\n",
        "    \n",
        "\n",
        "history = model.fit(X_train, Y_train, epochs=30, batch_size=128,\n",
        "                    validation_split=0.2, shuffle=True, verbose=1,\n",
        "                    callbacks=callbacks)"
      ],
      "execution_count": 11,
      "outputs": [
        {
          "output_type": "stream",
          "text": [
            "Epoch 1/30\n",
            "50/50 [==============================] - 6s 111ms/step - loss: 0.7300 - mean_absolute_error: 0.5953 - val_loss: 0.2409 - val_mean_absolute_error: 0.4171\n",
            "Epoch 2/30\n",
            "50/50 [==============================] - 5s 107ms/step - loss: 0.2124 - mean_absolute_error: 0.3889 - val_loss: 0.1905 - val_mean_absolute_error: 0.3578\n",
            "Epoch 3/30\n",
            "50/50 [==============================] - 5s 107ms/step - loss: 0.1627 - mean_absolute_error: 0.3318 - val_loss: 0.1433 - val_mean_absolute_error: 0.2982\n",
            "Epoch 4/30\n",
            "50/50 [==============================] - 5s 106ms/step - loss: 0.1308 - mean_absolute_error: 0.2931 - val_loss: 0.1323 - val_mean_absolute_error: 0.2937\n",
            "Epoch 5/30\n",
            "50/50 [==============================] - 5s 107ms/step - loss: 0.1246 - mean_absolute_error: 0.2824 - val_loss: 0.1174 - val_mean_absolute_error: 0.2653\n",
            "Epoch 6/30\n",
            "50/50 [==============================] - 5s 108ms/step - loss: 0.1148 - mean_absolute_error: 0.2695 - val_loss: 0.1052 - val_mean_absolute_error: 0.2571\n",
            "Epoch 7/30\n",
            "50/50 [==============================] - 5s 106ms/step - loss: 0.1076 - mean_absolute_error: 0.2600 - val_loss: 0.1068 - val_mean_absolute_error: 0.2543\n",
            "Epoch 8/30\n",
            "50/50 [==============================] - 5s 107ms/step - loss: 0.0973 - mean_absolute_error: 0.2466 - val_loss: 0.0989 - val_mean_absolute_error: 0.2444\n",
            "Epoch 9/30\n",
            "50/50 [==============================] - 5s 105ms/step - loss: 0.1146 - mean_absolute_error: 0.2637 - val_loss: 0.1007 - val_mean_absolute_error: 0.2489\n",
            "Epoch 10/30\n",
            "50/50 [==============================] - 5s 106ms/step - loss: 0.0993 - mean_absolute_error: 0.2464 - val_loss: 0.1055 - val_mean_absolute_error: 0.2552\n",
            "Epoch 11/30\n",
            "50/50 [==============================] - 5s 105ms/step - loss: 0.0910 - mean_absolute_error: 0.2374 - val_loss: 0.0986 - val_mean_absolute_error: 0.2464\n",
            "Epoch 12/30\n",
            "50/50 [==============================] - 5s 107ms/step - loss: 0.0897 - mean_absolute_error: 0.2343 - val_loss: 0.1393 - val_mean_absolute_error: 0.2907\n",
            "Epoch 13/30\n",
            "50/50 [==============================] - 5s 106ms/step - loss: 0.1148 - mean_absolute_error: 0.2640 - val_loss: 0.1669 - val_mean_absolute_error: 0.3076\n",
            "Epoch 14/30\n",
            "50/50 [==============================] - 5s 106ms/step - loss: 0.1078 - mean_absolute_error: 0.2564 - val_loss: 0.0929 - val_mean_absolute_error: 0.2377\n",
            "Epoch 15/30\n",
            "50/50 [==============================] - 5s 105ms/step - loss: 0.0824 - mean_absolute_error: 0.2234 - val_loss: 0.0908 - val_mean_absolute_error: 0.2282\n",
            "Epoch 16/30\n",
            "50/50 [==============================] - 5s 105ms/step - loss: 0.0803 - mean_absolute_error: 0.2201 - val_loss: 0.0960 - val_mean_absolute_error: 0.2404\n",
            "Epoch 17/30\n",
            "50/50 [==============================] - 5s 105ms/step - loss: 0.0746 - mean_absolute_error: 0.2119 - val_loss: 0.0853 - val_mean_absolute_error: 0.2230\n",
            "Epoch 18/30\n",
            "50/50 [==============================] - 5s 106ms/step - loss: 0.0698 - mean_absolute_error: 0.2059 - val_loss: 0.0827 - val_mean_absolute_error: 0.2191\n",
            "Epoch 19/30\n",
            "50/50 [==============================] - 5s 106ms/step - loss: 0.0718 - mean_absolute_error: 0.2079 - val_loss: 0.0930 - val_mean_absolute_error: 0.2361\n",
            "Epoch 20/30\n",
            "50/50 [==============================] - 5s 106ms/step - loss: 0.0722 - mean_absolute_error: 0.2075 - val_loss: 0.0944 - val_mean_absolute_error: 0.2339\n",
            "Epoch 21/30\n",
            "50/50 [==============================] - 5s 106ms/step - loss: 0.0726 - mean_absolute_error: 0.2088 - val_loss: 0.0869 - val_mean_absolute_error: 0.2229\n",
            "Epoch 22/30\n",
            "50/50 [==============================] - 5s 106ms/step - loss: 0.0695 - mean_absolute_error: 0.2040 - val_loss: 0.0947 - val_mean_absolute_error: 0.2352\n",
            "Epoch 23/30\n",
            "50/50 [==============================] - 5s 106ms/step - loss: 0.0627 - mean_absolute_error: 0.1925 - val_loss: 0.0906 - val_mean_absolute_error: 0.2304\n",
            "Epoch 24/30\n",
            "50/50 [==============================] - 5s 106ms/step - loss: 0.0617 - mean_absolute_error: 0.1934 - val_loss: 0.0985 - val_mean_absolute_error: 0.2340\n",
            "Epoch 25/30\n",
            "50/50 [==============================] - 5s 105ms/step - loss: 0.0623 - mean_absolute_error: 0.1926 - val_loss: 0.0913 - val_mean_absolute_error: 0.2315\n",
            "Epoch 26/30\n",
            "50/50 [==============================] - 5s 106ms/step - loss: 0.0646 - mean_absolute_error: 0.1962 - val_loss: 0.0907 - val_mean_absolute_error: 0.2274\n",
            "Epoch 27/30\n",
            "50/50 [==============================] - 5s 106ms/step - loss: 0.0594 - mean_absolute_error: 0.1895 - val_loss: 0.1022 - val_mean_absolute_error: 0.2458\n",
            "Epoch 28/30\n",
            "50/50 [==============================] - 5s 106ms/step - loss: 0.0538 - mean_absolute_error: 0.1793 - val_loss: 0.0923 - val_mean_absolute_error: 0.2332\n",
            "Epoch 29/30\n",
            "50/50 [==============================] - 5s 105ms/step - loss: 0.0497 - mean_absolute_error: 0.1724 - val_loss: 0.0993 - val_mean_absolute_error: 0.2335\n",
            "Epoch 30/30\n",
            "50/50 [==============================] - 5s 107ms/step - loss: 0.0467 - mean_absolute_error: 0.1658 - val_loss: 0.1042 - val_mean_absolute_error: 0.2448\n"
          ],
          "name": "stdout"
        }
      ]
    },
    {
      "cell_type": "code",
      "metadata": {
        "id": "5KEHFaFdM-ab",
        "colab_type": "code",
        "colab": {}
      },
      "source": [
        "model.load_weights(\"mycnn_29\")\n",
        "model.save(\"/content/drive/My Drive/Colab Notebooks/mycnn_29.hdf5\")"
      ],
      "execution_count": 0,
      "outputs": []
    },
    {
      "cell_type": "code",
      "metadata": {
        "scrolled": false,
        "id": "PSz-HOwB1tWQ",
        "colab_type": "code",
        "outputId": "554a837b-66f3-4092-cdb4-cb179f310aa9",
        "colab": {
          "base_uri": "https://localhost:8080/",
          "height": 123
        }
      },
      "source": [
        "#checks accuracy and loss on test sample\n",
        "\n",
        "test_loss, test_mae = model.evaluate(X_test,  Y_test, verbose=2)\n",
        "print('\\nTest loss (MSE):', test_loss)\n",
        "print('\\nTest MAE:', test_mae)"
      ],
      "execution_count": 16,
      "outputs": [
        {
          "output_type": "stream",
          "text": [
            "63/63 - 1s - loss: 0.1003 - mean_absolute_error: 0.2366\n",
            "\n",
            "Test loss (MSE): 0.10026705265045166\n",
            "\n",
            "Test MAE: 0.23655933141708374\n"
          ],
          "name": "stdout"
        }
      ]
    },
    {
      "cell_type": "code",
      "metadata": {
        "id": "pKAJwwZDyj8T",
        "colab_type": "code",
        "outputId": "669280db-9fbc-40ab-a56e-53ae22549493",
        "colab": {
          "base_uri": "https://localhost:8080/",
          "height": 287
        }
      },
      "source": [
        "#plot della loss e della MAE durante il training\n",
        "\n",
        "mae = history.history['mean_absolute_error']\n",
        "val_mae = history.history['val_mean_absolute_error']\n",
        "\n",
        "loss=history.history['loss']\n",
        "val_loss=history.history['val_loss']\n",
        "\n",
        "epochs_range = range(1, len(loss) + 1)\n",
        "\n",
        "plt.figure(figsize=(8, 8))\n",
        "plt.subplot(1, 2, 1)\n",
        "plt.plot(epochs_range, mae, label='Training MAE')\n",
        "plt.plot(epochs_range, val_mae, label='Validation MAE')\n",
        "plt.legend(loc='lower right')\n",
        "plt.title('Training and Validation MAE')\n",
        "\n",
        "plt.subplot(1, 2, 2)\n",
        "plt.plot(epochs_range, loss, label='Training Loss')\n",
        "plt.plot(epochs_range, val_loss, label='Validation Loss')\n",
        "plt.legend(loc='upper right')\n",
        "plt.title('Training and Validation Loss')\n",
        "plt.show()"
      ],
      "execution_count": 17,
      "outputs": [
        {
          "output_type": "display_data",
          "data": {
            "image/png": "[encoded data removed]",
            "text/plain": [
              "<Figure size 576x576 with 2 Axes>"
            ]
          },
          "metadata": {
            "tags": [],
            "needs_background": "light"
          }
        }
      ]
    },
    {
      "cell_type": "code",
      "metadata": {
        "id": "eAyBO93d1tWY",
        "colab_type": "code",
        "outputId": "463fcd02-4b19-4221-ec01-ed0649cbc0e1",
        "colab": {
          "base_uri": "https://localhost:8080/",
          "height": 227
        }
      },
      "source": [
        "#esempio uso della rete in predizione\n",
        "\n",
        "predictions = model.predict(X_test[:10,:])\n",
        "\n",
        "average_abs_diff = 0.0\n",
        "for i in range(predictions.shape[0]):\n",
        "  print('Predicted vs True T: %f VS %f Diff= %f' % (predictions[i],Y_test[i],predictions[i]-Y_test[i] ))\n",
        "  average_abs_diff = average_abs_diff + abs(predictions[i]-Y_test[i])\n",
        "\n",
        "print('Sample MAE: ', average_abs_diff/10.)\n"
      ],
      "execution_count": 18,
      "outputs": [
        {
          "output_type": "stream",
          "text": [
            "Predicted vs True T: 0.344690 VS 0.608977 Diff= -0.264287\n",
            "Predicted vs True T: 4.408219 VS 4.613420 Diff= -0.205201\n",
            "Predicted vs True T: 1.278973 VS 1.332020 Diff= -0.053047\n",
            "Predicted vs True T: 4.380025 VS 4.295360 Diff= 0.084665\n",
            "Predicted vs True T: 4.258642 VS 4.922180 Diff= -0.663538\n",
            "Predicted vs True T: 2.737210 VS 2.603500 Diff= 0.133710\n",
            "Predicted vs True T: 1.690681 VS 1.617580 Diff= 0.073101\n",
            "Predicted vs True T: 1.446881 VS 1.540610 Diff= -0.093729\n",
            "Predicted vs True T: 2.505461 VS 2.493560 Diff= 0.011901\n",
            "Predicted vs True T: 4.242313 VS 4.620070 Diff= -0.377757\n",
            "Sample MAE:  [0.19609372]\n"
          ],
          "name": "stdout"
        }
      ]
    },
    {
      "cell_type": "code",
      "metadata": {
        "id": "t2l-EoxV6SYo",
        "colab_type": "code",
        "outputId": "1f8b8862-2c29-4ea2-fcee-75c99ab464c4",
        "colab": {
          "base_uri": "https://localhost:8080/",
          "height": 34
        }
      },
      "source": [
        "#Vediamo l'accuracy della rete usata come classificatore per selezionare configurazioni con T><Tc\n",
        "\n",
        "T_c=2.26 # Temperatura critica\n",
        "\n",
        "# predizioni della CNN sull'intero campione di Test\n",
        "predictions = model.predict(X_test)\n",
        "\n",
        "\n",
        "# conto i casi in cui la T predetta e la T true sono emtrambe <T_c o >= T_c\n",
        "N_ord_corrette = 0 \n",
        "N_dis_corrette = 0\n",
        "N_all = 0\n",
        "for i in range(predictions.shape[0]):\n",
        "  if ((predictions[i] < T_c) & (Y_test[i] < T_c)):\n",
        "    N_ord_corrette = N_ord_corrette + 1\n",
        "  if ((predictions[i] >= T_c) & (Y_test[i] >= T_c)):\n",
        "    N_dis_corrette = N_dis_corrette + 1\n",
        "\n",
        "N_all = Y_test.shape[0]   \n",
        "\n",
        "accuracy = (N_ord_corrette+N_dis_corrette)/N_all\n",
        "print('Accuracy is: ', accuracy)\n",
        "\n"
      ],
      "execution_count": 19,
      "outputs": [
        {
          "output_type": "stream",
          "text": [
            "Accuracy is:  0.984\n"
          ],
          "name": "stdout"
        }
      ]
    },
    {
      "cell_type": "markdown",
      "metadata": {
        "id": "ESIv6brL3ysy",
        "colab_type": "text"
      },
      "source": [
        "# **Compiti:** \n",
        "\n",
        "1.   ripetere il training attivando la call-back del learning rate con decay e valutare se ci sono miglioramenti\n",
        "2.   ripetere il training attivando il layer con data-augmentation e valutare se ci sono miglioramenti\n",
        "3.   provate a usare funzioni di attivazione diverse da ReLU: *keras.layers.Activation('tanh'), keras.layers.LeakyReLU(), keras.layers.ELU()*, ...\n",
        "3.   provare ad implementare una semplice procedura di ottimizzazione degli iperparametri usando Keras Tuner (vedi istruzioni nel blocco successivo)\n",
        "4.   provare ad inserire nella rete *batch normalisation* layers prima dei layer ReLu (vedi spiegazione e istruzioni alla fine del notebook)"
      ]
    },
    {
      "cell_type": "markdown",
      "metadata": {
        "id": "mGQQZzgFJ1px",
        "colab_type": "text"
      },
      "source": [
        "**Trovare gi iprparametri ottimali del modello con** *Keras Tuner*\n",
        "\n",
        "Dato un modello funzionante il passo successivo è quello di ottimizzarne l'archiettura. Questo può essere fatto manualmente (alcuni esempi li abbiamo visti sopra intorducendo il decay del learning rate o introducendo procedure di data_augmentation), oppure in modo sistematico usando tool appositi. Uno di tali tool, semplice e che funziona con keras è appunto [*Keras Tuner*](https://keras-team.github.io/keras-tuner/)\n",
        "\n",
        "\n",
        "Uso:\n",
        "\n",
        "1.   si modifica la definizione del modello in modo che acectti un parametro *hp* e in modo tale da modificare gli iperparametri del modello in accordo a diversi metodi di sampling *(hp.Int(), hp.Choice(), ...)*  \n",
        "2.   si istanzia un oggetto di tipo *tuner* che definisce la strategia di tuning da seguire\n",
        "3.   si fa partire la ricerca dei parametri e si prina il risultato finale\n",
        "\n",
        "Esempio pratico:"
      ]
    },
    {
      "cell_type": "code",
      "metadata": {
        "id": "dpG26ZTBQS2E",
        "colab_type": "code",
        "colab": {}
      },
      "source": [
        "# definizione del modello (come esempio qui una versione semplificata del nostro modello)\n",
        "\n",
        "def build_model(hp):\n",
        "  inputs = keras.Input(shape=(28,28,1))\n",
        "  x = keras.layers.Conv2D(\n",
        "      filters=hp.Int('filters', min_value=32, max_value=128, step=32),\n",
        "      kernel_size=(3,3))(inputs)\n",
        "  x = keras.layers.ReLU()(x)\n",
        "  x = keras.layers.MaxP Itool2D((2,2))(x)\n",
        "  x = keras.layers.Flatten()(x)\n",
        "  x = keras.layers.Dense(\n",
        "      units=hp.Int('units', min_value=32, max_value=512, step=32)\n",
        "      )(x)\n",
        "  x = keras.layers.ReLU()(x)\n",
        "  outputs = keras.layers.Dense(1)(x)\n",
        "\n",
        "  model = keras.Model(inputs=inputs, outputs=outputs)\n",
        "  \n",
        "  model.compile(\n",
        "        optimizer=keras.optimizers.Adam(\n",
        "          hp.Choice('learning_rate', values=[1e-2, 1e-3, 1e-4])),\n",
        "        loss='mse',\n",
        "        metrics=['mae'])\n",
        "  return model"
      ],
      "execution_count": 0,
      "outputs": []
    },
    {
      "cell_type": "code",
      "metadata": {
        "id": "vjBQvS-RVsAV",
        "colab_type": "code",
        "outputId": "79f7626e-19a2-476f-f2da-332973c24d00",
        "colab": {
          "base_uri": "https://localhost:8080/",
          "height": 524
        }
      },
      "source": [
        "pip install -U keras-tuner"
      ],
      "execution_count": 0,
      "outputs": [
        {
          "output_type": "stream",
          "text": [
            "Collecting keras-tuner\n",
            "\u001b[?25l  Downloading https://files.pythonhosted.org/packages/a7/f7/4b41b6832abf4c9bef71a664dc563adb25afc5812831667c6db572b1a261/keras-tuner-1.0.1.tar.gz (54kB)\n",
            "\r\u001b[K     |██████                          | 10kB 10.3MB/s eta 0:00:01\r\u001b[K     |████████████                    | 20kB 1.5MB/s eta 0:00:01\r\u001b[K     |██████████████████              | 30kB 2.0MB/s eta 0:00:01\r\u001b[K     |████████████████████████        | 40kB 2.3MB/s eta 0:00:01\r\u001b[K     |██████████████████████████████  | 51kB 1.9MB/s eta 0:00:01\r\u001b[K     |████████████████████████████████| 61kB 1.9MB/s \n",
            "\u001b[?25hRequirement already satisfied, skipping upgrade: future in /usr/local/lib/python3.6/dist-packages (from keras-tuner) (0.16.0)\n",
            "Requirement already satisfied, skipping upgrade: numpy in /usr/local/lib/python3.6/dist-packages (from keras-tuner) (1.18.3)\n",
            "Requirement already satisfied, skipping upgrade: tabulate in /usr/local/lib/python3.6/dist-packages (from keras-tuner) (0.8.7)\n",
            "Collecting terminaltables\n",
            "  Downloading https://files.pythonhosted.org/packages/9b/c4/4a21174f32f8a7e1104798c445dacdc1d4df86f2f26722767034e4de4bff/terminaltables-3.1.0.tar.gz\n",
            "Collecting colorama\n",
            "  Downloading https://files.pythonhosted.org/packages/c9/dc/45cdef1b4d119eb96316b3117e6d5708a08029992b2fee2c143c7a0a5cc5/colorama-0.4.3-py2.py3-none-any.whl\n",
            "Requirement already satisfied, skipping upgrade: tqdm in /usr/local/lib/python3.6/dist-packages (from keras-tuner) (4.38.0)\n",
            "Requirement already satisfied, skipping upgrade: requests in /usr/local/lib/python3.6/dist-packages (from keras-tuner) (2.23.0)\n",
            "Requirement already satisfied, skipping upgrade: scipy in /usr/local/lib/python3.6/dist-packages (from keras-tuner) (1.4.1)\n",
            "Requirement already satisfied, skipping upgrade: scikit-learn in /usr/local/lib/python3.6/dist-packages (from keras-tuner) (0.22.2.post1)\n",
            "Requirement already satisfied, skipping upgrade: certifi>=2017.4.17 in /usr/local/lib/python3.6/dist-packages (from requests->keras-tuner) (2020.4.5.1)\n",
            "Requirement already satisfied, skipping upgrade: urllib3!=1.25.0,!=1.25.1,<1.26,>=1.21.1 in /usr/local/lib/python3.6/dist-packages (from requests->keras-tuner) (1.24.3)\n",
            "Requirement already satisfied, skipping upgrade: chardet<4,>=3.0.2 in /usr/local/lib/python3.6/dist-packages (from requests->keras-tuner) (3.0.4)\n",
            "Requirement already satisfied, skipping upgrade: idna<3,>=2.5 in /usr/local/lib/python3.6/dist-packages (from requests->keras-tuner) (2.9)\n",
            "Requirement already satisfied, skipping upgrade: joblib>=0.11 in /usr/local/lib/python3.6/dist-packages (from scikit-learn->keras-tuner) (0.14.1)\n",
            "Building wheels for collected packages: keras-tuner, terminaltables\n",
            "  Building wheel for keras-tuner (setup.py) ... \u001b[?25l\u001b[?25hdone\n",
            "  Created wheel for keras-tuner: filename=keras_tuner-1.0.1-cp36-none-any.whl size=73200 sha256=125bbb226232db2c4a4a2672d1c6ddf8c812f546bd4ac68bc866670b01e92671\n",
            "  Stored in directory: /root/.cache/pip/wheels/b9/cc/62/52716b70dd90f3db12519233c3a93a5360bc672da1a10ded43\n",
            "  Building wheel for terminaltables (setup.py) ... \u001b[?25l\u001b[?25hdone\n",
            "  Created wheel for terminaltables: filename=terminaltables-3.1.0-cp36-none-any.whl size=15356 sha256=c2d1fc5a18b180c62f167ee89d0dc186fc1de95c96ef0b97320f184ccd355b0b\n",
            "  Stored in directory: /root/.cache/pip/wheels/30/6b/50/6c75775b681fb36cdfac7f19799888ef9d8813aff9e379663e\n",
            "Successfully built keras-tuner terminaltables\n",
            "Installing collected packages: terminaltables, colorama, keras-tuner\n",
            "Successfully installed colorama-0.4.3 keras-tuner-1.0.1 terminaltables-3.1.0\n"
          ],
          "name": "stdout"
        }
      ]
    },
    {
      "cell_type": "code",
      "metadata": {
        "id": "ozs9HkwpPNFF",
        "colab_type": "code",
        "outputId": "e3ee3486-273b-4e4f-e0ca-6995133f01d8",
        "colab": {
          "base_uri": "https://localhost:8080/",
          "height": 34
        }
      },
      "source": [
        "# definizione del tuner \n",
        "# vari tuner a disposizione RandomSearch, Hyeprband (http://jmlr.org/papers/v18/16-558.html), ...\n",
        "import kerastuner\n",
        " \n",
        "tuner = kerastuner.tuners.RandomSearch(\n",
        "  build_model,\n",
        "  objective='val_loss',\n",
        "  max_trials=10,\n",
        "  executions_per_trial=2,\n",
        "  directory='ottim_dir')"
      ],
      "execution_count": 0,
      "outputs": [
        {
          "output_type": "stream",
          "text": [
            "INFO:tensorflow:Reloading Oracle from existing project ottim_dir/untitled_project/oracle.json\n"
          ],
          "name": "stdout"
        }
      ]
    },
    {
      "cell_type": "code",
      "metadata": {
        "id": "r6j0EkqYRDdf",
        "colab_type": "code",
        "outputId": "2d267b21-eb6d-4980-aafb-8acc1d990879",
        "colab": {
          "base_uri": "https://localhost:8080/",
          "height": 1000
        }
      },
      "source": [
        "# start optimisation search\n",
        "X_t,X_v,Y_t,Y_v=train_test_split(X_train,Y_train,train_size=0.5)\n",
        "\n",
        "tuner.search(X_t, Y_t, epochs=10, validation_data=(X_v, Y_v))"
      ],
      "execution_count": 0,
      "outputs": [
        {
          "output_type": "stream",
          "text": [
            "Epoch 1/10\n",
            "125/125 [==============================] - 13s 101ms/step - loss: 3.0988 - mae: 0.7517 - val_loss: 0.2169 - val_mae: 0.4025\n",
            "Epoch 2/10\n",
            "125/125 [==============================] - 15s 124ms/step - loss: 0.2018 - mae: 0.3892 - val_loss: 0.1989 - val_mae: 0.3868\n",
            "Epoch 3/10\n",
            "125/125 [==============================] - 13s 105ms/step - loss: 0.1884 - mae: 0.3747 - val_loss: 0.1901 - val_mae: 0.3770\n",
            "Epoch 4/10\n",
            "125/125 [==============================] - 13s 102ms/step - loss: 0.1754 - mae: 0.3596 - val_loss: 0.1845 - val_mae: 0.3604\n",
            "Epoch 5/10\n",
            "125/125 [==============================] - 13s 102ms/step - loss: 0.1629 - mae: 0.3426 - val_loss: 0.1697 - val_mae: 0.3496\n",
            "Epoch 6/10\n",
            "125/125 [==============================] - 13s 101ms/step - loss: 0.1483 - mae: 0.3238 - val_loss: 0.1571 - val_mae: 0.3325\n",
            "Epoch 7/10\n",
            "125/125 [==============================] - 13s 103ms/step - loss: 0.1320 - mae: 0.3023 - val_loss: 0.1459 - val_mae: 0.3165\n",
            "Epoch 8/10\n",
            "125/125 [==============================] - 13s 103ms/step - loss: 0.1121 - mae: 0.2752 - val_loss: 0.1400 - val_mae: 0.3013\n",
            "Epoch 9/10\n",
            "125/125 [==============================] - 13s 102ms/step - loss: 0.0986 - mae: 0.2542 - val_loss: 0.1261 - val_mae: 0.2859\n",
            "Epoch 10/10\n",
            "125/125 [==============================] - 13s 103ms/step - loss: 0.0889 - mae: 0.2379 - val_loss: 0.1204 - val_mae: 0.2787\n",
            "Epoch 1/10\n",
            "125/125 [==============================] - 13s 101ms/step - loss: 3.0346 - mae: 0.7418 - val_loss: 0.2129 - val_mae: 0.3915\n",
            "Epoch 2/10\n",
            "125/125 [==============================] - 12s 100ms/step - loss: 0.1859 - mae: 0.3683 - val_loss: 0.1803 - val_mae: 0.3647\n",
            "Epoch 3/10\n",
            "125/125 [==============================] - 12s 98ms/step - loss: 0.1597 - mae: 0.3371 - val_loss: 0.1656 - val_mae: 0.3399\n",
            "Epoch 4/10\n",
            "125/125 [==============================] - 13s 101ms/step - loss: 0.1472 - mae: 0.3195 - val_loss: 0.1585 - val_mae: 0.3328\n",
            "Epoch 5/10\n",
            "125/125 [==============================] - 12s 100ms/step - loss: 0.1324 - mae: 0.3011 - val_loss: 0.2177 - val_mae: 0.3780\n",
            "Epoch 6/10\n",
            "125/125 [==============================] - 12s 100ms/step - loss: 0.1168 - mae: 0.2806 - val_loss: 0.1656 - val_mae: 0.3309\n",
            "Epoch 7/10\n",
            "125/125 [==============================] - 13s 100ms/step - loss: 0.1069 - mae: 0.2664 - val_loss: 0.1456 - val_mae: 0.3101\n",
            "Epoch 8/10\n",
            "125/125 [==============================] - 12s 99ms/step - loss: 0.1074 - mae: 0.2645 - val_loss: 0.1402 - val_mae: 0.2989\n",
            "Epoch 9/10\n",
            "125/125 [==============================] - 13s 100ms/step - loss: 0.0954 - mae: 0.2480 - val_loss: 0.1511 - val_mae: 0.3103\n",
            "Epoch 10/10\n",
            "125/125 [==============================] - 13s 101ms/step - loss: 0.0874 - mae: 0.2368 - val_loss: 0.1336 - val_mae: 0.2909\n"
          ],
          "name": "stdout"
        },
        {
          "output_type": "display_data",
          "data": {
            "text/html": [
              "<span style=\"color:#4527A0\"><h1 style=\"font-size:18px\">Trial complete</h1></span>"
            ],
            "text/plain": [
              "<IPython.core.display.HTML object>"
            ]
          },
          "metadata": {
            "tags": []
          }
        },
        {
          "output_type": "display_data",
          "data": {
            "text/html": [
              "<span style=\"color:#4527A0\"><h1 style=\"font-size:18px\">Trial summary</h1></span>"
            ],
            "text/plain": [
              "<IPython.core.display.HTML object>"
            ]
          },
          "metadata": {
            "tags": []
          }
        },
        {
          "output_type": "display_data",
          "data": {
            "text/html": [
              "<span style=\"color:cyan\"> |-Trial ID: 5a9d5c8ce0fbd16e791a7a9df12ad1b7</span>"
            ],
            "text/plain": [
              "<IPython.core.display.HTML object>"
            ]
          },
          "metadata": {
            "tags": []
          }
        },
        {
          "output_type": "display_data",
          "data": {
            "text/html": [
              "<span style=\"color:cyan\"> |-Score: 0.12701772525906563</span>"
            ],
            "text/plain": [
              "<IPython.core.display.HTML object>"
            ]
          },
          "metadata": {
            "tags": []
          }
        },
        {
          "output_type": "display_data",
          "data": {
            "text/html": [
              "<span style=\"color:cyan\"> |-Best step: 0</span>"
            ],
            "text/plain": [
              "<IPython.core.display.HTML object>"
            ]
          },
          "metadata": {
            "tags": []
          }
        },
        {
          "output_type": "display_data",
          "data": {
            "text/html": [
              "<span style=\"color:#7E57C2\"><h2 style=\"font-size:16px\">Hyperparameters:</h2></span>"
            ],
            "text/plain": [
              "<IPython.core.display.HTML object>"
            ]
          },
          "metadata": {
            "tags": []
          }
        },
        {
          "output_type": "display_data",
          "data": {
            "text/html": [
              "<span style=\"color:cyan\"> |-filters: 96</span>"
            ],
            "text/plain": [
              "<IPython.core.display.HTML object>"
            ]
          },
          "metadata": {
            "tags": []
          }
        },
        {
          "output_type": "display_data",
          "data": {
            "text/html": [
              "<span style=\"color:blue\"> |-learning_rate: 0.001</span>"
            ],
            "text/plain": [
              "<IPython.core.display.HTML object>"
            ]
          },
          "metadata": {
            "tags": []
          }
        },
        {
          "output_type": "display_data",
          "data": {
            "text/html": [
              "<span style=\"color:cyan\"> |-units: 384</span>"
            ],
            "text/plain": [
              "<IPython.core.display.HTML object>"
            ]
          },
          "metadata": {
            "tags": []
          }
        },
        {
          "output_type": "stream",
          "text": [
            "Epoch 1/10\n",
            "125/125 [==============================] - 9s 76ms/step - loss: 262.3578 - mae: 2.2350 - val_loss: 0.1877 - val_mae: 0.3644\n",
            "Epoch 2/10\n",
            "125/125 [==============================] - 9s 74ms/step - loss: 0.1906 - mae: 0.3603 - val_loss: 0.2704 - val_mae: 0.4165\n",
            "Epoch 3/10\n",
            "125/125 [==============================] - 9s 74ms/step - loss: 0.1984 - mae: 0.3596 - val_loss: 0.1653 - val_mae: 0.3201\n",
            "Epoch 4/10\n",
            "125/125 [==============================] - 9s 74ms/step - loss: 0.1493 - mae: 0.3085 - val_loss: 0.1344 - val_mae: 0.3003\n",
            "Epoch 5/10\n",
            "125/125 [==============================] - 9s 75ms/step - loss: 0.1281 - mae: 0.2854 - val_loss: 0.1311 - val_mae: 0.3019\n",
            "Epoch 6/10\n",
            "125/125 [==============================] - 9s 74ms/step - loss: 0.1300 - mae: 0.2861 - val_loss: 0.1798 - val_mae: 0.3410\n",
            "Epoch 7/10\n",
            "125/125 [==============================] - 9s 73ms/step - loss: 0.1106 - mae: 0.2662 - val_loss: 0.1843 - val_mae: 0.3442\n",
            "Epoch 8/10\n",
            "125/125 [==============================] - 9s 73ms/step - loss: 0.1125 - mae: 0.2675 - val_loss: 0.1722 - val_mae: 0.3344\n",
            "Epoch 9/10\n",
            "125/125 [==============================] - 9s 74ms/step - loss: 0.1063 - mae: 0.2591 - val_loss: 0.1246 - val_mae: 0.2888\n",
            "Epoch 10/10\n",
            "125/125 [==============================] - 9s 74ms/step - loss: 0.0882 - mae: 0.2342 - val_loss: 0.1254 - val_mae: 0.2856\n",
            "Epoch 1/10\n",
            "125/125 [==============================] - 9s 74ms/step - loss: 185.6839 - mae: 2.0385 - val_loss: 0.2215 - val_mae: 0.3961\n",
            "Epoch 2/10\n",
            "125/125 [==============================] - 9s 74ms/step - loss: 0.2260 - mae: 0.3887 - val_loss: 0.8293 - val_mae: 0.7519\n",
            "Epoch 3/10\n",
            "125/125 [==============================] - 9s 74ms/step - loss: 0.2730 - mae: 0.4214 - val_loss: 0.4385 - val_mae: 0.5350\n",
            "Epoch 4/10\n",
            "125/125 [==============================] - 9s 74ms/step - loss: 0.1910 - mae: 0.3574 - val_loss: 0.1783 - val_mae: 0.3520\n",
            "Epoch 5/10\n",
            "125/125 [==============================] - 9s 74ms/step - loss: 0.1360 - mae: 0.3041 - val_loss: 0.2535 - val_mae: 0.4171\n",
            "Epoch 6/10\n",
            "125/125 [==============================] - 9s 73ms/step - loss: 0.1944 - mae: 0.3561 - val_loss: 0.1642 - val_mae: 0.3388\n",
            "Epoch 7/10\n",
            "125/125 [==============================] - 9s 74ms/step - loss: 0.1875 - mae: 0.3444 - val_loss: 0.1704 - val_mae: 0.3397\n",
            "Epoch 8/10\n",
            "125/125 [==============================] - 9s 73ms/step - loss: 0.1341 - mae: 0.2990 - val_loss: 0.1486 - val_mae: 0.3216\n",
            "Epoch 9/10\n",
            "125/125 [==============================] - 9s 73ms/step - loss: 0.1224 - mae: 0.2834 - val_loss: 0.1753 - val_mae: 0.3352\n",
            "Epoch 10/10\n",
            "125/125 [==============================] - 9s 74ms/step - loss: 0.1040 - mae: 0.2600 - val_loss: 0.1525 - val_mae: 0.3167\n"
          ],
          "name": "stdout"
        },
        {
          "output_type": "display_data",
          "data": {
            "text/html": [
              "<span style=\"color:#4527A0\"><h1 style=\"font-size:18px\">Trial complete</h1></span>"
            ],
            "text/plain": [
              "<IPython.core.display.HTML object>"
            ]
          },
          "metadata": {
            "tags": []
          }
        },
        {
          "output_type": "display_data",
          "data": {
            "text/html": [
              "<span style=\"color:#4527A0\"><h1 style=\"font-size:18px\">Trial summary</h1></span>"
            ],
            "text/plain": [
              "<IPython.core.display.HTML object>"
            ]
          },
          "metadata": {
            "tags": []
          }
        },
        {
          "output_type": "display_data",
          "data": {
            "text/html": [
              "<span style=\"color:cyan\"> |-Trial ID: 3b25ec76c1452bb27a0b7a54378510e1</span>"
            ],
            "text/plain": [
              "<IPython.core.display.HTML object>"
            ]
          },
          "metadata": {
            "tags": []
          }
        },
        {
          "output_type": "display_data",
          "data": {
            "text/html": [
              "<span style=\"color:cyan\"> |-Score: 0.13662061467766762</span>"
            ],
            "text/plain": [
              "<IPython.core.display.HTML object>"
            ]
          },
          "metadata": {
            "tags": []
          }
        },
        {
          "output_type": "display_data",
          "data": {
            "text/html": [
              "<span style=\"color:cyan\"> |-Best step: 0</span>"
            ],
            "text/plain": [
              "<IPython.core.display.HTML object>"
            ]
          },
          "metadata": {
            "tags": []
          }
        },
        {
          "output_type": "display_data",
          "data": {
            "text/html": [
              "<span style=\"color:#7E57C2\"><h2 style=\"font-size:16px\">Hyperparameters:</h2></span>"
            ],
            "text/plain": [
              "<IPython.core.display.HTML object>"
            ]
          },
          "metadata": {
            "tags": []
          }
        },
        {
          "output_type": "display_data",
          "data": {
            "text/html": [
              "<span style=\"color:cyan\"> |-filters: 128</span>"
            ],
            "text/plain": [
              "<IPython.core.display.HTML object>"
            ]
          },
          "metadata": {
            "tags": []
          }
        },
        {
          "output_type": "display_data",
          "data": {
            "text/html": [
              "<span style=\"color:blue\"> |-learning_rate: 0.01</span>"
            ],
            "text/plain": [
              "<IPython.core.display.HTML object>"
            ]
          },
          "metadata": {
            "tags": []
          }
        },
        {
          "output_type": "display_data",
          "data": {
            "text/html": [
              "<span style=\"color:cyan\"> |-units: 160</span>"
            ],
            "text/plain": [
              "<IPython.core.display.HTML object>"
            ]
          },
          "metadata": {
            "tags": []
          }
        },
        {
          "output_type": "stream",
          "text": [
            "Epoch 1/10\n",
            "125/125 [==============================] - 9s 68ms/step - loss: 239.2194 - mae: 1.9825 - val_loss: 0.1554 - val_mae: 0.3319\n",
            "Epoch 2/10\n",
            "125/125 [==============================] - 9s 69ms/step - loss: 0.1485 - mae: 0.3105 - val_loss: 0.1539 - val_mae: 0.3135\n",
            "Epoch 3/10\n",
            "125/125 [==============================] - 9s 68ms/step - loss: 0.1113 - mae: 0.2697 - val_loss: 0.1304 - val_mae: 0.2873\n",
            "Epoch 4/10\n",
            "125/125 [==============================] - 9s 68ms/step - loss: 0.1067 - mae: 0.2586 - val_loss: 0.1722 - val_mae: 0.3359\n",
            "Epoch 5/10\n",
            "125/125 [==============================] - 8s 68ms/step - loss: 0.0959 - mae: 0.2441 - val_loss: 0.1307 - val_mae: 0.2823\n",
            "Epoch 6/10\n",
            "125/125 [==============================] - 9s 69ms/step - loss: 0.0748 - mae: 0.2145 - val_loss: 0.1280 - val_mae: 0.2894\n",
            "Epoch 7/10\n",
            "125/125 [==============================] - 9s 69ms/step - loss: 0.0703 - mae: 0.2066 - val_loss: 0.1176 - val_mae: 0.2749\n",
            "Epoch 8/10\n",
            "125/125 [==============================] - 8s 67ms/step - loss: 0.0799 - mae: 0.2180 - val_loss: 0.1280 - val_mae: 0.2865\n",
            "Epoch 9/10\n",
            "125/125 [==============================] - 8s 68ms/step - loss: 0.0620 - mae: 0.1898 - val_loss: 0.1123 - val_mae: 0.2608\n",
            "Epoch 10/10\n",
            "125/125 [==============================] - 9s 68ms/step - loss: 0.0528 - mae: 0.1748 - val_loss: 0.1107 - val_mae: 0.2579\n",
            "Epoch 1/10\n",
            "125/125 [==============================] - 9s 69ms/step - loss: 178.2305 - mae: 2.1732 - val_loss: 0.2093 - val_mae: 0.3971\n",
            "Epoch 2/10\n",
            "125/125 [==============================] - 9s 69ms/step - loss: 0.1901 - mae: 0.3733 - val_loss: 0.1885 - val_mae: 0.3614\n",
            "Epoch 3/10\n",
            "125/125 [==============================] - 8s 68ms/step - loss: 0.1635 - mae: 0.3433 - val_loss: 0.1751 - val_mae: 0.3517\n",
            "Epoch 4/10\n",
            "125/125 [==============================] - 8s 67ms/step - loss: 0.1372 - mae: 0.3102 - val_loss: 0.1432 - val_mae: 0.3092\n",
            "Epoch 5/10\n",
            "125/125 [==============================] - 8s 67ms/step - loss: 0.1205 - mae: 0.2863 - val_loss: 0.1693 - val_mae: 0.3317\n",
            "Epoch 6/10\n",
            "125/125 [==============================] - 8s 68ms/step - loss: 0.1124 - mae: 0.2760 - val_loss: 0.1382 - val_mae: 0.3029\n",
            "Epoch 7/10\n",
            "125/125 [==============================] - 8s 67ms/step - loss: 0.1025 - mae: 0.2617 - val_loss: 0.1352 - val_mae: 0.2991\n",
            "Epoch 8/10\n",
            "125/125 [==============================] - 9s 68ms/step - loss: 0.0957 - mae: 0.2514 - val_loss: 0.1272 - val_mae: 0.2899\n",
            "Epoch 9/10\n",
            "125/125 [==============================] - 9s 68ms/step - loss: 0.0887 - mae: 0.2415 - val_loss: 0.1453 - val_mae: 0.3103\n",
            "Epoch 10/10\n",
            "125/125 [==============================] - 9s 69ms/step - loss: 0.0825 - mae: 0.2301 - val_loss: 0.1517 - val_mae: 0.3180\n"
          ],
          "name": "stdout"
        },
        {
          "output_type": "display_data",
          "data": {
            "text/html": [
              "<span style=\"color:#4527A0\"><h1 style=\"font-size:18px\">Trial complete</h1></span>"
            ],
            "text/plain": [
              "<IPython.core.display.HTML object>"
            ]
          },
          "metadata": {
            "tags": []
          }
        },
        {
          "output_type": "display_data",
          "data": {
            "text/html": [
              "<span style=\"color:#4527A0\"><h1 style=\"font-size:18px\">Trial summary</h1></span>"
            ],
            "text/plain": [
              "<IPython.core.display.HTML object>"
            ]
          },
          "metadata": {
            "tags": []
          }
        },
        {
          "output_type": "display_data",
          "data": {
            "text/html": [
              "<span style=\"color:cyan\"> |-Trial ID: a6f9c95dfba69045d440d4d5341ff17e</span>"
            ],
            "text/plain": [
              "<IPython.core.display.HTML object>"
            ]
          },
          "metadata": {
            "tags": []
          }
        },
        {
          "output_type": "display_data",
          "data": {
            "text/html": [
              "<span style=\"color:cyan\"> |-Score: 0.11895919591188431</span>"
            ],
            "text/plain": [
              "<IPython.core.display.HTML object>"
            ]
          },
          "metadata": {
            "tags": []
          }
        },
        {
          "output_type": "display_data",
          "data": {
            "text/html": [
              "<span style=\"color:cyan\"> |-Best step: 0</span>"
            ],
            "text/plain": [
              "<IPython.core.display.HTML object>"
            ]
          },
          "metadata": {
            "tags": []
          }
        },
        {
          "output_type": "display_data",
          "data": {
            "text/html": [
              "<span style=\"color:#7E57C2\"><h2 style=\"font-size:16px\">Hyperparameters:</h2></span>"
            ],
            "text/plain": [
              "<IPython.core.display.HTML object>"
            ]
          },
          "metadata": {
            "tags": []
          }
        },
        {
          "output_type": "display_data",
          "data": {
            "text/html": [
              "<span style=\"color:cyan\"> |-filters: 64</span>"
            ],
            "text/plain": [
              "<IPython.core.display.HTML object>"
            ]
          },
          "metadata": {
            "tags": []
          }
        },
        {
          "output_type": "display_data",
          "data": {
            "text/html": [
              "<span style=\"color:blue\"> |-learning_rate: 0.01</span>"
            ],
            "text/plain": [
              "<IPython.core.display.HTML object>"
            ]
          },
          "metadata": {
            "tags": []
          }
        },
        {
          "output_type": "display_data",
          "data": {
            "text/html": [
              "<span style=\"color:cyan\"> |-units: 352</span>"
            ],
            "text/plain": [
              "<IPython.core.display.HTML object>"
            ]
          },
          "metadata": {
            "tags": []
          }
        },
        {
          "output_type": "stream",
          "text": [
            "Epoch 1/10\n",
            "125/125 [==============================] - 8s 65ms/step - loss: 0.3394 - mae: 0.4476 - val_loss: 0.1933 - val_mae: 0.3593\n",
            "Epoch 2/10\n",
            "125/125 [==============================] - 10s 81ms/step - loss: 0.1557 - mae: 0.3283 - val_loss: 0.1502 - val_mae: 0.3154\n",
            "Epoch 3/10\n",
            "125/125 [==============================] - 9s 72ms/step - loss: 0.1247 - mae: 0.2888 - val_loss: 0.1317 - val_mae: 0.2945\n",
            "Epoch 4/10\n",
            "125/125 [==============================] - 8s 65ms/step - loss: 0.1052 - mae: 0.2634 - val_loss: 0.1252 - val_mae: 0.2824\n",
            "Epoch 5/10\n",
            "125/125 [==============================] - 8s 64ms/step - loss: 0.0998 - mae: 0.2549 - val_loss: 0.1388 - val_mae: 0.3058\n",
            "Epoch 6/10\n",
            "125/125 [==============================] - 8s 64ms/step - loss: 0.0914 - mae: 0.2413 - val_loss: 0.1732 - val_mae: 0.3421\n",
            "Epoch 7/10\n",
            "125/125 [==============================] - 8s 64ms/step - loss: 0.0827 - mae: 0.2310 - val_loss: 0.1476 - val_mae: 0.3094\n",
            "Epoch 8/10\n",
            "125/125 [==============================] - 8s 65ms/step - loss: 0.0740 - mae: 0.2157 - val_loss: 0.1318 - val_mae: 0.2941\n",
            "Epoch 9/10\n",
            "125/125 [==============================] - 8s 65ms/step - loss: 0.0712 - mae: 0.2121 - val_loss: 0.1226 - val_mae: 0.2732\n",
            "Epoch 10/10\n",
            "125/125 [==============================] - 8s 65ms/step - loss: 0.0680 - mae: 0.2050 - val_loss: 0.1086 - val_mae: 0.2643\n",
            "Epoch 1/10\n",
            "125/125 [==============================] - 8s 65ms/step - loss: 0.3859 - mae: 0.4674 - val_loss: 0.2092 - val_mae: 0.3817\n",
            "Epoch 2/10\n",
            "125/125 [==============================] - 8s 65ms/step - loss: 0.1718 - mae: 0.3485 - val_loss: 0.1663 - val_mae: 0.3448\n",
            "Epoch 3/10\n",
            "125/125 [==============================] - 8s 64ms/step - loss: 0.1402 - mae: 0.3109 - val_loss: 0.1473 - val_mae: 0.3204\n",
            "Epoch 4/10\n",
            "125/125 [==============================] - 8s 65ms/step - loss: 0.1150 - mae: 0.2790 - val_loss: 0.1369 - val_mae: 0.2972\n",
            "Epoch 5/10\n",
            "125/125 [==============================] - 8s 65ms/step - loss: 0.1010 - mae: 0.2578 - val_loss: 0.1284 - val_mae: 0.2961\n",
            "Epoch 6/10\n",
            "125/125 [==============================] - 8s 65ms/step - loss: 0.0985 - mae: 0.2534 - val_loss: 0.1292 - val_mae: 0.2834\n",
            "Epoch 7/10\n",
            "125/125 [==============================] - 8s 64ms/step - loss: 0.0842 - mae: 0.2333 - val_loss: 0.1312 - val_mae: 0.2915\n",
            "Epoch 8/10\n",
            "125/125 [==============================] - 8s 65ms/step - loss: 0.0754 - mae: 0.2195 - val_loss: 0.1260 - val_mae: 0.2906\n",
            "Epoch 9/10\n",
            "125/125 [==============================] - 8s 65ms/step - loss: 0.0744 - mae: 0.2171 - val_loss: 0.1360 - val_mae: 0.2859\n",
            "Epoch 10/10\n",
            "125/125 [==============================] - 8s 65ms/step - loss: 0.0711 - mae: 0.2118 - val_loss: 0.1178 - val_mae: 0.2777\n"
          ],
          "name": "stdout"
        },
        {
          "output_type": "display_data",
          "data": {
            "text/html": [
              "<span style=\"color:#4527A0\"><h1 style=\"font-size:18px\">Trial complete</h1></span>"
            ],
            "text/plain": [
              "<IPython.core.display.HTML object>"
            ]
          },
          "metadata": {
            "tags": []
          }
        },
        {
          "output_type": "display_data",
          "data": {
            "text/html": [
              "<span style=\"color:#4527A0\"><h1 style=\"font-size:18px\">Trial summary</h1></span>"
            ],
            "text/plain": [
              "<IPython.core.display.HTML object>"
            ]
          },
          "metadata": {
            "tags": []
          }
        },
        {
          "output_type": "display_data",
          "data": {
            "text/html": [
              "<span style=\"color:cyan\"> |-Trial ID: 432529f5e2bb91a0765f78aab8aa27e2</span>"
            ],
            "text/plain": [
              "<IPython.core.display.HTML object>"
            ]
          },
          "metadata": {
            "tags": []
          }
        },
        {
          "output_type": "display_data",
          "data": {
            "text/html": [
              "<span style=\"color:cyan\"> |-Score: 0.11316719278693199</span>"
            ],
            "text/plain": [
              "<IPython.core.display.HTML object>"
            ]
          },
          "metadata": {
            "tags": []
          }
        },
        {
          "output_type": "display_data",
          "data": {
            "text/html": [
              "<span style=\"color:cyan\"> |-Best step: 0</span>"
            ],
            "text/plain": [
              "<IPython.core.display.HTML object>"
            ]
          },
          "metadata": {
            "tags": []
          }
        },
        {
          "output_type": "display_data",
          "data": {
            "text/html": [
              "<span style=\"color:#7E57C2\"><h2 style=\"font-size:16px\">Hyperparameters:</h2></span>"
            ],
            "text/plain": [
              "<IPython.core.display.HTML object>"
            ]
          },
          "metadata": {
            "tags": []
          }
        },
        {
          "output_type": "display_data",
          "data": {
            "text/html": [
              "<span style=\"color:cyan\"> |-filters: 64</span>"
            ],
            "text/plain": [
              "<IPython.core.display.HTML object>"
            ]
          },
          "metadata": {
            "tags": []
          }
        },
        {
          "output_type": "display_data",
          "data": {
            "text/html": [
              "<span style=\"color:blue\"> |-learning_rate: 0.0001</span>"
            ],
            "text/plain": [
              "<IPython.core.display.HTML object>"
            ]
          },
          "metadata": {
            "tags": []
          }
        },
        {
          "output_type": "display_data",
          "data": {
            "text/html": [
              "<span style=\"color:cyan\"> |-units: 320</span>"
            ],
            "text/plain": [
              "<IPython.core.display.HTML object>"
            ]
          },
          "metadata": {
            "tags": []
          }
        },
        {
          "output_type": "stream",
          "text": [
            "Epoch 1/10\n",
            "125/125 [==============================] - 10s 80ms/step - loss: 1.6635 - mae: 0.6196 - val_loss: 0.1968 - val_mae: 0.3836\n",
            "Epoch 2/10\n",
            "125/125 [==============================] - 10s 80ms/step - loss: 0.1879 - mae: 0.3688 - val_loss: 0.1903 - val_mae: 0.3721\n",
            "Epoch 3/10\n",
            "125/125 [==============================] - 10s 79ms/step - loss: 0.1630 - mae: 0.3409 - val_loss: 0.1884 - val_mae: 0.3647\n",
            "Epoch 4/10\n",
            "125/125 [==============================] - 10s 80ms/step - loss: 0.1471 - mae: 0.3224 - val_loss: 0.1839 - val_mae: 0.3568\n",
            "Epoch 5/10\n",
            "125/125 [==============================] - 10s 79ms/step - loss: 0.1305 - mae: 0.2999 - val_loss: 0.1554 - val_mae: 0.3196\n",
            "Epoch 6/10\n",
            "125/125 [==============================] - 10s 79ms/step - loss: 0.1228 - mae: 0.2865 - val_loss: 0.1487 - val_mae: 0.3162\n",
            "Epoch 7/10\n",
            "125/125 [==============================] - 10s 79ms/step - loss: 0.1061 - mae: 0.2654 - val_loss: 0.1503 - val_mae: 0.3109\n",
            "Epoch 8/10\n",
            "125/125 [==============================] - 10s 79ms/step - loss: 0.0969 - mae: 0.2513 - val_loss: 0.1422 - val_mae: 0.3073\n",
            "Epoch 9/10\n",
            "125/125 [==============================] - 10s 79ms/step - loss: 0.1004 - mae: 0.2559 - val_loss: 0.1445 - val_mae: 0.3120\n",
            "Epoch 10/10\n",
            "125/125 [==============================] - 10s 79ms/step - loss: 0.0924 - mae: 0.2440 - val_loss: 0.1445 - val_mae: 0.3036\n",
            "Epoch 1/10\n",
            "125/125 [==============================] - 10s 77ms/step - loss: 3.7870 - mae: 1.0320 - val_loss: 0.2186 - val_mae: 0.4018\n",
            "Epoch 2/10\n",
            "125/125 [==============================] - 10s 77ms/step - loss: 0.2117 - mae: 0.3992 - val_loss: 0.2093 - val_mae: 0.3971\n",
            "Epoch 3/10\n",
            "125/125 [==============================] - 10s 77ms/step - loss: 0.2048 - mae: 0.3917 - val_loss: 0.2037 - val_mae: 0.3926\n",
            "Epoch 4/10\n",
            "125/125 [==============================] - 10s 77ms/step - loss: 0.1960 - mae: 0.3841 - val_loss: 0.1982 - val_mae: 0.3835\n",
            "Epoch 5/10\n",
            "125/125 [==============================] - 10s 78ms/step - loss: 0.1888 - mae: 0.3767 - val_loss: 0.1914 - val_mae: 0.3751\n",
            "Epoch 6/10\n",
            "125/125 [==============================] - 10s 78ms/step - loss: 0.1826 - mae: 0.3687 - val_loss: 0.1895 - val_mae: 0.3730\n",
            "Epoch 7/10\n",
            "125/125 [==============================] - 10s 78ms/step - loss: 0.1735 - mae: 0.3598 - val_loss: 0.1803 - val_mae: 0.3663\n",
            "Epoch 8/10\n",
            "125/125 [==============================] - 10s 78ms/step - loss: 0.1666 - mae: 0.3516 - val_loss: 0.1775 - val_mae: 0.3567\n",
            "Epoch 9/10\n",
            "125/125 [==============================] - 10s 77ms/step - loss: 0.1592 - mae: 0.3424 - val_loss: 0.1730 - val_mae: 0.3562\n",
            "Epoch 10/10\n",
            "125/125 [==============================] - 10s 77ms/step - loss: 0.1526 - mae: 0.3335 - val_loss: 0.1697 - val_mae: 0.3515\n"
          ],
          "name": "stdout"
        },
        {
          "output_type": "display_data",
          "data": {
            "text/html": [
              "<span style=\"color:#4527A0\"><h1 style=\"font-size:18px\">Trial complete</h1></span>"
            ],
            "text/plain": [
              "<IPython.core.display.HTML object>"
            ]
          },
          "metadata": {
            "tags": []
          }
        },
        {
          "output_type": "display_data",
          "data": {
            "text/html": [
              "<span style=\"color:#4527A0\"><h1 style=\"font-size:18px\">Trial summary</h1></span>"
            ],
            "text/plain": [
              "<IPython.core.display.HTML object>"
            ]
          },
          "metadata": {
            "tags": []
          }
        },
        {
          "output_type": "display_data",
          "data": {
            "text/html": [
              "<span style=\"color:cyan\"> |-Trial ID: 3b8cd7c44578e3bf2f5ec958b30cabf6</span>"
            ],
            "text/plain": [
              "<IPython.core.display.HTML object>"
            ]
          },
          "metadata": {
            "tags": []
          }
        },
        {
          "output_type": "display_data",
          "data": {
            "text/html": [
              "<span style=\"color:cyan\"> |-Score: 0.1559549942612648</span>"
            ],
            "text/plain": [
              "<IPython.core.display.HTML object>"
            ]
          },
          "metadata": {
            "tags": []
          }
        },
        {
          "output_type": "display_data",
          "data": {
            "text/html": [
              "<span style=\"color:cyan\"> |-Best step: 0</span>"
            ],
            "text/plain": [
              "<IPython.core.display.HTML object>"
            ]
          },
          "metadata": {
            "tags": []
          }
        },
        {
          "output_type": "display_data",
          "data": {
            "text/html": [
              "<span style=\"color:#7E57C2\"><h2 style=\"font-size:16px\">Hyperparameters:</h2></span>"
            ],
            "text/plain": [
              "<IPython.core.display.HTML object>"
            ]
          },
          "metadata": {
            "tags": []
          }
        },
        {
          "output_type": "display_data",
          "data": {
            "text/html": [
              "<span style=\"color:cyan\"> |-filters: 96</span>"
            ],
            "text/plain": [
              "<IPython.core.display.HTML object>"
            ]
          },
          "metadata": {
            "tags": []
          }
        },
        {
          "output_type": "display_data",
          "data": {
            "text/html": [
              "<span style=\"color:blue\"> |-learning_rate: 0.001</span>"
            ],
            "text/plain": [
              "<IPython.core.display.HTML object>"
            ]
          },
          "metadata": {
            "tags": []
          }
        },
        {
          "output_type": "display_data",
          "data": {
            "text/html": [
              "<span style=\"color:cyan\"> |-units: 256</span>"
            ],
            "text/plain": [
              "<IPython.core.display.HTML object>"
            ]
          },
          "metadata": {
            "tags": []
          }
        },
        {
          "output_type": "stream",
          "text": [
            "Epoch 1/10\n",
            "125/125 [==============================] - 7s 53ms/step - loss: 0.3817 - mae: 0.4683 - val_loss: 0.1866 - val_mae: 0.3680\n",
            "Epoch 2/10\n",
            "125/125 [==============================] - 7s 52ms/step - loss: 0.1699 - mae: 0.3447 - val_loss: 0.2238 - val_mae: 0.3928\n",
            "Epoch 3/10\n",
            "125/125 [==============================] - 7s 53ms/step - loss: 0.1394 - mae: 0.3087 - val_loss: 0.1429 - val_mae: 0.3071\n",
            "Epoch 4/10\n",
            "125/125 [==============================] - 7s 52ms/step - loss: 0.1116 - mae: 0.2713 - val_loss: 0.1511 - val_mae: 0.3016\n",
            "Epoch 5/10\n",
            "125/125 [==============================] - 7s 52ms/step - loss: 0.1004 - mae: 0.2548 - val_loss: 0.1285 - val_mae: 0.2913\n",
            "Epoch 6/10\n",
            "125/125 [==============================] - 7s 53ms/step - loss: 0.0866 - mae: 0.2375 - val_loss: 0.1174 - val_mae: 0.2729\n",
            "Epoch 7/10\n",
            "125/125 [==============================] - 7s 53ms/step - loss: 0.0843 - mae: 0.2334 - val_loss: 0.1158 - val_mae: 0.2662\n",
            "Epoch 8/10\n",
            "125/125 [==============================] - 7s 53ms/step - loss: 0.0755 - mae: 0.2201 - val_loss: 0.1132 - val_mae: 0.2668\n",
            "Epoch 9/10\n",
            "125/125 [==============================] - 6s 52ms/step - loss: 0.0771 - mae: 0.2217 - val_loss: 0.1265 - val_mae: 0.2859\n",
            "Epoch 10/10\n",
            "125/125 [==============================] - 7s 52ms/step - loss: 0.0669 - mae: 0.2061 - val_loss: 0.1097 - val_mae: 0.2627\n",
            "Epoch 1/10\n",
            "125/125 [==============================] - 7s 52ms/step - loss: 0.3761 - mae: 0.4638 - val_loss: 0.1926 - val_mae: 0.3703\n",
            "Epoch 2/10\n",
            "125/125 [==============================] - 7s 52ms/step - loss: 0.1752 - mae: 0.3510 - val_loss: 0.1727 - val_mae: 0.3500\n",
            "Epoch 3/10\n",
            "125/125 [==============================] - 6s 51ms/step - loss: 0.1489 - mae: 0.3187 - val_loss: 0.1471 - val_mae: 0.3186\n",
            "Epoch 4/10\n",
            "125/125 [==============================] - 6s 51ms/step - loss: 0.1237 - mae: 0.2893 - val_loss: 0.1346 - val_mae: 0.3048\n",
            "Epoch 5/10\n",
            "125/125 [==============================] - 6s 51ms/step - loss: 0.1090 - mae: 0.2693 - val_loss: 0.1418 - val_mae: 0.3028\n",
            "Epoch 6/10\n",
            "125/125 [==============================] - 6s 52ms/step - loss: 0.0949 - mae: 0.2494 - val_loss: 0.1278 - val_mae: 0.2874\n",
            "Epoch 7/10\n",
            "125/125 [==============================] - 6s 52ms/step - loss: 0.0887 - mae: 0.2404 - val_loss: 0.1151 - val_mae: 0.2713\n",
            "Epoch 8/10\n",
            "125/125 [==============================] - 6s 51ms/step - loss: 0.0807 - mae: 0.2270 - val_loss: 0.1157 - val_mae: 0.2678\n",
            "Epoch 9/10\n",
            "125/125 [==============================] - 6s 51ms/step - loss: 0.0720 - mae: 0.2139 - val_loss: 0.1140 - val_mae: 0.2762\n",
            "Epoch 10/10\n",
            "125/125 [==============================] - 6s 51ms/step - loss: 0.0661 - mae: 0.2040 - val_loss: 0.1212 - val_mae: 0.2773\n"
          ],
          "name": "stdout"
        },
        {
          "output_type": "display_data",
          "data": {
            "text/html": [
              "<span style=\"color:#4527A0\"><h1 style=\"font-size:18px\">Trial complete</h1></span>"
            ],
            "text/plain": [
              "<IPython.core.display.HTML object>"
            ]
          },
          "metadata": {
            "tags": []
          }
        },
        {
          "output_type": "display_data",
          "data": {
            "text/html": [
              "<span style=\"color:#4527A0\"><h1 style=\"font-size:18px\">Trial summary</h1></span>"
            ],
            "text/plain": [
              "<IPython.core.display.HTML object>"
            ]
          },
          "metadata": {
            "tags": []
          }
        },
        {
          "output_type": "display_data",
          "data": {
            "text/html": [
              "<span style=\"color:cyan\"> |-Trial ID: 2ff5d54f81f2842e0e9683249eaa07c1</span>"
            ],
            "text/plain": [
              "<IPython.core.display.HTML object>"
            ]
          },
          "metadata": {
            "tags": []
          }
        },
        {
          "output_type": "display_data",
          "data": {
            "text/html": [
              "<span style=\"color:cyan\"> |-Score: 0.11185642331838608</span>"
            ],
            "text/plain": [
              "<IPython.core.display.HTML object>"
            ]
          },
          "metadata": {
            "tags": []
          }
        },
        {
          "output_type": "display_data",
          "data": {
            "text/html": [
              "<span style=\"color:cyan\"> |-Best step: 0</span>"
            ],
            "text/plain": [
              "<IPython.core.display.HTML object>"
            ]
          },
          "metadata": {
            "tags": []
          }
        },
        {
          "output_type": "display_data",
          "data": {
            "text/html": [
              "<span style=\"color:#7E57C2\"><h2 style=\"font-size:16px\">Hyperparameters:</h2></span>"
            ],
            "text/plain": [
              "<IPython.core.display.HTML object>"
            ]
          },
          "metadata": {
            "tags": []
          }
        },
        {
          "output_type": "display_data",
          "data": {
            "text/html": [
              "<span style=\"color:cyan\"> |-filters: 64</span>"
            ],
            "text/plain": [
              "<IPython.core.display.HTML object>"
            ]
          },
          "metadata": {
            "tags": []
          }
        },
        {
          "output_type": "display_data",
          "data": {
            "text/html": [
              "<span style=\"color:blue\"> |-learning_rate: 0.0001</span>"
            ],
            "text/plain": [
              "<IPython.core.display.HTML object>"
            ]
          },
          "metadata": {
            "tags": []
          }
        },
        {
          "output_type": "display_data",
          "data": {
            "text/html": [
              "<span style=\"color:cyan\"> |-units: 256</span>"
            ],
            "text/plain": [
              "<IPython.core.display.HTML object>"
            ]
          },
          "metadata": {
            "tags": []
          }
        },
        {
          "output_type": "stream",
          "text": [
            "Epoch 1/10\n",
            "125/125 [==============================] - 10s 79ms/step - loss: 0.3779 - mae: 0.4661 - val_loss: 0.2033 - val_mae: 0.3803\n",
            "Epoch 2/10\n",
            "125/125 [==============================] - 10s 79ms/step - loss: 0.1679 - mae: 0.3441 - val_loss: 0.1558 - val_mae: 0.3274\n",
            "Epoch 3/10\n",
            "125/125 [==============================] - 10s 79ms/step - loss: 0.1367 - mae: 0.3059 - val_loss: 0.1416 - val_mae: 0.3146\n",
            "Epoch 4/10\n",
            "125/125 [==============================] - 10s 78ms/step - loss: 0.1111 - mae: 0.2713 - val_loss: 0.1461 - val_mae: 0.3165\n",
            "Epoch 5/10\n",
            "125/125 [==============================] - 10s 79ms/step - loss: 0.1080 - mae: 0.2670 - val_loss: 0.1203 - val_mae: 0.2851\n",
            "Epoch 6/10\n",
            "125/125 [==============================] - 10s 79ms/step - loss: 0.0937 - mae: 0.2470 - val_loss: 0.1578 - val_mae: 0.3090\n",
            "Epoch 7/10\n",
            "125/125 [==============================] - 10s 78ms/step - loss: 0.0913 - mae: 0.2414 - val_loss: 0.1146 - val_mae: 0.2751\n",
            "Epoch 8/10\n",
            "125/125 [==============================] - 10s 79ms/step - loss: 0.0865 - mae: 0.2361 - val_loss: 0.1127 - val_mae: 0.2744\n",
            "Epoch 9/10\n",
            "125/125 [==============================] - 10s 78ms/step - loss: 0.0751 - mae: 0.2191 - val_loss: 0.1289 - val_mae: 0.2976\n",
            "Epoch 10/10\n",
            "125/125 [==============================] - 10s 78ms/step - loss: 0.0682 - mae: 0.2073 - val_loss: 0.1288 - val_mae: 0.2887\n",
            "Epoch 1/10\n",
            "125/125 [==============================] - 10s 77ms/step - loss: 0.3153 - mae: 0.4372 - val_loss: 0.1778 - val_mae: 0.3521\n",
            "Epoch 2/10\n",
            "125/125 [==============================] - 10s 77ms/step - loss: 0.1562 - mae: 0.3302 - val_loss: 0.1505 - val_mae: 0.3273\n",
            "Epoch 3/10\n",
            "125/125 [==============================] - 11s 90ms/step - loss: 0.1330 - mae: 0.2984 - val_loss: 0.1399 - val_mae: 0.2972\n",
            "Epoch 4/10\n",
            "125/125 [==============================] - 11s 89ms/step - loss: 0.1126 - mae: 0.2714 - val_loss: 0.1238 - val_mae: 0.2901\n",
            "Epoch 5/10\n",
            "125/125 [==============================] - 10s 76ms/step - loss: 0.0958 - mae: 0.2507 - val_loss: 0.1212 - val_mae: 0.2743\n",
            "Epoch 6/10\n",
            "125/125 [==============================] - 10s 77ms/step - loss: 0.0848 - mae: 0.2345 - val_loss: 0.1164 - val_mae: 0.2714\n",
            "Epoch 7/10\n",
            "125/125 [==============================] - 10s 77ms/step - loss: 0.0831 - mae: 0.2303 - val_loss: 0.1387 - val_mae: 0.2971\n",
            "Epoch 8/10\n",
            "125/125 [==============================] - 10s 77ms/step - loss: 0.0733 - mae: 0.2168 - val_loss: 0.1090 - val_mae: 0.2633\n",
            "Epoch 9/10\n",
            "125/125 [==============================] - 10s 78ms/step - loss: 0.0705 - mae: 0.2109 - val_loss: 0.1071 - val_mae: 0.2621\n",
            "Epoch 10/10\n",
            "125/125 [==============================] - 10s 77ms/step - loss: 0.0622 - mae: 0.1976 - val_loss: 0.1092 - val_mae: 0.2647\n"
          ],
          "name": "stdout"
        },
        {
          "output_type": "display_data",
          "data": {
            "text/html": [
              "<span style=\"color:#4527A0\"><h1 style=\"font-size:18px\">Trial complete</h1></span>"
            ],
            "text/plain": [
              "<IPython.core.display.HTML object>"
            ]
          },
          "metadata": {
            "tags": []
          }
        },
        {
          "output_type": "display_data",
          "data": {
            "text/html": [
              "<span style=\"color:#4527A0\"><h1 style=\"font-size:18px\">Trial summary</h1></span>"
            ],
            "text/plain": [
              "<IPython.core.display.HTML object>"
            ]
          },
          "metadata": {
            "tags": []
          }
        },
        {
          "output_type": "display_data",
          "data": {
            "text/html": [
              "<span style=\"color:cyan\"> |-Trial ID: 2ee993e4f4d6292d15641c7db56ac007</span>"
            ],
            "text/plain": [
              "<IPython.core.display.HTML object>"
            ]
          },
          "metadata": {
            "tags": []
          }
        },
        {
          "output_type": "display_data",
          "data": {
            "text/html": [
              "<span style=\"color:cyan\"> |-Score: 0.10989952087402344</span>"
            ],
            "text/plain": [
              "<IPython.core.display.HTML object>"
            ]
          },
          "metadata": {
            "tags": []
          }
        },
        {
          "output_type": "display_data",
          "data": {
            "text/html": [
              "<span style=\"color:cyan\"> |-Best step: 0</span>"
            ],
            "text/plain": [
              "<IPython.core.display.HTML object>"
            ]
          },
          "metadata": {
            "tags": []
          }
        },
        {
          "output_type": "display_data",
          "data": {
            "text/html": [
              "<span style=\"color:#7E57C2\"><h2 style=\"font-size:16px\">Hyperparameters:</h2></span>"
            ],
            "text/plain": [
              "<IPython.core.display.HTML object>"
            ]
          },
          "metadata": {
            "tags": []
          }
        },
        {
          "output_type": "display_data",
          "data": {
            "text/html": [
              "<span style=\"color:cyan\"> |-filters: 96</span>"
            ],
            "text/plain": [
              "<IPython.core.display.HTML object>"
            ]
          },
          "metadata": {
            "tags": []
          }
        },
        {
          "output_type": "display_data",
          "data": {
            "text/html": [
              "<span style=\"color:blue\"> |-learning_rate: 0.0001</span>"
            ],
            "text/plain": [
              "<IPython.core.display.HTML object>"
            ]
          },
          "metadata": {
            "tags": []
          }
        },
        {
          "output_type": "display_data",
          "data": {
            "text/html": [
              "<span style=\"color:cyan\"> |-units: 256</span>"
            ],
            "text/plain": [
              "<IPython.core.display.HTML object>"
            ]
          },
          "metadata": {
            "tags": []
          }
        },
        {
          "output_type": "stream",
          "text": [
            "Epoch 1/10\n",
            "125/125 [==============================] - 12s 96ms/step - loss: 0.3513 - mae: 0.4568 - val_loss: 0.1980 - val_mae: 0.3731\n",
            "Epoch 2/10\n",
            "125/125 [==============================] - 12s 98ms/step - loss: 0.1716 - mae: 0.3475 - val_loss: 0.1639 - val_mae: 0.3410\n",
            "Epoch 3/10\n",
            "125/125 [==============================] - 12s 96ms/step - loss: 0.1450 - mae: 0.3147 - val_loss: 0.1564 - val_mae: 0.3284\n",
            "Epoch 4/10\n",
            "125/125 [==============================] - 12s 97ms/step - loss: 0.1210 - mae: 0.2831 - val_loss: 0.1334 - val_mae: 0.2997\n",
            "Epoch 5/10\n",
            "125/125 [==============================] - 12s 97ms/step - loss: 0.1004 - mae: 0.2578 - val_loss: 0.1286 - val_mae: 0.2950\n",
            "Epoch 6/10\n",
            "125/125 [==============================] - 12s 97ms/step - loss: 0.0893 - mae: 0.2421 - val_loss: 0.1251 - val_mae: 0.2880\n",
            "Epoch 7/10\n",
            "125/125 [==============================] - 12s 98ms/step - loss: 0.0838 - mae: 0.2329 - val_loss: 0.1224 - val_mae: 0.2871\n",
            "Epoch 8/10\n",
            "125/125 [==============================] - 12s 96ms/step - loss: 0.0826 - mae: 0.2301 - val_loss: 0.1293 - val_mae: 0.2917\n",
            "Epoch 9/10\n",
            "125/125 [==============================] - 12s 96ms/step - loss: 0.0737 - mae: 0.2151 - val_loss: 0.1371 - val_mae: 0.2950\n",
            "Epoch 10/10\n",
            "125/125 [==============================] - 12s 97ms/step - loss: 0.0709 - mae: 0.2106 - val_loss: 0.1308 - val_mae: 0.2952\n",
            "Epoch 1/10\n",
            "125/125 [==============================] - 12s 97ms/step - loss: 0.3485 - mae: 0.4488 - val_loss: 0.1820 - val_mae: 0.3617\n",
            "Epoch 2/10\n",
            "125/125 [==============================] - 12s 96ms/step - loss: 0.1611 - mae: 0.3364 - val_loss: 0.1567 - val_mae: 0.3322\n",
            "Epoch 3/10\n",
            "125/125 [==============================] - 12s 96ms/step - loss: 0.1342 - mae: 0.3021 - val_loss: 0.1330 - val_mae: 0.2986\n",
            "Epoch 4/10\n",
            "125/125 [==============================] - 12s 96ms/step - loss: 0.1131 - mae: 0.2738 - val_loss: 0.1293 - val_mae: 0.2873\n",
            "Epoch 5/10\n",
            "125/125 [==============================] - 12s 96ms/step - loss: 0.0943 - mae: 0.2483 - val_loss: 0.1390 - val_mae: 0.3004\n",
            "Epoch 6/10\n",
            "125/125 [==============================] - 12s 96ms/step - loss: 0.0876 - mae: 0.2399 - val_loss: 0.1397 - val_mae: 0.3090\n",
            "Epoch 7/10\n",
            "125/125 [==============================] - 12s 97ms/step - loss: 0.0817 - mae: 0.2287 - val_loss: 0.1127 - val_mae: 0.2742\n",
            "Epoch 8/10\n",
            "125/125 [==============================] - 12s 97ms/step - loss: 0.0839 - mae: 0.2310 - val_loss: 0.1646 - val_mae: 0.3302\n",
            "Epoch 9/10\n",
            "125/125 [==============================] - 12s 96ms/step - loss: 0.0804 - mae: 0.2243 - val_loss: 0.1213 - val_mae: 0.2805\n",
            "Epoch 10/10\n",
            "125/125 [==============================] - 12s 96ms/step - loss: 0.0712 - mae: 0.2124 - val_loss: 0.1108 - val_mae: 0.2647\n"
          ],
          "name": "stdout"
        },
        {
          "output_type": "display_data",
          "data": {
            "text/html": [
              "<span style=\"color:#4527A0\"><h1 style=\"font-size:18px\">Trial complete</h1></span>"
            ],
            "text/plain": [
              "<IPython.core.display.HTML object>"
            ]
          },
          "metadata": {
            "tags": []
          }
        },
        {
          "output_type": "display_data",
          "data": {
            "text/html": [
              "<span style=\"color:#4527A0\"><h1 style=\"font-size:18px\">Trial summary</h1></span>"
            ],
            "text/plain": [
              "<IPython.core.display.HTML object>"
            ]
          },
          "metadata": {
            "tags": []
          }
        },
        {
          "output_type": "display_data",
          "data": {
            "text/html": [
              "<span style=\"color:cyan\"> |-Trial ID: 8630dafc6ce4b5bb286ad2c1308559da</span>"
            ],
            "text/plain": [
              "<IPython.core.display.HTML object>"
            ]
          },
          "metadata": {
            "tags": []
          }
        },
        {
          "output_type": "display_data",
          "data": {
            "text/html": [
              "<span style=\"color:cyan\"> |-Score: 0.11660102009773254</span>"
            ],
            "text/plain": [
              "<IPython.core.display.HTML object>"
            ]
          },
          "metadata": {
            "tags": []
          }
        },
        {
          "output_type": "display_data",
          "data": {
            "text/html": [
              "<span style=\"color:cyan\"> |-Best step: 0</span>"
            ],
            "text/plain": [
              "<IPython.core.display.HTML object>"
            ]
          },
          "metadata": {
            "tags": []
          }
        },
        {
          "output_type": "display_data",
          "data": {
            "text/html": [
              "<span style=\"color:#7E57C2\"><h2 style=\"font-size:16px\">Hyperparameters:</h2></span>"
            ],
            "text/plain": [
              "<IPython.core.display.HTML object>"
            ]
          },
          "metadata": {
            "tags": []
          }
        },
        {
          "output_type": "display_data",
          "data": {
            "text/html": [
              "<span style=\"color:cyan\"> |-filters: 128</span>"
            ],
            "text/plain": [
              "<IPython.core.display.HTML object>"
            ]
          },
          "metadata": {
            "tags": []
          }
        },
        {
          "output_type": "display_data",
          "data": {
            "text/html": [
              "<span style=\"color:blue\"> |-learning_rate: 0.0001</span>"
            ],
            "text/plain": [
              "<IPython.core.display.HTML object>"
            ]
          },
          "metadata": {
            "tags": []
          }
        },
        {
          "output_type": "display_data",
          "data": {
            "text/html": [
              "<span style=\"color:cyan\"> |-units: 256</span>"
            ],
            "text/plain": [
              "<IPython.core.display.HTML object>"
            ]
          },
          "metadata": {
            "tags": []
          }
        },
        {
          "output_type": "stream",
          "text": [
            "Epoch 1/10\n",
            "125/125 [==============================] - 4s 28ms/step - loss: 12.9444 - mae: 0.9290 - val_loss: 0.1874 - val_mae: 0.3606\n",
            "Epoch 2/10\n",
            "125/125 [==============================] - 3s 28ms/step - loss: 0.1755 - mae: 0.3532 - val_loss: 0.1663 - val_mae: 0.3378\n",
            "Epoch 3/10\n",
            "125/125 [==============================] - 4s 28ms/step - loss: 0.1677 - mae: 0.3376 - val_loss: 0.1727 - val_mae: 0.3454\n",
            "Epoch 4/10\n",
            "125/125 [==============================] - 3s 28ms/step - loss: 0.1657 - mae: 0.3345 - val_loss: 0.1506 - val_mae: 0.3236\n",
            "Epoch 5/10\n",
            "125/125 [==============================] - 3s 28ms/step - loss: 0.1345 - mae: 0.3021 - val_loss: 0.2112 - val_mae: 0.3755\n",
            "Epoch 6/10\n",
            "125/125 [==============================] - 4s 29ms/step - loss: 0.1273 - mae: 0.2896 - val_loss: 0.1621 - val_mae: 0.3262\n",
            "Epoch 7/10\n",
            "125/125 [==============================] - 4s 28ms/step - loss: 0.1118 - mae: 0.2723 - val_loss: 0.1458 - val_mae: 0.3121\n",
            "Epoch 8/10\n",
            "125/125 [==============================] - 3s 28ms/step - loss: 0.1093 - mae: 0.2654 - val_loss: 0.1994 - val_mae: 0.3681\n",
            "Epoch 9/10\n",
            "125/125 [==============================] - 4s 28ms/step - loss: 0.1195 - mae: 0.2787 - val_loss: 0.2182 - val_mae: 0.3737\n",
            "Epoch 10/10\n",
            "125/125 [==============================] - 4s 29ms/step - loss: 0.1015 - mae: 0.2557 - val_loss: 0.1672 - val_mae: 0.3249\n",
            "Epoch 1/10\n",
            "125/125 [==============================] - 4s 30ms/step - loss: 11.9266 - mae: 0.8957 - val_loss: 0.1798 - val_mae: 0.3631\n",
            "Epoch 2/10\n",
            "125/125 [==============================] - 4s 29ms/step - loss: 0.1843 - mae: 0.3602 - val_loss: 0.2603 - val_mae: 0.4130\n",
            "Epoch 3/10\n",
            "125/125 [==============================] - 4s 29ms/step - loss: 0.1565 - mae: 0.3297 - val_loss: 0.2106 - val_mae: 0.3863\n",
            "Epoch 4/10\n",
            "125/125 [==============================] - 4s 30ms/step - loss: 0.1403 - mae: 0.3109 - val_loss: 0.1507 - val_mae: 0.3225\n",
            "Epoch 5/10\n",
            "125/125 [==============================] - 4s 30ms/step - loss: 0.1229 - mae: 0.2879 - val_loss: 0.1668 - val_mae: 0.3242\n",
            "Epoch 6/10\n",
            "125/125 [==============================] - 4s 29ms/step - loss: 0.1134 - mae: 0.2746 - val_loss: 0.1680 - val_mae: 0.3364\n",
            "Epoch 7/10\n",
            "125/125 [==============================] - 4s 29ms/step - loss: 0.1029 - mae: 0.2593 - val_loss: 0.1887 - val_mae: 0.3506\n",
            "Epoch 8/10\n",
            "125/125 [==============================] - 4s 28ms/step - loss: 0.0950 - mae: 0.2479 - val_loss: 0.1676 - val_mae: 0.3334\n",
            "Epoch 9/10\n",
            "125/125 [==============================] - 4s 28ms/step - loss: 0.0899 - mae: 0.2406 - val_loss: 0.1500 - val_mae: 0.3081\n",
            "Epoch 10/10\n",
            "125/125 [==============================] - 4s 29ms/step - loss: 0.0866 - mae: 0.2352 - val_loss: 0.1432 - val_mae: 0.3115\n"
          ],
          "name": "stdout"
        },
        {
          "output_type": "display_data",
          "data": {
            "text/html": [
              "<span style=\"color:#4527A0\"><h1 style=\"font-size:18px\">Trial complete</h1></span>"
            ],
            "text/plain": [
              "<IPython.core.display.HTML object>"
            ]
          },
          "metadata": {
            "tags": []
          }
        },
        {
          "output_type": "display_data",
          "data": {
            "text/html": [
              "<span style=\"color:#4527A0\"><h1 style=\"font-size:18px\">Trial summary</h1></span>"
            ],
            "text/plain": [
              "<IPython.core.display.HTML object>"
            ]
          },
          "metadata": {
            "tags": []
          }
        },
        {
          "output_type": "display_data",
          "data": {
            "text/html": [
              "<span style=\"color:cyan\"> |-Trial ID: 6db5532db57e287e8c724ba1b9619be9</span>"
            ],
            "text/plain": [
              "<IPython.core.display.HTML object>"
            ]
          },
          "metadata": {
            "tags": []
          }
        },
        {
          "output_type": "display_data",
          "data": {
            "text/html": [
              "<span style=\"color:cyan\"> |-Score: 0.14450177550315857</span>"
            ],
            "text/plain": [
              "<IPython.core.display.HTML object>"
            ]
          },
          "metadata": {
            "tags": []
          }
        },
        {
          "output_type": "display_data",
          "data": {
            "text/html": [
              "<span style=\"color:cyan\"> |-Best step: 0</span>"
            ],
            "text/plain": [
              "<IPython.core.display.HTML object>"
            ]
          },
          "metadata": {
            "tags": []
          }
        },
        {
          "output_type": "display_data",
          "data": {
            "text/html": [
              "<span style=\"color:#7E57C2\"><h2 style=\"font-size:16px\">Hyperparameters:</h2></span>"
            ],
            "text/plain": [
              "<IPython.core.display.HTML object>"
            ]
          },
          "metadata": {
            "tags": []
          }
        },
        {
          "output_type": "display_data",
          "data": {
            "text/html": [
              "<span style=\"color:cyan\"> |-filters: 64</span>"
            ],
            "text/plain": [
              "<IPython.core.display.HTML object>"
            ]
          },
          "metadata": {
            "tags": []
          }
        },
        {
          "output_type": "display_data",
          "data": {
            "text/html": [
              "<span style=\"color:blue\"> |-learning_rate: 0.01</span>"
            ],
            "text/plain": [
              "<IPython.core.display.HTML object>"
            ]
          },
          "metadata": {
            "tags": []
          }
        },
        {
          "output_type": "display_data",
          "data": {
            "text/html": [
              "<span style=\"color:cyan\"> |-units: 64</span>"
            ],
            "text/plain": [
              "<IPython.core.display.HTML object>"
            ]
          },
          "metadata": {
            "tags": []
          }
        },
        {
          "output_type": "stream",
          "text": [
            "Epoch 1/10\n",
            "125/125 [==============================] - 7s 58ms/step - loss: 2.1036 - mae: 0.6851 - val_loss: 0.2018 - val_mae: 0.3899\n",
            "Epoch 2/10\n",
            "125/125 [==============================] - 7s 57ms/step - loss: 0.1942 - mae: 0.3805 - val_loss: 0.1929 - val_mae: 0.3773\n",
            "Epoch 3/10\n",
            "125/125 [==============================] - 7s 57ms/step - loss: 0.1821 - mae: 0.3651 - val_loss: 0.1897 - val_mae: 0.3724\n",
            "Epoch 4/10\n",
            "125/125 [==============================] - 7s 56ms/step - loss: 0.1734 - mae: 0.3539 - val_loss: 0.1801 - val_mae: 0.3574\n",
            "Epoch 5/10\n",
            "125/125 [==============================] - 7s 56ms/step - loss: 0.1580 - mae: 0.3374 - val_loss: 0.1711 - val_mae: 0.3493\n",
            "Epoch 6/10\n",
            "125/125 [==============================] - 7s 57ms/step - loss: 0.1498 - mae: 0.3267 - val_loss: 0.1714 - val_mae: 0.3519\n",
            "Epoch 7/10\n",
            "125/125 [==============================] - 7s 56ms/step - loss: 0.1438 - mae: 0.3149 - val_loss: 0.1703 - val_mae: 0.3439\n",
            "Epoch 8/10\n",
            "125/125 [==============================] - 7s 57ms/step - loss: 0.1312 - mae: 0.3011 - val_loss: 0.1579 - val_mae: 0.3316\n",
            "Epoch 9/10\n",
            "125/125 [==============================] - 7s 56ms/step - loss: 0.1201 - mae: 0.2858 - val_loss: 0.1527 - val_mae: 0.3267\n",
            "Epoch 10/10\n",
            "125/125 [==============================] - 7s 57ms/step - loss: 0.1131 - mae: 0.2761 - val_loss: 0.1559 - val_mae: 0.3245\n",
            "Epoch 1/10\n",
            "125/125 [==============================] - 7s 57ms/step - loss: 1.7658 - mae: 0.7242 - val_loss: 0.2177 - val_mae: 0.4033\n",
            "Epoch 2/10\n",
            "125/125 [==============================] - 7s 56ms/step - loss: 0.1965 - mae: 0.3837 - val_loss: 0.1945 - val_mae: 0.3786\n",
            "Epoch 3/10\n",
            "125/125 [==============================] - 7s 56ms/step - loss: 0.1740 - mae: 0.3560 - val_loss: 0.1769 - val_mae: 0.3548\n",
            "Epoch 4/10\n",
            "125/125 [==============================] - 7s 57ms/step - loss: 0.1598 - mae: 0.3369 - val_loss: 0.1818 - val_mae: 0.3504\n",
            "Epoch 5/10\n",
            "125/125 [==============================] - 7s 57ms/step - loss: 0.1536 - mae: 0.3278 - val_loss: 0.1614 - val_mae: 0.3338\n",
            "Epoch 6/10\n",
            "125/125 [==============================] - 7s 56ms/step - loss: 0.1375 - mae: 0.3082 - val_loss: 0.1583 - val_mae: 0.3342\n",
            "Epoch 7/10\n",
            "125/125 [==============================] - 7s 57ms/step - loss: 0.1289 - mae: 0.2967 - val_loss: 0.1516 - val_mae: 0.3193\n",
            "Epoch 8/10\n",
            "125/125 [==============================] - 7s 57ms/step - loss: 0.1244 - mae: 0.2889 - val_loss: 0.1568 - val_mae: 0.3293\n",
            "Epoch 9/10\n",
            "125/125 [==============================] - 7s 57ms/step - loss: 0.1082 - mae: 0.2677 - val_loss: 0.1424 - val_mae: 0.2970\n",
            "Epoch 10/10\n",
            "125/125 [==============================] - 7s 57ms/step - loss: 0.1001 - mae: 0.2564 - val_loss: 0.1373 - val_mae: 0.2915\n"
          ],
          "name": "stdout"
        },
        {
          "output_type": "display_data",
          "data": {
            "text/html": [
              "<span style=\"color:#4527A0\"><h1 style=\"font-size:18px\">Trial complete</h1></span>"
            ],
            "text/plain": [
              "<IPython.core.display.HTML object>"
            ]
          },
          "metadata": {
            "tags": []
          }
        },
        {
          "output_type": "display_data",
          "data": {
            "text/html": [
              "<span style=\"color:#4527A0\"><h1 style=\"font-size:18px\">Trial summary</h1></span>"
            ],
            "text/plain": [
              "<IPython.core.display.HTML object>"
            ]
          },
          "metadata": {
            "tags": []
          }
        },
        {
          "output_type": "display_data",
          "data": {
            "text/html": [
              "<span style=\"color:cyan\"> |-Trial ID: 772578b4a4458751d77ff5f8b5cea02a</span>"
            ],
            "text/plain": [
              "<IPython.core.display.HTML object>"
            ]
          },
          "metadata": {
            "tags": []
          }
        },
        {
          "output_type": "display_data",
          "data": {
            "text/html": [
              "<span style=\"color:cyan\"> |-Score: 0.14497549831867218</span>"
            ],
            "text/plain": [
              "<IPython.core.display.HTML object>"
            ]
          },
          "metadata": {
            "tags": []
          }
        },
        {
          "output_type": "display_data",
          "data": {
            "text/html": [
              "<span style=\"color:cyan\"> |-Best step: 0</span>"
            ],
            "text/plain": [
              "<IPython.core.display.HTML object>"
            ]
          },
          "metadata": {
            "tags": []
          }
        },
        {
          "output_type": "display_data",
          "data": {
            "text/html": [
              "<span style=\"color:#7E57C2\"><h2 style=\"font-size:16px\">Hyperparameters:</h2></span>"
            ],
            "text/plain": [
              "<IPython.core.display.HTML object>"
            ]
          },
          "metadata": {
            "tags": []
          }
        },
        {
          "output_type": "display_data",
          "data": {
            "text/html": [
              "<span style=\"color:cyan\"> |-filters: 64</span>"
            ],
            "text/plain": [
              "<IPython.core.display.HTML object>"
            ]
          },
          "metadata": {
            "tags": []
          }
        },
        {
          "output_type": "display_data",
          "data": {
            "text/html": [
              "<span style=\"color:blue\"> |-learning_rate: 0.001</span>"
            ],
            "text/plain": [
              "<IPython.core.display.HTML object>"
            ]
          },
          "metadata": {
            "tags": []
          }
        },
        {
          "output_type": "display_data",
          "data": {
            "text/html": [
              "<span style=\"color:cyan\"> |-units: 288</span>"
            ],
            "text/plain": [
              "<IPython.core.display.HTML object>"
            ]
          },
          "metadata": {
            "tags": []
          }
        },
        {
          "output_type": "stream",
          "text": [
            "INFO:tensorflow:Oracle triggered exit\n"
          ],
          "name": "stdout"
        }
      ]
    },
    {
      "cell_type": "code",
      "metadata": {
        "id": "rpYem2vERGV6",
        "colab_type": "code",
        "outputId": "5ba0b4b1-f034-4bba-8802-884a48842023",
        "colab": {
          "base_uri": "https://localhost:8080/",
          "height": 1000
        }
      },
      "source": [
        "# Results\n",
        "tuner.results_summary()"
      ],
      "execution_count": 0,
      "outputs": [
        {
          "output_type": "display_data",
          "data": {
            "text/html": [
              "<span style=\"color:#4527A0\"><h1 style=\"font-size:18px\">Results summary</h1></span>"
            ],
            "text/plain": [
              "<IPython.core.display.HTML object>"
            ]
          },
          "metadata": {
            "tags": []
          }
        },
        {
          "output_type": "display_data",
          "data": {
            "text/html": [
              "<span style=\"color:cyan\"> |-Results in ottim_dir/untitled_project</span>"
            ],
            "text/plain": [
              "<IPython.core.display.HTML object>"
            ]
          },
          "metadata": {
            "tags": []
          }
        },
        {
          "output_type": "display_data",
          "data": {
            "text/html": [
              "<span style=\"color:cyan\"> |-Showing 10 best trials</span>"
            ],
            "text/plain": [
              "<IPython.core.display.HTML object>"
            ]
          },
          "metadata": {
            "tags": []
          }
        },
        {
          "output_type": "display_data",
          "data": {
            "text/html": [
              "<span style=\"color:cyan\"> |-Objective(name='val_loss', direction='min')</span>"
            ],
            "text/plain": [
              "<IPython.core.display.HTML object>"
            ]
          },
          "metadata": {
            "tags": []
          }
        },
        {
          "output_type": "display_data",
          "data": {
            "text/html": [
              "<span style=\"color:#4527A0\"><h1 style=\"font-size:18px\">Trial summary</h1></span>"
            ],
            "text/plain": [
              "<IPython.core.display.HTML object>"
            ]
          },
          "metadata": {
            "tags": []
          }
        },
        {
          "output_type": "display_data",
          "data": {
            "text/html": [
              "<span style=\"color:cyan\"> |-Trial ID: 2ee993e4f4d6292d15641c7db56ac007</span>"
            ],
            "text/plain": [
              "<IPython.core.display.HTML object>"
            ]
          },
          "metadata": {
            "tags": []
          }
        },
        {
          "output_type": "display_data",
          "data": {
            "text/html": [
              "<span style=\"color:cyan\"> |-Score: 0.10989952087402344</span>"
            ],
            "text/plain": [
              "<IPython.core.display.HTML object>"
            ]
          },
          "metadata": {
            "tags": []
          }
        },
        {
          "output_type": "display_data",
          "data": {
            "text/html": [
              "<span style=\"color:cyan\"> |-Best step: 0</span>"
            ],
            "text/plain": [
              "<IPython.core.display.HTML object>"
            ]
          },
          "metadata": {
            "tags": []
          }
        },
        {
          "output_type": "display_data",
          "data": {
            "text/html": [
              "<span style=\"color:#7E57C2\"><h2 style=\"font-size:16px\">Hyperparameters:</h2></span>"
            ],
            "text/plain": [
              "<IPython.core.display.HTML object>"
            ]
          },
          "metadata": {
            "tags": []
          }
        },
        {
          "output_type": "display_data",
          "data": {
            "text/html": [
              "<span style=\"color:cyan\"> |-filters: 96</span>"
            ],
            "text/plain": [
              "<IPython.core.display.HTML object>"
            ]
          },
          "metadata": {
            "tags": []
          }
        },
        {
          "output_type": "display_data",
          "data": {
            "text/html": [
              "<span style=\"color:blue\"> |-learning_rate: 0.0001</span>"
            ],
            "text/plain": [
              "<IPython.core.display.HTML object>"
            ]
          },
          "metadata": {
            "tags": []
          }
        },
        {
          "output_type": "display_data",
          "data": {
            "text/html": [
              "<span style=\"color:cyan\"> |-units: 256</span>"
            ],
            "text/plain": [
              "<IPython.core.display.HTML object>"
            ]
          },
          "metadata": {
            "tags": []
          }
        },
        {
          "output_type": "display_data",
          "data": {
            "text/html": [
              "<span style=\"color:#4527A0\"><h1 style=\"font-size:18px\">Trial summary</h1></span>"
            ],
            "text/plain": [
              "<IPython.core.display.HTML object>"
            ]
          },
          "metadata": {
            "tags": []
          }
        },
        {
          "output_type": "display_data",
          "data": {
            "text/html": [
              "<span style=\"color:cyan\"> |-Trial ID: 2ff5d54f81f2842e0e9683249eaa07c1</span>"
            ],
            "text/plain": [
              "<IPython.core.display.HTML object>"
            ]
          },
          "metadata": {
            "tags": []
          }
        },
        {
          "output_type": "display_data",
          "data": {
            "text/html": [
              "<span style=\"color:cyan\"> |-Score: 0.11185642331838608</span>"
            ],
            "text/plain": [
              "<IPython.core.display.HTML object>"
            ]
          },
          "metadata": {
            "tags": []
          }
        },
        {
          "output_type": "display_data",
          "data": {
            "text/html": [
              "<span style=\"color:cyan\"> |-Best step: 0</span>"
            ],
            "text/plain": [
              "<IPython.core.display.HTML object>"
            ]
          },
          "metadata": {
            "tags": []
          }
        },
        {
          "output_type": "display_data",
          "data": {
            "text/html": [
              "<span style=\"color:#7E57C2\"><h2 style=\"font-size:16px\">Hyperparameters:</h2></span>"
            ],
            "text/plain": [
              "<IPython.core.display.HTML object>"
            ]
          },
          "metadata": {
            "tags": []
          }
        },
        {
          "output_type": "display_data",
          "data": {
            "text/html": [
              "<span style=\"color:cyan\"> |-filters: 64</span>"
            ],
            "text/plain": [
              "<IPython.core.display.HTML object>"
            ]
          },
          "metadata": {
            "tags": []
          }
        },
        {
          "output_type": "display_data",
          "data": {
            "text/html": [
              "<span style=\"color:blue\"> |-learning_rate: 0.0001</span>"
            ],
            "text/plain": [
              "<IPython.core.display.HTML object>"
            ]
          },
          "metadata": {
            "tags": []
          }
        },
        {
          "output_type": "display_data",
          "data": {
            "text/html": [
              "<span style=\"color:cyan\"> |-units: 256</span>"
            ],
            "text/plain": [
              "<IPython.core.display.HTML object>"
            ]
          },
          "metadata": {
            "tags": []
          }
        },
        {
          "output_type": "display_data",
          "data": {
            "text/html": [
              "<span style=\"color:#4527A0\"><h1 style=\"font-size:18px\">Trial summary</h1></span>"
            ],
            "text/plain": [
              "<IPython.core.display.HTML object>"
            ]
          },
          "metadata": {
            "tags": []
          }
        },
        {
          "output_type": "display_data",
          "data": {
            "text/html": [
              "<span style=\"color:cyan\"> |-Trial ID: 432529f5e2bb91a0765f78aab8aa27e2</span>"
            ],
            "text/plain": [
              "<IPython.core.display.HTML object>"
            ]
          },
          "metadata": {
            "tags": []
          }
        },
        {
          "output_type": "display_data",
          "data": {
            "text/html": [
              "<span style=\"color:cyan\"> |-Score: 0.11316719278693199</span>"
            ],
            "text/plain": [
              "<IPython.core.display.HTML object>"
            ]
          },
          "metadata": {
            "tags": []
          }
        },
        {
          "output_type": "display_data",
          "data": {
            "text/html": [
              "<span style=\"color:cyan\"> |-Best step: 0</span>"
            ],
            "text/plain": [
              "<IPython.core.display.HTML object>"
            ]
          },
          "metadata": {
            "tags": []
          }
        },
        {
          "output_type": "display_data",
          "data": {
            "text/html": [
              "<span style=\"color:#7E57C2\"><h2 style=\"font-size:16px\">Hyperparameters:</h2></span>"
            ],
            "text/plain": [
              "<IPython.core.display.HTML object>"
            ]
          },
          "metadata": {
            "tags": []
          }
        },
        {
          "output_type": "display_data",
          "data": {
            "text/html": [
              "<span style=\"color:cyan\"> |-filters: 64</span>"
            ],
            "text/plain": [
              "<IPython.core.display.HTML object>"
            ]
          },
          "metadata": {
            "tags": []
          }
        },
        {
          "output_type": "display_data",
          "data": {
            "text/html": [
              "<span style=\"color:blue\"> |-learning_rate: 0.0001</span>"
            ],
            "text/plain": [
              "<IPython.core.display.HTML object>"
            ]
          },
          "metadata": {
            "tags": []
          }
        },
        {
          "output_type": "display_data",
          "data": {
            "text/html": [
              "<span style=\"color:cyan\"> |-units: 320</span>"
            ],
            "text/plain": [
              "<IPython.core.display.HTML object>"
            ]
          },
          "metadata": {
            "tags": []
          }
        },
        {
          "output_type": "display_data",
          "data": {
            "text/html": [
              "<span style=\"color:#4527A0\"><h1 style=\"font-size:18px\">Trial summary</h1></span>"
            ],
            "text/plain": [
              "<IPython.core.display.HTML object>"
            ]
          },
          "metadata": {
            "tags": []
          }
        },
        {
          "output_type": "display_data",
          "data": {
            "text/html": [
              "<span style=\"color:cyan\"> |-Trial ID: 8630dafc6ce4b5bb286ad2c1308559da</span>"
            ],
            "text/plain": [
              "<IPython.core.display.HTML object>"
            ]
          },
          "metadata": {
            "tags": []
          }
        },
        {
          "output_type": "display_data",
          "data": {
            "text/html": [
              "<span style=\"color:cyan\"> |-Score: 0.11660102009773254</span>"
            ],
            "text/plain": [
              "<IPython.core.display.HTML object>"
            ]
          },
          "metadata": {
            "tags": []
          }
        },
        {
          "output_type": "display_data",
          "data": {
            "text/html": [
              "<span style=\"color:cyan\"> |-Best step: 0</span>"
            ],
            "text/plain": [
              "<IPython.core.display.HTML object>"
            ]
          },
          "metadata": {
            "tags": []
          }
        },
        {
          "output_type": "display_data",
          "data": {
            "text/html": [
              "<span style=\"color:#7E57C2\"><h2 style=\"font-size:16px\">Hyperparameters:</h2></span>"
            ],
            "text/plain": [
              "<IPython.core.display.HTML object>"
            ]
          },
          "metadata": {
            "tags": []
          }
        },
        {
          "output_type": "display_data",
          "data": {
            "text/html": [
              "<span style=\"color:cyan\"> |-filters: 128</span>"
            ],
            "text/plain": [
              "<IPython.core.display.HTML object>"
            ]
          },
          "metadata": {
            "tags": []
          }
        },
        {
          "output_type": "display_data",
          "data": {
            "text/html": [
              "<span style=\"color:blue\"> |-learning_rate: 0.0001</span>"
            ],
            "text/plain": [
              "<IPython.core.display.HTML object>"
            ]
          },
          "metadata": {
            "tags": []
          }
        },
        {
          "output_type": "display_data",
          "data": {
            "text/html": [
              "<span style=\"color:cyan\"> |-units: 256</span>"
            ],
            "text/plain": [
              "<IPython.core.display.HTML object>"
            ]
          },
          "metadata": {
            "tags": []
          }
        },
        {
          "output_type": "display_data",
          "data": {
            "text/html": [
              "<span style=\"color:#4527A0\"><h1 style=\"font-size:18px\">Trial summary</h1></span>"
            ],
            "text/plain": [
              "<IPython.core.display.HTML object>"
            ]
          },
          "metadata": {
            "tags": []
          }
        },
        {
          "output_type": "display_data",
          "data": {
            "text/html": [
              "<span style=\"color:cyan\"> |-Trial ID: a6f9c95dfba69045d440d4d5341ff17e</span>"
            ],
            "text/plain": [
              "<IPython.core.display.HTML object>"
            ]
          },
          "metadata": {
            "tags": []
          }
        },
        {
          "output_type": "display_data",
          "data": {
            "text/html": [
              "<span style=\"color:cyan\"> |-Score: 0.11895919591188431</span>"
            ],
            "text/plain": [
              "<IPython.core.display.HTML object>"
            ]
          },
          "metadata": {
            "tags": []
          }
        },
        {
          "output_type": "display_data",
          "data": {
            "text/html": [
              "<span style=\"color:cyan\"> |-Best step: 0</span>"
            ],
            "text/plain": [
              "<IPython.core.display.HTML object>"
            ]
          },
          "metadata": {
            "tags": []
          }
        },
        {
          "output_type": "display_data",
          "data": {
            "text/html": [
              "<span style=\"color:#7E57C2\"><h2 style=\"font-size:16px\">Hyperparameters:</h2></span>"
            ],
            "text/plain": [
              "<IPython.core.display.HTML object>"
            ]
          },
          "metadata": {
            "tags": []
          }
        },
        {
          "output_type": "display_data",
          "data": {
            "text/html": [
              "<span style=\"color:cyan\"> |-filters: 64</span>"
            ],
            "text/plain": [
              "<IPython.core.display.HTML object>"
            ]
          },
          "metadata": {
            "tags": []
          }
        },
        {
          "output_type": "display_data",
          "data": {
            "text/html": [
              "<span style=\"color:blue\"> |-learning_rate: 0.01</span>"
            ],
            "text/plain": [
              "<IPython.core.display.HTML object>"
            ]
          },
          "metadata": {
            "tags": []
          }
        },
        {
          "output_type": "display_data",
          "data": {
            "text/html": [
              "<span style=\"color:cyan\"> |-units: 352</span>"
            ],
            "text/plain": [
              "<IPython.core.display.HTML object>"
            ]
          },
          "metadata": {
            "tags": []
          }
        },
        {
          "output_type": "display_data",
          "data": {
            "text/html": [
              "<span style=\"color:#4527A0\"><h1 style=\"font-size:18px\">Trial summary</h1></span>"
            ],
            "text/plain": [
              "<IPython.core.display.HTML object>"
            ]
          },
          "metadata": {
            "tags": []
          }
        },
        {
          "output_type": "display_data",
          "data": {
            "text/html": [
              "<span style=\"color:cyan\"> |-Trial ID: 5a9d5c8ce0fbd16e791a7a9df12ad1b7</span>"
            ],
            "text/plain": [
              "<IPython.core.display.HTML object>"
            ]
          },
          "metadata": {
            "tags": []
          }
        },
        {
          "output_type": "display_data",
          "data": {
            "text/html": [
              "<span style=\"color:cyan\"> |-Score: 0.12701772525906563</span>"
            ],
            "text/plain": [
              "<IPython.core.display.HTML object>"
            ]
          },
          "metadata": {
            "tags": []
          }
        },
        {
          "output_type": "display_data",
          "data": {
            "text/html": [
              "<span style=\"color:cyan\"> |-Best step: 0</span>"
            ],
            "text/plain": [
              "<IPython.core.display.HTML object>"
            ]
          },
          "metadata": {
            "tags": []
          }
        },
        {
          "output_type": "display_data",
          "data": {
            "text/html": [
              "<span style=\"color:#7E57C2\"><h2 style=\"font-size:16px\">Hyperparameters:</h2></span>"
            ],
            "text/plain": [
              "<IPython.core.display.HTML object>"
            ]
          },
          "metadata": {
            "tags": []
          }
        },
        {
          "output_type": "display_data",
          "data": {
            "text/html": [
              "<span style=\"color:cyan\"> |-filters: 96</span>"
            ],
            "text/plain": [
              "<IPython.core.display.HTML object>"
            ]
          },
          "metadata": {
            "tags": []
          }
        },
        {
          "output_type": "display_data",
          "data": {
            "text/html": [
              "<span style=\"color:blue\"> |-learning_rate: 0.001</span>"
            ],
            "text/plain": [
              "<IPython.core.display.HTML object>"
            ]
          },
          "metadata": {
            "tags": []
          }
        },
        {
          "output_type": "display_data",
          "data": {
            "text/html": [
              "<span style=\"color:cyan\"> |-units: 384</span>"
            ],
            "text/plain": [
              "<IPython.core.display.HTML object>"
            ]
          },
          "metadata": {
            "tags": []
          }
        },
        {
          "output_type": "display_data",
          "data": {
            "text/html": [
              "<span style=\"color:#4527A0\"><h1 style=\"font-size:18px\">Trial summary</h1></span>"
            ],
            "text/plain": [
              "<IPython.core.display.HTML object>"
            ]
          },
          "metadata": {
            "tags": []
          }
        },
        {
          "output_type": "display_data",
          "data": {
            "text/html": [
              "<span style=\"color:cyan\"> |-Trial ID: 3b25ec76c1452bb27a0b7a54378510e1</span>"
            ],
            "text/plain": [
              "<IPython.core.display.HTML object>"
            ]
          },
          "metadata": {
            "tags": []
          }
        },
        {
          "output_type": "display_data",
          "data": {
            "text/html": [
              "<span style=\"color:cyan\"> |-Score: 0.13662061467766762</span>"
            ],
            "text/plain": [
              "<IPython.core.display.HTML object>"
            ]
          },
          "metadata": {
            "tags": []
          }
        },
        {
          "output_type": "display_data",
          "data": {
            "text/html": [
              "<span style=\"color:cyan\"> |-Best step: 0</span>"
            ],
            "text/plain": [
              "<IPython.core.display.HTML object>"
            ]
          },
          "metadata": {
            "tags": []
          }
        },
        {
          "output_type": "display_data",
          "data": {
            "text/html": [
              "<span style=\"color:#7E57C2\"><h2 style=\"font-size:16px\">Hyperparameters:</h2></span>"
            ],
            "text/plain": [
              "<IPython.core.display.HTML object>"
            ]
          },
          "metadata": {
            "tags": []
          }
        },
        {
          "output_type": "display_data",
          "data": {
            "text/html": [
              "<span style=\"color:cyan\"> |-filters: 128</span>"
            ],
            "text/plain": [
              "<IPython.core.display.HTML object>"
            ]
          },
          "metadata": {
            "tags": []
          }
        },
        {
          "output_type": "display_data",
          "data": {
            "text/html": [
              "<span style=\"color:blue\"> |-learning_rate: 0.01</span>"
            ],
            "text/plain": [
              "<IPython.core.display.HTML object>"
            ]
          },
          "metadata": {
            "tags": []
          }
        },
        {
          "output_type": "display_data",
          "data": {
            "text/html": [
              "<span style=\"color:cyan\"> |-units: 160</span>"
            ],
            "text/plain": [
              "<IPython.core.display.HTML object>"
            ]
          },
          "metadata": {
            "tags": []
          }
        },
        {
          "output_type": "display_data",
          "data": {
            "text/html": [
              "<span style=\"color:#4527A0\"><h1 style=\"font-size:18px\">Trial summary</h1></span>"
            ],
            "text/plain": [
              "<IPython.core.display.HTML object>"
            ]
          },
          "metadata": {
            "tags": []
          }
        },
        {
          "output_type": "display_data",
          "data": {
            "text/html": [
              "<span style=\"color:cyan\"> |-Trial ID: 6db5532db57e287e8c724ba1b9619be9</span>"
            ],
            "text/plain": [
              "<IPython.core.display.HTML object>"
            ]
          },
          "metadata": {
            "tags": []
          }
        },
        {
          "output_type": "display_data",
          "data": {
            "text/html": [
              "<span style=\"color:cyan\"> |-Score: 0.14450177550315857</span>"
            ],
            "text/plain": [
              "<IPython.core.display.HTML object>"
            ]
          },
          "metadata": {
            "tags": []
          }
        },
        {
          "output_type": "display_data",
          "data": {
            "text/html": [
              "<span style=\"color:cyan\"> |-Best step: 0</span>"
            ],
            "text/plain": [
              "<IPython.core.display.HTML object>"
            ]
          },
          "metadata": {
            "tags": []
          }
        },
        {
          "output_type": "display_data",
          "data": {
            "text/html": [
              "<span style=\"color:#7E57C2\"><h2 style=\"font-size:16px\">Hyperparameters:</h2></span>"
            ],
            "text/plain": [
              "<IPython.core.display.HTML object>"
            ]
          },
          "metadata": {
            "tags": []
          }
        },
        {
          "output_type": "display_data",
          "data": {
            "text/html": [
              "<span style=\"color:cyan\"> |-filters: 64</span>"
            ],
            "text/plain": [
              "<IPython.core.display.HTML object>"
            ]
          },
          "metadata": {
            "tags": []
          }
        },
        {
          "output_type": "display_data",
          "data": {
            "text/html": [
              "<span style=\"color:blue\"> |-learning_rate: 0.01</span>"
            ],
            "text/plain": [
              "<IPython.core.display.HTML object>"
            ]
          },
          "metadata": {
            "tags": []
          }
        },
        {
          "output_type": "display_data",
          "data": {
            "text/html": [
              "<span style=\"color:cyan\"> |-units: 64</span>"
            ],
            "text/plain": [
              "<IPython.core.display.HTML object>"
            ]
          },
          "metadata": {
            "tags": []
          }
        },
        {
          "output_type": "display_data",
          "data": {
            "text/html": [
              "<span style=\"color:#4527A0\"><h1 style=\"font-size:18px\">Trial summary</h1></span>"
            ],
            "text/plain": [
              "<IPython.core.display.HTML object>"
            ]
          },
          "metadata": {
            "tags": []
          }
        },
        {
          "output_type": "display_data",
          "data": {
            "text/html": [
              "<span style=\"color:cyan\"> |-Trial ID: 772578b4a4458751d77ff5f8b5cea02a</span>"
            ],
            "text/plain": [
              "<IPython.core.display.HTML object>"
            ]
          },
          "metadata": {
            "tags": []
          }
        },
        {
          "output_type": "display_data",
          "data": {
            "text/html": [
              "<span style=\"color:cyan\"> |-Score: 0.14497549831867218</span>"
            ],
            "text/plain": [
              "<IPython.core.display.HTML object>"
            ]
          },
          "metadata": {
            "tags": []
          }
        },
        {
          "output_type": "display_data",
          "data": {
            "text/html": [
              "<span style=\"color:cyan\"> |-Best step: 0</span>"
            ],
            "text/plain": [
              "<IPython.core.display.HTML object>"
            ]
          },
          "metadata": {
            "tags": []
          }
        },
        {
          "output_type": "display_data",
          "data": {
            "text/html": [
              "<span style=\"color:#7E57C2\"><h2 style=\"font-size:16px\">Hyperparameters:</h2></span>"
            ],
            "text/plain": [
              "<IPython.core.display.HTML object>"
            ]
          },
          "metadata": {
            "tags": []
          }
        },
        {
          "output_type": "display_data",
          "data": {
            "text/html": [
              "<span style=\"color:cyan\"> |-filters: 64</span>"
            ],
            "text/plain": [
              "<IPython.core.display.HTML object>"
            ]
          },
          "metadata": {
            "tags": []
          }
        },
        {
          "output_type": "display_data",
          "data": {
            "text/html": [
              "<span style=\"color:blue\"> |-learning_rate: 0.001</span>"
            ],
            "text/plain": [
              "<IPython.core.display.HTML object>"
            ]
          },
          "metadata": {
            "tags": []
          }
        },
        {
          "output_type": "display_data",
          "data": {
            "text/html": [
              "<span style=\"color:cyan\"> |-units: 288</span>"
            ],
            "text/plain": [
              "<IPython.core.display.HTML object>"
            ]
          },
          "metadata": {
            "tags": []
          }
        },
        {
          "output_type": "display_data",
          "data": {
            "text/html": [
              "<span style=\"color:#4527A0\"><h1 style=\"font-size:18px\">Trial summary</h1></span>"
            ],
            "text/plain": [
              "<IPython.core.display.HTML object>"
            ]
          },
          "metadata": {
            "tags": []
          }
        },
        {
          "output_type": "display_data",
          "data": {
            "text/html": [
              "<span style=\"color:cyan\"> |-Trial ID: 3b8cd7c44578e3bf2f5ec958b30cabf6</span>"
            ],
            "text/plain": [
              "<IPython.core.display.HTML object>"
            ]
          },
          "metadata": {
            "tags": []
          }
        },
        {
          "output_type": "display_data",
          "data": {
            "text/html": [
              "<span style=\"color:cyan\"> |-Score: 0.1559549942612648</span>"
            ],
            "text/plain": [
              "<IPython.core.display.HTML object>"
            ]
          },
          "metadata": {
            "tags": []
          }
        },
        {
          "output_type": "display_data",
          "data": {
            "text/html": [
              "<span style=\"color:cyan\"> |-Best step: 0</span>"
            ],
            "text/plain": [
              "<IPython.core.display.HTML object>"
            ]
          },
          "metadata": {
            "tags": []
          }
        },
        {
          "output_type": "display_data",
          "data": {
            "text/html": [
              "<span style=\"color:#7E57C2\"><h2 style=\"font-size:16px\">Hyperparameters:</h2></span>"
            ],
            "text/plain": [
              "<IPython.core.display.HTML object>"
            ]
          },
          "metadata": {
            "tags": []
          }
        },
        {
          "output_type": "display_data",
          "data": {
            "text/html": [
              "<span style=\"color:cyan\"> |-filters: 96</span>"
            ],
            "text/plain": [
              "<IPython.core.display.HTML object>"
            ]
          },
          "metadata": {
            "tags": []
          }
        },
        {
          "output_type": "display_data",
          "data": {
            "text/html": [
              "<span style=\"color:blue\"> |-learning_rate: 0.001</span>"
            ],
            "text/plain": [
              "<IPython.core.display.HTML object>"
            ]
          },
          "metadata": {
            "tags": []
          }
        },
        {
          "output_type": "display_data",
          "data": {
            "text/html": [
              "<span style=\"color:cyan\"> |-units: 256</span>"
            ],
            "text/plain": [
              "<IPython.core.display.HTML object>"
            ]
          },
          "metadata": {
            "tags": []
          }
        }
      ]
    },
    {
      "cell_type": "code",
      "metadata": {
        "id": "DIZ7en_LRKDa",
        "colab_type": "code",
        "outputId": "c4cc2b32-fa60-4d01-d690-e4155a947150",
        "colab": {
          "base_uri": "https://localhost:8080/",
          "height": 222
        }
      },
      "source": [
        "# Retrieve the best models\n",
        "models = tuner.get_best_models(num_models=2)\n",
        "\n",
        "test_loss, test_mae = models[0].evaluate(X_test,  Y_test, verbose=2)\n",
        "print('\\nTest loss (MSE):', test_loss)\n",
        "print('\\nTest MAE:', test_mae)"
      ],
      "execution_count": 0,
      "outputs": [
        {
          "output_type": "stream",
          "text": [
            "WARNING:tensorflow:Unresolved object in checkpoint: (root).optimizer.iter\n",
            "WARNING:tensorflow:Unresolved object in checkpoint: (root).optimizer.beta_1\n",
            "WARNING:tensorflow:Unresolved object in checkpoint: (root).optimizer.beta_2\n",
            "WARNING:tensorflow:Unresolved object in checkpoint: (root).optimizer.decay\n",
            "WARNING:tensorflow:Unresolved object in checkpoint: (root).optimizer.learning_rate\n",
            "WARNING:tensorflow:A checkpoint was restored (e.g. tf.train.Checkpoint.restore or tf.keras.Model.load_weights) but not all checkpointed values were used. See above for specific issues. Use expect_partial() on the load status object, e.g. tf.train.Checkpoint.restore(...).expect_partial(), to silence these warnings, or use assert_consumed() to make the check explicit. See https://www.tensorflow.org/guide/checkpoint#loading_mechanics for details.\n",
            "63/63 - 1s - loss: 0.1040 - mae: 0.2604\n",
            "\n",
            "Test loss (MSE): 0.10402381420135498\n",
            "\n",
            "Test MAE: 0.2604335844516754\n"
          ],
          "name": "stdout"
        }
      ]
    },
    {
      "cell_type": "markdown",
      "metadata": {
        "id": "4YGGhsLIxiyr",
        "colab_type": "text"
      },
      "source": [
        "**Batch Normalization Layers**\n",
        "\n",
        "Servono a normalizzare gli output del layer precedente in ogni batch: mantengono la media degli output vicina a zero (in ciascun batch) e la deviazione standard vicina a 1. Questo minimizza effetti di diluzione del gradiente e accelera la convergenza (oltre ad avare un effetto di smoothing sulla funzione di loss stimata con il batch di eventi)\n"
      ]
    },
    {
      "cell_type": "code",
      "metadata": {
        "id": "CwWjiRAUx0cX",
        "colab_type": "code",
        "colab": {}
      },
      "source": [
        "#Esempio uso batch normalisation layers\n",
        "#tf.keras.layers.BatchNormalization(\n",
        "#    axis=-1, momentum=0.99, epsilon=0.001, center=True, scale=True,\n",
        "#    beta_initializer='zeros', gamma_initializer='ones',\n",
        "#    moving_mean_initializer='zeros', moving_variance_initializer='ones',\n",
        "#    beta_regularizer=None, gamma_regularizer=None, beta_constraint=None,\n",
        "#    gamma_constraint=None, renorm=False, renorm_clipping=None, renorm_momentum=0.99,\n",
        "#    fused=None, trainable=True, virtual_batch_size=None, adjustment=None, name=None,\n",
        "#    **kwargs\n",
        "#)\n",
        "\n",
        "#  x = keras.layers.Conv2D(32, kernel_size=(3,3))(x)\n",
        "#  x = keras.layers.BatchNormalization()(x)\n",
        "#  x = keras.layers.ReLU(x)"
      ],
      "execution_count": 0,
      "outputs": []
    }
  ]
}