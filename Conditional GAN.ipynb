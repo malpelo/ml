{
  "nbformat": 4,
  "nbformat_minor": 0,
  "metadata": {
    "colab": {
      "name": "Untitled8.ipynb",
      "provenance": [],
      "authorship_tag": "ABX9TyOehSsKB6GiB2nXFaNPCA+O",
      "include_colab_link": true
    },
    "kernelspec": {
      "name": "python3",
      "display_name": "Python 3"
    }
  },
  "cells": [
    {
      "cell_type": "markdown",
      "metadata": {
        "id": "view-in-github",
        "colab_type": "text"
      },
      "source": [
        "<a href=\"https://colab.research.google.com/github/raeubaen/ml/blob/master/Conditional%20GAN.ipynb\" target=\"_parent\"><img src=\"https://colab.research.google.com/assets/colab-badge.svg\" alt=\"Open In Colab\"/></a>"
      ]
    },
    {
      "cell_type": "code",
      "metadata": {
        "id": "uEC8IMVhSNO8",
        "colab_type": "code",
        "colab": {}
      },
      "source": [
        "# import models & layers from TF/keras\n",
        "import tensorflow as tf\n",
        "from tensorflow import keras\n",
        "from tensorflow.keras import layers\n",
        "# tensor manipulation library\n",
        "import numpy as np\n",
        "# plotting library\n",
        "import matplotlib.pyplot as plt\n",
        "\n",
        "# disabling eager (slower) execution\n",
        "from tensorflow.python.framework.ops import disable_eager_execution\n",
        "disable_eager_execution()"
      ],
      "execution_count": 0,
      "outputs": []
    },
    {
      "cell_type": "code",
      "metadata": {
        "id": "3HHMx-nuSddY",
        "colab_type": "code",
        "colab": {
          "base_uri": "https://localhost:8080/",
          "height": 399
        },
        "outputId": "251bef13-9734-47e9-adaf-8413e0fa9c43"
      },
      "source": [
        "# dataset download\n",
        "!wget http://www.roma1.infn.it/~giagu/datasets/ising2_conf.dat\n",
        "!wget http://www.roma1.infn.it/~giagu/datasets/ising2_label.dat\n",
        "\n",
        "# reading configurations and temperatures into numpy \n",
        "# (10k elements with 28x28 spin configuration)\n",
        "conf, temp = np.loadtxt('ising2_conf.dat'), np.loadtxt('ising2_label.dat')"
      ],
      "execution_count": 5,
      "outputs": [
        {
          "output_type": "stream",
          "text": [
            "--2020-06-01 19:14:19--  http://www.roma1.infn.it/~giagu/datasets/ising2_conf.dat\n",
            "Resolving www.roma1.infn.it (www.roma1.infn.it)... 141.108.26.1, 141.108.26.150\n",
            "Connecting to www.roma1.infn.it (www.roma1.infn.it)|141.108.26.1|:80... connected.\n",
            "HTTP request sent, awaiting response... 200 OK\n",
            "Length: 19060775 (18M)\n",
            "Saving to: ‘ising2_conf.dat.2’\n",
            "\n",
            "ising2_conf.dat.2   100%[===================>]  18.18M  3.18MB/s    in 6.5s    \n",
            "\n",
            "2020-06-01 19:14:26 (2.79 MB/s) - ‘ising2_conf.dat.2’ saved [19060775/19060775]\n",
            "\n",
            "--2020-06-01 19:14:29--  http://www.roma1.infn.it/~giagu/datasets/ising2_label.dat\n",
            "Resolving www.roma1.infn.it (www.roma1.infn.it)... 141.108.26.150, 141.108.26.1\n",
            "Connecting to www.roma1.infn.it (www.roma1.infn.it)|141.108.26.150|:80... connected.\n",
            "HTTP request sent, awaiting response... 200 OK\n",
            "Length: 81025 (79K)\n",
            "Saving to: ‘ising2_label.dat.1’\n",
            "\n",
            "ising2_label.dat.1  100%[===================>]  79.13K   142KB/s    in 0.6s    \n",
            "\n",
            "2020-06-01 19:14:31 (142 KB/s) - ‘ising2_label.dat.1’ saved [81025/81025]\n",
            "\n"
          ],
          "name": "stdout"
        }
      ]
    },
    {
      "cell_type": "code",
      "metadata": {
        "id": "qgBCrKWjUx5s",
        "colab_type": "code",
        "colab": {}
      },
      "source": [
        "BATCH_SIZE = 512\n",
        "IMG_SHAPE = (28, 28, 1)"
      ],
      "execution_count": 0,
      "outputs": []
    },
    {
      "cell_type": "code",
      "metadata": {
        "id": "lXAOEtUOSiyk",
        "colab_type": "code",
        "colab": {}
      },
      "source": [
        "# reshaping configurations into matrix form and specifying dtype\n",
        "conf = conf.reshape(-1, *IMG_SHAPE).astype('float32')\n",
        "\n",
        "temp = temp.astype('float32')\n",
        "\n",
        "# converting data (conf and temperatures) into tensorflow Dataset\n",
        "dataset = tf.data.Dataset.from_tensor_slices((conf, temp))\n",
        "# shuffling and prefetching\n",
        "dataset = dataset.shuffle(buffer_size=1024).batch(BATCH_SIZE).prefetch(32)"
      ],
      "execution_count": 0,
      "outputs": []
    },
    {
      "cell_type": "code",
      "metadata": {
        "id": "rL7ndusRUJfc",
        "colab_type": "code",
        "colab": {}
      },
      "source": [
        "def get_discriminator_model():\n",
        "\n",
        "\n",
        "    img_input = layers.Input(shape=IMG_SHAPE)\n",
        "\n",
        "    x = layers.Conv2D(64, (5, 5), strides=(2, 2), padding='same', input_shape=IMG_SHAPE)(img_input)\n",
        "    x = layers.LeakyReLU()(x)\n",
        "    x = layers.Dropout(0.3)(x)\n",
        "\n",
        "    x = layers.Conv2D(128, (5, 5), strides=(2, 2), padding='same')(x)\n",
        "    x = layers.LeakyReLU()(x)\n",
        "    x = layers.Dropout(0.3)(x)\n",
        "\n",
        "    x = layers.Flatten()(x)\n",
        "    x = layers.Dense(1)(x)\n",
        "\n",
        "    model = keras.models.Model(img_input, x, name=\"discriminator\")\n",
        "    return model\n",
        "\n",
        "d_model_ord = get_discriminator_model()"
      ],
      "execution_count": 0,
      "outputs": []
    }
  ]
}